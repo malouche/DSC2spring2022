{
 "cells": [
  {
   "cell_type": "markdown",
   "id": "12916c44",
   "metadata": {},
   "source": [
    "# Hypothesis Testing with Python"
   ]
  },
  {
   "cell_type": "markdown",
   "id": "e114d6b5",
   "metadata": {
    "toc": true
   },
   "source": [
    "<h1>Table of Contents<span class=\"tocSkip\"></span></h1>\n",
    "<div class=\"toc\"><ul class=\"toc-item\"><li><span><a href=\"#Parametric-hypothesis-testing\" data-toc-modified-id=\"Parametric-hypothesis-testing-1\">Parametric hypothesis testing</a></span><ul class=\"toc-item\"><li><span><a href=\"#Testing-the-mean\" data-toc-modified-id=\"Testing-the-mean-1.1\">Testing the mean</a></span><ul class=\"toc-item\"><li><span><a href=\"#Comparing-the-mean---to-a-given-value.\" data-toc-modified-id=\"Comparing-the-mean---to-a-given-value.-1.1.1\">Comparing the mean   to a given value.</a></span><ul class=\"toc-item\"><li><span><a href=\"#The-theory\" data-toc-modified-id=\"The-theory-1.1.1.1\">The theory</a></span></li><li><span><a href=\"#Practice-with-Python\" data-toc-modified-id=\"Practice-with-Python-1.1.1.2\">Practice with Python</a></span></li></ul></li></ul></li><li><span><a href=\"#Comparing-two-means\" data-toc-modified-id=\"Comparing-two-means-1.2\">Comparing two means</a></span><ul class=\"toc-item\"><li><span><a href=\"#Paired-sample-t-test\" data-toc-modified-id=\"Paired-sample-t-test-1.2.1\">Paired sample t-test</a></span></li><li><span><a href=\"#A-two-sample-t-test\" data-toc-modified-id=\"A-two-sample-t-test-1.2.2\">A two-sample t-test</a></span></li></ul></li></ul></li></ul></div>"
   ]
  },
  {
   "cell_type": "markdown",
   "id": "ac4fcb93",
   "metadata": {},
   "source": [
    "Hypothesis testing is a data analysis method conducted to test one hypothesis (call null hypothesis, $H_0$) against another hypothesis (the alternative hypothesis, $H_1$). \n",
    "\n",
    "We will use the random sample $X_1,\\ldots, X_n$ (the data) to help decide between the hypothesis $H_0$ or $H_1$ with a fixed level of significance $\\alpha$ which is the error to reject $H_0$ knowing that $H_0$ is correct. \n",
    "\n",
    "$$\\alpha = \\mathbb{P}\\left(H_0\\mbox{ rejected } \\mid H_0 \\mbox{ true}\\right)$$"
   ]
  },
  {
   "cell_type": "markdown",
   "id": "f302a244",
   "metadata": {},
   "source": [
    "Any Hypothesis testing procedure should derive the following\n",
    "\n",
    "+ The test statistics $T$: It's a random variable computed from the random sample and where the probability distribution of $T$ is known when $H_0$ is true. \n",
    "\n",
    "+ The observed statistics $t_\\mbox{obs}$ from $T$ computed from the observed random sample $x_1,\\ldots,x_n$:\n",
    "\n",
    "$$t_\\mbox{obs}=T(x_1,\\ldots,x_n)$$\n",
    "\n",
    "+ The \\textbf{p-value}: It's the largest probability to reject $H_0$ assuming that $H_0$ correct.  A smaller p-value means stronger evidence in favor of the alternative hypothesis.\n",
    "\n"
   ]
  },
  {
   "cell_type": "markdown",
   "id": "00ea324d",
   "metadata": {},
   "source": [
    "There are two types of Hypothesis testing procedures: parametric and non-parametric testing. \n",
    "\n",
    "+ Parametric hypothesis testing is a testing procedure used when the hypothesis is based on comparing a population parameter to given values.\n",
    "\n",
    "+ Non-parametric hypothesis testing is used when the hypothesis is not based on a population parameter. It's about testing one assumption against its opposite. \n"
   ]
  },
  {
   "cell_type": "markdown",
   "id": "d33616c5",
   "metadata": {},
   "source": [
    "## Parametric hypothesis testing "
   ]
  },
  {
   "cell_type": "markdown",
   "id": "ec0dbda5",
   "metadata": {},
   "source": [
    "\n",
    "+ Parametric tests are more powerful and reliable than non-parametric tests. \n",
    "\n",
    "+ The hypothesis is developed on the parameters of the population distribution. \n",
    "\n",
    "+ We will see in this chapter how to perform Hypothesis testing in the following cases: \n",
    "\n",
    "  + The mean: comparing to a given value, comparing between two means \n",
    "  + The proportion: comparing to a given value, comparing between two means\n",
    "\n"
   ]
  },
  {
   "cell_type": "markdown",
   "id": "3db66bab",
   "metadata": {},
   "source": [
    "### Testing the mean "
   ]
  },
  {
   "cell_type": "markdown",
   "id": "16e5807e",
   "metadata": {},
   "source": [
    "#### Comparing the mean   to a given value. "
   ]
  },
  {
   "cell_type": "markdown",
   "id": "be90f109",
   "metadata": {},
   "source": [
    "##### The theory"
   ]
  },
  {
   "cell_type": "markdown",
   "id": "cc34f83f",
   "metadata": {},
   "source": [
    "We would like to test the following null hypothesis \n",
    "$$ H_0: \\; \\mu=\\mu_0$$\n",
    "versus \n",
    "$$ H_1: \\; \\mu\\not=\\mu_0$$\n",
    "where $\\mu_0$ is given from a random sample $X_1,\\ldots,X_n$ assumed to be generated from a Normal distribution with mean $\\mu$ and unknown variance $\\sigma^2$. "
   ]
  },
  {
   "cell_type": "markdown",
   "id": "08b77c42",
   "metadata": {},
   "source": [
    "The test statistics of the test is \n",
    "$$T=\\sqrt{n}\\,\\displaystyle\\frac{\\overline{X}-\\mu}{S}$$\n",
    "where $\\overline{X}$ is the sample mean and $S$ is the sample standard deviation. "
   ]
  },
  {
   "cell_type": "markdown",
   "id": "eb7e94b5",
   "metadata": {},
   "source": [
    "Under $H_0$, $T$ is equal to \n",
    "$$T=\\sqrt{n}\\,\\displaystyle\\frac{\\overline{X}-\\mu_0}{S}$$\n",
    "and follows a $t-$distribution with $n-1$ degrees of freedom. "
   ]
  },
  {
   "cell_type": "markdown",
   "id": "731f42fe",
   "metadata": {},
   "source": [
    "##### Practice with Python"
   ]
  },
  {
   "cell_type": "markdown",
   "id": "fe3d2344",
   "metadata": {},
   "source": [
    "Let's generate a random sample of size 15, mean $\\mu=-2$, and standard deviation $\\sigma=2$ (then with variance $\\sigma^2=4$). "
   ]
  },
  {
   "cell_type": "code",
   "execution_count": 15,
   "id": "9da696f8",
   "metadata": {},
   "outputs": [],
   "source": [
    "import numpy as np\n",
    "np.random.seed(7654567)\n",
    "x=np.random.normal(size=15,loc=-2,scale=2)"
   ]
  },
  {
   "cell_type": "code",
   "execution_count": 16,
   "id": "dfafdac8",
   "metadata": {},
   "outputs": [
    {
     "data": {
      "text/plain": [
       "array([-3.89395351, -2.55250403, -2.39746865,  0.98703995, -2.8607237 ,\n",
       "       -1.39481847, -0.74237156, -4.63886095, -3.81258843, -2.89188048,\n",
       "       -1.50048335, -3.31429764, -3.28882943, -0.96256977, -2.0684448 ])"
      ]
     },
     "execution_count": 16,
     "metadata": {},
     "output_type": "execute_result"
    }
   ],
   "source": [
    "x"
   ]
  },
  {
   "cell_type": "markdown",
   "id": "3a714006",
   "metadata": {},
   "source": [
    "We assume that the random sample `x` is generated from a Normal probability distribution with unknown mean and variance. We will test now the following hypothesis \n",
    "\n",
    "$$ H_0: \\; \\mu=-2$$\n",
    "versus \n",
    "$$ H_1: \\; \\mu\\not=-2$$"
   ]
  },
  {
   "cell_type": "code",
   "execution_count": 17,
   "id": "77319362",
   "metadata": {},
   "outputs": [],
   "source": [
    "from scipy.stats import ttest_1samp"
   ]
  },
  {
   "cell_type": "code",
   "execution_count": 23,
   "id": "3535334c",
   "metadata": {},
   "outputs": [],
   "source": [
    "test_mean=ttest_1samp(x, -2, alternative='two-sided')"
   ]
  },
  {
   "cell_type": "markdown",
   "id": "79f94af4",
   "metadata": {},
   "source": [
    "The output above shows that $t_\\mbox{obs}$ is "
   ]
  },
  {
   "cell_type": "code",
   "execution_count": 25,
   "id": "c250e47d",
   "metadata": {},
   "outputs": [
    {
     "data": {
      "text/plain": [
       "-0.948081719359044"
      ]
     },
     "execution_count": 25,
     "metadata": {},
     "output_type": "execute_result"
    }
   ],
   "source": [
    "test_mean.statistic"
   ]
  },
  {
   "cell_type": "markdown",
   "id": "4d5bebdd",
   "metadata": {},
   "source": [
    "and the pvalue is "
   ]
  },
  {
   "cell_type": "code",
   "execution_count": 26,
   "id": "9db0ec7b",
   "metadata": {},
   "outputs": [
    {
     "data": {
      "text/plain": [
       "0.3591669622802579"
      ]
     },
     "execution_count": 26,
     "metadata": {},
     "output_type": "execute_result"
    }
   ],
   "source": [
    "test_mean.pvalue"
   ]
  },
  {
   "cell_type": "markdown",
   "id": "b6aca140",
   "metadata": {},
   "source": [
    "Since this p-value is greater than 0.05 (5%), we can conclude that we can accept the hypothesis $H_0$."
   ]
  },
  {
   "cell_type": "markdown",
   "id": "d2030862",
   "metadata": {},
   "source": [
    "**How can the test statistc and the p-value are computed?**"
   ]
  },
  {
   "cell_type": "code",
   "execution_count": 31,
   "id": "87456cbd",
   "metadata": {},
   "outputs": [
    {
     "data": {
      "text/plain": [
       "-2.3555169880044056"
      ]
     },
     "execution_count": 31,
     "metadata": {},
     "output_type": "execute_result"
    }
   ],
   "source": [
    "m=np.mean(x)\n",
    "m"
   ]
  },
  {
   "cell_type": "code",
   "execution_count": 34,
   "id": "6c94cba5",
   "metadata": {},
   "outputs": [
    {
     "data": {
      "text/plain": [
       "0.3749855953817513"
      ]
     },
     "execution_count": 34,
     "metadata": {},
     "output_type": "execute_result"
    }
   ],
   "source": [
    "std_error=np.std(x)/np.sqrt(len(x)-1)\n",
    "std_error"
   ]
  },
  {
   "cell_type": "markdown",
   "id": "50ae85f2",
   "metadata": {},
   "source": [
    "Under $ H_0: \\; \\mu=-2$, the test statistics is then"
   ]
  },
  {
   "cell_type": "code",
   "execution_count": 35,
   "id": "6b18dc84",
   "metadata": {},
   "outputs": [
    {
     "data": {
      "text/plain": [
       "-0.948081719359044"
      ]
     },
     "execution_count": 35,
     "metadata": {},
     "output_type": "execute_result"
    }
   ],
   "source": [
    "(m+2)/std_error"
   ]
  },
  {
   "cell_type": "code",
   "execution_count": 36,
   "id": "f6a3da1b",
   "metadata": {},
   "outputs": [
    {
     "data": {
      "text/plain": [
       "-0.948081719359044"
      ]
     },
     "execution_count": 36,
     "metadata": {},
     "output_type": "execute_result"
    }
   ],
   "source": [
    "test_mean.statistic"
   ]
  },
  {
   "cell_type": "markdown",
   "id": "3311d4ea",
   "metadata": {},
   "source": [
    "The p-value is then computed as follows"
   ]
  },
  {
   "cell_type": "code",
   "execution_count": 37,
   "id": "05801f39",
   "metadata": {},
   "outputs": [],
   "source": [
    "from scipy import stats\n",
    "X = stats.t(len(x)-1)"
   ]
  },
  {
   "cell_type": "code",
   "execution_count": 40,
   "id": "c492821a",
   "metadata": {},
   "outputs": [
    {
     "data": {
      "text/plain": [
       "0.3591669622802579"
      ]
     },
     "execution_count": 40,
     "metadata": {},
     "output_type": "execute_result"
    }
   ],
   "source": [
    "2*X.cdf(test_mean.statistic)"
   ]
  },
  {
   "cell_type": "markdown",
   "id": "ef278582",
   "metadata": {},
   "source": [
    "And the p-value is "
   ]
  },
  {
   "cell_type": "code",
   "execution_count": 41,
   "id": "2ec3c264",
   "metadata": {},
   "outputs": [
    {
     "data": {
      "text/plain": [
       "0.3591669622802579"
      ]
     },
     "execution_count": 41,
     "metadata": {},
     "output_type": "execute_result"
    }
   ],
   "source": [
    "test_mean.pvalue"
   ]
  },
  {
   "cell_type": "markdown",
   "id": "827f102b",
   "metadata": {},
   "source": [
    "We can also perform the following hypothesis testing. It's called the lower-tail alternative test: \n",
    "\n",
    "$$ H_0: \\; \\mu=-2$$\n",
    "versus \n",
    "$$ H_1: \\; \\mu<-2$$"
   ]
  },
  {
   "cell_type": "code",
   "execution_count": 27,
   "id": "0751a5fc",
   "metadata": {},
   "outputs": [],
   "source": [
    "test_mean1=ttest_1samp(x, -2, alternative='less')"
   ]
  },
  {
   "cell_type": "code",
   "execution_count": 29,
   "id": "d545078e",
   "metadata": {},
   "outputs": [
    {
     "data": {
      "text/plain": [
       "-0.948081719359044"
      ]
     },
     "execution_count": 29,
     "metadata": {},
     "output_type": "execute_result"
    }
   ],
   "source": [
    "test_mean1.statistic"
   ]
  },
  {
   "cell_type": "code",
   "execution_count": 30,
   "id": "875fc07b",
   "metadata": {},
   "outputs": [
    {
     "data": {
      "text/plain": [
       "0.17958348114012895"
      ]
     },
     "execution_count": 30,
     "metadata": {},
     "output_type": "execute_result"
    }
   ],
   "source": [
    "test_mean1.pvalue"
   ]
  },
  {
   "cell_type": "markdown",
   "id": "fd6d4efb",
   "metadata": {},
   "source": [
    "It's computed as follows "
   ]
  },
  {
   "cell_type": "code",
   "execution_count": 42,
   "id": "09c27fba",
   "metadata": {},
   "outputs": [
    {
     "data": {
      "text/plain": [
       "0.17958348114012895"
      ]
     },
     "execution_count": 42,
     "metadata": {},
     "output_type": "execute_result"
    }
   ],
   "source": [
    "X.cdf(test_mean.statistic)"
   ]
  },
  {
   "cell_type": "markdown",
   "id": "1bdea5c7",
   "metadata": {},
   "source": [
    "We can also perform the following hypothesis testing. It's called the **upper-tail** alternative test: \n",
    "\n",
    "$$ H_0: \\; \\mu=-2$$\n",
    "versus \n",
    "$$ H_1: \\; \\mu>-2$$"
   ]
  },
  {
   "cell_type": "code",
   "execution_count": 47,
   "id": "7083b2ff",
   "metadata": {},
   "outputs": [],
   "source": [
    "test_mean2=ttest_1samp(x, -2, alternative='greater')"
   ]
  },
  {
   "cell_type": "code",
   "execution_count": 48,
   "id": "32125870",
   "metadata": {},
   "outputs": [
    {
     "data": {
      "text/plain": [
       "-0.948081719359044"
      ]
     },
     "execution_count": 48,
     "metadata": {},
     "output_type": "execute_result"
    }
   ],
   "source": [
    "test_mean2.statistic"
   ]
  },
  {
   "cell_type": "code",
   "execution_count": 49,
   "id": "826f99b1",
   "metadata": {},
   "outputs": [
    {
     "data": {
      "text/plain": [
       "0.8204165188598711"
      ]
     },
     "execution_count": 49,
     "metadata": {},
     "output_type": "execute_result"
    }
   ],
   "source": [
    "test_mean2.pvalue"
   ]
  },
  {
   "cell_type": "markdown",
   "id": "06801859",
   "metadata": {},
   "source": [
    "The p-value is computed as follows "
   ]
  },
  {
   "cell_type": "code",
   "execution_count": 50,
   "id": "47bf1534",
   "metadata": {},
   "outputs": [
    {
     "data": {
      "text/plain": [
       "0.8204165188598711"
      ]
     },
     "execution_count": 50,
     "metadata": {},
     "output_type": "execute_result"
    }
   ],
   "source": [
    "1-X.cdf(test_mean.statistic)"
   ]
  },
  {
   "cell_type": "markdown",
   "id": "52b694f0",
   "metadata": {},
   "source": [
    "### Comparing two means "
   ]
  },
  {
   "cell_type": "markdown",
   "id": "f1ea468a",
   "metadata": {},
   "source": [
    "We have two types of hypothesis testing comparing two means: "
   ]
  },
  {
   "cell_type": "markdown",
   "id": "65f035fd",
   "metadata": {},
   "source": [
    "+ A paired sample t-test is a dependent sample t-test, which is used to decide whether the mean difference between two observations of the same group is zero. \n",
    "\n",
    "**Example:**  Compare the difference in blood pressure level for a group of patients before and after some drug treatment.\n",
    "\n"
   ]
  },
  {
   "cell_type": "markdown",
   "id": "954e60d6",
   "metadata": {},
   "source": [
    "+ A two-sample t-test is used for comparing the significant difference between two independent groups. This test is also known as an independent samples t-test.\n",
    "\n",
    "**Example:** Comparing between the salaries of a sample of men and women employees. "
   ]
  },
  {
   "cell_type": "markdown",
   "id": "7d1d243e",
   "metadata": {},
   "source": [
    "#### Paired sample t-test"
   ]
  },
  {
   "cell_type": "markdown",
   "id": "4b5c9da9",
   "metadata": {},
   "source": [
    "We are going to the following hypothesis: \n",
    "    \n",
    "+ $H_0:$ Mean difference between the two dependent samples is 0. \n",
    "+ $H_1$: Mean difference between the two dependent samples is not 0.\n",
    "\n"
   ]
  },
  {
   "cell_type": "markdown",
   "id": "0303c971",
   "metadata": {},
   "source": [
    "**Example:** we're comparing the grades between the Quiz 1 and the Quiz 2"
   ]
  },
  {
   "cell_type": "code",
   "execution_count": 53,
   "id": "08f15d10",
   "metadata": {},
   "outputs": [],
   "source": [
    "import pandas as pd"
   ]
  },
  {
   "cell_type": "code",
   "execution_count": 56,
   "id": "edb45c94",
   "metadata": {
    "scrolled": true
   },
   "outputs": [],
   "source": [
    "df=pd.read_csv('student_grades.csv')"
   ]
  },
  {
   "cell_type": "code",
   "execution_count": 57,
   "id": "05c9e9c4",
   "metadata": {},
   "outputs": [
    {
     "data": {
      "text/html": [
       "<div>\n",
       "<style scoped>\n",
       "    .dataframe tbody tr th:only-of-type {\n",
       "        vertical-align: middle;\n",
       "    }\n",
       "\n",
       "    .dataframe tbody tr th {\n",
       "        vertical-align: top;\n",
       "    }\n",
       "\n",
       "    .dataframe thead th {\n",
       "        text-align: right;\n",
       "    }\n",
       "</style>\n",
       "<table border=\"1\" class=\"dataframe\">\n",
       "  <thead>\n",
       "    <tr style=\"text-align: right;\">\n",
       "      <th></th>\n",
       "      <th>Student</th>\n",
       "      <th>Section</th>\n",
       "      <th>Quiz 1</th>\n",
       "      <th>Quiz 2</th>\n",
       "      <th>Midterm 1</th>\n",
       "    </tr>\n",
       "  </thead>\n",
       "  <tbody>\n",
       "    <tr>\n",
       "      <th>0</th>\n",
       "      <td>1</td>\n",
       "      <td>Section 1</td>\n",
       "      <td>17.5</td>\n",
       "      <td>13.4575</td>\n",
       "      <td>22.5</td>\n",
       "    </tr>\n",
       "    <tr>\n",
       "      <th>1</th>\n",
       "      <td>2</td>\n",
       "      <td>Section 1</td>\n",
       "      <td>16.5</td>\n",
       "      <td>14.2125</td>\n",
       "      <td>25.0</td>\n",
       "    </tr>\n",
       "    <tr>\n",
       "      <th>2</th>\n",
       "      <td>3</td>\n",
       "      <td>Section 2</td>\n",
       "      <td>12.5</td>\n",
       "      <td>14.6150</td>\n",
       "      <td>23.5</td>\n",
       "    </tr>\n",
       "    <tr>\n",
       "      <th>3</th>\n",
       "      <td>4</td>\n",
       "      <td>Section 2</td>\n",
       "      <td>10.5</td>\n",
       "      <td>15.2100</td>\n",
       "      <td>25.0</td>\n",
       "    </tr>\n",
       "    <tr>\n",
       "      <th>4</th>\n",
       "      <td>5</td>\n",
       "      <td>Section 2</td>\n",
       "      <td>5.5</td>\n",
       "      <td>12.2225</td>\n",
       "      <td>24.5</td>\n",
       "    </tr>\n",
       "    <tr>\n",
       "      <th>5</th>\n",
       "      <td>6</td>\n",
       "      <td>Section 1</td>\n",
       "      <td>14.0</td>\n",
       "      <td>14.5875</td>\n",
       "      <td>23.5</td>\n",
       "    </tr>\n",
       "    <tr>\n",
       "      <th>6</th>\n",
       "      <td>7</td>\n",
       "      <td>Section 2</td>\n",
       "      <td>11.0</td>\n",
       "      <td>NaN</td>\n",
       "      <td>20.5</td>\n",
       "    </tr>\n",
       "    <tr>\n",
       "      <th>7</th>\n",
       "      <td>8</td>\n",
       "      <td>Section 2</td>\n",
       "      <td>15.0</td>\n",
       "      <td>18.7500</td>\n",
       "      <td>25.0</td>\n",
       "    </tr>\n",
       "    <tr>\n",
       "      <th>8</th>\n",
       "      <td>9</td>\n",
       "      <td>Section 2</td>\n",
       "      <td>17.0</td>\n",
       "      <td>16.5000</td>\n",
       "      <td>25.0</td>\n",
       "    </tr>\n",
       "    <tr>\n",
       "      <th>9</th>\n",
       "      <td>10</td>\n",
       "      <td>Section 1</td>\n",
       "      <td>14.0</td>\n",
       "      <td>19.2500</td>\n",
       "      <td>19.5</td>\n",
       "    </tr>\n",
       "    <tr>\n",
       "      <th>10</th>\n",
       "      <td>11</td>\n",
       "      <td>Section 2</td>\n",
       "      <td>11.0</td>\n",
       "      <td>10.9625</td>\n",
       "      <td>24.5</td>\n",
       "    </tr>\n",
       "    <tr>\n",
       "      <th>11</th>\n",
       "      <td>12</td>\n",
       "      <td>Section 1</td>\n",
       "      <td>10.5</td>\n",
       "      <td>7.3650</td>\n",
       "      <td>19.5</td>\n",
       "    </tr>\n",
       "    <tr>\n",
       "      <th>12</th>\n",
       "      <td>13</td>\n",
       "      <td>Section 1</td>\n",
       "      <td>16.5</td>\n",
       "      <td>18.2450</td>\n",
       "      <td>25.0</td>\n",
       "    </tr>\n",
       "    <tr>\n",
       "      <th>13</th>\n",
       "      <td>14</td>\n",
       "      <td>Section 1</td>\n",
       "      <td>14.5</td>\n",
       "      <td>18.8375</td>\n",
       "      <td>21.5</td>\n",
       "    </tr>\n",
       "    <tr>\n",
       "      <th>14</th>\n",
       "      <td>15</td>\n",
       "      <td>Section 1</td>\n",
       "      <td>14.5</td>\n",
       "      <td>11.1100</td>\n",
       "      <td>25.0</td>\n",
       "    </tr>\n",
       "    <tr>\n",
       "      <th>15</th>\n",
       "      <td>16</td>\n",
       "      <td>Section 1</td>\n",
       "      <td>8.0</td>\n",
       "      <td>8.7475</td>\n",
       "      <td>24.0</td>\n",
       "    </tr>\n",
       "    <tr>\n",
       "      <th>16</th>\n",
       "      <td>17</td>\n",
       "      <td>Section 1</td>\n",
       "      <td>14.5</td>\n",
       "      <td>15.9125</td>\n",
       "      <td>21.0</td>\n",
       "    </tr>\n",
       "    <tr>\n",
       "      <th>17</th>\n",
       "      <td>18</td>\n",
       "      <td>Section 2</td>\n",
       "      <td>14.0</td>\n",
       "      <td>8.8975</td>\n",
       "      <td>16.5</td>\n",
       "    </tr>\n",
       "    <tr>\n",
       "      <th>18</th>\n",
       "      <td>19</td>\n",
       "      <td>Section 1</td>\n",
       "      <td>11.0</td>\n",
       "      <td>4.1425</td>\n",
       "      <td>21.0</td>\n",
       "    </tr>\n",
       "    <tr>\n",
       "      <th>19</th>\n",
       "      <td>20</td>\n",
       "      <td>Section 2</td>\n",
       "      <td>17.0</td>\n",
       "      <td>14.9500</td>\n",
       "      <td>25.0</td>\n",
       "    </tr>\n",
       "    <tr>\n",
       "      <th>20</th>\n",
       "      <td>21</td>\n",
       "      <td>Section 1</td>\n",
       "      <td>18.5</td>\n",
       "      <td>13.6250</td>\n",
       "      <td>24.0</td>\n",
       "    </tr>\n",
       "    <tr>\n",
       "      <th>21</th>\n",
       "      <td>22</td>\n",
       "      <td>Section 2</td>\n",
       "      <td>14.0</td>\n",
       "      <td>13.5025</td>\n",
       "      <td>23.0</td>\n",
       "    </tr>\n",
       "    <tr>\n",
       "      <th>22</th>\n",
       "      <td>23</td>\n",
       "      <td>Section 1</td>\n",
       "      <td>10.5</td>\n",
       "      <td>17.7025</td>\n",
       "      <td>21.5</td>\n",
       "    </tr>\n",
       "    <tr>\n",
       "      <th>23</th>\n",
       "      <td>24</td>\n",
       "      <td>Section 1</td>\n",
       "      <td>10.0</td>\n",
       "      <td>15.5025</td>\n",
       "      <td>24.0</td>\n",
       "    </tr>\n",
       "    <tr>\n",
       "      <th>24</th>\n",
       "      <td>25</td>\n",
       "      <td>Section 2</td>\n",
       "      <td>11.0</td>\n",
       "      <td>12.8750</td>\n",
       "      <td>20.0</td>\n",
       "    </tr>\n",
       "    <tr>\n",
       "      <th>25</th>\n",
       "      <td>26</td>\n",
       "      <td>Section 2</td>\n",
       "      <td>15.0</td>\n",
       "      <td>12.2075</td>\n",
       "      <td>25.0</td>\n",
       "    </tr>\n",
       "    <tr>\n",
       "      <th>26</th>\n",
       "      <td>27</td>\n",
       "      <td>Section 2</td>\n",
       "      <td>16.0</td>\n",
       "      <td>19.0650</td>\n",
       "      <td>24.5</td>\n",
       "    </tr>\n",
       "    <tr>\n",
       "      <th>27</th>\n",
       "      <td>28</td>\n",
       "      <td>Section 2</td>\n",
       "      <td>19.5</td>\n",
       "      <td>20.0000</td>\n",
       "      <td>24.5</td>\n",
       "    </tr>\n",
       "    <tr>\n",
       "      <th>28</th>\n",
       "      <td>29</td>\n",
       "      <td>Section 1</td>\n",
       "      <td>15.0</td>\n",
       "      <td>11.9200</td>\n",
       "      <td>24.0</td>\n",
       "    </tr>\n",
       "    <tr>\n",
       "      <th>29</th>\n",
       "      <td>30</td>\n",
       "      <td>Section 1</td>\n",
       "      <td>18.0</td>\n",
       "      <td>14.4950</td>\n",
       "      <td>25.0</td>\n",
       "    </tr>\n",
       "    <tr>\n",
       "      <th>30</th>\n",
       "      <td>31</td>\n",
       "      <td>Section 2</td>\n",
       "      <td>14.5</td>\n",
       "      <td>16.5650</td>\n",
       "      <td>25.0</td>\n",
       "    </tr>\n",
       "    <tr>\n",
       "      <th>31</th>\n",
       "      <td>32</td>\n",
       "      <td>Section 2</td>\n",
       "      <td>18.5</td>\n",
       "      <td>18.8250</td>\n",
       "      <td>24.0</td>\n",
       "    </tr>\n",
       "    <tr>\n",
       "      <th>32</th>\n",
       "      <td>33</td>\n",
       "      <td>Section 1</td>\n",
       "      <td>14.0</td>\n",
       "      <td>12.1900</td>\n",
       "      <td>25.0</td>\n",
       "    </tr>\n",
       "    <tr>\n",
       "      <th>33</th>\n",
       "      <td>34</td>\n",
       "      <td>Section 2</td>\n",
       "      <td>11.5</td>\n",
       "      <td>10.4950</td>\n",
       "      <td>23.5</td>\n",
       "    </tr>\n",
       "    <tr>\n",
       "      <th>34</th>\n",
       "      <td>35</td>\n",
       "      <td>Section 2</td>\n",
       "      <td>10.0</td>\n",
       "      <td>10.5725</td>\n",
       "      <td>24.0</td>\n",
       "    </tr>\n",
       "    <tr>\n",
       "      <th>35</th>\n",
       "      <td>36</td>\n",
       "      <td>Section 2</td>\n",
       "      <td>20.0</td>\n",
       "      <td>18.5000</td>\n",
       "      <td>25.0</td>\n",
       "    </tr>\n",
       "    <tr>\n",
       "      <th>36</th>\n",
       "      <td>37</td>\n",
       "      <td>Section 1</td>\n",
       "      <td>11.0</td>\n",
       "      <td>14.9400</td>\n",
       "      <td>25.0</td>\n",
       "    </tr>\n",
       "    <tr>\n",
       "      <th>37</th>\n",
       "      <td>38</td>\n",
       "      <td>Section 1</td>\n",
       "      <td>15.0</td>\n",
       "      <td>14.7175</td>\n",
       "      <td>23.5</td>\n",
       "    </tr>\n",
       "    <tr>\n",
       "      <th>38</th>\n",
       "      <td>39</td>\n",
       "      <td>Section 2</td>\n",
       "      <td>18.5</td>\n",
       "      <td>19.5050</td>\n",
       "      <td>23.5</td>\n",
       "    </tr>\n",
       "    <tr>\n",
       "      <th>39</th>\n",
       "      <td>40</td>\n",
       "      <td>Section 1</td>\n",
       "      <td>NaN</td>\n",
       "      <td>20.0000</td>\n",
       "      <td>25.0</td>\n",
       "    </tr>\n",
       "    <tr>\n",
       "      <th>40</th>\n",
       "      <td>41</td>\n",
       "      <td>Section 2</td>\n",
       "      <td>9.5</td>\n",
       "      <td>13.4625</td>\n",
       "      <td>20.0</td>\n",
       "    </tr>\n",
       "    <tr>\n",
       "      <th>41</th>\n",
       "      <td>42</td>\n",
       "      <td>Section 1</td>\n",
       "      <td>14.0</td>\n",
       "      <td>11.8775</td>\n",
       "      <td>20.5</td>\n",
       "    </tr>\n",
       "    <tr>\n",
       "      <th>42</th>\n",
       "      <td>43</td>\n",
       "      <td>Section 2</td>\n",
       "      <td>3.0</td>\n",
       "      <td>NaN</td>\n",
       "      <td>13.0</td>\n",
       "    </tr>\n",
       "    <tr>\n",
       "      <th>43</th>\n",
       "      <td>44</td>\n",
       "      <td>Section 2</td>\n",
       "      <td>13.0</td>\n",
       "      <td>20.0000</td>\n",
       "      <td>25.0</td>\n",
       "    </tr>\n",
       "    <tr>\n",
       "      <th>44</th>\n",
       "      <td>45</td>\n",
       "      <td>Section 1</td>\n",
       "      <td>16.0</td>\n",
       "      <td>18.5700</td>\n",
       "      <td>25.0</td>\n",
       "    </tr>\n",
       "    <tr>\n",
       "      <th>45</th>\n",
       "      <td>46</td>\n",
       "      <td>Section 1</td>\n",
       "      <td>10.5</td>\n",
       "      <td>12.8325</td>\n",
       "      <td>23.0</td>\n",
       "    </tr>\n",
       "    <tr>\n",
       "      <th>46</th>\n",
       "      <td>47</td>\n",
       "      <td>Section 1</td>\n",
       "      <td>16.5</td>\n",
       "      <td>15.4725</td>\n",
       "      <td>21.0</td>\n",
       "    </tr>\n",
       "    <tr>\n",
       "      <th>47</th>\n",
       "      <td>48</td>\n",
       "      <td>Section 2</td>\n",
       "      <td>10.5</td>\n",
       "      <td>18.2550</td>\n",
       "      <td>23.5</td>\n",
       "    </tr>\n",
       "    <tr>\n",
       "      <th>48</th>\n",
       "      <td>49</td>\n",
       "      <td>Section 1</td>\n",
       "      <td>17.5</td>\n",
       "      <td>17.8750</td>\n",
       "      <td>25.0</td>\n",
       "    </tr>\n",
       "    <tr>\n",
       "      <th>49</th>\n",
       "      <td>50</td>\n",
       "      <td>Section 2</td>\n",
       "      <td>13.5</td>\n",
       "      <td>9.8100</td>\n",
       "      <td>23.5</td>\n",
       "    </tr>\n",
       "    <tr>\n",
       "      <th>50</th>\n",
       "      <td>51</td>\n",
       "      <td>Section 1</td>\n",
       "      <td>14.5</td>\n",
       "      <td>19.5050</td>\n",
       "      <td>23.5</td>\n",
       "    </tr>\n",
       "    <tr>\n",
       "      <th>51</th>\n",
       "      <td>52</td>\n",
       "      <td>Section 1</td>\n",
       "      <td>16.5</td>\n",
       "      <td>11.7875</td>\n",
       "      <td>21.5</td>\n",
       "    </tr>\n",
       "  </tbody>\n",
       "</table>\n",
       "</div>"
      ],
      "text/plain": [
       "    Student  Section    Quiz 1   Quiz 2  Midterm 1\n",
       "0         1  Section 1    17.5  13.4575       22.5\n",
       "1         2  Section 1    16.5  14.2125       25.0\n",
       "2         3  Section 2    12.5  14.6150       23.5\n",
       "3         4  Section 2    10.5  15.2100       25.0\n",
       "4         5  Section 2     5.5  12.2225       24.5\n",
       "5         6  Section 1    14.0  14.5875       23.5\n",
       "6         7  Section 2    11.0      NaN       20.5\n",
       "7         8  Section 2    15.0  18.7500       25.0\n",
       "8         9  Section 2    17.0  16.5000       25.0\n",
       "9        10  Section 1    14.0  19.2500       19.5\n",
       "10       11  Section 2    11.0  10.9625       24.5\n",
       "11       12  Section 1    10.5   7.3650       19.5\n",
       "12       13  Section 1    16.5  18.2450       25.0\n",
       "13       14  Section 1    14.5  18.8375       21.5\n",
       "14       15  Section 1    14.5  11.1100       25.0\n",
       "15       16  Section 1     8.0   8.7475       24.0\n",
       "16       17  Section 1    14.5  15.9125       21.0\n",
       "17       18  Section 2    14.0   8.8975       16.5\n",
       "18       19  Section 1    11.0   4.1425       21.0\n",
       "19       20  Section 2    17.0  14.9500       25.0\n",
       "20       21  Section 1    18.5  13.6250       24.0\n",
       "21       22  Section 2    14.0  13.5025       23.0\n",
       "22       23  Section 1    10.5  17.7025       21.5\n",
       "23       24  Section 1    10.0  15.5025       24.0\n",
       "24       25  Section 2    11.0  12.8750       20.0\n",
       "25       26  Section 2    15.0  12.2075       25.0\n",
       "26       27  Section 2    16.0  19.0650       24.5\n",
       "27       28  Section 2    19.5  20.0000       24.5\n",
       "28       29  Section 1    15.0  11.9200       24.0\n",
       "29       30  Section 1    18.0  14.4950       25.0\n",
       "30       31  Section 2    14.5  16.5650       25.0\n",
       "31       32  Section 2    18.5  18.8250       24.0\n",
       "32       33  Section 1    14.0  12.1900       25.0\n",
       "33       34  Section 2    11.5  10.4950       23.5\n",
       "34       35  Section 2    10.0  10.5725       24.0\n",
       "35       36  Section 2    20.0  18.5000       25.0\n",
       "36       37  Section 1    11.0  14.9400       25.0\n",
       "37       38  Section 1    15.0  14.7175       23.5\n",
       "38       39  Section 2    18.5  19.5050       23.5\n",
       "39       40  Section 1     NaN  20.0000       25.0\n",
       "40       41  Section 2     9.5  13.4625       20.0\n",
       "41       42  Section 1    14.0  11.8775       20.5\n",
       "42       43  Section 2     3.0      NaN       13.0\n",
       "43       44  Section 2    13.0  20.0000       25.0\n",
       "44       45  Section 1    16.0  18.5700       25.0\n",
       "45       46  Section 1    10.5  12.8325       23.0\n",
       "46       47  Section 1    16.5  15.4725       21.0\n",
       "47       48  Section 2    10.5  18.2550       23.5\n",
       "48       49  Section 1    17.5  17.8750       25.0\n",
       "49       50  Section 2    13.5   9.8100       23.5\n",
       "50       51  Section 1    14.5  19.5050       23.5\n",
       "51       52  Section 1    16.5  11.7875       21.5"
      ]
     },
     "execution_count": 57,
     "metadata": {},
     "output_type": "execute_result"
    }
   ],
   "source": [
    "df"
   ]
  },
  {
   "cell_type": "markdown",
   "id": "e5e039b3",
   "metadata": {},
   "source": [
    "We remove the missing values from the data "
   ]
  },
  {
   "cell_type": "code",
   "execution_count": 58,
   "id": "e315819c",
   "metadata": {},
   "outputs": [],
   "source": [
    "df=df.dropna()"
   ]
  },
  {
   "cell_type": "code",
   "execution_count": 59,
   "id": "d691a9fe",
   "metadata": {},
   "outputs": [
    {
     "data": {
      "text/html": [
       "<div>\n",
       "<style scoped>\n",
       "    .dataframe tbody tr th:only-of-type {\n",
       "        vertical-align: middle;\n",
       "    }\n",
       "\n",
       "    .dataframe tbody tr th {\n",
       "        vertical-align: top;\n",
       "    }\n",
       "\n",
       "    .dataframe thead th {\n",
       "        text-align: right;\n",
       "    }\n",
       "</style>\n",
       "<table border=\"1\" class=\"dataframe\">\n",
       "  <thead>\n",
       "    <tr style=\"text-align: right;\">\n",
       "      <th></th>\n",
       "      <th>Student</th>\n",
       "      <th>Section</th>\n",
       "      <th>Quiz 1</th>\n",
       "      <th>Quiz 2</th>\n",
       "      <th>Midterm 1</th>\n",
       "    </tr>\n",
       "  </thead>\n",
       "  <tbody>\n",
       "    <tr>\n",
       "      <th>0</th>\n",
       "      <td>1</td>\n",
       "      <td>Section 1</td>\n",
       "      <td>17.5</td>\n",
       "      <td>13.4575</td>\n",
       "      <td>22.5</td>\n",
       "    </tr>\n",
       "    <tr>\n",
       "      <th>1</th>\n",
       "      <td>2</td>\n",
       "      <td>Section 1</td>\n",
       "      <td>16.5</td>\n",
       "      <td>14.2125</td>\n",
       "      <td>25.0</td>\n",
       "    </tr>\n",
       "    <tr>\n",
       "      <th>2</th>\n",
       "      <td>3</td>\n",
       "      <td>Section 2</td>\n",
       "      <td>12.5</td>\n",
       "      <td>14.6150</td>\n",
       "      <td>23.5</td>\n",
       "    </tr>\n",
       "    <tr>\n",
       "      <th>3</th>\n",
       "      <td>4</td>\n",
       "      <td>Section 2</td>\n",
       "      <td>10.5</td>\n",
       "      <td>15.2100</td>\n",
       "      <td>25.0</td>\n",
       "    </tr>\n",
       "    <tr>\n",
       "      <th>4</th>\n",
       "      <td>5</td>\n",
       "      <td>Section 2</td>\n",
       "      <td>5.5</td>\n",
       "      <td>12.2225</td>\n",
       "      <td>24.5</td>\n",
       "    </tr>\n",
       "    <tr>\n",
       "      <th>5</th>\n",
       "      <td>6</td>\n",
       "      <td>Section 1</td>\n",
       "      <td>14.0</td>\n",
       "      <td>14.5875</td>\n",
       "      <td>23.5</td>\n",
       "    </tr>\n",
       "    <tr>\n",
       "      <th>7</th>\n",
       "      <td>8</td>\n",
       "      <td>Section 2</td>\n",
       "      <td>15.0</td>\n",
       "      <td>18.7500</td>\n",
       "      <td>25.0</td>\n",
       "    </tr>\n",
       "    <tr>\n",
       "      <th>8</th>\n",
       "      <td>9</td>\n",
       "      <td>Section 2</td>\n",
       "      <td>17.0</td>\n",
       "      <td>16.5000</td>\n",
       "      <td>25.0</td>\n",
       "    </tr>\n",
       "    <tr>\n",
       "      <th>9</th>\n",
       "      <td>10</td>\n",
       "      <td>Section 1</td>\n",
       "      <td>14.0</td>\n",
       "      <td>19.2500</td>\n",
       "      <td>19.5</td>\n",
       "    </tr>\n",
       "    <tr>\n",
       "      <th>10</th>\n",
       "      <td>11</td>\n",
       "      <td>Section 2</td>\n",
       "      <td>11.0</td>\n",
       "      <td>10.9625</td>\n",
       "      <td>24.5</td>\n",
       "    </tr>\n",
       "    <tr>\n",
       "      <th>11</th>\n",
       "      <td>12</td>\n",
       "      <td>Section 1</td>\n",
       "      <td>10.5</td>\n",
       "      <td>7.3650</td>\n",
       "      <td>19.5</td>\n",
       "    </tr>\n",
       "    <tr>\n",
       "      <th>12</th>\n",
       "      <td>13</td>\n",
       "      <td>Section 1</td>\n",
       "      <td>16.5</td>\n",
       "      <td>18.2450</td>\n",
       "      <td>25.0</td>\n",
       "    </tr>\n",
       "    <tr>\n",
       "      <th>13</th>\n",
       "      <td>14</td>\n",
       "      <td>Section 1</td>\n",
       "      <td>14.5</td>\n",
       "      <td>18.8375</td>\n",
       "      <td>21.5</td>\n",
       "    </tr>\n",
       "    <tr>\n",
       "      <th>14</th>\n",
       "      <td>15</td>\n",
       "      <td>Section 1</td>\n",
       "      <td>14.5</td>\n",
       "      <td>11.1100</td>\n",
       "      <td>25.0</td>\n",
       "    </tr>\n",
       "    <tr>\n",
       "      <th>15</th>\n",
       "      <td>16</td>\n",
       "      <td>Section 1</td>\n",
       "      <td>8.0</td>\n",
       "      <td>8.7475</td>\n",
       "      <td>24.0</td>\n",
       "    </tr>\n",
       "    <tr>\n",
       "      <th>16</th>\n",
       "      <td>17</td>\n",
       "      <td>Section 1</td>\n",
       "      <td>14.5</td>\n",
       "      <td>15.9125</td>\n",
       "      <td>21.0</td>\n",
       "    </tr>\n",
       "    <tr>\n",
       "      <th>17</th>\n",
       "      <td>18</td>\n",
       "      <td>Section 2</td>\n",
       "      <td>14.0</td>\n",
       "      <td>8.8975</td>\n",
       "      <td>16.5</td>\n",
       "    </tr>\n",
       "    <tr>\n",
       "      <th>18</th>\n",
       "      <td>19</td>\n",
       "      <td>Section 1</td>\n",
       "      <td>11.0</td>\n",
       "      <td>4.1425</td>\n",
       "      <td>21.0</td>\n",
       "    </tr>\n",
       "    <tr>\n",
       "      <th>19</th>\n",
       "      <td>20</td>\n",
       "      <td>Section 2</td>\n",
       "      <td>17.0</td>\n",
       "      <td>14.9500</td>\n",
       "      <td>25.0</td>\n",
       "    </tr>\n",
       "    <tr>\n",
       "      <th>20</th>\n",
       "      <td>21</td>\n",
       "      <td>Section 1</td>\n",
       "      <td>18.5</td>\n",
       "      <td>13.6250</td>\n",
       "      <td>24.0</td>\n",
       "    </tr>\n",
       "    <tr>\n",
       "      <th>21</th>\n",
       "      <td>22</td>\n",
       "      <td>Section 2</td>\n",
       "      <td>14.0</td>\n",
       "      <td>13.5025</td>\n",
       "      <td>23.0</td>\n",
       "    </tr>\n",
       "    <tr>\n",
       "      <th>22</th>\n",
       "      <td>23</td>\n",
       "      <td>Section 1</td>\n",
       "      <td>10.5</td>\n",
       "      <td>17.7025</td>\n",
       "      <td>21.5</td>\n",
       "    </tr>\n",
       "    <tr>\n",
       "      <th>23</th>\n",
       "      <td>24</td>\n",
       "      <td>Section 1</td>\n",
       "      <td>10.0</td>\n",
       "      <td>15.5025</td>\n",
       "      <td>24.0</td>\n",
       "    </tr>\n",
       "    <tr>\n",
       "      <th>24</th>\n",
       "      <td>25</td>\n",
       "      <td>Section 2</td>\n",
       "      <td>11.0</td>\n",
       "      <td>12.8750</td>\n",
       "      <td>20.0</td>\n",
       "    </tr>\n",
       "    <tr>\n",
       "      <th>25</th>\n",
       "      <td>26</td>\n",
       "      <td>Section 2</td>\n",
       "      <td>15.0</td>\n",
       "      <td>12.2075</td>\n",
       "      <td>25.0</td>\n",
       "    </tr>\n",
       "    <tr>\n",
       "      <th>26</th>\n",
       "      <td>27</td>\n",
       "      <td>Section 2</td>\n",
       "      <td>16.0</td>\n",
       "      <td>19.0650</td>\n",
       "      <td>24.5</td>\n",
       "    </tr>\n",
       "    <tr>\n",
       "      <th>27</th>\n",
       "      <td>28</td>\n",
       "      <td>Section 2</td>\n",
       "      <td>19.5</td>\n",
       "      <td>20.0000</td>\n",
       "      <td>24.5</td>\n",
       "    </tr>\n",
       "    <tr>\n",
       "      <th>28</th>\n",
       "      <td>29</td>\n",
       "      <td>Section 1</td>\n",
       "      <td>15.0</td>\n",
       "      <td>11.9200</td>\n",
       "      <td>24.0</td>\n",
       "    </tr>\n",
       "    <tr>\n",
       "      <th>29</th>\n",
       "      <td>30</td>\n",
       "      <td>Section 1</td>\n",
       "      <td>18.0</td>\n",
       "      <td>14.4950</td>\n",
       "      <td>25.0</td>\n",
       "    </tr>\n",
       "    <tr>\n",
       "      <th>30</th>\n",
       "      <td>31</td>\n",
       "      <td>Section 2</td>\n",
       "      <td>14.5</td>\n",
       "      <td>16.5650</td>\n",
       "      <td>25.0</td>\n",
       "    </tr>\n",
       "    <tr>\n",
       "      <th>31</th>\n",
       "      <td>32</td>\n",
       "      <td>Section 2</td>\n",
       "      <td>18.5</td>\n",
       "      <td>18.8250</td>\n",
       "      <td>24.0</td>\n",
       "    </tr>\n",
       "    <tr>\n",
       "      <th>32</th>\n",
       "      <td>33</td>\n",
       "      <td>Section 1</td>\n",
       "      <td>14.0</td>\n",
       "      <td>12.1900</td>\n",
       "      <td>25.0</td>\n",
       "    </tr>\n",
       "    <tr>\n",
       "      <th>33</th>\n",
       "      <td>34</td>\n",
       "      <td>Section 2</td>\n",
       "      <td>11.5</td>\n",
       "      <td>10.4950</td>\n",
       "      <td>23.5</td>\n",
       "    </tr>\n",
       "    <tr>\n",
       "      <th>34</th>\n",
       "      <td>35</td>\n",
       "      <td>Section 2</td>\n",
       "      <td>10.0</td>\n",
       "      <td>10.5725</td>\n",
       "      <td>24.0</td>\n",
       "    </tr>\n",
       "    <tr>\n",
       "      <th>35</th>\n",
       "      <td>36</td>\n",
       "      <td>Section 2</td>\n",
       "      <td>20.0</td>\n",
       "      <td>18.5000</td>\n",
       "      <td>25.0</td>\n",
       "    </tr>\n",
       "    <tr>\n",
       "      <th>36</th>\n",
       "      <td>37</td>\n",
       "      <td>Section 1</td>\n",
       "      <td>11.0</td>\n",
       "      <td>14.9400</td>\n",
       "      <td>25.0</td>\n",
       "    </tr>\n",
       "    <tr>\n",
       "      <th>37</th>\n",
       "      <td>38</td>\n",
       "      <td>Section 1</td>\n",
       "      <td>15.0</td>\n",
       "      <td>14.7175</td>\n",
       "      <td>23.5</td>\n",
       "    </tr>\n",
       "    <tr>\n",
       "      <th>38</th>\n",
       "      <td>39</td>\n",
       "      <td>Section 2</td>\n",
       "      <td>18.5</td>\n",
       "      <td>19.5050</td>\n",
       "      <td>23.5</td>\n",
       "    </tr>\n",
       "    <tr>\n",
       "      <th>40</th>\n",
       "      <td>41</td>\n",
       "      <td>Section 2</td>\n",
       "      <td>9.5</td>\n",
       "      <td>13.4625</td>\n",
       "      <td>20.0</td>\n",
       "    </tr>\n",
       "    <tr>\n",
       "      <th>41</th>\n",
       "      <td>42</td>\n",
       "      <td>Section 1</td>\n",
       "      <td>14.0</td>\n",
       "      <td>11.8775</td>\n",
       "      <td>20.5</td>\n",
       "    </tr>\n",
       "    <tr>\n",
       "      <th>43</th>\n",
       "      <td>44</td>\n",
       "      <td>Section 2</td>\n",
       "      <td>13.0</td>\n",
       "      <td>20.0000</td>\n",
       "      <td>25.0</td>\n",
       "    </tr>\n",
       "    <tr>\n",
       "      <th>44</th>\n",
       "      <td>45</td>\n",
       "      <td>Section 1</td>\n",
       "      <td>16.0</td>\n",
       "      <td>18.5700</td>\n",
       "      <td>25.0</td>\n",
       "    </tr>\n",
       "    <tr>\n",
       "      <th>45</th>\n",
       "      <td>46</td>\n",
       "      <td>Section 1</td>\n",
       "      <td>10.5</td>\n",
       "      <td>12.8325</td>\n",
       "      <td>23.0</td>\n",
       "    </tr>\n",
       "    <tr>\n",
       "      <th>46</th>\n",
       "      <td>47</td>\n",
       "      <td>Section 1</td>\n",
       "      <td>16.5</td>\n",
       "      <td>15.4725</td>\n",
       "      <td>21.0</td>\n",
       "    </tr>\n",
       "    <tr>\n",
       "      <th>47</th>\n",
       "      <td>48</td>\n",
       "      <td>Section 2</td>\n",
       "      <td>10.5</td>\n",
       "      <td>18.2550</td>\n",
       "      <td>23.5</td>\n",
       "    </tr>\n",
       "    <tr>\n",
       "      <th>48</th>\n",
       "      <td>49</td>\n",
       "      <td>Section 1</td>\n",
       "      <td>17.5</td>\n",
       "      <td>17.8750</td>\n",
       "      <td>25.0</td>\n",
       "    </tr>\n",
       "    <tr>\n",
       "      <th>49</th>\n",
       "      <td>50</td>\n",
       "      <td>Section 2</td>\n",
       "      <td>13.5</td>\n",
       "      <td>9.8100</td>\n",
       "      <td>23.5</td>\n",
       "    </tr>\n",
       "    <tr>\n",
       "      <th>50</th>\n",
       "      <td>51</td>\n",
       "      <td>Section 1</td>\n",
       "      <td>14.5</td>\n",
       "      <td>19.5050</td>\n",
       "      <td>23.5</td>\n",
       "    </tr>\n",
       "    <tr>\n",
       "      <th>51</th>\n",
       "      <td>52</td>\n",
       "      <td>Section 1</td>\n",
       "      <td>16.5</td>\n",
       "      <td>11.7875</td>\n",
       "      <td>21.5</td>\n",
       "    </tr>\n",
       "  </tbody>\n",
       "</table>\n",
       "</div>"
      ],
      "text/plain": [
       "    Student  Section    Quiz 1   Quiz 2  Midterm 1\n",
       "0         1  Section 1    17.5  13.4575       22.5\n",
       "1         2  Section 1    16.5  14.2125       25.0\n",
       "2         3  Section 2    12.5  14.6150       23.5\n",
       "3         4  Section 2    10.5  15.2100       25.0\n",
       "4         5  Section 2     5.5  12.2225       24.5\n",
       "5         6  Section 1    14.0  14.5875       23.5\n",
       "7         8  Section 2    15.0  18.7500       25.0\n",
       "8         9  Section 2    17.0  16.5000       25.0\n",
       "9        10  Section 1    14.0  19.2500       19.5\n",
       "10       11  Section 2    11.0  10.9625       24.5\n",
       "11       12  Section 1    10.5   7.3650       19.5\n",
       "12       13  Section 1    16.5  18.2450       25.0\n",
       "13       14  Section 1    14.5  18.8375       21.5\n",
       "14       15  Section 1    14.5  11.1100       25.0\n",
       "15       16  Section 1     8.0   8.7475       24.0\n",
       "16       17  Section 1    14.5  15.9125       21.0\n",
       "17       18  Section 2    14.0   8.8975       16.5\n",
       "18       19  Section 1    11.0   4.1425       21.0\n",
       "19       20  Section 2    17.0  14.9500       25.0\n",
       "20       21  Section 1    18.5  13.6250       24.0\n",
       "21       22  Section 2    14.0  13.5025       23.0\n",
       "22       23  Section 1    10.5  17.7025       21.5\n",
       "23       24  Section 1    10.0  15.5025       24.0\n",
       "24       25  Section 2    11.0  12.8750       20.0\n",
       "25       26  Section 2    15.0  12.2075       25.0\n",
       "26       27  Section 2    16.0  19.0650       24.5\n",
       "27       28  Section 2    19.5  20.0000       24.5\n",
       "28       29  Section 1    15.0  11.9200       24.0\n",
       "29       30  Section 1    18.0  14.4950       25.0\n",
       "30       31  Section 2    14.5  16.5650       25.0\n",
       "31       32  Section 2    18.5  18.8250       24.0\n",
       "32       33  Section 1    14.0  12.1900       25.0\n",
       "33       34  Section 2    11.5  10.4950       23.5\n",
       "34       35  Section 2    10.0  10.5725       24.0\n",
       "35       36  Section 2    20.0  18.5000       25.0\n",
       "36       37  Section 1    11.0  14.9400       25.0\n",
       "37       38  Section 1    15.0  14.7175       23.5\n",
       "38       39  Section 2    18.5  19.5050       23.5\n",
       "40       41  Section 2     9.5  13.4625       20.0\n",
       "41       42  Section 1    14.0  11.8775       20.5\n",
       "43       44  Section 2    13.0  20.0000       25.0\n",
       "44       45  Section 1    16.0  18.5700       25.0\n",
       "45       46  Section 1    10.5  12.8325       23.0\n",
       "46       47  Section 1    16.5  15.4725       21.0\n",
       "47       48  Section 2    10.5  18.2550       23.5\n",
       "48       49  Section 1    17.5  17.8750       25.0\n",
       "49       50  Section 2    13.5   9.8100       23.5\n",
       "50       51  Section 1    14.5  19.5050       23.5\n",
       "51       52  Section 1    16.5  11.7875       21.5"
      ]
     },
     "execution_count": 59,
     "metadata": {},
     "output_type": "execute_result"
    }
   ],
   "source": [
    "df"
   ]
  },
  {
   "cell_type": "code",
   "execution_count": 61,
   "id": "cdcce002",
   "metadata": {},
   "outputs": [],
   "source": [
    "from scipy.stats import ttest_rel\n",
    "test_diffmean1=ttest_rel(df['Quiz 1'],df['Quiz 2'])"
   ]
  },
  {
   "cell_type": "code",
   "execution_count": 62,
   "id": "04df7ee0",
   "metadata": {},
   "outputs": [
    {
     "data": {
      "text/plain": [
       "-1.1156139485204906"
      ]
     },
     "execution_count": 62,
     "metadata": {},
     "output_type": "execute_result"
    }
   ],
   "source": [
    "test_diffmean1.statistic"
   ]
  },
  {
   "cell_type": "code",
   "execution_count": 63,
   "id": "c3c5caf7",
   "metadata": {},
   "outputs": [
    {
     "data": {
      "text/plain": [
       "0.2701415971643917"
      ]
     },
     "execution_count": 63,
     "metadata": {},
     "output_type": "execute_result"
    }
   ],
   "source": [
    "test_diffmean1.pvalue"
   ]
  },
  {
   "cell_type": "markdown",
   "id": "79deab34",
   "metadata": {},
   "source": [
    "We have tested here the following hypothesis:\n",
    "\n",
    "$$ H_0:\\,\\mbox{ the averages of the grades in Q1 and Q2 are equal}$$\n",
    "versus \n",
    "$$ H_0:\\,\\mbox{ the averages of the grades in Q1 and Q2 are different}$$\n",
    "\n"
   ]
  },
  {
   "cell_type": "markdown",
   "id": "138bcbf4",
   "metadata": {},
   "source": [
    "We used a paired t-test and we can conclude that $H_0$ can't be rejected since the p-value is greater than 0.05 (5%) (the given level of significance). "
   ]
  },
  {
   "cell_type": "markdown",
   "id": "fe8c7798",
   "metadata": {},
   "source": [
    "We can test also if the mean $\\mu_1$ of the grades of the Quiz 1 is higher than the mean $\\mu_2$ of the grades of the Quiz 2: \n",
    "\n",
    "$$ H_0: \\, \\mu_1\\geq \\mu_2$$\n",
    "versus\n",
    "$$ H_1:\\, \\mu_1<\\mu_2 $$"
   ]
  },
  {
   "cell_type": "code",
   "execution_count": 64,
   "id": "04a72809",
   "metadata": {},
   "outputs": [],
   "source": [
    "test_diffmean1a=ttest_rel(df['Quiz 1'],df['Quiz 2'],alternative='less')"
   ]
  },
  {
   "cell_type": "code",
   "execution_count": 66,
   "id": "b8d977c9",
   "metadata": {},
   "outputs": [
    {
     "data": {
      "text/plain": [
       "-1.1156139485204906"
      ]
     },
     "execution_count": 66,
     "metadata": {},
     "output_type": "execute_result"
    }
   ],
   "source": [
    "test_diffmean1a.statistic"
   ]
  },
  {
   "cell_type": "code",
   "execution_count": 67,
   "id": "ea14510a",
   "metadata": {},
   "outputs": [
    {
     "data": {
      "text/plain": [
       "0.13507079858219584"
      ]
     },
     "execution_count": 67,
     "metadata": {},
     "output_type": "execute_result"
    }
   ],
   "source": [
    "test_diffmean1a.pvalue"
   ]
  },
  {
   "cell_type": "markdown",
   "id": "144f1242",
   "metadata": {},
   "source": [
    "Conclusion: $H_0$ can't be rejected "
   ]
  },
  {
   "cell_type": "code",
   "execution_count": 68,
   "id": "286f3051",
   "metadata": {},
   "outputs": [],
   "source": [
    "test_diffmean1b=ttest_rel(df['Quiz 1'],df['Quiz 2'],alternative='greater')"
   ]
  },
  {
   "cell_type": "code",
   "execution_count": 69,
   "id": "9bf7f15a",
   "metadata": {},
   "outputs": [
    {
     "data": {
      "text/plain": [
       "0.8649292014178042"
      ]
     },
     "execution_count": 69,
     "metadata": {},
     "output_type": "execute_result"
    }
   ],
   "source": [
    "test_diffmean1b.pvalue"
   ]
  },
  {
   "cell_type": "markdown",
   "id": "7300ad12",
   "metadata": {},
   "source": [
    "#### A two-sample t-test"
   ]
  },
  {
   "cell_type": "markdown",
   "id": "5dd5e8cc",
   "metadata": {},
   "source": [
    "We will compare now the mean of the Quiz 1 between Section 1 and 2"
   ]
  },
  {
   "cell_type": "code",
   "execution_count": 78,
   "id": "229fd5f3",
   "metadata": {},
   "outputs": [
    {
     "data": {
      "text/plain": [
       "0     17.5\n",
       "1     16.5\n",
       "5     14.0\n",
       "9     14.0\n",
       "11    10.5\n",
       "12    16.5\n",
       "13    14.5\n",
       "14    14.5\n",
       "15     8.0\n",
       "16    14.5\n",
       "18    11.0\n",
       "20    18.5\n",
       "22    10.5\n",
       "23    10.0\n",
       "28    15.0\n",
       "29    18.0\n",
       "32    14.0\n",
       "36    11.0\n",
       "37    15.0\n",
       "41    14.0\n",
       "44    16.0\n",
       "45    10.5\n",
       "46    16.5\n",
       "48    17.5\n",
       "50    14.5\n",
       "51    16.5\n",
       "Name: Quiz 1, dtype: float64"
      ]
     },
     "execution_count": 78,
     "metadata": {},
     "output_type": "execute_result"
    }
   ],
   "source": [
    "x1=df['Quiz 1'].loc[df['Section  ']=='Section 1']\n",
    "x1"
   ]
  },
  {
   "cell_type": "code",
   "execution_count": 79,
   "id": "8568b17c",
   "metadata": {},
   "outputs": [
    {
     "data": {
      "text/plain": [
       "2     12.5\n",
       "3     10.5\n",
       "4      5.5\n",
       "7     15.0\n",
       "8     17.0\n",
       "10    11.0\n",
       "17    14.0\n",
       "19    17.0\n",
       "21    14.0\n",
       "24    11.0\n",
       "25    15.0\n",
       "26    16.0\n",
       "27    19.5\n",
       "30    14.5\n",
       "31    18.5\n",
       "33    11.5\n",
       "34    10.0\n",
       "35    20.0\n",
       "38    18.5\n",
       "40     9.5\n",
       "43    13.0\n",
       "47    10.5\n",
       "49    13.5\n",
       "Name: Quiz 1, dtype: float64"
      ]
     },
     "execution_count": 79,
     "metadata": {},
     "output_type": "execute_result"
    }
   ],
   "source": [
    "x2=df['Quiz 1'].loc[df['Section  ']=='Section 2']\n",
    "x2"
   ]
  },
  {
   "cell_type": "code",
   "execution_count": 80,
   "id": "b421cb8e",
   "metadata": {},
   "outputs": [],
   "source": [
    "from scipy.stats import ttest_ind\n",
    "test_diffmean2=ttest_ind(x1,x2)"
   ]
  },
  {
   "cell_type": "code",
   "execution_count": 81,
   "id": "c69afafc",
   "metadata": {},
   "outputs": [
    {
     "data": {
      "text/plain": [
       "0.4200033340360798"
      ]
     },
     "execution_count": 81,
     "metadata": {},
     "output_type": "execute_result"
    }
   ],
   "source": [
    "test_diffmean2.statistic"
   ]
  },
  {
   "cell_type": "code",
   "execution_count": 82,
   "id": "b5b87f43",
   "metadata": {},
   "outputs": [
    {
     "data": {
      "text/plain": [
       "0.6763969243532744"
      ]
     },
     "execution_count": 82,
     "metadata": {},
     "output_type": "execute_result"
    }
   ],
   "source": [
    "test_diffmean2.pvalue"
   ]
  },
  {
   "cell_type": "markdown",
   "id": "bd67e3f1",
   "metadata": {},
   "source": [
    "We conclude that both sections have the same means of the grades in Quiz 1."
   ]
  }
 ],
 "metadata": {
  "kernelspec": {
   "display_name": "Python 3 (ipykernel)",
   "language": "python",
   "name": "python3"
  },
  "language_info": {
   "codemirror_mode": {
    "name": "ipython",
    "version": 3
   },
   "file_extension": ".py",
   "mimetype": "text/x-python",
   "name": "python",
   "nbconvert_exporter": "python",
   "pygments_lexer": "ipython3",
   "version": "3.9.7"
  },
  "latex_envs": {
   "LaTeX_envs_menu_present": true,
   "autoclose": false,
   "autocomplete": true,
   "bibliofile": "biblio.bib",
   "cite_by": "apalike",
   "current_citInitial": 1,
   "eqLabelWithNumbers": true,
   "eqNumInitial": 1,
   "hotkeys": {
    "equation": "Ctrl-E",
    "itemize": "Ctrl-I"
   },
   "labels_anchors": false,
   "latex_user_defs": false,
   "report_style_numbering": false,
   "user_envs_cfg": false
  },
  "toc": {
   "base_numbering": 1,
   "nav_menu": {},
   "number_sections": false,
   "sideBar": true,
   "skip_h1_title": true,
   "title_cell": "Table of Contents",
   "title_sidebar": "Contents",
   "toc_cell": true,
   "toc_position": {},
   "toc_section_display": true,
   "toc_window_display": true
  }
 },
 "nbformat": 4,
 "nbformat_minor": 5
}
