{
 "cells": [
  {
   "cell_type": "markdown",
   "id": "7c03e834",
   "metadata": {
    "toc": true
   },
   "source": [
    "<h1>Table of Contents<span class=\"tocSkip\"></span></h1>\n",
    "<div class=\"toc\"><ul class=\"toc-item\"></ul></div>"
   ]
  },
  {
   "cell_type": "code",
   "execution_count": 1,
   "id": "26eebd50",
   "metadata": {},
   "outputs": [],
   "source": [
    "import numpy as np\n",
    "np.random.seed(7654567)\n",
    "x=np.random.normal(size=15,loc=-2,scale=2)"
   ]
  },
  {
   "cell_type": "code",
   "execution_count": 2,
   "id": "6a336c79",
   "metadata": {},
   "outputs": [
    {
     "data": {
      "text/plain": [
       "array([-3.89395351, -2.55250403, -2.39746865,  0.98703995, -2.8607237 ,\n",
       "       -1.39481847, -0.74237156, -4.63886095, -3.81258843, -2.89188048,\n",
       "       -1.50048335, -3.31429764, -3.28882943, -0.96256977, -2.0684448 ])"
      ]
     },
     "execution_count": 2,
     "metadata": {},
     "output_type": "execute_result"
    }
   ],
   "source": [
    "x"
   ]
  },
  {
   "cell_type": "code",
   "execution_count": 3,
   "id": "89adc765",
   "metadata": {},
   "outputs": [],
   "source": [
    "from scipy.stats import ttest_1samp"
   ]
  },
  {
   "cell_type": "code",
   "execution_count": 4,
   "id": "242aacbf",
   "metadata": {},
   "outputs": [],
   "source": [
    "test_mean=ttest_1samp(x, -2, alternative='two-sided')"
   ]
  },
  {
   "cell_type": "code",
   "execution_count": 5,
   "id": "0bd81261",
   "metadata": {},
   "outputs": [
    {
     "data": {
      "text/plain": [
       "-0.948081719359044"
      ]
     },
     "execution_count": 5,
     "metadata": {},
     "output_type": "execute_result"
    }
   ],
   "source": [
    "test_mean.statistic"
   ]
  },
  {
   "cell_type": "code",
   "execution_count": 6,
   "id": "1b72ea76",
   "metadata": {},
   "outputs": [
    {
     "data": {
      "text/plain": [
       "0.3591669622802579"
      ]
     },
     "execution_count": 6,
     "metadata": {},
     "output_type": "execute_result"
    }
   ],
   "source": [
    "test_mean.pvalue"
   ]
  },
  {
   "cell_type": "code",
   "execution_count": 7,
   "id": "e852d2a6",
   "metadata": {},
   "outputs": [],
   "source": [
    "m=x.mean()"
   ]
  },
  {
   "cell_type": "code",
   "execution_count": 8,
   "id": "431e4c2b",
   "metadata": {},
   "outputs": [
    {
     "data": {
      "text/plain": [
       "-2.3555169880044056"
      ]
     },
     "execution_count": 8,
     "metadata": {},
     "output_type": "execute_result"
    }
   ],
   "source": [
    "m"
   ]
  },
  {
   "cell_type": "code",
   "execution_count": 9,
   "id": "a96bcac9",
   "metadata": {},
   "outputs": [],
   "source": [
    "sd=x.std()"
   ]
  },
  {
   "cell_type": "code",
   "execution_count": 10,
   "id": "0f631b3a",
   "metadata": {},
   "outputs": [
    {
     "data": {
      "text/plain": [
       "1.403067622893954"
      ]
     },
     "execution_count": 10,
     "metadata": {},
     "output_type": "execute_result"
    }
   ],
   "source": [
    "sd"
   ]
  },
  {
   "cell_type": "code",
   "execution_count": 29,
   "id": "82f47b96",
   "metadata": {},
   "outputs": [],
   "source": [
    "z=((x-m)**2).round(3)"
   ]
  },
  {
   "cell_type": "code",
   "execution_count": 30,
   "id": "595b2004",
   "metadata": {},
   "outputs": [
    {
     "data": {
      "text/plain": [
       "array([2.3670e+00, 3.9000e-02, 2.0000e-03, 1.1173e+01, 2.5500e-01,\n",
       "       9.2300e-01, 2.6020e+00, 5.2140e+00, 2.1230e+00, 2.8800e-01,\n",
       "       7.3100e-01, 9.1900e-01, 8.7100e-01, 1.9400e+00, 8.2000e-02])"
      ]
     },
     "execution_count": 30,
     "metadata": {},
     "output_type": "execute_result"
    }
   ],
   "source": [
    "z"
   ]
  },
  {
   "cell_type": "code",
   "execution_count": 31,
   "id": "347bcdf9",
   "metadata": {},
   "outputs": [
    {
     "data": {
      "text/plain": [
       "2.367"
      ]
     },
     "execution_count": 31,
     "metadata": {},
     "output_type": "execute_result"
    }
   ],
   "source": [
    "((x[0]-m)*(x[0]-m)).round(3)"
   ]
  },
  {
   "cell_type": "code",
   "execution_count": 35,
   "id": "e15b27ce",
   "metadata": {},
   "outputs": [],
   "source": [
    "s1=z.sum()/(len(x)-1)"
   ]
  },
  {
   "cell_type": "code",
   "execution_count": 37,
   "id": "389625ca",
   "metadata": {},
   "outputs": [
    {
     "data": {
      "text/plain": [
       "0.7061466628203321"
      ]
     },
     "execution_count": 37,
     "metadata": {},
     "output_type": "execute_result"
    }
   ],
   "source": [
    "s1-sd"
   ]
  },
  {
   "cell_type": "code",
   "execution_count": null,
   "id": "353918b0",
   "metadata": {},
   "outputs": [],
   "source": []
  }
 ],
 "metadata": {
  "kernelspec": {
   "display_name": "Python 3 (ipykernel)",
   "language": "python",
   "name": "python3"
  },
  "language_info": {
   "codemirror_mode": {
    "name": "ipython",
    "version": 3
   },
   "file_extension": ".py",
   "mimetype": "text/x-python",
   "name": "python",
   "nbconvert_exporter": "python",
   "pygments_lexer": "ipython3",
   "version": "3.9.7"
  },
  "latex_envs": {
   "LaTeX_envs_menu_present": true,
   "autoclose": false,
   "autocomplete": true,
   "bibliofile": "biblio.bib",
   "cite_by": "apalike",
   "current_citInitial": 1,
   "eqLabelWithNumbers": true,
   "eqNumInitial": 1,
   "hotkeys": {
    "equation": "Ctrl-E",
    "itemize": "Ctrl-I"
   },
   "labels_anchors": false,
   "latex_user_defs": false,
   "report_style_numbering": false,
   "user_envs_cfg": false
  },
  "toc": {
   "base_numbering": 1,
   "nav_menu": {},
   "number_sections": true,
   "sideBar": true,
   "skip_h1_title": true,
   "title_cell": "Table of Contents",
   "title_sidebar": "Contents",
   "toc_cell": true,
   "toc_position": {},
   "toc_section_display": true,
   "toc_window_display": true
  }
 },
 "nbformat": 4,
 "nbformat_minor": 5
}
