{
 "cells": [
  {
   "cell_type": "markdown",
   "id": "d43c09e4",
   "metadata": {
    "toc": true
   },
   "source": [
    "<h1>Table of Contents<span class=\"tocSkip\"></span></h1>\n",
    "<div class=\"toc\"><ul class=\"toc-item\"><li><span><a href=\"#Exercise-1\" data-toc-modified-id=\"Exercise-1-1\">Exercise 1</a></span></li><li><span><a href=\"#Exercise-2\" data-toc-modified-id=\"Exercise-2-2\">Exercise 2</a></span></li><li><span><a href=\"#Exercise-3\" data-toc-modified-id=\"Exercise-3-3\">Exercise 3</a></span></li><li><span><a href=\"#COVID-Cases-by-Month\" data-toc-modified-id=\"COVID-Cases-by-Month-4\">COVID Cases by Month</a></span></li></ul></div>"
   ]
  },
  {
   "cell_type": "markdown",
   "id": "b04c3644",
   "metadata": {},
   "source": [
    "# Solution Practice Sheet 3"
   ]
  },
  {
   "cell_type": "markdown",
   "id": "5435c76b",
   "metadata": {},
   "source": [
    "##  Exercise 1 "
   ]
  },
  {
   "cell_type": "code",
   "execution_count": 1,
   "id": "6dfd3c4c",
   "metadata": {},
   "outputs": [],
   "source": [
    "import pandas as pd"
   ]
  },
  {
   "cell_type": "code",
   "execution_count": 2,
   "id": "7d95a9e5",
   "metadata": {},
   "outputs": [],
   "source": [
    "df=pd.read_csv(\"results.csv\")"
   ]
  },
  {
   "cell_type": "code",
   "execution_count": 3,
   "id": "0f316eb7",
   "metadata": {},
   "outputs": [
    {
     "data": {
      "text/html": [
       "<div>\n",
       "<style scoped>\n",
       "    .dataframe tbody tr th:only-of-type {\n",
       "        vertical-align: middle;\n",
       "    }\n",
       "\n",
       "    .dataframe tbody tr th {\n",
       "        vertical-align: top;\n",
       "    }\n",
       "\n",
       "    .dataframe thead th {\n",
       "        text-align: right;\n",
       "    }\n",
       "</style>\n",
       "<table border=\"1\" class=\"dataframe\">\n",
       "  <thead>\n",
       "    <tr style=\"text-align: right;\">\n",
       "      <th></th>\n",
       "      <th>date</th>\n",
       "      <th>home_team</th>\n",
       "      <th>away_team</th>\n",
       "      <th>home_score</th>\n",
       "      <th>away_score</th>\n",
       "      <th>tournament</th>\n",
       "      <th>city</th>\n",
       "      <th>country</th>\n",
       "      <th>neutral</th>\n",
       "    </tr>\n",
       "  </thead>\n",
       "  <tbody>\n",
       "    <tr>\n",
       "      <th>0</th>\n",
       "      <td>1872-11-30</td>\n",
       "      <td>Scotland</td>\n",
       "      <td>England</td>\n",
       "      <td>0</td>\n",
       "      <td>0</td>\n",
       "      <td>Friendly</td>\n",
       "      <td>Glasgow</td>\n",
       "      <td>Scotland</td>\n",
       "      <td>False</td>\n",
       "    </tr>\n",
       "    <tr>\n",
       "      <th>1</th>\n",
       "      <td>1873-03-08</td>\n",
       "      <td>England</td>\n",
       "      <td>Scotland</td>\n",
       "      <td>4</td>\n",
       "      <td>2</td>\n",
       "      <td>Friendly</td>\n",
       "      <td>London</td>\n",
       "      <td>England</td>\n",
       "      <td>False</td>\n",
       "    </tr>\n",
       "    <tr>\n",
       "      <th>2</th>\n",
       "      <td>1874-03-07</td>\n",
       "      <td>Scotland</td>\n",
       "      <td>England</td>\n",
       "      <td>2</td>\n",
       "      <td>1</td>\n",
       "      <td>Friendly</td>\n",
       "      <td>Glasgow</td>\n",
       "      <td>Scotland</td>\n",
       "      <td>False</td>\n",
       "    </tr>\n",
       "    <tr>\n",
       "      <th>3</th>\n",
       "      <td>1875-03-06</td>\n",
       "      <td>England</td>\n",
       "      <td>Scotland</td>\n",
       "      <td>2</td>\n",
       "      <td>2</td>\n",
       "      <td>Friendly</td>\n",
       "      <td>London</td>\n",
       "      <td>England</td>\n",
       "      <td>False</td>\n",
       "    </tr>\n",
       "  </tbody>\n",
       "</table>\n",
       "</div>"
      ],
      "text/plain": [
       "         date home_team away_team  home_score  away_score tournament     city  \\\n",
       "0  1872-11-30  Scotland   England           0           0   Friendly  Glasgow   \n",
       "1  1873-03-08   England  Scotland           4           2   Friendly   London   \n",
       "2  1874-03-07  Scotland   England           2           1   Friendly  Glasgow   \n",
       "3  1875-03-06   England  Scotland           2           2   Friendly   London   \n",
       "\n",
       "    country  neutral  \n",
       "0  Scotland    False  \n",
       "1   England    False  \n",
       "2  Scotland    False  \n",
       "3   England    False  "
      ]
     },
     "execution_count": 3,
     "metadata": {},
     "output_type": "execute_result"
    }
   ],
   "source": [
    "df.head(4)"
   ]
  },
  {
   "cell_type": "markdown",
   "id": "0f258615",
   "metadata": {},
   "source": [
    "Adding a column win/lose/tie column: We first create a list of conditions "
   ]
  },
  {
   "cell_type": "code",
   "execution_count": 4,
   "id": "a2c59146",
   "metadata": {},
   "outputs": [],
   "source": [
    "x=df['home_score']-df['away_score']\n",
    "conditions = [\n",
    "    (x<0),\n",
    "    (x>0),\n",
    "    (x==0)\n",
    "    ]"
   ]
  },
  {
   "cell_type": "code",
   "execution_count": 5,
   "id": "b272575c",
   "metadata": {},
   "outputs": [],
   "source": [
    "values= ['win','lose','draw']"
   ]
  },
  {
   "cell_type": "code",
   "execution_count": 6,
   "id": "be4c6d06",
   "metadata": {},
   "outputs": [],
   "source": [
    "import numpy as np"
   ]
  },
  {
   "cell_type": "code",
   "execution_count": 7,
   "id": "0abfd557",
   "metadata": {},
   "outputs": [],
   "source": [
    "df['result'] = np.select(conditions, values)"
   ]
  },
  {
   "cell_type": "code",
   "execution_count": 8,
   "id": "e9e96d31",
   "metadata": {},
   "outputs": [
    {
     "data": {
      "text/html": [
       "<div>\n",
       "<style scoped>\n",
       "    .dataframe tbody tr th:only-of-type {\n",
       "        vertical-align: middle;\n",
       "    }\n",
       "\n",
       "    .dataframe tbody tr th {\n",
       "        vertical-align: top;\n",
       "    }\n",
       "\n",
       "    .dataframe thead th {\n",
       "        text-align: right;\n",
       "    }\n",
       "</style>\n",
       "<table border=\"1\" class=\"dataframe\">\n",
       "  <thead>\n",
       "    <tr style=\"text-align: right;\">\n",
       "      <th></th>\n",
       "      <th>date</th>\n",
       "      <th>home_team</th>\n",
       "      <th>away_team</th>\n",
       "      <th>home_score</th>\n",
       "      <th>away_score</th>\n",
       "      <th>tournament</th>\n",
       "      <th>city</th>\n",
       "      <th>country</th>\n",
       "      <th>neutral</th>\n",
       "      <th>result</th>\n",
       "    </tr>\n",
       "  </thead>\n",
       "  <tbody>\n",
       "    <tr>\n",
       "      <th>0</th>\n",
       "      <td>1872-11-30</td>\n",
       "      <td>Scotland</td>\n",
       "      <td>England</td>\n",
       "      <td>0</td>\n",
       "      <td>0</td>\n",
       "      <td>Friendly</td>\n",
       "      <td>Glasgow</td>\n",
       "      <td>Scotland</td>\n",
       "      <td>False</td>\n",
       "      <td>draw</td>\n",
       "    </tr>\n",
       "    <tr>\n",
       "      <th>1</th>\n",
       "      <td>1873-03-08</td>\n",
       "      <td>England</td>\n",
       "      <td>Scotland</td>\n",
       "      <td>4</td>\n",
       "      <td>2</td>\n",
       "      <td>Friendly</td>\n",
       "      <td>London</td>\n",
       "      <td>England</td>\n",
       "      <td>False</td>\n",
       "      <td>lose</td>\n",
       "    </tr>\n",
       "    <tr>\n",
       "      <th>2</th>\n",
       "      <td>1874-03-07</td>\n",
       "      <td>Scotland</td>\n",
       "      <td>England</td>\n",
       "      <td>2</td>\n",
       "      <td>1</td>\n",
       "      <td>Friendly</td>\n",
       "      <td>Glasgow</td>\n",
       "      <td>Scotland</td>\n",
       "      <td>False</td>\n",
       "      <td>lose</td>\n",
       "    </tr>\n",
       "  </tbody>\n",
       "</table>\n",
       "</div>"
      ],
      "text/plain": [
       "         date home_team away_team  home_score  away_score tournament     city  \\\n",
       "0  1872-11-30  Scotland   England           0           0   Friendly  Glasgow   \n",
       "1  1873-03-08   England  Scotland           4           2   Friendly   London   \n",
       "2  1874-03-07  Scotland   England           2           1   Friendly  Glasgow   \n",
       "\n",
       "    country  neutral result  \n",
       "0  Scotland    False   draw  \n",
       "1   England    False   lose  \n",
       "2  Scotland    False   lose  "
      ]
     },
     "execution_count": 8,
     "metadata": {},
     "output_type": "execute_result"
    }
   ],
   "source": [
    "df.head(3)"
   ]
  },
  {
   "cell_type": "code",
   "execution_count": 9,
   "id": "b21a2030",
   "metadata": {},
   "outputs": [
    {
     "data": {
      "text/plain": [
       "lose    21009\n",
       "win     12224\n",
       "draw     9955\n",
       "Name: result, dtype: int64"
      ]
     },
     "execution_count": 9,
     "metadata": {},
     "output_type": "execute_result"
    }
   ],
   "source": [
    "df['result'].value_counts()"
   ]
  },
  {
   "cell_type": "code",
   "execution_count": 10,
   "id": "ff3674cc",
   "metadata": {},
   "outputs": [
    {
     "data": {
      "text/plain": [
       "lose    0.486455\n",
       "win     0.283042\n",
       "draw    0.230504\n",
       "Name: result, dtype: float64"
      ]
     },
     "execution_count": 10,
     "metadata": {},
     "output_type": "execute_result"
    }
   ],
   "source": [
    "df['result'].value_counts(normalize=True)"
   ]
  },
  {
   "cell_type": "code",
   "execution_count": 11,
   "id": "90a2b616",
   "metadata": {},
   "outputs": [],
   "source": [
    "x=df['result'].value_counts()"
   ]
  },
  {
   "cell_type": "code",
   "execution_count": 12,
   "id": "49fd1f2d",
   "metadata": {},
   "outputs": [],
   "source": [
    "x=np.array(x)"
   ]
  },
  {
   "cell_type": "code",
   "execution_count": 13,
   "id": "82c2dc1f",
   "metadata": {},
   "outputs": [
    {
     "data": {
      "text/plain": [
       "array([21009, 12224,  9955], dtype=int64)"
      ]
     },
     "execution_count": 13,
     "metadata": {},
     "output_type": "execute_result"
    }
   ],
   "source": [
    "x"
   ]
  },
  {
   "cell_type": "code",
   "execution_count": 14,
   "id": "eea69cad",
   "metadata": {},
   "outputs": [],
   "source": [
    "N=x.sum()"
   ]
  },
  {
   "cell_type": "code",
   "execution_count": 15,
   "id": "6d8f2dbc",
   "metadata": {},
   "outputs": [
    {
     "data": {
      "text/plain": [
       "43188"
      ]
     },
     "execution_count": 15,
     "metadata": {},
     "output_type": "execute_result"
    }
   ],
   "source": [
    "N"
   ]
  },
  {
   "cell_type": "code",
   "execution_count": 16,
   "id": "ea8c7ed5",
   "metadata": {},
   "outputs": [],
   "source": [
    "import statsmodels.api as sm\n",
    "from statsmodels.stats.proportion import proportion_confint"
   ]
  },
  {
   "cell_type": "code",
   "execution_count": 17,
   "id": "50f1398f",
   "metadata": {},
   "outputs": [],
   "source": [
    "CI_win=proportion_confint(count=x[1],nobs=N,alpha=(1-.95))"
   ]
  },
  {
   "cell_type": "code",
   "execution_count": 18,
   "id": "caf1ccd8",
   "metadata": {},
   "outputs": [
    {
     "data": {
      "text/plain": [
       "(0.27879305599044235, 0.28729011526083115)"
      ]
     },
     "execution_count": 18,
     "metadata": {},
     "output_type": "execute_result"
    }
   ],
   "source": [
    "CI_win"
   ]
  },
  {
   "cell_type": "code",
   "execution_count": 19,
   "id": "07ed4303",
   "metadata": {},
   "outputs": [],
   "source": [
    "CI_lose=proportion_confint(count=x[0],nobs=N,alpha=(1-.95))"
   ]
  },
  {
   "cell_type": "code",
   "execution_count": 20,
   "id": "15d0340e",
   "metadata": {},
   "outputs": [
    {
     "data": {
      "text/plain": [
       "(0.481740705905987, 0.49116843552218753)"
      ]
     },
     "execution_count": 20,
     "metadata": {},
     "output_type": "execute_result"
    }
   ],
   "source": [
    "CI_lose"
   ]
  },
  {
   "cell_type": "code",
   "execution_count": 21,
   "id": "02c70c5a",
   "metadata": {},
   "outputs": [],
   "source": [
    "CI_draw=proportion_confint(count=x[2],nobs=N,alpha=(1-.95))"
   ]
  },
  {
   "cell_type": "code",
   "execution_count": 22,
   "id": "a632d992",
   "metadata": {},
   "outputs": [
    {
     "data": {
      "text/plain": [
       "(0.2265318471530234, 0.23447584016752862)"
      ]
     },
     "execution_count": 22,
     "metadata": {},
     "output_type": "execute_result"
    }
   ],
   "source": [
    "CI_draw"
   ]
  },
  {
   "cell_type": "code",
   "execution_count": 23,
   "id": "5cc63253",
   "metadata": {},
   "outputs": [
    {
     "data": {
      "text/plain": [
       "array(['Scotland', 'England', 'Wales', 'Ireland', 'United States',\n",
       "       'Uruguay', 'Austria', 'Hungary', 'Argentina', 'Belgium', 'France',\n",
       "       'Netherlands', 'Bohemia', 'Switzerland', 'Sweden', 'Germany',\n",
       "       'Italy', 'Chile', 'Norway', 'Finland', 'Luxembourg', 'Russia',\n",
       "       'Denmark', 'Spain', 'Japan', 'Brazil', 'Paraguay', 'China PR',\n",
       "       'Canada', 'Estonia', 'Guatemala', 'Czechoslovakia', 'Poland',\n",
       "       'Yugoslavia', 'New Zealand', 'Romania', 'Latvia', 'Portugal',\n",
       "       'Northern Ireland', 'Australia', 'Lithuania', 'Turkey', 'Mexico',\n",
       "       'Aruba', 'Soviet Union', 'Haiti', 'Philippines', 'Bulgaria',\n",
       "       'Jamaica', 'Kenya', 'Czech Republic', 'Peru', 'Honduras',\n",
       "       'British Guyana', 'Uganda', 'El Salvador', 'Barbados',\n",
       "       'Irish Free State', 'Trinidad and Tobago', 'Greece', 'Curaçao',\n",
       "       'Egypt', 'Dominica', 'Guadeloupe', 'Palestine',\n",
       "       'Netherlands Guyana', 'French Guiana', 'Cuba', 'Colombia',\n",
       "       'Saint Kitts and Nevis', 'Éire', 'Panama', 'Bohemia and Moravia',\n",
       "       'Slovakia', 'Manchuria', 'Croatia', 'Costa Rica', 'Afghanistan',\n",
       "       'Martinique', 'Southern Rhodesia', 'Iceland', 'Albania',\n",
       "       'Madagascar', 'Northern Rhodesia', 'Tanganyika', 'Iran', 'Ecuador',\n",
       "       'French Somaliland', 'Belgian Congo', 'Mauritius', 'Hong Kong',\n",
       "       'Vietnam', 'Macau', 'Republic of Ireland', 'Ethiopia', 'Suriname',\n",
       "       'Puerto Rico', 'Réunion', 'Israel', 'Sierra Leone', 'Zanzibar',\n",
       "       'Bolivia', 'Gold Coast', 'South Africa', 'Netherlands Antilles',\n",
       "       'New Caledonia', 'Fiji', 'Nigeria', 'Venezuela', 'Ceylon',\n",
       "       'French Polynesia', 'Gambia', 'Singapore', 'Portuguese Guinea',\n",
       "       'German DR', 'New Hebrides', 'Burma', 'Saarland', 'Cambodia',\n",
       "       'India', 'Lebanon', 'Pakistan', 'Malaya', 'South Korea',\n",
       "       'Vietnam Republic', 'Togo', 'Indonesia', 'Sudan', 'Malta', 'Syria',\n",
       "       'Tunisia', 'Nyasaland', 'Ghana', 'Morocco', 'United Arab Republic',\n",
       "       'North Korea', 'Dahomey', 'Guinea-Bissau', 'Mali Federation',\n",
       "       'Mali', 'Vietnam DR', 'Cyprus', 'Iraq', 'Saint Lucia', 'Senegal',\n",
       "       'Libya', 'Gabon', 'Thailand', 'Congo', 'Tanzania', 'Grenada',\n",
       "       'Guinea', 'Central African Republic', 'Cameroon', 'Algeria',\n",
       "       'Kuwait', 'Ivory Coast', 'Lautoka', 'Liberia', 'Malaysia',\n",
       "       'Jordan', 'Zambia', 'Saint Vincent and the Grenadines', 'Bermuda',\n",
       "       'Niger', 'Malawi', 'DR Congo', 'Upper Volta', 'Taiwan', 'Guyana',\n",
       "       'Mauritania', 'Rhodesia', 'Saudi Arabia', 'Eswatini', 'Mozambique',\n",
       "       'Papua New Guinea', 'Bahrain', 'Lesotho', 'Somalia', 'Zaïre',\n",
       "       'Sri Lanka', 'Antigua and Barbuda', 'Faroe Islands', 'Qatar',\n",
       "       'Yemen DPR', 'Burundi', 'Guam', 'Chad', 'Angola',\n",
       "       'Dominican Republic', 'Seychelles', 'São Tomé and Príncipe',\n",
       "       'Botswana', 'Benin', 'Rwanda', 'Bangladesh',\n",
       "       'United Arab Emirates', 'Zimbabwe', 'Oman', 'Equatorial Guinea',\n",
       "       'Cape Verde', 'Liechtenstein', 'Nepal', 'Greenland', 'Vanuatu',\n",
       "       'Western Samoa', 'Belize', 'Brunei', 'Djibouti', 'Burkina Faso',\n",
       "       'Yemen AR', 'Anguilla', 'Nicaragua', 'Cayman Islands', 'Monaco',\n",
       "       'Solomon Islands', 'Sint Maarten', 'Namibia', 'Saint Martin',\n",
       "       'San Marino', 'Slovenia', 'Moldova', 'Ukraine', 'Kazakhstan',\n",
       "       'Tajikistan', 'Uzbekistan', 'Turkmenistan', 'Georgia',\n",
       "       'Kyrgyzstan', 'Armenia', 'Belarus', 'Guernsey', 'Azerbaijan',\n",
       "       'North Macedonia', 'Jersey', 'Montserrat', 'Gibraltar', 'Myanmar',\n",
       "       'Bosnia and Herzegovina', 'Tonga', 'Andorra', 'Yemen',\n",
       "       'United States Virgin Islands', 'Palau', 'Cook Islands',\n",
       "       'British Virgin Islands', 'Eritrea', 'Bahamas', 'Micronesia',\n",
       "       'Maldives', 'Laos', 'Isle of Man', 'Samoa', 'Bhutan',\n",
       "       'Serbia and Montenegro', 'Mayotte', 'Mongolia', 'Northern Cyprus',\n",
       "       'Serbia', 'Montenegro', 'Northern Mariana Islands', 'Comoros',\n",
       "       'Turks and Caicos Islands', 'South Sudan', 'Kosovo', 'East Timor',\n",
       "       'Tahiti'], dtype=object)"
      ]
     },
     "execution_count": 23,
     "metadata": {},
     "output_type": "execute_result"
    }
   ],
   "source": [
    "df['country'].unique()"
   ]
  },
  {
   "cell_type": "code",
   "execution_count": 24,
   "id": "40171e12",
   "metadata": {},
   "outputs": [],
   "source": [
    "dfegy=df[df['country']=='Egypt']"
   ]
  },
  {
   "cell_type": "code",
   "execution_count": 25,
   "id": "dd7dba7d",
   "metadata": {},
   "outputs": [
    {
     "data": {
      "text/html": [
       "<div>\n",
       "<style scoped>\n",
       "    .dataframe tbody tr th:only-of-type {\n",
       "        vertical-align: middle;\n",
       "    }\n",
       "\n",
       "    .dataframe tbody tr th {\n",
       "        vertical-align: top;\n",
       "    }\n",
       "\n",
       "    .dataframe thead th {\n",
       "        text-align: right;\n",
       "    }\n",
       "</style>\n",
       "<table border=\"1\" class=\"dataframe\">\n",
       "  <thead>\n",
       "    <tr style=\"text-align: right;\">\n",
       "      <th></th>\n",
       "      <th>date</th>\n",
       "      <th>home_team</th>\n",
       "      <th>away_team</th>\n",
       "      <th>home_score</th>\n",
       "      <th>away_score</th>\n",
       "      <th>tournament</th>\n",
       "      <th>city</th>\n",
       "      <th>country</th>\n",
       "      <th>neutral</th>\n",
       "      <th>result</th>\n",
       "    </tr>\n",
       "  </thead>\n",
       "  <tbody>\n",
       "    <tr>\n",
       "      <th>1463</th>\n",
       "      <td>2/19/1932</td>\n",
       "      <td>Egypt</td>\n",
       "      <td>Hungary</td>\n",
       "      <td>0</td>\n",
       "      <td>0</td>\n",
       "      <td>Friendly</td>\n",
       "      <td>Cairo</td>\n",
       "      <td>Egypt</td>\n",
       "      <td>False</td>\n",
       "      <td>draw</td>\n",
       "    </tr>\n",
       "    <tr>\n",
       "      <th>1661</th>\n",
       "      <td>3/16/1934</td>\n",
       "      <td>Egypt</td>\n",
       "      <td>Israel</td>\n",
       "      <td>7</td>\n",
       "      <td>1</td>\n",
       "      <td>FIFA World Cup qualification</td>\n",
       "      <td>Cairo</td>\n",
       "      <td>Egypt</td>\n",
       "      <td>False</td>\n",
       "      <td>lose</td>\n",
       "    </tr>\n",
       "    <tr>\n",
       "      <th>1895</th>\n",
       "      <td>6/19/1936</td>\n",
       "      <td>Egypt</td>\n",
       "      <td>Greece</td>\n",
       "      <td>3</td>\n",
       "      <td>1</td>\n",
       "      <td>Friendly</td>\n",
       "      <td>Cairo</td>\n",
       "      <td>Egypt</td>\n",
       "      <td>False</td>\n",
       "      <td>lose</td>\n",
       "    </tr>\n",
       "    <tr>\n",
       "      <th>2927</th>\n",
       "      <td>12/24/1948</td>\n",
       "      <td>Egypt</td>\n",
       "      <td>Norway</td>\n",
       "      <td>1</td>\n",
       "      <td>1</td>\n",
       "      <td>Friendly</td>\n",
       "      <td>Cairo</td>\n",
       "      <td>Egypt</td>\n",
       "      <td>False</td>\n",
       "      <td>draw</td>\n",
       "    </tr>\n",
       "    <tr>\n",
       "      <th>3080</th>\n",
       "      <td>2/17/1950</td>\n",
       "      <td>Egypt</td>\n",
       "      <td>Greece</td>\n",
       "      <td>2</td>\n",
       "      <td>0</td>\n",
       "      <td>Friendly</td>\n",
       "      <td>Cairo</td>\n",
       "      <td>Egypt</td>\n",
       "      <td>False</td>\n",
       "      <td>lose</td>\n",
       "    </tr>\n",
       "  </tbody>\n",
       "</table>\n",
       "</div>"
      ],
      "text/plain": [
       "            date home_team away_team  home_score  away_score  \\\n",
       "1463   2/19/1932     Egypt   Hungary           0           0   \n",
       "1661   3/16/1934     Egypt    Israel           7           1   \n",
       "1895   6/19/1936     Egypt    Greece           3           1   \n",
       "2927  12/24/1948     Egypt    Norway           1           1   \n",
       "3080   2/17/1950     Egypt    Greece           2           0   \n",
       "\n",
       "                        tournament   city country  neutral result  \n",
       "1463                      Friendly  Cairo   Egypt    False   draw  \n",
       "1661  FIFA World Cup qualification  Cairo   Egypt    False   lose  \n",
       "1895                      Friendly  Cairo   Egypt    False   lose  \n",
       "2927                      Friendly  Cairo   Egypt    False   draw  \n",
       "3080                      Friendly  Cairo   Egypt    False   lose  "
      ]
     },
     "execution_count": 25,
     "metadata": {},
     "output_type": "execute_result"
    }
   ],
   "source": [
    "dfegy.head()"
   ]
  },
  {
   "cell_type": "markdown",
   "id": "d73ff657",
   "metadata": {},
   "source": [
    "Create a variable type of the match  `friendly/No friendly` and `home/away` match"
   ]
  },
  {
   "cell_type": "code",
   "execution_count": 26,
   "id": "8dd582a4",
   "metadata": {},
   "outputs": [],
   "source": [
    "conditions = [\n",
    "    (dfegy['tournament']=='Friendly'),\n",
    "    (dfegy['tournament']!='Friendly')\n",
    "    ]"
   ]
  },
  {
   "cell_type": "code",
   "execution_count": 27,
   "id": "e71c98f8",
   "metadata": {},
   "outputs": [],
   "source": [
    "values=['Friendly','Official']"
   ]
  },
  {
   "cell_type": "code",
   "execution_count": 28,
   "id": "489e18e3",
   "metadata": {},
   "outputs": [
    {
     "name": "stderr",
     "output_type": "stream",
     "text": [
      "C:\\Users\\dhafe\\AppData\\Local\\Temp/ipykernel_27880/2597929672.py:1: SettingWithCopyWarning: \n",
      "A value is trying to be set on a copy of a slice from a DataFrame.\n",
      "Try using .loc[row_indexer,col_indexer] = value instead\n",
      "\n",
      "See the caveats in the documentation: https://pandas.pydata.org/pandas-docs/stable/user_guide/indexing.html#returning-a-view-versus-a-copy\n",
      "  dfegy['typematch'] = np.select(conditions, values)\n"
     ]
    }
   ],
   "source": [
    "dfegy['typematch'] = np.select(conditions, values)"
   ]
  },
  {
   "cell_type": "code",
   "execution_count": 29,
   "id": "585d2d5b",
   "metadata": {},
   "outputs": [
    {
     "data": {
      "text/plain": [
       "Official    226\n",
       "Friendly    181\n",
       "Name: typematch, dtype: int64"
      ]
     },
     "execution_count": 29,
     "metadata": {},
     "output_type": "execute_result"
    }
   ],
   "source": [
    "dfegy['typematch'].value_counts()"
   ]
  },
  {
   "cell_type": "markdown",
   "id": "0dc6b058",
   "metadata": {},
   "source": [
    "Comparing the probability of win/lose/draw by type of match "
   ]
  },
  {
   "cell_type": "code",
   "execution_count": 30,
   "id": "38e45dbf",
   "metadata": {},
   "outputs": [
    {
     "data": {
      "text/html": [
       "<div>\n",
       "<style scoped>\n",
       "    .dataframe tbody tr th:only-of-type {\n",
       "        vertical-align: middle;\n",
       "    }\n",
       "\n",
       "    .dataframe tbody tr th {\n",
       "        vertical-align: top;\n",
       "    }\n",
       "\n",
       "    .dataframe thead th {\n",
       "        text-align: right;\n",
       "    }\n",
       "</style>\n",
       "<table border=\"1\" class=\"dataframe\">\n",
       "  <thead>\n",
       "    <tr style=\"text-align: right;\">\n",
       "      <th>result</th>\n",
       "      <th>draw</th>\n",
       "      <th>lose</th>\n",
       "      <th>win</th>\n",
       "      <th>All</th>\n",
       "    </tr>\n",
       "    <tr>\n",
       "      <th>typematch</th>\n",
       "      <th></th>\n",
       "      <th></th>\n",
       "      <th></th>\n",
       "      <th></th>\n",
       "    </tr>\n",
       "  </thead>\n",
       "  <tbody>\n",
       "    <tr>\n",
       "      <th>Friendly</th>\n",
       "      <td>37</td>\n",
       "      <td>99</td>\n",
       "      <td>45</td>\n",
       "      <td>181</td>\n",
       "    </tr>\n",
       "    <tr>\n",
       "      <th>Official</th>\n",
       "      <td>40</td>\n",
       "      <td>139</td>\n",
       "      <td>47</td>\n",
       "      <td>226</td>\n",
       "    </tr>\n",
       "    <tr>\n",
       "      <th>All</th>\n",
       "      <td>77</td>\n",
       "      <td>238</td>\n",
       "      <td>92</td>\n",
       "      <td>407</td>\n",
       "    </tr>\n",
       "  </tbody>\n",
       "</table>\n",
       "</div>"
      ],
      "text/plain": [
       "result     draw  lose  win  All\n",
       "typematch                      \n",
       "Friendly     37    99   45  181\n",
       "Official     40   139   47  226\n",
       "All          77   238   92  407"
      ]
     },
     "execution_count": 30,
     "metadata": {},
     "output_type": "execute_result"
    }
   ],
   "source": [
    "x=pd.crosstab(dfegy['typematch'],dfegy['result'],margins=True)\n",
    "x"
   ]
  },
  {
   "cell_type": "code",
   "execution_count": 31,
   "id": "a944b620",
   "metadata": {},
   "outputs": [
    {
     "data": {
      "text/plain": [
       "array([[ 37,  99,  45, 181],\n",
       "       [ 40, 139,  47, 226],\n",
       "       [ 77, 238,  92, 407]], dtype=int64)"
      ]
     },
     "execution_count": 31,
     "metadata": {},
     "output_type": "execute_result"
    }
   ],
   "source": [
    "x=np.array(x)\n",
    "x"
   ]
  },
  {
   "cell_type": "code",
   "execution_count": 32,
   "id": "04b11481",
   "metadata": {},
   "outputs": [
    {
     "data": {
      "text/plain": [
       "(0.1856528084886489, 0.3115847605721246)"
      ]
     },
     "execution_count": 32,
     "metadata": {},
     "output_type": "execute_result"
    }
   ],
   "source": [
    "CI_egywin_friendly=proportion_confint(count=x[0,2],nobs=x[0,3],alpha=(1-.95))\n",
    "CI_egywin_friendly\n",
    "                                                          "
   ]
  },
  {
   "cell_type": "code",
   "execution_count": 33,
   "id": "b12f836b",
   "metadata": {},
   "outputs": [
    {
     "data": {
      "text/plain": [
       "(0.1550517855722795, 0.2608774179675435)"
      ]
     },
     "execution_count": 33,
     "metadata": {},
     "output_type": "execute_result"
    }
   ],
   "source": [
    "CI_egywin_official=proportion_confint(count=x[1,2],nobs=x[1,3],alpha=(1-.95))\n",
    "CI_egywin_official"
   ]
  },
  {
   "cell_type": "markdown",
   "id": "69e2f933",
   "metadata": {},
   "source": [
    "Plotting the Confidence intervals "
   ]
  },
  {
   "cell_type": "code",
   "execution_count": 34,
   "id": "d00232ab",
   "metadata": {},
   "outputs": [
    {
     "data": {
      "text/html": [
       "<div>\n",
       "<style scoped>\n",
       "    .dataframe tbody tr th:only-of-type {\n",
       "        vertical-align: middle;\n",
       "    }\n",
       "\n",
       "    .dataframe tbody tr th {\n",
       "        vertical-align: top;\n",
       "    }\n",
       "\n",
       "    .dataframe thead th {\n",
       "        text-align: right;\n",
       "    }\n",
       "</style>\n",
       "<table border=\"1\" class=\"dataframe\">\n",
       "  <thead>\n",
       "    <tr style=\"text-align: right;\">\n",
       "      <th></th>\n",
       "      <th>Typematch</th>\n",
       "      <th>lb</th>\n",
       "      <th>ub</th>\n",
       "    </tr>\n",
       "  </thead>\n",
       "  <tbody>\n",
       "    <tr>\n",
       "      <th>0</th>\n",
       "      <td>Friendly</td>\n",
       "      <td>0.185653</td>\n",
       "      <td>0.311585</td>\n",
       "    </tr>\n",
       "    <tr>\n",
       "      <th>1</th>\n",
       "      <td>Official</td>\n",
       "      <td>0.155052</td>\n",
       "      <td>0.260877</td>\n",
       "    </tr>\n",
       "  </tbody>\n",
       "</table>\n",
       "</div>"
      ],
      "text/plain": [
       "  Typematch        lb        ub\n",
       "0  Friendly  0.185653  0.311585\n",
       "1  Official  0.155052  0.260877"
      ]
     },
     "execution_count": 34,
     "metadata": {},
     "output_type": "execute_result"
    }
   ],
   "source": [
    "ci_egywin = {}\n",
    "ci_egywin['Typematch'] = ['Friendly','Official']\n",
    "ci_egywin['lb'] = [CI_egywin_friendly[0],CI_egywin_official[0]]\n",
    "ci_egywin['ub'] = [CI_egywin_friendly[1],CI_egywin_official[1]]\n",
    "df_ci= pd.DataFrame(ci_egywin)\n",
    "df_ci"
   ]
  },
  {
   "cell_type": "code",
   "execution_count": 35,
   "id": "91240480",
   "metadata": {},
   "outputs": [
    {
     "data": {
      "text/plain": [
       "([<matplotlib.axis.YTick at 0x1c1ef702310>,\n",
       "  <matplotlib.axis.YTick at 0x1c1ef6ec790>],\n",
       " [Text(0, 0, 'Friendly'), Text(0, 1, 'Official')])"
      ]
     },
     "execution_count": 35,
     "metadata": {},
     "output_type": "execute_result"
    },
    {
     "data": {
      "image/png": "[encoded data removed]",
      "text/plain": [
       "<Figure size 432x288 with 1 Axes>"
      ]
     },
     "metadata": {
      "needs_background": "light"
     },
     "output_type": "display_data"
    }
   ],
   "source": [
    "import matplotlib.pyplot as plt\n",
    "for lb,ub,y in zip(df_ci['lb'],df_ci['ub'],range(len(df_ci))):\n",
    "    plt.plot((lb,ub),(y,y),'ro-')\n",
    "plt.yticks(range(len(df_ci)),list(df_ci['Typematch']))"
   ]
  },
  {
   "cell_type": "markdown",
   "id": "9d6f0e83",
   "metadata": {},
   "source": [
    "Let's now check out the impact of fans on the match results. We will compare the probability of winning between home matches and away matches."
   ]
  },
  {
   "cell_type": "code",
   "execution_count": 36,
   "id": "a2781059",
   "metadata": {},
   "outputs": [
    {
     "name": "stderr",
     "output_type": "stream",
     "text": [
      "C:\\Users\\dhafe\\AppData\\Local\\Temp/ipykernel_27880/2175071764.py:1: SettingWithCopyWarning: \n",
      "A value is trying to be set on a copy of a slice from a DataFrame.\n",
      "Try using .loc[row_indexer,col_indexer] = value instead\n",
      "\n",
      "See the caveats in the documentation: https://pandas.pydata.org/pandas-docs/stable/user_guide/indexing.html#returning-a-view-versus-a-copy\n",
      "  dfegy['home']=(dfegy['home_team']=='Egypt')\n"
     ]
    }
   ],
   "source": [
    "dfegy['home']=(dfegy['home_team']=='Egypt')"
   ]
  },
  {
   "cell_type": "code",
   "execution_count": 37,
   "id": "4089b6e8",
   "metadata": {},
   "outputs": [
    {
     "data": {
      "text/plain": [
       "True     258\n",
       "False    149\n",
       "Name: home, dtype: int64"
      ]
     },
     "execution_count": 37,
     "metadata": {},
     "output_type": "execute_result"
    }
   ],
   "source": [
    "dfegy['home'].value_counts()"
   ]
  },
  {
   "cell_type": "code",
   "execution_count": 38,
   "id": "520e2851",
   "metadata": {},
   "outputs": [
    {
     "data": {
      "text/html": [
       "<div>\n",
       "<style scoped>\n",
       "    .dataframe tbody tr th:only-of-type {\n",
       "        vertical-align: middle;\n",
       "    }\n",
       "\n",
       "    .dataframe tbody tr th {\n",
       "        vertical-align: top;\n",
       "    }\n",
       "\n",
       "    .dataframe thead th {\n",
       "        text-align: right;\n",
       "    }\n",
       "</style>\n",
       "<table border=\"1\" class=\"dataframe\">\n",
       "  <thead>\n",
       "    <tr style=\"text-align: right;\">\n",
       "      <th>result</th>\n",
       "      <th>draw</th>\n",
       "      <th>lose</th>\n",
       "      <th>win</th>\n",
       "      <th>All</th>\n",
       "    </tr>\n",
       "    <tr>\n",
       "      <th>home</th>\n",
       "      <th></th>\n",
       "      <th></th>\n",
       "      <th></th>\n",
       "      <th></th>\n",
       "    </tr>\n",
       "  </thead>\n",
       "  <tbody>\n",
       "    <tr>\n",
       "      <th>False</th>\n",
       "      <td>33</td>\n",
       "      <td>67</td>\n",
       "      <td>49</td>\n",
       "      <td>149</td>\n",
       "    </tr>\n",
       "    <tr>\n",
       "      <th>True</th>\n",
       "      <td>44</td>\n",
       "      <td>171</td>\n",
       "      <td>43</td>\n",
       "      <td>258</td>\n",
       "    </tr>\n",
       "    <tr>\n",
       "      <th>All</th>\n",
       "      <td>77</td>\n",
       "      <td>238</td>\n",
       "      <td>92</td>\n",
       "      <td>407</td>\n",
       "    </tr>\n",
       "  </tbody>\n",
       "</table>\n",
       "</div>"
      ],
      "text/plain": [
       "result  draw  lose  win  All\n",
       "home                        \n",
       "False     33    67   49  149\n",
       "True      44   171   43  258\n",
       "All       77   238   92  407"
      ]
     },
     "execution_count": 38,
     "metadata": {},
     "output_type": "execute_result"
    }
   ],
   "source": [
    "x=pd.crosstab(dfegy['home'],dfegy['result'],margins=True)\n",
    "x"
   ]
  },
  {
   "cell_type": "code",
   "execution_count": 39,
   "id": "e97f5af4",
   "metadata": {
    "scrolled": true
   },
   "outputs": [
    {
     "data": {
      "text/html": [
       "<div>\n",
       "<style scoped>\n",
       "    .dataframe tbody tr th:only-of-type {\n",
       "        vertical-align: middle;\n",
       "    }\n",
       "\n",
       "    .dataframe tbody tr th {\n",
       "        vertical-align: top;\n",
       "    }\n",
       "\n",
       "    .dataframe thead th {\n",
       "        text-align: right;\n",
       "    }\n",
       "</style>\n",
       "<table border=\"1\" class=\"dataframe\">\n",
       "  <thead>\n",
       "    <tr style=\"text-align: right;\">\n",
       "      <th></th>\n",
       "      <th>date</th>\n",
       "      <th>home_team</th>\n",
       "      <th>away_team</th>\n",
       "      <th>home_score</th>\n",
       "      <th>away_score</th>\n",
       "      <th>tournament</th>\n",
       "      <th>city</th>\n",
       "      <th>country</th>\n",
       "      <th>neutral</th>\n",
       "      <th>result</th>\n",
       "      <th>typematch</th>\n",
       "      <th>home</th>\n",
       "    </tr>\n",
       "  </thead>\n",
       "  <tbody>\n",
       "    <tr>\n",
       "      <th>1463</th>\n",
       "      <td>2/19/1932</td>\n",
       "      <td>Egypt</td>\n",
       "      <td>Hungary</td>\n",
       "      <td>0</td>\n",
       "      <td>0</td>\n",
       "      <td>Friendly</td>\n",
       "      <td>Cairo</td>\n",
       "      <td>Egypt</td>\n",
       "      <td>False</td>\n",
       "      <td>draw</td>\n",
       "      <td>Friendly</td>\n",
       "      <td>True</td>\n",
       "    </tr>\n",
       "    <tr>\n",
       "      <th>1661</th>\n",
       "      <td>3/16/1934</td>\n",
       "      <td>Egypt</td>\n",
       "      <td>Israel</td>\n",
       "      <td>7</td>\n",
       "      <td>1</td>\n",
       "      <td>FIFA World Cup qualification</td>\n",
       "      <td>Cairo</td>\n",
       "      <td>Egypt</td>\n",
       "      <td>False</td>\n",
       "      <td>lose</td>\n",
       "      <td>Official</td>\n",
       "      <td>True</td>\n",
       "    </tr>\n",
       "    <tr>\n",
       "      <th>1895</th>\n",
       "      <td>6/19/1936</td>\n",
       "      <td>Egypt</td>\n",
       "      <td>Greece</td>\n",
       "      <td>3</td>\n",
       "      <td>1</td>\n",
       "      <td>Friendly</td>\n",
       "      <td>Cairo</td>\n",
       "      <td>Egypt</td>\n",
       "      <td>False</td>\n",
       "      <td>lose</td>\n",
       "      <td>Friendly</td>\n",
       "      <td>True</td>\n",
       "    </tr>\n",
       "    <tr>\n",
       "      <th>2927</th>\n",
       "      <td>12/24/1948</td>\n",
       "      <td>Egypt</td>\n",
       "      <td>Norway</td>\n",
       "      <td>1</td>\n",
       "      <td>1</td>\n",
       "      <td>Friendly</td>\n",
       "      <td>Cairo</td>\n",
       "      <td>Egypt</td>\n",
       "      <td>False</td>\n",
       "      <td>draw</td>\n",
       "      <td>Friendly</td>\n",
       "      <td>True</td>\n",
       "    </tr>\n",
       "  </tbody>\n",
       "</table>\n",
       "</div>"
      ],
      "text/plain": [
       "            date home_team away_team  home_score  away_score  \\\n",
       "1463   2/19/1932     Egypt   Hungary           0           0   \n",
       "1661   3/16/1934     Egypt    Israel           7           1   \n",
       "1895   6/19/1936     Egypt    Greece           3           1   \n",
       "2927  12/24/1948     Egypt    Norway           1           1   \n",
       "\n",
       "                        tournament   city country  neutral result typematch  \\\n",
       "1463                      Friendly  Cairo   Egypt    False   draw  Friendly   \n",
       "1661  FIFA World Cup qualification  Cairo   Egypt    False   lose  Official   \n",
       "1895                      Friendly  Cairo   Egypt    False   lose  Friendly   \n",
       "2927                      Friendly  Cairo   Egypt    False   draw  Friendly   \n",
       "\n",
       "      home  \n",
       "1463  True  \n",
       "1661  True  \n",
       "1895  True  \n",
       "2927  True  "
      ]
     },
     "execution_count": 39,
     "metadata": {},
     "output_type": "execute_result"
    }
   ],
   "source": [
    "dfegy.head(4)"
   ]
  },
  {
   "cell_type": "code",
   "execution_count": 40,
   "id": "2caf859e",
   "metadata": {},
   "outputs": [
    {
     "data": {
      "text/plain": [
       "array([[ 33,  67,  49, 149],\n",
       "       [ 44, 171,  43, 258],\n",
       "       [ 77, 238,  92, 407]], dtype=int64)"
      ]
     },
     "execution_count": 40,
     "metadata": {},
     "output_type": "execute_result"
    }
   ],
   "source": [
    "x=np.array(x)\n",
    "x"
   ]
  },
  {
   "cell_type": "code",
   "execution_count": 41,
   "id": "279399a0",
   "metadata": {},
   "outputs": [
    {
     "data": {
      "text/plain": [
       "(0.12119174183927744, 0.21214159149405587)"
      ]
     },
     "execution_count": 41,
     "metadata": {},
     "output_type": "execute_result"
    }
   ],
   "source": [
    "CI_egywin_home=proportion_confint(count=x[1,2],nobs=x[1,3],alpha=(1-.95))\n",
    "CI_egywin_home"
   ]
  },
  {
   "cell_type": "code",
   "execution_count": 42,
   "id": "2b06e063",
   "metadata": {},
   "outputs": [
    {
     "data": {
      "text/plain": [
       "(0.25342513144684364, 0.40429298935852553)"
      ]
     },
     "execution_count": 42,
     "metadata": {},
     "output_type": "execute_result"
    }
   ],
   "source": [
    "CI_egywin_away=proportion_confint(count=x[0,2],nobs=x[0,3],alpha=(1-.95))\n",
    "CI_egywin_away"
   ]
  },
  {
   "cell_type": "code",
   "execution_count": 43,
   "id": "80fc43d2",
   "metadata": {},
   "outputs": [
    {
     "data": {
      "text/html": [
       "<div>\n",
       "<style scoped>\n",
       "    .dataframe tbody tr th:only-of-type {\n",
       "        vertical-align: middle;\n",
       "    }\n",
       "\n",
       "    .dataframe tbody tr th {\n",
       "        vertical-align: top;\n",
       "    }\n",
       "\n",
       "    .dataframe thead th {\n",
       "        text-align: right;\n",
       "    }\n",
       "</style>\n",
       "<table border=\"1\" class=\"dataframe\">\n",
       "  <thead>\n",
       "    <tr style=\"text-align: right;\">\n",
       "      <th></th>\n",
       "      <th>home</th>\n",
       "      <th>lb</th>\n",
       "      <th>ub</th>\n",
       "    </tr>\n",
       "  </thead>\n",
       "  <tbody>\n",
       "    <tr>\n",
       "      <th>0</th>\n",
       "      <td>Yes</td>\n",
       "      <td>0.121192</td>\n",
       "      <td>0.212142</td>\n",
       "    </tr>\n",
       "    <tr>\n",
       "      <th>1</th>\n",
       "      <td>No</td>\n",
       "      <td>0.253425</td>\n",
       "      <td>0.404293</td>\n",
       "    </tr>\n",
       "  </tbody>\n",
       "</table>\n",
       "</div>"
      ],
      "text/plain": [
       "  home        lb        ub\n",
       "0  Yes  0.121192  0.212142\n",
       "1   No  0.253425  0.404293"
      ]
     },
     "execution_count": 43,
     "metadata": {},
     "output_type": "execute_result"
    }
   ],
   "source": [
    "ci_egywin = {}\n",
    "ci_egywin['home'] = ['Yes','No']\n",
    "ci_egywin['lb'] = [CI_egywin_home[0],CI_egywin_away[0]]\n",
    "ci_egywin['ub'] = [CI_egywin_home[1],CI_egywin_away[1]]\n",
    "df_ci= pd.DataFrame(ci_egywin)\n",
    "df_ci"
   ]
  },
  {
   "cell_type": "code",
   "execution_count": 44,
   "id": "a0aa51d3",
   "metadata": {},
   "outputs": [
    {
     "data": {
      "text/plain": [
       "([<matplotlib.axis.YTick at 0x1c1efeba550>,\n",
       "  <matplotlib.axis.YTick at 0x1c1efeb1d90>],\n",
       " [Text(0, 0, 'Yes'), Text(0, 1, 'No')])"
      ]
     },
     "execution_count": 44,
     "metadata": {},
     "output_type": "execute_result"
    },
    {
     "data": {
      "image/png": "[encoded data removed]",
      "text/plain": [
       "<Figure size 432x288 with 1 Axes>"
      ]
     },
     "metadata": {
      "needs_background": "light"
     },
     "output_type": "display_data"
    }
   ],
   "source": [
    "for lb,ub,y in zip(df_ci['lb'],df_ci['ub'],range(len(df_ci))):\n",
    "    plt.plot((lb,ub),(y,y),'ro-')\n",
    "plt.yticks(range(len(df_ci)),list(df_ci['home']))"
   ]
  },
  {
   "cell_type": "markdown",
   "id": "be4543d0",
   "metadata": {},
   "source": [
    "## Exercise 2"
   ]
  },
  {
   "cell_type": "code",
   "execution_count": 45,
   "id": "892aabf7",
   "metadata": {},
   "outputs": [],
   "source": [
    "import pandas as pd"
   ]
  },
  {
   "cell_type": "code",
   "execution_count": 46,
   "id": "2902afad",
   "metadata": {
    "scrolled": true
   },
   "outputs": [],
   "source": [
    "df=pd.read_csv('covid_data.csv',encoding='latin-1')"
   ]
  },
  {
   "cell_type": "code",
   "execution_count": 47,
   "id": "6f891ca3",
   "metadata": {
    "scrolled": true
   },
   "outputs": [
    {
     "data": {
      "text/html": [
       "<div>\n",
       "<style scoped>\n",
       "    .dataframe tbody tr th:only-of-type {\n",
       "        vertical-align: middle;\n",
       "    }\n",
       "\n",
       "    .dataframe tbody tr th {\n",
       "        vertical-align: top;\n",
       "    }\n",
       "\n",
       "    .dataframe thead th {\n",
       "        text-align: right;\n",
       "    }\n",
       "</style>\n",
       "<table border=\"1\" class=\"dataframe\">\n",
       "  <thead>\n",
       "    <tr style=\"text-align: right;\">\n",
       "      <th></th>\n",
       "      <th>date</th>\n",
       "      <th>iso3c</th>\n",
       "      <th>country</th>\n",
       "      <th>income</th>\n",
       "      <th>region</th>\n",
       "      <th>continent</th>\n",
       "      <th>dcases</th>\n",
       "      <th>ddeaths</th>\n",
       "      <th>population</th>\n",
       "      <th>weekdays</th>\n",
       "      <th>month</th>\n",
       "    </tr>\n",
       "  </thead>\n",
       "  <tbody>\n",
       "    <tr>\n",
       "      <th>0</th>\n",
       "      <td>2020-02-24</td>\n",
       "      <td>AFG</td>\n",
       "      <td>Afghanistan</td>\n",
       "      <td>Low income</td>\n",
       "      <td>South Asia</td>\n",
       "      <td>Asia</td>\n",
       "      <td>5</td>\n",
       "      <td>0</td>\n",
       "      <td>38041754</td>\n",
       "      <td>Mon</td>\n",
       "      <td>Feb</td>\n",
       "    </tr>\n",
       "    <tr>\n",
       "      <th>1</th>\n",
       "      <td>2020-02-25</td>\n",
       "      <td>AFG</td>\n",
       "      <td>Afghanistan</td>\n",
       "      <td>Low income</td>\n",
       "      <td>South Asia</td>\n",
       "      <td>Asia</td>\n",
       "      <td>0</td>\n",
       "      <td>0</td>\n",
       "      <td>38041754</td>\n",
       "      <td>Tue</td>\n",
       "      <td>Feb</td>\n",
       "    </tr>\n",
       "    <tr>\n",
       "      <th>2</th>\n",
       "      <td>2020-02-26</td>\n",
       "      <td>AFG</td>\n",
       "      <td>Afghanistan</td>\n",
       "      <td>Low income</td>\n",
       "      <td>South Asia</td>\n",
       "      <td>Asia</td>\n",
       "      <td>0</td>\n",
       "      <td>0</td>\n",
       "      <td>38041754</td>\n",
       "      <td>Wed</td>\n",
       "      <td>Feb</td>\n",
       "    </tr>\n",
       "    <tr>\n",
       "      <th>3</th>\n",
       "      <td>2020-02-27</td>\n",
       "      <td>AFG</td>\n",
       "      <td>Afghanistan</td>\n",
       "      <td>Low income</td>\n",
       "      <td>South Asia</td>\n",
       "      <td>Asia</td>\n",
       "      <td>0</td>\n",
       "      <td>0</td>\n",
       "      <td>38041754</td>\n",
       "      <td>Thu</td>\n",
       "      <td>Feb</td>\n",
       "    </tr>\n",
       "    <tr>\n",
       "      <th>4</th>\n",
       "      <td>2020-02-28</td>\n",
       "      <td>AFG</td>\n",
       "      <td>Afghanistan</td>\n",
       "      <td>Low income</td>\n",
       "      <td>South Asia</td>\n",
       "      <td>Asia</td>\n",
       "      <td>0</td>\n",
       "      <td>0</td>\n",
       "      <td>38041754</td>\n",
       "      <td>Fri</td>\n",
       "      <td>Feb</td>\n",
       "    </tr>\n",
       "  </tbody>\n",
       "</table>\n",
       "</div>"
      ],
      "text/plain": [
       "         date iso3c      country      income      region continent  dcases  \\\n",
       "0  2020-02-24   AFG  Afghanistan  Low income  South Asia      Asia       5   \n",
       "1  2020-02-25   AFG  Afghanistan  Low income  South Asia      Asia       0   \n",
       "2  2020-02-26   AFG  Afghanistan  Low income  South Asia      Asia       0   \n",
       "3  2020-02-27   AFG  Afghanistan  Low income  South Asia      Asia       0   \n",
       "4  2020-02-28   AFG  Afghanistan  Low income  South Asia      Asia       0   \n",
       "\n",
       "   ddeaths  population weekdays month  \n",
       "0        0    38041754      Mon   Feb  \n",
       "1        0    38041754      Tue   Feb  \n",
       "2        0    38041754      Wed   Feb  \n",
       "3        0    38041754      Thu   Feb  \n",
       "4        0    38041754      Fri   Feb  "
      ]
     },
     "execution_count": 47,
     "metadata": {},
     "output_type": "execute_result"
    }
   ],
   "source": [
    "df.head()"
   ]
  },
  {
   "cell_type": "code",
   "execution_count": 48,
   "id": "1d2a34b3",
   "metadata": {},
   "outputs": [
    {
     "data": {
      "text/plain": [
       "array(['Afghanistan', 'Angola', 'Albania', 'Andorra',\n",
       "       'United Arab Emirates', 'Argentina', 'Armenia',\n",
       "       'Antigua & Barbuda', 'Australia', 'Austria', 'Azerbaijan',\n",
       "       'Burundi', 'Belgium', 'Benin', 'Burkina Faso', 'Bangladesh',\n",
       "       'Bulgaria', 'Bahrain', 'Bahamas', 'Bosnia & Herzegovina',\n",
       "       'Belarus', 'Belize', 'Bolivia', 'Brazil', 'Barbados', 'Brunei',\n",
       "       'Bhutan', 'Botswana', 'Central African Republic', 'Canada',\n",
       "       'Switzerland', 'Chile', 'China', 'Côte d\\x92Ivoire', 'Cameroon',\n",
       "       'Congo - Kinshasa', 'Congo - Brazzaville', 'Colombia', 'Comoros',\n",
       "       'Cape Verde', 'Costa Rica', 'Cuba', 'Cyprus', 'Czechia', 'Germany',\n",
       "       'Djibouti', 'Dominica', 'Denmark', 'Dominican Republic', 'Algeria',\n",
       "       'Ecuador', 'Egypt', 'Spain', 'Estonia', 'Ethiopia', 'Finland',\n",
       "       'Fiji', 'France', 'Gabon', 'United Kingdom', 'Georgia', 'Ghana',\n",
       "       'Guinea', 'Gambia', 'Guinea-Bissau', 'Equatorial Guinea', 'Greece',\n",
       "       'Grenada', 'Guatemala', 'Guyana', 'Honduras', 'Croatia', 'Haiti',\n",
       "       'Hungary', 'Indonesia', 'India', 'Ireland', 'Iran', 'Iraq',\n",
       "       'Iceland', 'Israel', 'Italy', 'Jamaica', 'Jordan', 'Japan',\n",
       "       'Kazakhstan', 'Kenya', 'Kyrgyzstan', 'Cambodia', 'Kiribati',\n",
       "       'St. Kitts & Nevis', 'South Korea', 'Kuwait', 'Laos', 'Lebanon',\n",
       "       'Liberia', 'Libya', 'St. Lucia', 'Liechtenstein', 'Sri Lanka',\n",
       "       'Lesotho', 'Lithuania', 'Luxembourg', 'Latvia', 'Morocco',\n",
       "       'Monaco', 'Moldova', 'Madagascar', 'Maldives', 'Mexico',\n",
       "       'Marshall Islands', 'North Macedonia', 'Mali', 'Malta',\n",
       "       'Myanmar (Burma)', 'Montenegro', 'Mongolia', 'Mozambique',\n",
       "       'Mauritania', 'Mauritius', 'Malawi', 'Malaysia', 'Namibia',\n",
       "       'Niger', 'Nigeria', 'Nicaragua', 'Netherlands', 'Norway', 'Nepal',\n",
       "       'New Zealand', 'Oman', 'Pakistan', 'Panama', 'Peru', 'Philippines',\n",
       "       'Palau', 'Papua New Guinea', 'Poland', 'Portugal', 'Paraguay',\n",
       "       'Palestinian Territories', 'Qatar', 'Romania', 'Russia', 'Rwanda',\n",
       "       'Saudi Arabia', 'Sudan', 'Senegal', 'Singapore', 'Solomon Islands',\n",
       "       'Sierra Leone', 'El Salvador', 'San Marino', 'Somalia', 'Serbia',\n",
       "       'South Sudan', 'São Tomé & Príncipe', 'Suriname', 'Slovakia',\n",
       "       'Slovenia', 'Sweden', 'Eswatini', 'Seychelles', 'Syria', 'Chad',\n",
       "       'Togo', 'Thailand', 'Tajikistan', 'Timor-Leste',\n",
       "       'Trinidad & Tobago', 'Tunisia', 'Turkey', 'Tanzania', 'Uganda',\n",
       "       'Ukraine', 'Uruguay', 'United States', 'Uzbekistan',\n",
       "       'St. Vincent & Grenadines', 'Venezuela', 'Vietnam', 'Vanuatu',\n",
       "       'Samoa', 'Yemen', 'South Africa', 'Zambia', 'Zimbabwe'],\n",
       "      dtype=object)"
      ]
     },
     "execution_count": 48,
     "metadata": {},
     "output_type": "execute_result"
    }
   ],
   "source": [
    "df['country'].unique()"
   ]
  },
  {
   "cell_type": "code",
   "execution_count": 49,
   "id": "eea6d767",
   "metadata": {},
   "outputs": [],
   "source": [
    "from pandas.api.types import CategoricalDtype\n",
    "cats=['Fri', 'Sat', 'Sun','Mon','Tue','Wed','Thu']\n",
    "cat_type = CategoricalDtype(categories=cats, ordered=True)\n",
    "df['weekdays'] = df['weekdays'].astype(cat_type)"
   ]
  },
  {
   "cell_type": "code",
   "execution_count": 50,
   "id": "43f5518b",
   "metadata": {},
   "outputs": [],
   "source": [
    "from pandas.api.types import CategoricalDtype\n",
    "cats=['Jan', 'Feb', 'Mar','Apr','May','Jun','Jul','Aug','Sep','Oct','Nov','Dec']\n",
    "cat_type = CategoricalDtype(categories=cats, ordered=True)\n",
    "df['month'] = df['month'].astype(cat_type)"
   ]
  },
  {
   "cell_type": "code",
   "execution_count": 51,
   "id": "f0d88e20",
   "metadata": {},
   "outputs": [],
   "source": [
    "import numpy as np"
   ]
  },
  {
   "cell_type": "code",
   "execution_count": 52,
   "id": "e47409cb",
   "metadata": {},
   "outputs": [],
   "source": [
    "dfegy=df[df['country']=='Egypt']"
   ]
  },
  {
   "cell_type": "code",
   "execution_count": 53,
   "id": "fc524ebb",
   "metadata": {},
   "outputs": [],
   "source": [
    "stats=dfegy.groupby(\"weekdays\").agg({\"dcases\": [np.mean, np.std, np.size]})"
   ]
  },
  {
   "cell_type": "code",
   "execution_count": 54,
   "id": "a775e613",
   "metadata": {},
   "outputs": [
    {
     "data": {
      "text/html": [
       "<div>\n",
       "<style scoped>\n",
       "    .dataframe tbody tr th:only-of-type {\n",
       "        vertical-align: middle;\n",
       "    }\n",
       "\n",
       "    .dataframe tbody tr th {\n",
       "        vertical-align: top;\n",
       "    }\n",
       "\n",
       "    .dataframe thead tr th {\n",
       "        text-align: left;\n",
       "    }\n",
       "\n",
       "    .dataframe thead tr:last-of-type th {\n",
       "        text-align: right;\n",
       "    }\n",
       "</style>\n",
       "<table border=\"1\" class=\"dataframe\">\n",
       "  <thead>\n",
       "    <tr>\n",
       "      <th></th>\n",
       "      <th colspan=\"3\" halign=\"left\">dcases</th>\n",
       "    </tr>\n",
       "    <tr>\n",
       "      <th></th>\n",
       "      <th>mean</th>\n",
       "      <th>std</th>\n",
       "      <th>size</th>\n",
       "    </tr>\n",
       "    <tr>\n",
       "      <th>weekdays</th>\n",
       "      <th></th>\n",
       "      <th></th>\n",
       "      <th></th>\n",
       "    </tr>\n",
       "  </thead>\n",
       "  <tbody>\n",
       "    <tr>\n",
       "      <th>Fri</th>\n",
       "      <td>567.161616</td>\n",
       "      <td>428.533849</td>\n",
       "      <td>99</td>\n",
       "    </tr>\n",
       "    <tr>\n",
       "      <th>Sat</th>\n",
       "      <td>558.806122</td>\n",
       "      <td>421.803605</td>\n",
       "      <td>98</td>\n",
       "    </tr>\n",
       "    <tr>\n",
       "      <th>Sun</th>\n",
       "      <td>545.520408</td>\n",
       "      <td>422.358748</td>\n",
       "      <td>98</td>\n",
       "    </tr>\n",
       "    <tr>\n",
       "      <th>Mon</th>\n",
       "      <td>561.846939</td>\n",
       "      <td>442.137949</td>\n",
       "      <td>98</td>\n",
       "    </tr>\n",
       "    <tr>\n",
       "      <th>Tue</th>\n",
       "      <td>566.153061</td>\n",
       "      <td>419.125460</td>\n",
       "      <td>98</td>\n",
       "    </tr>\n",
       "    <tr>\n",
       "      <th>Wed</th>\n",
       "      <td>561.479592</td>\n",
       "      <td>406.337812</td>\n",
       "      <td>98</td>\n",
       "    </tr>\n",
       "    <tr>\n",
       "      <th>Thu</th>\n",
       "      <td>567.683673</td>\n",
       "      <td>410.020004</td>\n",
       "      <td>98</td>\n",
       "    </tr>\n",
       "  </tbody>\n",
       "</table>\n",
       "</div>"
      ],
      "text/plain": [
       "              dcases                 \n",
       "                mean         std size\n",
       "weekdays                             \n",
       "Fri       567.161616  428.533849   99\n",
       "Sat       558.806122  421.803605   98\n",
       "Sun       545.520408  422.358748   98\n",
       "Mon       561.846939  442.137949   98\n",
       "Tue       566.153061  419.125460   98\n",
       "Wed       561.479592  406.337812   98\n",
       "Thu       567.683673  410.020004   98"
      ]
     },
     "execution_count": 54,
     "metadata": {},
     "output_type": "execute_result"
    }
   ],
   "source": [
    "stats"
   ]
  },
  {
   "cell_type": "code",
   "execution_count": 55,
   "id": "23bf497e",
   "metadata": {},
   "outputs": [
    {
     "data": {
      "text/html": [
       "<div>\n",
       "<style scoped>\n",
       "    .dataframe tbody tr th:only-of-type {\n",
       "        vertical-align: middle;\n",
       "    }\n",
       "\n",
       "    .dataframe tbody tr th {\n",
       "        vertical-align: top;\n",
       "    }\n",
       "\n",
       "    .dataframe thead tr th {\n",
       "        text-align: left;\n",
       "    }\n",
       "\n",
       "    .dataframe thead tr:last-of-type th {\n",
       "        text-align: right;\n",
       "    }\n",
       "</style>\n",
       "<table border=\"1\" class=\"dataframe\">\n",
       "  <thead>\n",
       "    <tr>\n",
       "      <th></th>\n",
       "      <th colspan=\"3\" halign=\"left\">dcases</th>\n",
       "    </tr>\n",
       "    <tr>\n",
       "      <th></th>\n",
       "      <th>mean</th>\n",
       "      <th>std</th>\n",
       "      <th>size</th>\n",
       "    </tr>\n",
       "    <tr>\n",
       "      <th>month</th>\n",
       "      <th></th>\n",
       "      <th></th>\n",
       "      <th></th>\n",
       "    </tr>\n",
       "  </thead>\n",
       "  <tbody>\n",
       "    <tr>\n",
       "      <th>Jan</th>\n",
       "      <td>899.645161</td>\n",
       "      <td>251.335970</td>\n",
       "      <td>31</td>\n",
       "    </tr>\n",
       "    <tr>\n",
       "      <th>Feb</th>\n",
       "      <td>374.409091</td>\n",
       "      <td>288.087868</td>\n",
       "      <td>44</td>\n",
       "    </tr>\n",
       "    <tr>\n",
       "      <th>Mar</th>\n",
       "      <td>329.290323</td>\n",
       "      <td>310.292849</td>\n",
       "      <td>62</td>\n",
       "    </tr>\n",
       "    <tr>\n",
       "      <th>Apr</th>\n",
       "      <td>504.133333</td>\n",
       "      <td>354.246465</td>\n",
       "      <td>60</td>\n",
       "    </tr>\n",
       "    <tr>\n",
       "      <th>May</th>\n",
       "      <td>879.774194</td>\n",
       "      <td>346.475245</td>\n",
       "      <td>62</td>\n",
       "    </tr>\n",
       "    <tr>\n",
       "      <th>Jun</th>\n",
       "      <td>1032.633333</td>\n",
       "      <td>454.674216</td>\n",
       "      <td>60</td>\n",
       "    </tr>\n",
       "    <tr>\n",
       "      <th>Jul</th>\n",
       "      <td>463.661290</td>\n",
       "      <td>437.595552</td>\n",
       "      <td>62</td>\n",
       "    </tr>\n",
       "    <tr>\n",
       "      <th>Aug</th>\n",
       "      <td>145.806452</td>\n",
       "      <td>60.683224</td>\n",
       "      <td>62</td>\n",
       "    </tr>\n",
       "    <tr>\n",
       "      <th>Sep</th>\n",
       "      <td>339.033333</td>\n",
       "      <td>225.855584</td>\n",
       "      <td>60</td>\n",
       "    </tr>\n",
       "    <tr>\n",
       "      <th>Oct</th>\n",
       "      <td>497.580645</td>\n",
       "      <td>362.321547</td>\n",
       "      <td>62</td>\n",
       "    </tr>\n",
       "    <tr>\n",
       "      <th>Nov</th>\n",
       "      <td>598.616667</td>\n",
       "      <td>370.082496</td>\n",
       "      <td>60</td>\n",
       "    </tr>\n",
       "    <tr>\n",
       "      <th>Dec</th>\n",
       "      <td>792.709677</td>\n",
       "      <td>300.346870</td>\n",
       "      <td>62</td>\n",
       "    </tr>\n",
       "  </tbody>\n",
       "</table>\n",
       "</div>"
      ],
      "text/plain": [
       "            dcases                 \n",
       "              mean         std size\n",
       "month                              \n",
       "Jan     899.645161  251.335970   31\n",
       "Feb     374.409091  288.087868   44\n",
       "Mar     329.290323  310.292849   62\n",
       "Apr     504.133333  354.246465   60\n",
       "May     879.774194  346.475245   62\n",
       "Jun    1032.633333  454.674216   60\n",
       "Jul     463.661290  437.595552   62\n",
       "Aug     145.806452   60.683224   62\n",
       "Sep     339.033333  225.855584   60\n",
       "Oct     497.580645  362.321547   62\n",
       "Nov     598.616667  370.082496   60\n",
       "Dec     792.709677  300.346870   62"
      ]
     },
     "execution_count": 55,
     "metadata": {},
     "output_type": "execute_result"
    }
   ],
   "source": [
    "statsm=dfegy.groupby(\"month\").agg({\"dcases\": [np.mean, np.std, np.size]})\n",
    "statsm"
   ]
  },
  {
   "cell_type": "code",
   "execution_count": 56,
   "id": "0c1db431",
   "metadata": {},
   "outputs": [],
   "source": [
    "import numpy as np\n",
    "import scipy.stats "
   ]
  },
  {
   "cell_type": "code",
   "execution_count": 57,
   "id": "c204da4f",
   "metadata": {},
   "outputs": [
    {
     "data": {
      "text/plain": [
       "CategoricalIndex(['Jan', 'Feb', 'Mar', 'Apr', 'May', 'Jun', 'Jul', 'Aug',\n",
       "                  'Sep', 'Oct', 'Nov', 'Dec'],\n",
       "                 categories=['Jan', 'Feb', 'Mar', 'Apr', 'May', 'Jun', 'Jul', 'Aug', ...], ordered=True, dtype='category', name='month')"
      ]
     },
     "execution_count": 57,
     "metadata": {},
     "output_type": "execute_result"
    }
   ],
   "source": [
    "statsm.index"
   ]
  },
  {
   "cell_type": "code",
   "execution_count": 58,
   "id": "c03536cf",
   "metadata": {},
   "outputs": [],
   "source": [
    "ci95_hi = []\n",
    "ci95_lo = []"
   ]
  },
  {
   "cell_type": "code",
   "execution_count": 59,
   "id": "a6477f78",
   "metadata": {},
   "outputs": [],
   "source": [
    "for i in statsm.index:\n",
    "    m, s, n = statsm.loc[i]\n",
    "    x=scipy.stats.t.interval(.95, n-1, m,s/np.sqrt(n-1))\n",
    "    ci95_hi.append(x[1])\n",
    "    ci95_lo.append(x[0])"
   ]
  },
  {
   "cell_type": "code",
   "execution_count": 60,
   "id": "001336dd",
   "metadata": {},
   "outputs": [
    {
     "data": {
      "text/plain": [
       "[993.3598571863843,\n",
       " 463.0084047471138,\n",
       " 408.7332244407111,\n",
       " 596.4171621669087,\n",
       " 968.4807139392825,\n",
       " 1151.0793353591891,\n",
       " 575.6969386179874,\n",
       " 161.3429084204986,\n",
       " 397.87038622259695,\n",
       " 590.3442237843955,\n",
       " 695.0258988600798,\n",
       " 869.6061543814164]"
      ]
     },
     "execution_count": 60,
     "metadata": {},
     "output_type": "execute_result"
    }
   ],
   "source": [
    "ci95_hi"
   ]
  },
  {
   "cell_type": "code",
   "execution_count": 61,
   "id": "d6eea1d7",
   "metadata": {},
   "outputs": [
    {
     "data": {
      "text/plain": [
       "[805.9304653942609,\n",
       " 285.8097770710681,\n",
       " 249.84742072057924,\n",
       " 411.8495044997579,\n",
       " 791.0676731574916,\n",
       " 914.1873313074777,\n",
       " 351.6256420271739,\n",
       " 130.26999480530787,\n",
       " 280.19628044406977,\n",
       " 404.8170665381852,\n",
       " 502.2074344732536,\n",
       " 715.8132004572933]"
      ]
     },
     "execution_count": 61,
     "metadata": {},
     "output_type": "execute_result"
    }
   ],
   "source": [
    "ci95_lo"
   ]
  },
  {
   "cell_type": "code",
   "execution_count": 62,
   "id": "04e58230",
   "metadata": {
    "scrolled": true
   },
   "outputs": [
    {
     "name": "stdout",
     "output_type": "stream",
     "text": [
      "            dcases                       ci95_hi     ci95_lo\n",
      "              mean         std size                         \n",
      "month                                                       \n",
      "Jan     899.645161  251.335970   31   993.359857  805.930465\n",
      "Feb     374.409091  288.087868   44   463.008405  285.809777\n",
      "Mar     329.290323  310.292849   62   408.733224  249.847421\n",
      "Apr     504.133333  354.246465   60   596.417162  411.849504\n",
      "May     879.774194  346.475245   62   968.480714  791.067673\n",
      "Jun    1032.633333  454.674216   60  1151.079335  914.187331\n",
      "Jul     463.661290  437.595552   62   575.696939  351.625642\n",
      "Aug     145.806452   60.683224   62   161.342908  130.269995\n",
      "Sep     339.033333  225.855584   60   397.870386  280.196280\n",
      "Oct     497.580645  362.321547   62   590.344224  404.817067\n",
      "Nov     598.616667  370.082496   60   695.025899  502.207434\n",
      "Dec     792.709677  300.346870   62   869.606154  715.813200\n"
     ]
    }
   ],
   "source": [
    "statsm['ci95_hi'] = ci95_hi\n",
    "statsm['ci95_lo'] = ci95_lo\n",
    "print(statsm)"
   ]
  },
  {
   "cell_type": "code",
   "execution_count": 63,
   "id": "98cd17e0",
   "metadata": {},
   "outputs": [],
   "source": [
    "df_ci= pd.DataFrame(statsm)"
   ]
  },
  {
   "cell_type": "code",
   "execution_count": 64,
   "id": "3049ff95",
   "metadata": {
    "scrolled": false
   },
   "outputs": [
    {
     "data": {
      "text/html": [
       "<div>\n",
       "<style scoped>\n",
       "    .dataframe tbody tr th:only-of-type {\n",
       "        vertical-align: middle;\n",
       "    }\n",
       "\n",
       "    .dataframe tbody tr th {\n",
       "        vertical-align: top;\n",
       "    }\n",
       "\n",
       "    .dataframe thead tr th {\n",
       "        text-align: left;\n",
       "    }\n",
       "\n",
       "    .dataframe thead tr:last-of-type th {\n",
       "        text-align: right;\n",
       "    }\n",
       "</style>\n",
       "<table border=\"1\" class=\"dataframe\">\n",
       "  <thead>\n",
       "    <tr>\n",
       "      <th></th>\n",
       "      <th colspan=\"3\" halign=\"left\">dcases</th>\n",
       "      <th>ci95_hi</th>\n",
       "      <th>ci95_lo</th>\n",
       "    </tr>\n",
       "    <tr>\n",
       "      <th></th>\n",
       "      <th>mean</th>\n",
       "      <th>std</th>\n",
       "      <th>size</th>\n",
       "      <th></th>\n",
       "      <th></th>\n",
       "    </tr>\n",
       "    <tr>\n",
       "      <th>month</th>\n",
       "      <th></th>\n",
       "      <th></th>\n",
       "      <th></th>\n",
       "      <th></th>\n",
       "      <th></th>\n",
       "    </tr>\n",
       "  </thead>\n",
       "  <tbody>\n",
       "    <tr>\n",
       "      <th>Jan</th>\n",
       "      <td>899.645161</td>\n",
       "      <td>251.335970</td>\n",
       "      <td>31</td>\n",
       "      <td>993.359857</td>\n",
       "      <td>805.930465</td>\n",
       "    </tr>\n",
       "    <tr>\n",
       "      <th>Feb</th>\n",
       "      <td>374.409091</td>\n",
       "      <td>288.087868</td>\n",
       "      <td>44</td>\n",
       "      <td>463.008405</td>\n",
       "      <td>285.809777</td>\n",
       "    </tr>\n",
       "    <tr>\n",
       "      <th>Mar</th>\n",
       "      <td>329.290323</td>\n",
       "      <td>310.292849</td>\n",
       "      <td>62</td>\n",
       "      <td>408.733224</td>\n",
       "      <td>249.847421</td>\n",
       "    </tr>\n",
       "    <tr>\n",
       "      <th>Apr</th>\n",
       "      <td>504.133333</td>\n",
       "      <td>354.246465</td>\n",
       "      <td>60</td>\n",
       "      <td>596.417162</td>\n",
       "      <td>411.849504</td>\n",
       "    </tr>\n",
       "    <tr>\n",
       "      <th>May</th>\n",
       "      <td>879.774194</td>\n",
       "      <td>346.475245</td>\n",
       "      <td>62</td>\n",
       "      <td>968.480714</td>\n",
       "      <td>791.067673</td>\n",
       "    </tr>\n",
       "    <tr>\n",
       "      <th>Jun</th>\n",
       "      <td>1032.633333</td>\n",
       "      <td>454.674216</td>\n",
       "      <td>60</td>\n",
       "      <td>1151.079335</td>\n",
       "      <td>914.187331</td>\n",
       "    </tr>\n",
       "    <tr>\n",
       "      <th>Jul</th>\n",
       "      <td>463.661290</td>\n",
       "      <td>437.595552</td>\n",
       "      <td>62</td>\n",
       "      <td>575.696939</td>\n",
       "      <td>351.625642</td>\n",
       "    </tr>\n",
       "    <tr>\n",
       "      <th>Aug</th>\n",
       "      <td>145.806452</td>\n",
       "      <td>60.683224</td>\n",
       "      <td>62</td>\n",
       "      <td>161.342908</td>\n",
       "      <td>130.269995</td>\n",
       "    </tr>\n",
       "    <tr>\n",
       "      <th>Sep</th>\n",
       "      <td>339.033333</td>\n",
       "      <td>225.855584</td>\n",
       "      <td>60</td>\n",
       "      <td>397.870386</td>\n",
       "      <td>280.196280</td>\n",
       "    </tr>\n",
       "    <tr>\n",
       "      <th>Oct</th>\n",
       "      <td>497.580645</td>\n",
       "      <td>362.321547</td>\n",
       "      <td>62</td>\n",
       "      <td>590.344224</td>\n",
       "      <td>404.817067</td>\n",
       "    </tr>\n",
       "    <tr>\n",
       "      <th>Nov</th>\n",
       "      <td>598.616667</td>\n",
       "      <td>370.082496</td>\n",
       "      <td>60</td>\n",
       "      <td>695.025899</td>\n",
       "      <td>502.207434</td>\n",
       "    </tr>\n",
       "    <tr>\n",
       "      <th>Dec</th>\n",
       "      <td>792.709677</td>\n",
       "      <td>300.346870</td>\n",
       "      <td>62</td>\n",
       "      <td>869.606154</td>\n",
       "      <td>715.813200</td>\n",
       "    </tr>\n",
       "  </tbody>\n",
       "</table>\n",
       "</div>"
      ],
      "text/plain": [
       "            dcases                       ci95_hi     ci95_lo\n",
       "              mean         std size                         \n",
       "month                                                       \n",
       "Jan     899.645161  251.335970   31   993.359857  805.930465\n",
       "Feb     374.409091  288.087868   44   463.008405  285.809777\n",
       "Mar     329.290323  310.292849   62   408.733224  249.847421\n",
       "Apr     504.133333  354.246465   60   596.417162  411.849504\n",
       "May     879.774194  346.475245   62   968.480714  791.067673\n",
       "Jun    1032.633333  454.674216   60  1151.079335  914.187331\n",
       "Jul     463.661290  437.595552   62   575.696939  351.625642\n",
       "Aug     145.806452   60.683224   62   161.342908  130.269995\n",
       "Sep     339.033333  225.855584   60   397.870386  280.196280\n",
       "Oct     497.580645  362.321547   62   590.344224  404.817067\n",
       "Nov     598.616667  370.082496   60   695.025899  502.207434\n",
       "Dec     792.709677  300.346870   62   869.606154  715.813200"
      ]
     },
     "execution_count": 64,
     "metadata": {},
     "output_type": "execute_result"
    }
   ],
   "source": [
    "df_ci"
   ]
  },
  {
   "cell_type": "code",
   "execution_count": 65,
   "id": "b0cfde07",
   "metadata": {},
   "outputs": [
    {
     "data": {
      "text/plain": [
       "CategoricalIndex(['Jan', 'Feb', 'Mar', 'Apr', 'May', 'Jun', 'Jul', 'Aug',\n",
       "                  'Sep', 'Oct', 'Nov', 'Dec'],\n",
       "                 categories=['Jan', 'Feb', 'Mar', 'Apr', 'May', 'Jun', 'Jul', 'Aug', ...], ordered=True, dtype='category', name='month')"
      ]
     },
     "execution_count": 65,
     "metadata": {},
     "output_type": "execute_result"
    }
   ],
   "source": [
    "df_ci.index"
   ]
  },
  {
   "cell_type": "code",
   "execution_count": 66,
   "id": "b93bc0cb",
   "metadata": {},
   "outputs": [],
   "source": [
    "df_ci['month']=df_ci.index"
   ]
  },
  {
   "cell_type": "code",
   "execution_count": 67,
   "id": "26ad9d6b",
   "metadata": {},
   "outputs": [
    {
     "data": {
      "text/html": [
       "<div>\n",
       "<style scoped>\n",
       "    .dataframe tbody tr th:only-of-type {\n",
       "        vertical-align: middle;\n",
       "    }\n",
       "\n",
       "    .dataframe tbody tr th {\n",
       "        vertical-align: top;\n",
       "    }\n",
       "\n",
       "    .dataframe thead tr th {\n",
       "        text-align: left;\n",
       "    }\n",
       "\n",
       "    .dataframe thead tr:last-of-type th {\n",
       "        text-align: right;\n",
       "    }\n",
       "</style>\n",
       "<table border=\"1\" class=\"dataframe\">\n",
       "  <thead>\n",
       "    <tr>\n",
       "      <th></th>\n",
       "      <th colspan=\"3\" halign=\"left\">dcases</th>\n",
       "      <th>ci95_hi</th>\n",
       "      <th>ci95_lo</th>\n",
       "      <th>month</th>\n",
       "    </tr>\n",
       "    <tr>\n",
       "      <th></th>\n",
       "      <th>mean</th>\n",
       "      <th>std</th>\n",
       "      <th>size</th>\n",
       "      <th></th>\n",
       "      <th></th>\n",
       "      <th></th>\n",
       "    </tr>\n",
       "    <tr>\n",
       "      <th>month</th>\n",
       "      <th></th>\n",
       "      <th></th>\n",
       "      <th></th>\n",
       "      <th></th>\n",
       "      <th></th>\n",
       "      <th></th>\n",
       "    </tr>\n",
       "  </thead>\n",
       "  <tbody>\n",
       "    <tr>\n",
       "      <th>Jan</th>\n",
       "      <td>899.645161</td>\n",
       "      <td>251.335970</td>\n",
       "      <td>31</td>\n",
       "      <td>993.359857</td>\n",
       "      <td>805.930465</td>\n",
       "      <td>Jan</td>\n",
       "    </tr>\n",
       "    <tr>\n",
       "      <th>Feb</th>\n",
       "      <td>374.409091</td>\n",
       "      <td>288.087868</td>\n",
       "      <td>44</td>\n",
       "      <td>463.008405</td>\n",
       "      <td>285.809777</td>\n",
       "      <td>Feb</td>\n",
       "    </tr>\n",
       "    <tr>\n",
       "      <th>Mar</th>\n",
       "      <td>329.290323</td>\n",
       "      <td>310.292849</td>\n",
       "      <td>62</td>\n",
       "      <td>408.733224</td>\n",
       "      <td>249.847421</td>\n",
       "      <td>Mar</td>\n",
       "    </tr>\n",
       "    <tr>\n",
       "      <th>Apr</th>\n",
       "      <td>504.133333</td>\n",
       "      <td>354.246465</td>\n",
       "      <td>60</td>\n",
       "      <td>596.417162</td>\n",
       "      <td>411.849504</td>\n",
       "      <td>Apr</td>\n",
       "    </tr>\n",
       "    <tr>\n",
       "      <th>May</th>\n",
       "      <td>879.774194</td>\n",
       "      <td>346.475245</td>\n",
       "      <td>62</td>\n",
       "      <td>968.480714</td>\n",
       "      <td>791.067673</td>\n",
       "      <td>May</td>\n",
       "    </tr>\n",
       "    <tr>\n",
       "      <th>Jun</th>\n",
       "      <td>1032.633333</td>\n",
       "      <td>454.674216</td>\n",
       "      <td>60</td>\n",
       "      <td>1151.079335</td>\n",
       "      <td>914.187331</td>\n",
       "      <td>Jun</td>\n",
       "    </tr>\n",
       "    <tr>\n",
       "      <th>Jul</th>\n",
       "      <td>463.661290</td>\n",
       "      <td>437.595552</td>\n",
       "      <td>62</td>\n",
       "      <td>575.696939</td>\n",
       "      <td>351.625642</td>\n",
       "      <td>Jul</td>\n",
       "    </tr>\n",
       "    <tr>\n",
       "      <th>Aug</th>\n",
       "      <td>145.806452</td>\n",
       "      <td>60.683224</td>\n",
       "      <td>62</td>\n",
       "      <td>161.342908</td>\n",
       "      <td>130.269995</td>\n",
       "      <td>Aug</td>\n",
       "    </tr>\n",
       "    <tr>\n",
       "      <th>Sep</th>\n",
       "      <td>339.033333</td>\n",
       "      <td>225.855584</td>\n",
       "      <td>60</td>\n",
       "      <td>397.870386</td>\n",
       "      <td>280.196280</td>\n",
       "      <td>Sep</td>\n",
       "    </tr>\n",
       "    <tr>\n",
       "      <th>Oct</th>\n",
       "      <td>497.580645</td>\n",
       "      <td>362.321547</td>\n",
       "      <td>62</td>\n",
       "      <td>590.344224</td>\n",
       "      <td>404.817067</td>\n",
       "      <td>Oct</td>\n",
       "    </tr>\n",
       "    <tr>\n",
       "      <th>Nov</th>\n",
       "      <td>598.616667</td>\n",
       "      <td>370.082496</td>\n",
       "      <td>60</td>\n",
       "      <td>695.025899</td>\n",
       "      <td>502.207434</td>\n",
       "      <td>Nov</td>\n",
       "    </tr>\n",
       "    <tr>\n",
       "      <th>Dec</th>\n",
       "      <td>792.709677</td>\n",
       "      <td>300.346870</td>\n",
       "      <td>62</td>\n",
       "      <td>869.606154</td>\n",
       "      <td>715.813200</td>\n",
       "      <td>Dec</td>\n",
       "    </tr>\n",
       "  </tbody>\n",
       "</table>\n",
       "</div>"
      ],
      "text/plain": [
       "            dcases                       ci95_hi     ci95_lo month\n",
       "              mean         std size                               \n",
       "month                                                             \n",
       "Jan     899.645161  251.335970   31   993.359857  805.930465   Jan\n",
       "Feb     374.409091  288.087868   44   463.008405  285.809777   Feb\n",
       "Mar     329.290323  310.292849   62   408.733224  249.847421   Mar\n",
       "Apr     504.133333  354.246465   60   596.417162  411.849504   Apr\n",
       "May     879.774194  346.475245   62   968.480714  791.067673   May\n",
       "Jun    1032.633333  454.674216   60  1151.079335  914.187331   Jun\n",
       "Jul     463.661290  437.595552   62   575.696939  351.625642   Jul\n",
       "Aug     145.806452   60.683224   62   161.342908  130.269995   Aug\n",
       "Sep     339.033333  225.855584   60   397.870386  280.196280   Sep\n",
       "Oct     497.580645  362.321547   62   590.344224  404.817067   Oct\n",
       "Nov     598.616667  370.082496   60   695.025899  502.207434   Nov\n",
       "Dec     792.709677  300.346870   62   869.606154  715.813200   Dec"
      ]
     },
     "execution_count": 67,
     "metadata": {},
     "output_type": "execute_result"
    }
   ],
   "source": [
    "df_ci"
   ]
  },
  {
   "cell_type": "code",
   "execution_count": 68,
   "id": "7aa4f0fd",
   "metadata": {},
   "outputs": [
    {
     "data": {
      "text/plain": [
       "MultiIndex([( 'dcases', 'mean'),\n",
       "            ( 'dcases',  'std'),\n",
       "            ( 'dcases', 'size'),\n",
       "            ('ci95_hi',     ''),\n",
       "            ('ci95_lo',     ''),\n",
       "            (  'month',     '')],\n",
       "           )"
      ]
     },
     "execution_count": 68,
     "metadata": {},
     "output_type": "execute_result"
    }
   ],
   "source": [
    "df_ci.columns"
   ]
  },
  {
   "cell_type": "code",
   "execution_count": 69,
   "id": "e23cc584",
   "metadata": {},
   "outputs": [],
   "source": [
    "import matplotlib.pyplot as plt"
   ]
  },
  {
   "cell_type": "code",
   "execution_count": 70,
   "id": "b80d8a5f",
   "metadata": {},
   "outputs": [
    {
     "data": {
      "text/plain": [
       "([<matplotlib.axis.YTick at 0x1c1ee9e1dc0>,\n",
       "  <matplotlib.axis.YTick at 0x1c1ee9e1640>,\n",
       "  <matplotlib.axis.YTick at 0x1c1ee9db4f0>,\n",
       "  <matplotlib.axis.YTick at 0x1c1eea27400>,\n",
       "  <matplotlib.axis.YTick at 0x1c1eea27b50>,\n",
       "  <matplotlib.axis.YTick at 0x1c1eea2e2e0>,\n",
       "  <matplotlib.axis.YTick at 0x1c1eea2ea30>,\n",
       "  <matplotlib.axis.YTick at 0x1c1eea351c0>,\n",
       "  <matplotlib.axis.YTick at 0x1c1eea35910>,\n",
       "  <matplotlib.axis.YTick at 0x1c1eea2e970>,\n",
       "  <matplotlib.axis.YTick at 0x1c1eea27850>,\n",
       "  <matplotlib.axis.YTick at 0x1c1eea39160>],\n",
       " [Text(0, 0, 'Jan'),\n",
       "  Text(0, 1, 'Feb'),\n",
       "  Text(0, 2, 'Mar'),\n",
       "  Text(0, 3, 'Apr'),\n",
       "  Text(0, 4, 'May'),\n",
       "  Text(0, 5, 'Jun'),\n",
       "  Text(0, 6, 'Jul'),\n",
       "  Text(0, 7, 'Aug'),\n",
       "  Text(0, 8, 'Sep'),\n",
       "  Text(0, 9, 'Oct'),\n",
       "  Text(0, 10, 'Nov'),\n",
       "  Text(0, 11, 'Dec')])"
      ]
     },
     "execution_count": 70,
     "metadata": {},
     "output_type": "execute_result"
    },
    {
     "data": {
      "image/png": "[encoded data removed]",
      "text/plain": [
       "<Figure size 432x288 with 1 Axes>"
      ]
     },
     "metadata": {
      "needs_background": "light"
     },
     "output_type": "display_data"
    }
   ],
   "source": [
    "for lb,ub,y in zip(df_ci['ci95_lo'],df_ci['ci95_hi'],range(len(df_ci))):\n",
    "    plt.plot((lb,ub),(y,y),'ro-')\n",
    "plt.yticks(range(len(df_ci)),list(df_ci['month']))\n"
   ]
  },
  {
   "cell_type": "markdown",
   "id": "f654a468",
   "metadata": {},
   "source": [
    "## Exercise 3"
   ]
  },
  {
   "cell_type": "code",
   "execution_count": 71,
   "id": "b628697f",
   "metadata": {},
   "outputs": [],
   "source": [
    "import numpy as np\n",
    "from scipy.stats import norm,t\n",
    "import pandas as pd"
   ]
  },
  {
   "cell_type": "code",
   "execution_count": 72,
   "id": "12746aad",
   "metadata": {},
   "outputs": [],
   "source": [
    "yM, sM, nM = 4.5,0.45,55"
   ]
  },
  {
   "cell_type": "code",
   "execution_count": 73,
   "id": "8076d617",
   "metadata": {},
   "outputs": [],
   "source": [
    "yF, sF, nF = 3.1,0.33,65"
   ]
  },
  {
   "cell_type": "code",
   "execution_count": 74,
   "id": "d7ee9a2c",
   "metadata": {},
   "outputs": [],
   "source": [
    "ciM=scipy.stats.t.interval(.95, nM-1, yM,np.sqrt(sM)/np.sqrt(nM-1))"
   ]
  },
  {
   "cell_type": "code",
   "execution_count": 75,
   "id": "eae9d735",
   "metadata": {},
   "outputs": [
    {
     "data": {
      "text/plain": [
       "(4.316980398278775, 4.683019601721225)"
      ]
     },
     "execution_count": 75,
     "metadata": {},
     "output_type": "execute_result"
    }
   ],
   "source": [
    "ciM"
   ]
  },
  {
   "cell_type": "code",
   "execution_count": 76,
   "id": "a99924d0",
   "metadata": {},
   "outputs": [],
   "source": [
    "ciF=scipy.stats.t.interval(.95, nF-1, yF,np.sqrt(sF)/np.sqrt(nF-1))"
   ]
  },
  {
   "cell_type": "code",
   "execution_count": 77,
   "id": "624bc1a5",
   "metadata": {},
   "outputs": [
    {
     "data": {
      "text/plain": [
       "(2.956548960673736, 3.2434510393262643)"
      ]
     },
     "execution_count": 77,
     "metadata": {},
     "output_type": "execute_result"
    }
   ],
   "source": [
    "ciF"
   ]
  },
  {
   "cell_type": "code",
   "execution_count": 78,
   "id": "0134173e",
   "metadata": {},
   "outputs": [],
   "source": [
    "ci = {}\n",
    "ci['Gender'] = ['Male','Female']\n",
    "ci['lb'] = [ciM[0],ciF[0]]\n",
    "ci['ub'] = [ciM[1],ciF[1]]\n",
    "df_ci= pd.DataFrame(ci)"
   ]
  },
  {
   "cell_type": "code",
   "execution_count": 79,
   "id": "f9ffdd31",
   "metadata": {},
   "outputs": [
    {
     "data": {
      "text/plain": [
       "([<matplotlib.axis.YTick at 0x1c1eea7eca0>,\n",
       "  <matplotlib.axis.YTick at 0x1c1eea7e430>],\n",
       " [Text(0, 0, 'Male'), Text(0, 1, 'Female')])"
      ]
     },
     "execution_count": 79,
     "metadata": {},
     "output_type": "execute_result"
    },
    {
     "data": {
      "image/png": "[encoded data removed]",
      "text/plain": [
       "<Figure size 432x288 with 1 Axes>"
      ]
     },
     "metadata": {
      "needs_background": "light"
     },
     "output_type": "display_data"
    }
   ],
   "source": [
    "import matplotlib.pyplot as plt\n",
    "for lb,ub,y in zip(df_ci['lb'],df_ci['ub'],range(len(df_ci))):\n",
    "    plt.plot((lb,ub),(y,y),'ro-')\n",
    "plt.yticks(range(len(df_ci)),list(df_ci['Gender']))"
   ]
  },
  {
   "cell_type": "markdown",
   "id": "8f878a4e",
   "metadata": {},
   "source": [
    "## COVID Cases by Month"
   ]
  },
  {
   "cell_type": "code",
   "execution_count": 80,
   "id": "15acacd9",
   "metadata": {},
   "outputs": [],
   "source": [
    "import pandas as pd"
   ]
  },
  {
   "cell_type": "code",
   "execution_count": 81,
   "id": "bed6c8af",
   "metadata": {},
   "outputs": [],
   "source": [
    "df=pd.read_csv('covid_data.csv',encoding='latin-1')"
   ]
  },
  {
   "cell_type": "code",
   "execution_count": 82,
   "id": "19fcc713",
   "metadata": {},
   "outputs": [],
   "source": [
    "from pandas.api.types import CategoricalDtype\n",
    "cats=['Jan', 'Feb', 'Mar','Apr','May','Jun','Jul','Aug','Sep','Oct','Nov','Dec']\n",
    "cat_type = CategoricalDtype(categories=cats, ordered=True)\n",
    "df['month'] = df['month'].astype(cat_type)"
   ]
  },
  {
   "cell_type": "code",
   "execution_count": 83,
   "id": "85de9f41",
   "metadata": {},
   "outputs": [],
   "source": [
    "dfegy=df[df['country']=='Egypt']"
   ]
  },
  {
   "cell_type": "code",
   "execution_count": 84,
   "id": "42487845",
   "metadata": {},
   "outputs": [],
   "source": [
    "import numpy as np"
   ]
  },
  {
   "cell_type": "code",
   "execution_count": 85,
   "id": "873e26b9",
   "metadata": {},
   "outputs": [],
   "source": [
    "stats=dfegy.groupby(\"month\").agg({\"dcases\": [np.mean, np.std, np.size]})"
   ]
  },
  {
   "cell_type": "code",
   "execution_count": 86,
   "id": "df7012dc",
   "metadata": {},
   "outputs": [],
   "source": [
    "stats=pd.DataFrame(stats)"
   ]
  },
  {
   "cell_type": "code",
   "execution_count": 87,
   "id": "6f7032dd",
   "metadata": {},
   "outputs": [
    {
     "data": {
      "text/plain": [
       "(12, 3)"
      ]
     },
     "execution_count": 87,
     "metadata": {},
     "output_type": "execute_result"
    }
   ],
   "source": [
    "stats.shape"
   ]
  },
  {
   "cell_type": "code",
   "execution_count": 88,
   "id": "e5cb46d0",
   "metadata": {},
   "outputs": [
    {
     "data": {
      "text/plain": [
       "MultiIndex([('dcases', 'mean'),\n",
       "            ('dcases',  'std'),\n",
       "            ('dcases', 'size')],\n",
       "           )"
      ]
     },
     "execution_count": 88,
     "metadata": {},
     "output_type": "execute_result"
    }
   ],
   "source": [
    "stats.columns"
   ]
  },
  {
   "cell_type": "code",
   "execution_count": 89,
   "id": "7e854853",
   "metadata": {},
   "outputs": [],
   "source": [
    "stats.columns=['mean','std','size']"
   ]
  },
  {
   "cell_type": "code",
   "execution_count": 90,
   "id": "43ab068b",
   "metadata": {},
   "outputs": [
    {
     "data": {
      "text/plain": [
       "Index(['mean', 'std', 'size'], dtype='object')"
      ]
     },
     "execution_count": 90,
     "metadata": {},
     "output_type": "execute_result"
    }
   ],
   "source": [
    "stats.columns"
   ]
  },
  {
   "cell_type": "code",
   "execution_count": 91,
   "id": "d5e24f8a",
   "metadata": {},
   "outputs": [],
   "source": [
    "def get_ci_lb(x, alpha=0.05):\n",
    "    sample_s=np.std(x)\n",
    "    sample_mean=np.mean(x)\n",
    "    sample_size=len(x)\n",
    "    margin_of_error = t.ppf(1 - alpha/2,sample_size-1)*sample_s/np.sqrt(sample_size-1)\n",
    "    return sample_mean - margin_of_error"
   ]
  },
  {
   "cell_type": "code",
   "execution_count": 92,
   "id": "415c5807",
   "metadata": {},
   "outputs": [],
   "source": [
    "x=dfegy['dcases']"
   ]
  },
  {
   "cell_type": "code",
   "execution_count": 93,
   "id": "86e1929c",
   "metadata": {},
   "outputs": [
    {
     "data": {
      "text/plain": [
       "529.7945911276133"
      ]
     },
     "execution_count": 93,
     "metadata": {},
     "output_type": "execute_result"
    }
   ],
   "source": [
    "get_ci_lb(x)"
   ]
  },
  {
   "cell_type": "code",
   "execution_count": 94,
   "id": "af0e6407",
   "metadata": {},
   "outputs": [],
   "source": [
    "def get_ci_ub(x, alpha=0.05):\n",
    "    sample_s=np.std(x)\n",
    "    sample_mean=np.mean(x)\n",
    "    sample_size=len(x)\n",
    "    margin_of_error = t.ppf(1 - alpha/2,sample_size-1)*sample_s/np.sqrt(sample_size-1)\n",
    "    return sample_mean + margin_of_error"
   ]
  },
  {
   "cell_type": "code",
   "execution_count": 95,
   "id": "4975f7ab",
   "metadata": {},
   "outputs": [
    {
     "data": {
      "text/plain": [
       "592.694491841819"
      ]
     },
     "execution_count": 95,
     "metadata": {},
     "output_type": "execute_result"
    }
   ],
   "source": [
    "get_ci_ub(x)"
   ]
  },
  {
   "cell_type": "code",
   "execution_count": 96,
   "id": "9a3abe1f",
   "metadata": {},
   "outputs": [
    {
     "data": {
      "text/html": [
       "<div>\n",
       "<style scoped>\n",
       "    .dataframe tbody tr th:only-of-type {\n",
       "        vertical-align: middle;\n",
       "    }\n",
       "\n",
       "    .dataframe tbody tr th {\n",
       "        vertical-align: top;\n",
       "    }\n",
       "\n",
       "    .dataframe thead tr th {\n",
       "        text-align: left;\n",
       "    }\n",
       "\n",
       "    .dataframe thead tr:last-of-type th {\n",
       "        text-align: right;\n",
       "    }\n",
       "</style>\n",
       "<table border=\"1\" class=\"dataframe\">\n",
       "  <thead>\n",
       "    <tr>\n",
       "      <th></th>\n",
       "      <th colspan=\"5\" halign=\"left\">dcases</th>\n",
       "    </tr>\n",
       "    <tr>\n",
       "      <th></th>\n",
       "      <th>mean</th>\n",
       "      <th>std</th>\n",
       "      <th>size</th>\n",
       "      <th>get_ci_lb</th>\n",
       "      <th>get_ci_ub</th>\n",
       "    </tr>\n",
       "    <tr>\n",
       "      <th>month</th>\n",
       "      <th></th>\n",
       "      <th></th>\n",
       "      <th></th>\n",
       "      <th></th>\n",
       "      <th></th>\n",
       "    </tr>\n",
       "  </thead>\n",
       "  <tbody>\n",
       "    <tr>\n",
       "      <th>Jan</th>\n",
       "      <td>899.645161</td>\n",
       "      <td>251.335970</td>\n",
       "      <td>31</td>\n",
       "      <td>807.454383</td>\n",
       "      <td>991.835939</td>\n",
       "    </tr>\n",
       "    <tr>\n",
       "      <th>Feb</th>\n",
       "      <td>374.409091</td>\n",
       "      <td>288.087868</td>\n",
       "      <td>44</td>\n",
       "      <td>286.822374</td>\n",
       "      <td>461.995808</td>\n",
       "    </tr>\n",
       "    <tr>\n",
       "      <th>Mar</th>\n",
       "      <td>329.290323</td>\n",
       "      <td>310.292849</td>\n",
       "      <td>62</td>\n",
       "      <td>250.490694</td>\n",
       "      <td>408.089951</td>\n",
       "    </tr>\n",
       "    <tr>\n",
       "      <th>Apr</th>\n",
       "      <td>504.133333</td>\n",
       "      <td>354.246465</td>\n",
       "      <td>60</td>\n",
       "      <td>412.621768</td>\n",
       "      <td>595.644899</td>\n",
       "    </tr>\n",
       "    <tr>\n",
       "      <th>May</th>\n",
       "      <td>879.774194</td>\n",
       "      <td>346.475245</td>\n",
       "      <td>62</td>\n",
       "      <td>791.785956</td>\n",
       "      <td>967.762431</td>\n",
       "    </tr>\n",
       "    <tr>\n",
       "      <th>Jun</th>\n",
       "      <td>1032.633333</td>\n",
       "      <td>454.674216</td>\n",
       "      <td>60</td>\n",
       "      <td>915.178529</td>\n",
       "      <td>1150.088138</td>\n",
       "    </tr>\n",
       "    <tr>\n",
       "      <th>Jul</th>\n",
       "      <td>463.661290</td>\n",
       "      <td>437.595552</td>\n",
       "      <td>62</td>\n",
       "      <td>352.532828</td>\n",
       "      <td>574.789752</td>\n",
       "    </tr>\n",
       "    <tr>\n",
       "      <th>Aug</th>\n",
       "      <td>145.806452</td>\n",
       "      <td>60.683224</td>\n",
       "      <td>62</td>\n",
       "      <td>130.395798</td>\n",
       "      <td>161.217105</td>\n",
       "    </tr>\n",
       "    <tr>\n",
       "      <th>Sep</th>\n",
       "      <td>339.033333</td>\n",
       "      <td>225.855584</td>\n",
       "      <td>60</td>\n",
       "      <td>280.688649</td>\n",
       "      <td>397.378017</td>\n",
       "    </tr>\n",
       "    <tr>\n",
       "      <th>Oct</th>\n",
       "      <td>497.580645</td>\n",
       "      <td>362.321547</td>\n",
       "      <td>62</td>\n",
       "      <td>405.568201</td>\n",
       "      <td>589.593089</td>\n",
       "    </tr>\n",
       "    <tr>\n",
       "      <th>Nov</th>\n",
       "      <td>598.616667</td>\n",
       "      <td>370.082496</td>\n",
       "      <td>60</td>\n",
       "      <td>503.014220</td>\n",
       "      <td>694.219113</td>\n",
       "    </tr>\n",
       "    <tr>\n",
       "      <th>Dec</th>\n",
       "      <td>792.709677</td>\n",
       "      <td>300.346870</td>\n",
       "      <td>62</td>\n",
       "      <td>716.435854</td>\n",
       "      <td>868.983501</td>\n",
       "    </tr>\n",
       "  </tbody>\n",
       "</table>\n",
       "</div>"
      ],
      "text/plain": [
       "            dcases                                          \n",
       "              mean         std size   get_ci_lb    get_ci_ub\n",
       "month                                                       \n",
       "Jan     899.645161  251.335970   31  807.454383   991.835939\n",
       "Feb     374.409091  288.087868   44  286.822374   461.995808\n",
       "Mar     329.290323  310.292849   62  250.490694   408.089951\n",
       "Apr     504.133333  354.246465   60  412.621768   595.644899\n",
       "May     879.774194  346.475245   62  791.785956   967.762431\n",
       "Jun    1032.633333  454.674216   60  915.178529  1150.088138\n",
       "Jul     463.661290  437.595552   62  352.532828   574.789752\n",
       "Aug     145.806452   60.683224   62  130.395798   161.217105\n",
       "Sep     339.033333  225.855584   60  280.688649   397.378017\n",
       "Oct     497.580645  362.321547   62  405.568201   589.593089\n",
       "Nov     598.616667  370.082496   60  503.014220   694.219113\n",
       "Dec     792.709677  300.346870   62  716.435854   868.983501"
      ]
     },
     "execution_count": 96,
     "metadata": {},
     "output_type": "execute_result"
    }
   ],
   "source": [
    "ci_dcases=statsm=dfegy.groupby(\"month\").agg({\"dcases\": [np.mean, np.std, np.size,get_ci_lb,get_ci_ub]})\n",
    "statsm"
   ]
  },
  {
   "cell_type": "code",
   "execution_count": 97,
   "id": "c2ebd4dc",
   "metadata": {},
   "outputs": [
    {
     "data": {
      "text/plain": [
       "CategoricalIndex(['Jan', 'Feb', 'Mar', 'Apr', 'May', 'Jun', 'Jul', 'Aug',\n",
       "                  'Sep', 'Oct', 'Nov', 'Dec'],\n",
       "                 categories=['Jan', 'Feb', 'Mar', 'Apr', 'May', 'Jun', 'Jul', 'Aug', ...], ordered=True, dtype='category', name='month')"
      ]
     },
     "execution_count": 97,
     "metadata": {},
     "output_type": "execute_result"
    }
   ],
   "source": [
    "statsm.index"
   ]
  },
  {
   "cell_type": "code",
   "execution_count": 98,
   "id": "69f72a24",
   "metadata": {},
   "outputs": [],
   "source": [
    "statsm.columns=['mean','std','size','lb','ub']"
   ]
  },
  {
   "cell_type": "code",
   "execution_count": 99,
   "id": "ce0fc955",
   "metadata": {},
   "outputs": [],
   "source": [
    "statsm['month']=statsm.index"
   ]
  },
  {
   "cell_type": "code",
   "execution_count": 100,
   "id": "ae77f470",
   "metadata": {},
   "outputs": [
    {
     "data": {
      "text/html": [
       "<div>\n",
       "<style scoped>\n",
       "    .dataframe tbody tr th:only-of-type {\n",
       "        vertical-align: middle;\n",
       "    }\n",
       "\n",
       "    .dataframe tbody tr th {\n",
       "        vertical-align: top;\n",
       "    }\n",
       "\n",
       "    .dataframe thead th {\n",
       "        text-align: right;\n",
       "    }\n",
       "</style>\n",
       "<table border=\"1\" class=\"dataframe\">\n",
       "  <thead>\n",
       "    <tr style=\"text-align: right;\">\n",
       "      <th></th>\n",
       "      <th>mean</th>\n",
       "      <th>std</th>\n",
       "      <th>size</th>\n",
       "      <th>lb</th>\n",
       "      <th>ub</th>\n",
       "      <th>month</th>\n",
       "    </tr>\n",
       "    <tr>\n",
       "      <th>month</th>\n",
       "      <th></th>\n",
       "      <th></th>\n",
       "      <th></th>\n",
       "      <th></th>\n",
       "      <th></th>\n",
       "      <th></th>\n",
       "    </tr>\n",
       "  </thead>\n",
       "  <tbody>\n",
       "    <tr>\n",
       "      <th>Jan</th>\n",
       "      <td>899.645161</td>\n",
       "      <td>251.335970</td>\n",
       "      <td>31</td>\n",
       "      <td>807.454383</td>\n",
       "      <td>991.835939</td>\n",
       "      <td>Jan</td>\n",
       "    </tr>\n",
       "    <tr>\n",
       "      <th>Feb</th>\n",
       "      <td>374.409091</td>\n",
       "      <td>288.087868</td>\n",
       "      <td>44</td>\n",
       "      <td>286.822374</td>\n",
       "      <td>461.995808</td>\n",
       "      <td>Feb</td>\n",
       "    </tr>\n",
       "    <tr>\n",
       "      <th>Mar</th>\n",
       "      <td>329.290323</td>\n",
       "      <td>310.292849</td>\n",
       "      <td>62</td>\n",
       "      <td>250.490694</td>\n",
       "      <td>408.089951</td>\n",
       "      <td>Mar</td>\n",
       "    </tr>\n",
       "    <tr>\n",
       "      <th>Apr</th>\n",
       "      <td>504.133333</td>\n",
       "      <td>354.246465</td>\n",
       "      <td>60</td>\n",
       "      <td>412.621768</td>\n",
       "      <td>595.644899</td>\n",
       "      <td>Apr</td>\n",
       "    </tr>\n",
       "    <tr>\n",
       "      <th>May</th>\n",
       "      <td>879.774194</td>\n",
       "      <td>346.475245</td>\n",
       "      <td>62</td>\n",
       "      <td>791.785956</td>\n",
       "      <td>967.762431</td>\n",
       "      <td>May</td>\n",
       "    </tr>\n",
       "    <tr>\n",
       "      <th>Jun</th>\n",
       "      <td>1032.633333</td>\n",
       "      <td>454.674216</td>\n",
       "      <td>60</td>\n",
       "      <td>915.178529</td>\n",
       "      <td>1150.088138</td>\n",
       "      <td>Jun</td>\n",
       "    </tr>\n",
       "    <tr>\n",
       "      <th>Jul</th>\n",
       "      <td>463.661290</td>\n",
       "      <td>437.595552</td>\n",
       "      <td>62</td>\n",
       "      <td>352.532828</td>\n",
       "      <td>574.789752</td>\n",
       "      <td>Jul</td>\n",
       "    </tr>\n",
       "    <tr>\n",
       "      <th>Aug</th>\n",
       "      <td>145.806452</td>\n",
       "      <td>60.683224</td>\n",
       "      <td>62</td>\n",
       "      <td>130.395798</td>\n",
       "      <td>161.217105</td>\n",
       "      <td>Aug</td>\n",
       "    </tr>\n",
       "    <tr>\n",
       "      <th>Sep</th>\n",
       "      <td>339.033333</td>\n",
       "      <td>225.855584</td>\n",
       "      <td>60</td>\n",
       "      <td>280.688649</td>\n",
       "      <td>397.378017</td>\n",
       "      <td>Sep</td>\n",
       "    </tr>\n",
       "    <tr>\n",
       "      <th>Oct</th>\n",
       "      <td>497.580645</td>\n",
       "      <td>362.321547</td>\n",
       "      <td>62</td>\n",
       "      <td>405.568201</td>\n",
       "      <td>589.593089</td>\n",
       "      <td>Oct</td>\n",
       "    </tr>\n",
       "    <tr>\n",
       "      <th>Nov</th>\n",
       "      <td>598.616667</td>\n",
       "      <td>370.082496</td>\n",
       "      <td>60</td>\n",
       "      <td>503.014220</td>\n",
       "      <td>694.219113</td>\n",
       "      <td>Nov</td>\n",
       "    </tr>\n",
       "    <tr>\n",
       "      <th>Dec</th>\n",
       "      <td>792.709677</td>\n",
       "      <td>300.346870</td>\n",
       "      <td>62</td>\n",
       "      <td>716.435854</td>\n",
       "      <td>868.983501</td>\n",
       "      <td>Dec</td>\n",
       "    </tr>\n",
       "  </tbody>\n",
       "</table>\n",
       "</div>"
      ],
      "text/plain": [
       "              mean         std  size          lb           ub month\n",
       "month                                                              \n",
       "Jan     899.645161  251.335970    31  807.454383   991.835939   Jan\n",
       "Feb     374.409091  288.087868    44  286.822374   461.995808   Feb\n",
       "Mar     329.290323  310.292849    62  250.490694   408.089951   Mar\n",
       "Apr     504.133333  354.246465    60  412.621768   595.644899   Apr\n",
       "May     879.774194  346.475245    62  791.785956   967.762431   May\n",
       "Jun    1032.633333  454.674216    60  915.178529  1150.088138   Jun\n",
       "Jul     463.661290  437.595552    62  352.532828   574.789752   Jul\n",
       "Aug     145.806452   60.683224    62  130.395798   161.217105   Aug\n",
       "Sep     339.033333  225.855584    60  280.688649   397.378017   Sep\n",
       "Oct     497.580645  362.321547    62  405.568201   589.593089   Oct\n",
       "Nov     598.616667  370.082496    60  503.014220   694.219113   Nov\n",
       "Dec     792.709677  300.346870    62  716.435854   868.983501   Dec"
      ]
     },
     "execution_count": 100,
     "metadata": {},
     "output_type": "execute_result"
    }
   ],
   "source": [
    "statsm"
   ]
  },
  {
   "cell_type": "code",
   "execution_count": 101,
   "id": "196fef07",
   "metadata": {},
   "outputs": [],
   "source": [
    "import matplotlib.pyplot as plt"
   ]
  },
  {
   "cell_type": "code",
   "execution_count": 102,
   "id": "3f56ff36",
   "metadata": {},
   "outputs": [
    {
     "data": {
      "image/png": "[encoded data removed]",
      "text/plain": [
       "<Figure size 432x288 with 1 Axes>"
      ]
     },
     "metadata": {
      "needs_background": "light"
     },
     "output_type": "display_data"
    }
   ],
   "source": [
    "plt.plot( 'month', 'mean', data=statsm, marker='s', color='black', markersize=4,     linewidth=1, linestyle='--')\n",
    "plt.plot( 'month', 'mean', data=statsm, marker='o', color='black',  markersize=4, linewidth=1,linestyle='-')\n",
    "plt.xlabel(\"Month\")\n",
    "plt.ylabel(\"Average Daily COVID CASES\")\n",
    "plt.show()"
   ]
  },
  {
   "cell_type": "markdown",
   "id": "7470a8b5",
   "metadata": {},
   "source": [
    "We will do the same graph now but only on the year 2021. We will first create the column `year`. It works as follows:\n",
    "1. We first tell to Python that the `date` column is composed of dates object\n",
    "2. We can then tell to Python to extract the year from the date"
   ]
  },
  {
   "cell_type": "code",
   "execution_count": 103,
   "id": "112ad741",
   "metadata": {},
   "outputs": [
    {
     "data": {
      "text/plain": [
       "'2020-02-24'"
      ]
     },
     "execution_count": 103,
     "metadata": {},
     "output_type": "execute_result"
    }
   ],
   "source": [
    "df['date'][0]"
   ]
  },
  {
   "cell_type": "code",
   "execution_count": 104,
   "id": "38e4d11d",
   "metadata": {},
   "outputs": [],
   "source": [
    "df['date'] = pd. to_datetime(df['date'],format='%Y-%m-%d')"
   ]
  },
  {
   "cell_type": "code",
   "execution_count": 105,
   "id": "b2da5c64",
   "metadata": {},
   "outputs": [
    {
     "data": {
      "text/plain": [
       "Timestamp('2020-02-24 00:00:00')"
      ]
     },
     "execution_count": 105,
     "metadata": {},
     "output_type": "execute_result"
    }
   ],
   "source": [
    "df['date'][0]"
   ]
  },
  {
   "cell_type": "code",
   "execution_count": 106,
   "id": "8eea7d01",
   "metadata": {},
   "outputs": [],
   "source": [
    "df['year'] = pd. DatetimeIndex(df['date']). year"
   ]
  },
  {
   "cell_type": "code",
   "execution_count": 107,
   "id": "0d6a0dd0",
   "metadata": {},
   "outputs": [
    {
     "data": {
      "text/plain": [
       "2020"
      ]
     },
     "execution_count": 107,
     "metadata": {},
     "output_type": "execute_result"
    }
   ],
   "source": [
    "df['year'][0]"
   ]
  },
  {
   "cell_type": "markdown",
   "id": "fc1e6c5f",
   "metadata": {},
   "source": [
    "I compute now, by country, by year, by month the following statistics on the daily COVID cases: mean, std, size, CI(95%) LB, and UB."
   ]
  },
  {
   "cell_type": "code",
   "execution_count": 108,
   "id": "eeeccb14",
   "metadata": {},
   "outputs": [],
   "source": [
    "statsdcases=df.groupby(['country','year','month']).agg({\"dcases\": [np.mean, np.std, np.size,get_ci_lb,get_ci_ub]})"
   ]
  },
  {
   "cell_type": "code",
   "execution_count": 109,
   "id": "a0d3de2e",
   "metadata": {},
   "outputs": [
    {
     "data": {
      "text/html": [
       "<div>\n",
       "<style scoped>\n",
       "    .dataframe tbody tr th:only-of-type {\n",
       "        vertical-align: middle;\n",
       "    }\n",
       "\n",
       "    .dataframe tbody tr th {\n",
       "        vertical-align: top;\n",
       "    }\n",
       "\n",
       "    .dataframe thead tr th {\n",
       "        text-align: left;\n",
       "    }\n",
       "\n",
       "    .dataframe thead tr:last-of-type th {\n",
       "        text-align: right;\n",
       "    }\n",
       "</style>\n",
       "<table border=\"1\" class=\"dataframe\">\n",
       "  <thead>\n",
       "    <tr>\n",
       "      <th></th>\n",
       "      <th></th>\n",
       "      <th></th>\n",
       "      <th colspan=\"5\" halign=\"left\">dcases</th>\n",
       "    </tr>\n",
       "    <tr>\n",
       "      <th></th>\n",
       "      <th></th>\n",
       "      <th></th>\n",
       "      <th>mean</th>\n",
       "      <th>std</th>\n",
       "      <th>size</th>\n",
       "      <th>get_ci_lb</th>\n",
       "      <th>get_ci_ub</th>\n",
       "    </tr>\n",
       "    <tr>\n",
       "      <th>country</th>\n",
       "      <th>year</th>\n",
       "      <th>month</th>\n",
       "      <th></th>\n",
       "      <th></th>\n",
       "      <th></th>\n",
       "      <th></th>\n",
       "      <th></th>\n",
       "    </tr>\n",
       "  </thead>\n",
       "  <tbody>\n",
       "    <tr>\n",
       "      <th rowspan=\"5\" valign=\"top\">Afghanistan</th>\n",
       "      <th rowspan=\"5\" valign=\"top\">2020</th>\n",
       "      <th>Jan</th>\n",
       "      <td>NaN</td>\n",
       "      <td>NaN</td>\n",
       "      <td>NaN</td>\n",
       "      <td>NaN</td>\n",
       "      <td>NaN</td>\n",
       "    </tr>\n",
       "    <tr>\n",
       "      <th>Feb</th>\n",
       "      <td>0.833333</td>\n",
       "      <td>2.041241</td>\n",
       "      <td>6.0</td>\n",
       "      <td>-1.308818</td>\n",
       "      <td>2.975485</td>\n",
       "    </tr>\n",
       "    <tr>\n",
       "      <th>Mar</th>\n",
       "      <td>5.258065</td>\n",
       "      <td>10.871883</td>\n",
       "      <td>31.0</td>\n",
       "      <td>1.270225</td>\n",
       "      <td>9.245904</td>\n",
       "    </tr>\n",
       "    <tr>\n",
       "      <th>Apr</th>\n",
       "      <td>55.366667</td>\n",
       "      <td>40.385627</td>\n",
       "      <td>30.0</td>\n",
       "      <td>40.286426</td>\n",
       "      <td>70.446908</td>\n",
       "    </tr>\n",
       "    <tr>\n",
       "      <th>May</th>\n",
       "      <td>430.741935</td>\n",
       "      <td>266.692078</td>\n",
       "      <td>31.0</td>\n",
       "      <td>332.918491</td>\n",
       "      <td>528.565379</td>\n",
       "    </tr>\n",
       "    <tr>\n",
       "      <th>...</th>\n",
       "      <th>...</th>\n",
       "      <th>...</th>\n",
       "      <td>...</td>\n",
       "      <td>...</td>\n",
       "      <td>...</td>\n",
       "      <td>...</td>\n",
       "      <td>...</td>\n",
       "    </tr>\n",
       "    <tr>\n",
       "      <th rowspan=\"5\" valign=\"top\">Zimbabwe</th>\n",
       "      <th rowspan=\"5\" valign=\"top\">2021</th>\n",
       "      <th>Aug</th>\n",
       "      <td>513.322581</td>\n",
       "      <td>386.841948</td>\n",
       "      <td>31.0</td>\n",
       "      <td>371.427809</td>\n",
       "      <td>655.217353</td>\n",
       "    </tr>\n",
       "    <tr>\n",
       "      <th>Sep</th>\n",
       "      <td>201.566667</td>\n",
       "      <td>135.119789</td>\n",
       "      <td>30.0</td>\n",
       "      <td>151.112108</td>\n",
       "      <td>252.021225</td>\n",
       "    </tr>\n",
       "    <tr>\n",
       "      <th>Oct</th>\n",
       "      <td>69.580645</td>\n",
       "      <td>58.035492</td>\n",
       "      <td>31.0</td>\n",
       "      <td>48.293055</td>\n",
       "      <td>90.868235</td>\n",
       "    </tr>\n",
       "    <tr>\n",
       "      <th>Nov</th>\n",
       "      <td>54.933333</td>\n",
       "      <td>82.622087</td>\n",
       "      <td>30.0</td>\n",
       "      <td>24.081739</td>\n",
       "      <td>85.784928</td>\n",
       "    </tr>\n",
       "    <tr>\n",
       "      <th>Dec</th>\n",
       "      <td>2536.548387</td>\n",
       "      <td>2572.199964</td>\n",
       "      <td>31.0</td>\n",
       "      <td>1593.057823</td>\n",
       "      <td>3480.038951</td>\n",
       "    </tr>\n",
       "  </tbody>\n",
       "</table>\n",
       "<p>4488 rows × 5 columns</p>\n",
       "</div>"
      ],
      "text/plain": [
       "                             dcases                                  \\\n",
       "                               mean          std  size    get_ci_lb   \n",
       "country     year month                                                \n",
       "Afghanistan 2020 Jan            NaN          NaN   NaN          NaN   \n",
       "                 Feb       0.833333     2.041241   6.0    -1.308818   \n",
       "                 Mar       5.258065    10.871883  31.0     1.270225   \n",
       "                 Apr      55.366667    40.385627  30.0    40.286426   \n",
       "                 May     430.741935   266.692078  31.0   332.918491   \n",
       "...                             ...          ...   ...          ...   \n",
       "Zimbabwe    2021 Aug     513.322581   386.841948  31.0   371.427809   \n",
       "                 Sep     201.566667   135.119789  30.0   151.112108   \n",
       "                 Oct      69.580645    58.035492  31.0    48.293055   \n",
       "                 Nov      54.933333    82.622087  30.0    24.081739   \n",
       "                 Dec    2536.548387  2572.199964  31.0  1593.057823   \n",
       "\n",
       "                                     \n",
       "                          get_ci_ub  \n",
       "country     year month               \n",
       "Afghanistan 2020 Jan            NaN  \n",
       "                 Feb       2.975485  \n",
       "                 Mar       9.245904  \n",
       "                 Apr      70.446908  \n",
       "                 May     528.565379  \n",
       "...                             ...  \n",
       "Zimbabwe    2021 Aug     655.217353  \n",
       "                 Sep     252.021225  \n",
       "                 Oct      90.868235  \n",
       "                 Nov      85.784928  \n",
       "                 Dec    3480.038951  \n",
       "\n",
       "[4488 rows x 5 columns]"
      ]
     },
     "execution_count": 109,
     "metadata": {},
     "output_type": "execute_result"
    }
   ],
   "source": [
    "statsdcases"
   ]
  },
  {
   "cell_type": "markdown",
   "id": "0b1cf4ec",
   "metadata": {},
   "source": [
    "Transform the data index to columns"
   ]
  },
  {
   "cell_type": "code",
   "execution_count": 110,
   "id": "29860070",
   "metadata": {},
   "outputs": [],
   "source": [
    "statsdcases=statsdcases.reset_index()"
   ]
  },
  {
   "cell_type": "code",
   "execution_count": 111,
   "id": "06e3a285",
   "metadata": {},
   "outputs": [
    {
     "data": {
      "text/html": [
       "<div>\n",
       "<style scoped>\n",
       "    .dataframe tbody tr th:only-of-type {\n",
       "        vertical-align: middle;\n",
       "    }\n",
       "\n",
       "    .dataframe tbody tr th {\n",
       "        vertical-align: top;\n",
       "    }\n",
       "\n",
       "    .dataframe thead tr th {\n",
       "        text-align: left;\n",
       "    }\n",
       "</style>\n",
       "<table border=\"1\" class=\"dataframe\">\n",
       "  <thead>\n",
       "    <tr>\n",
       "      <th></th>\n",
       "      <th>country</th>\n",
       "      <th>year</th>\n",
       "      <th>month</th>\n",
       "      <th colspan=\"5\" halign=\"left\">dcases</th>\n",
       "    </tr>\n",
       "    <tr>\n",
       "      <th></th>\n",
       "      <th></th>\n",
       "      <th></th>\n",
       "      <th></th>\n",
       "      <th>mean</th>\n",
       "      <th>std</th>\n",
       "      <th>size</th>\n",
       "      <th>get_ci_lb</th>\n",
       "      <th>get_ci_ub</th>\n",
       "    </tr>\n",
       "  </thead>\n",
       "  <tbody>\n",
       "    <tr>\n",
       "      <th>0</th>\n",
       "      <td>Afghanistan</td>\n",
       "      <td>2020</td>\n",
       "      <td>Jan</td>\n",
       "      <td>NaN</td>\n",
       "      <td>NaN</td>\n",
       "      <td>NaN</td>\n",
       "      <td>NaN</td>\n",
       "      <td>NaN</td>\n",
       "    </tr>\n",
       "    <tr>\n",
       "      <th>1</th>\n",
       "      <td>Afghanistan</td>\n",
       "      <td>2020</td>\n",
       "      <td>Feb</td>\n",
       "      <td>0.833333</td>\n",
       "      <td>2.041241</td>\n",
       "      <td>6.0</td>\n",
       "      <td>-1.308818</td>\n",
       "      <td>2.975485</td>\n",
       "    </tr>\n",
       "    <tr>\n",
       "      <th>2</th>\n",
       "      <td>Afghanistan</td>\n",
       "      <td>2020</td>\n",
       "      <td>Mar</td>\n",
       "      <td>5.258065</td>\n",
       "      <td>10.871883</td>\n",
       "      <td>31.0</td>\n",
       "      <td>1.270225</td>\n",
       "      <td>9.245904</td>\n",
       "    </tr>\n",
       "    <tr>\n",
       "      <th>3</th>\n",
       "      <td>Afghanistan</td>\n",
       "      <td>2020</td>\n",
       "      <td>Apr</td>\n",
       "      <td>55.366667</td>\n",
       "      <td>40.385627</td>\n",
       "      <td>30.0</td>\n",
       "      <td>40.286426</td>\n",
       "      <td>70.446908</td>\n",
       "    </tr>\n",
       "    <tr>\n",
       "      <th>4</th>\n",
       "      <td>Afghanistan</td>\n",
       "      <td>2020</td>\n",
       "      <td>May</td>\n",
       "      <td>430.741935</td>\n",
       "      <td>266.692078</td>\n",
       "      <td>31.0</td>\n",
       "      <td>332.918491</td>\n",
       "      <td>528.565379</td>\n",
       "    </tr>\n",
       "    <tr>\n",
       "      <th>...</th>\n",
       "      <td>...</td>\n",
       "      <td>...</td>\n",
       "      <td>...</td>\n",
       "      <td>...</td>\n",
       "      <td>...</td>\n",
       "      <td>...</td>\n",
       "      <td>...</td>\n",
       "      <td>...</td>\n",
       "    </tr>\n",
       "    <tr>\n",
       "      <th>4483</th>\n",
       "      <td>Zimbabwe</td>\n",
       "      <td>2021</td>\n",
       "      <td>Aug</td>\n",
       "      <td>513.322581</td>\n",
       "      <td>386.841948</td>\n",
       "      <td>31.0</td>\n",
       "      <td>371.427809</td>\n",
       "      <td>655.217353</td>\n",
       "    </tr>\n",
       "    <tr>\n",
       "      <th>4484</th>\n",
       "      <td>Zimbabwe</td>\n",
       "      <td>2021</td>\n",
       "      <td>Sep</td>\n",
       "      <td>201.566667</td>\n",
       "      <td>135.119789</td>\n",
       "      <td>30.0</td>\n",
       "      <td>151.112108</td>\n",
       "      <td>252.021225</td>\n",
       "    </tr>\n",
       "    <tr>\n",
       "      <th>4485</th>\n",
       "      <td>Zimbabwe</td>\n",
       "      <td>2021</td>\n",
       "      <td>Oct</td>\n",
       "      <td>69.580645</td>\n",
       "      <td>58.035492</td>\n",
       "      <td>31.0</td>\n",
       "      <td>48.293055</td>\n",
       "      <td>90.868235</td>\n",
       "    </tr>\n",
       "    <tr>\n",
       "      <th>4486</th>\n",
       "      <td>Zimbabwe</td>\n",
       "      <td>2021</td>\n",
       "      <td>Nov</td>\n",
       "      <td>54.933333</td>\n",
       "      <td>82.622087</td>\n",
       "      <td>30.0</td>\n",
       "      <td>24.081739</td>\n",
       "      <td>85.784928</td>\n",
       "    </tr>\n",
       "    <tr>\n",
       "      <th>4487</th>\n",
       "      <td>Zimbabwe</td>\n",
       "      <td>2021</td>\n",
       "      <td>Dec</td>\n",
       "      <td>2536.548387</td>\n",
       "      <td>2572.199964</td>\n",
       "      <td>31.0</td>\n",
       "      <td>1593.057823</td>\n",
       "      <td>3480.038951</td>\n",
       "    </tr>\n",
       "  </tbody>\n",
       "</table>\n",
       "<p>4488 rows × 8 columns</p>\n",
       "</div>"
      ],
      "text/plain": [
       "          country  year month       dcases                                  \\\n",
       "                                      mean          std  size    get_ci_lb   \n",
       "0     Afghanistan  2020   Jan          NaN          NaN   NaN          NaN   \n",
       "1     Afghanistan  2020   Feb     0.833333     2.041241   6.0    -1.308818   \n",
       "2     Afghanistan  2020   Mar     5.258065    10.871883  31.0     1.270225   \n",
       "3     Afghanistan  2020   Apr    55.366667    40.385627  30.0    40.286426   \n",
       "4     Afghanistan  2020   May   430.741935   266.692078  31.0   332.918491   \n",
       "...           ...   ...   ...          ...          ...   ...          ...   \n",
       "4483     Zimbabwe  2021   Aug   513.322581   386.841948  31.0   371.427809   \n",
       "4484     Zimbabwe  2021   Sep   201.566667   135.119789  30.0   151.112108   \n",
       "4485     Zimbabwe  2021   Oct    69.580645    58.035492  31.0    48.293055   \n",
       "4486     Zimbabwe  2021   Nov    54.933333    82.622087  30.0    24.081739   \n",
       "4487     Zimbabwe  2021   Dec  2536.548387  2572.199964  31.0  1593.057823   \n",
       "\n",
       "                   \n",
       "        get_ci_ub  \n",
       "0             NaN  \n",
       "1        2.975485  \n",
       "2        9.245904  \n",
       "3       70.446908  \n",
       "4      528.565379  \n",
       "...           ...  \n",
       "4483   655.217353  \n",
       "4484   252.021225  \n",
       "4485    90.868235  \n",
       "4486    85.784928  \n",
       "4487  3480.038951  \n",
       "\n",
       "[4488 rows x 8 columns]"
      ]
     },
     "execution_count": 111,
     "metadata": {},
     "output_type": "execute_result"
    }
   ],
   "source": [
    "statsdcases"
   ]
  },
  {
   "cell_type": "markdown",
   "id": "efbd9aee",
   "metadata": {},
   "source": [
    "Filter now the Egypt data on 2021"
   ]
  },
  {
   "cell_type": "code",
   "execution_count": 112,
   "id": "92aa9285",
   "metadata": {},
   "outputs": [],
   "source": [
    "statsEgy=statsdcases[(statsdcases['country']=='Egypt') & (statsdcases['year']==2021)]"
   ]
  },
  {
   "cell_type": "code",
   "execution_count": 113,
   "id": "9c6f1a22",
   "metadata": {},
   "outputs": [
    {
     "data": {
      "text/html": [
       "<div>\n",
       "<style scoped>\n",
       "    .dataframe tbody tr th:only-of-type {\n",
       "        vertical-align: middle;\n",
       "    }\n",
       "\n",
       "    .dataframe tbody tr th {\n",
       "        vertical-align: top;\n",
       "    }\n",
       "\n",
       "    .dataframe thead tr th {\n",
       "        text-align: left;\n",
       "    }\n",
       "</style>\n",
       "<table border=\"1\" class=\"dataframe\">\n",
       "  <thead>\n",
       "    <tr>\n",
       "      <th></th>\n",
       "      <th>country</th>\n",
       "      <th>year</th>\n",
       "      <th>month</th>\n",
       "      <th colspan=\"5\" halign=\"left\">dcases</th>\n",
       "    </tr>\n",
       "    <tr>\n",
       "      <th></th>\n",
       "      <th></th>\n",
       "      <th></th>\n",
       "      <th></th>\n",
       "      <th>mean</th>\n",
       "      <th>std</th>\n",
       "      <th>size</th>\n",
       "      <th>get_ci_lb</th>\n",
       "      <th>get_ci_ub</th>\n",
       "    </tr>\n",
       "  </thead>\n",
       "  <tbody>\n",
       "    <tr>\n",
       "      <th>1236</th>\n",
       "      <td>Egypt</td>\n",
       "      <td>2021</td>\n",
       "      <td>Jan</td>\n",
       "      <td>899.645161</td>\n",
       "      <td>251.335970</td>\n",
       "      <td>31.0</td>\n",
       "      <td>807.454383</td>\n",
       "      <td>991.835939</td>\n",
       "    </tr>\n",
       "    <tr>\n",
       "      <th>1237</th>\n",
       "      <td>Egypt</td>\n",
       "      <td>2021</td>\n",
       "      <td>Feb</td>\n",
       "      <td>588.321429</td>\n",
       "      <td>40.989659</td>\n",
       "      <td>28.0</td>\n",
       "      <td>572.427298</td>\n",
       "      <td>604.215559</td>\n",
       "    </tr>\n",
       "    <tr>\n",
       "      <th>1238</th>\n",
       "      <td>Egypt</td>\n",
       "      <td>2021</td>\n",
       "      <td>Mar</td>\n",
       "      <td>635.709677</td>\n",
       "      <td>36.309038</td>\n",
       "      <td>31.0</td>\n",
       "      <td>622.391415</td>\n",
       "      <td>649.027940</td>\n",
       "    </tr>\n",
       "    <tr>\n",
       "      <th>1239</th>\n",
       "      <td>Egypt</td>\n",
       "      <td>2021</td>\n",
       "      <td>Apr</td>\n",
       "      <td>847.366667</td>\n",
       "      <td>92.416405</td>\n",
       "      <td>30.0</td>\n",
       "      <td>812.857814</td>\n",
       "      <td>881.875520</td>\n",
       "    </tr>\n",
       "    <tr>\n",
       "      <th>1240</th>\n",
       "      <td>Egypt</td>\n",
       "      <td>2021</td>\n",
       "      <td>May</td>\n",
       "      <td>1132.193548</td>\n",
       "      <td>55.087457</td>\n",
       "      <td>31.0</td>\n",
       "      <td>1111.987306</td>\n",
       "      <td>1152.399791</td>\n",
       "    </tr>\n",
       "    <tr>\n",
       "      <th>1241</th>\n",
       "      <td>Egypt</td>\n",
       "      <td>2021</td>\n",
       "      <td>Jun</td>\n",
       "      <td>621.066667</td>\n",
       "      <td>197.770841</td>\n",
       "      <td>30.0</td>\n",
       "      <td>547.217821</td>\n",
       "      <td>694.915513</td>\n",
       "    </tr>\n",
       "    <tr>\n",
       "      <th>1242</th>\n",
       "      <td>Egypt</td>\n",
       "      <td>2021</td>\n",
       "      <td>Jul</td>\n",
       "      <td>96.129032</td>\n",
       "      <td>61.659139</td>\n",
       "      <td>31.0</td>\n",
       "      <td>73.512277</td>\n",
       "      <td>118.745787</td>\n",
       "    </tr>\n",
       "    <tr>\n",
       "      <th>1243</th>\n",
       "      <td>Egypt</td>\n",
       "      <td>2021</td>\n",
       "      <td>Aug</td>\n",
       "      <td>134.806452</td>\n",
       "      <td>73.635326</td>\n",
       "      <td>31.0</td>\n",
       "      <td>107.796796</td>\n",
       "      <td>161.816107</td>\n",
       "    </tr>\n",
       "    <tr>\n",
       "      <th>1244</th>\n",
       "      <td>Egypt</td>\n",
       "      <td>2021</td>\n",
       "      <td>Sep</td>\n",
       "      <td>536.100000</td>\n",
       "      <td>151.276488</td>\n",
       "      <td>30.0</td>\n",
       "      <td>479.612431</td>\n",
       "      <td>592.587569</td>\n",
       "    </tr>\n",
       "    <tr>\n",
       "      <th>1245</th>\n",
       "      <td>Egypt</td>\n",
       "      <td>2021</td>\n",
       "      <td>Oct</td>\n",
       "      <td>854.612903</td>\n",
       "      <td>53.664189</td>\n",
       "      <td>31.0</td>\n",
       "      <td>834.928720</td>\n",
       "      <td>874.297087</td>\n",
       "    </tr>\n",
       "    <tr>\n",
       "      <th>1246</th>\n",
       "      <td>Egypt</td>\n",
       "      <td>2021</td>\n",
       "      <td>Nov</td>\n",
       "      <td>918.700000</td>\n",
       "      <td>248.217528</td>\n",
       "      <td>30.0</td>\n",
       "      <td>826.014052</td>\n",
       "      <td>1011.385948</td>\n",
       "    </tr>\n",
       "    <tr>\n",
       "      <th>1247</th>\n",
       "      <td>Egypt</td>\n",
       "      <td>2021</td>\n",
       "      <td>Dec</td>\n",
       "      <td>870.870968</td>\n",
       "      <td>212.967093</td>\n",
       "      <td>31.0</td>\n",
       "      <td>792.754007</td>\n",
       "      <td>948.987928</td>\n",
       "    </tr>\n",
       "  </tbody>\n",
       "</table>\n",
       "</div>"
      ],
      "text/plain": [
       "     country  year month       dcases                                 \\\n",
       "                                 mean         std  size    get_ci_lb   \n",
       "1236   Egypt  2021   Jan   899.645161  251.335970  31.0   807.454383   \n",
       "1237   Egypt  2021   Feb   588.321429   40.989659  28.0   572.427298   \n",
       "1238   Egypt  2021   Mar   635.709677   36.309038  31.0   622.391415   \n",
       "1239   Egypt  2021   Apr   847.366667   92.416405  30.0   812.857814   \n",
       "1240   Egypt  2021   May  1132.193548   55.087457  31.0  1111.987306   \n",
       "1241   Egypt  2021   Jun   621.066667  197.770841  30.0   547.217821   \n",
       "1242   Egypt  2021   Jul    96.129032   61.659139  31.0    73.512277   \n",
       "1243   Egypt  2021   Aug   134.806452   73.635326  31.0   107.796796   \n",
       "1244   Egypt  2021   Sep   536.100000  151.276488  30.0   479.612431   \n",
       "1245   Egypt  2021   Oct   854.612903   53.664189  31.0   834.928720   \n",
       "1246   Egypt  2021   Nov   918.700000  248.217528  30.0   826.014052   \n",
       "1247   Egypt  2021   Dec   870.870968  212.967093  31.0   792.754007   \n",
       "\n",
       "                   \n",
       "        get_ci_ub  \n",
       "1236   991.835939  \n",
       "1237   604.215559  \n",
       "1238   649.027940  \n",
       "1239   881.875520  \n",
       "1240  1152.399791  \n",
       "1241   694.915513  \n",
       "1242   118.745787  \n",
       "1243   161.816107  \n",
       "1244   592.587569  \n",
       "1245   874.297087  \n",
       "1246  1011.385948  \n",
       "1247   948.987928  "
      ]
     },
     "execution_count": 113,
     "metadata": {},
     "output_type": "execute_result"
    }
   ],
   "source": [
    "statsEgy"
   ]
  },
  {
   "cell_type": "code",
   "execution_count": 114,
   "id": "861f76b6",
   "metadata": {},
   "outputs": [
    {
     "data": {
      "text/plain": [
       "MultiIndex([('country',          ''),\n",
       "            (   'year',          ''),\n",
       "            (  'month',          ''),\n",
       "            ( 'dcases',      'mean'),\n",
       "            ( 'dcases',       'std'),\n",
       "            ( 'dcases',      'size'),\n",
       "            ( 'dcases', 'get_ci_lb'),\n",
       "            ( 'dcases', 'get_ci_ub')],\n",
       "           )"
      ]
     },
     "execution_count": 114,
     "metadata": {},
     "output_type": "execute_result"
    }
   ],
   "source": [
    "statsEgy.columns"
   ]
  },
  {
   "cell_type": "code",
   "execution_count": 115,
   "id": "4b5887bc",
   "metadata": {},
   "outputs": [],
   "source": [
    "statsEgy.columns=['country','year','month','mean','std','size','lb','ub']"
   ]
  },
  {
   "cell_type": "markdown",
   "id": "bd0651c7",
   "metadata": {},
   "source": [
    "Draw then the average daily COVID cases by month in Egypt. "
   ]
  },
  {
   "cell_type": "code",
   "execution_count": 116,
   "id": "65b24917",
   "metadata": {},
   "outputs": [
    {
     "data": {
      "image/png": "[encoded data removed]",
      "text/plain": [
       "<Figure size 432x288 with 1 Axes>"
      ]
     },
     "metadata": {
      "needs_background": "light"
     },
     "output_type": "display_data"
    }
   ],
   "source": [
    "plt.plot( 'month', 'mean', data=statsEgy, marker='s', color='black', markersize=4,     linewidth=1, linestyle='--')\n",
    "plt.plot( 'month', 'mean', data=statsEgy, marker='o', color='black',  markersize=4, linewidth=1,linestyle='-')\n",
    "plt.xlabel(\"Month\")\n",
    "plt.ylabel(\"Average Daily COVID CASES\")\n",
    "plt.title(\"Egypt\")\n",
    "plt.show()"
   ]
  },
  {
   "cell_type": "code",
   "execution_count": 117,
   "id": "dce5169f",
   "metadata": {},
   "outputs": [],
   "source": [
    "ci_lb_ub=[statsEgy['lb'],statsEgy['ub']]"
   ]
  },
  {
   "cell_type": "code",
   "execution_count": 118,
   "id": "686a126f",
   "metadata": {},
   "outputs": [],
   "source": [
    "err = np.abs(ci_lb_ub - statsEgy['mean'].to_numpy())"
   ]
  },
  {
   "cell_type": "code",
   "execution_count": 119,
   "id": "248908e6",
   "metadata": {},
   "outputs": [
    {
     "data": {
      "image/png": "[encoded data removed]",
      "text/plain": [
       "<Figure size 432x288 with 1 Axes>"
      ]
     },
     "metadata": {
      "needs_background": "light"
     },
     "output_type": "display_data"
    }
   ],
   "source": [
    "plt.errorbar('month', 'mean',  yerr=err, data=statsEgy,marker='s', capsize=2,\n",
    "             color='black', markersize=4, linewidth=1, linestyle='--')\n",
    "plt.xlabel(\"Month\")\n",
    "plt.ylabel(\"Average Daily COVID CASES\")\n",
    "plt.title(\"Egypt\")\n",
    "plt.show()"
   ]
  },
  {
   "cell_type": "markdown",
   "id": "df76864d",
   "metadata": {},
   "source": [
    "Let's compare now between 2020 and 2021 "
   ]
  },
  {
   "cell_type": "code",
   "execution_count": 120,
   "id": "e8d185b0",
   "metadata": {},
   "outputs": [
    {
     "data": {
      "text/html": [
       "<div>\n",
       "<style scoped>\n",
       "    .dataframe tbody tr th:only-of-type {\n",
       "        vertical-align: middle;\n",
       "    }\n",
       "\n",
       "    .dataframe tbody tr th {\n",
       "        vertical-align: top;\n",
       "    }\n",
       "\n",
       "    .dataframe thead tr th {\n",
       "        text-align: left;\n",
       "    }\n",
       "</style>\n",
       "<table border=\"1\" class=\"dataframe\">\n",
       "  <thead>\n",
       "    <tr>\n",
       "      <th></th>\n",
       "      <th>country</th>\n",
       "      <th>year</th>\n",
       "      <th>month</th>\n",
       "      <th colspan=\"5\" halign=\"left\">dcases</th>\n",
       "    </tr>\n",
       "    <tr>\n",
       "      <th></th>\n",
       "      <th></th>\n",
       "      <th></th>\n",
       "      <th></th>\n",
       "      <th>mean</th>\n",
       "      <th>std</th>\n",
       "      <th>size</th>\n",
       "      <th>get_ci_lb</th>\n",
       "      <th>get_ci_ub</th>\n",
       "    </tr>\n",
       "  </thead>\n",
       "  <tbody>\n",
       "    <tr>\n",
       "      <th>1236</th>\n",
       "      <td>Egypt</td>\n",
       "      <td>2021</td>\n",
       "      <td>Jan</td>\n",
       "      <td>899.645161</td>\n",
       "      <td>251.335970</td>\n",
       "      <td>31.0</td>\n",
       "      <td>807.454383</td>\n",
       "      <td>991.835939</td>\n",
       "    </tr>\n",
       "    <tr>\n",
       "      <th>1237</th>\n",
       "      <td>Egypt</td>\n",
       "      <td>2021</td>\n",
       "      <td>Feb</td>\n",
       "      <td>588.321429</td>\n",
       "      <td>40.989659</td>\n",
       "      <td>28.0</td>\n",
       "      <td>572.427298</td>\n",
       "      <td>604.215559</td>\n",
       "    </tr>\n",
       "    <tr>\n",
       "      <th>1238</th>\n",
       "      <td>Egypt</td>\n",
       "      <td>2021</td>\n",
       "      <td>Mar</td>\n",
       "      <td>635.709677</td>\n",
       "      <td>36.309038</td>\n",
       "      <td>31.0</td>\n",
       "      <td>622.391415</td>\n",
       "      <td>649.027940</td>\n",
       "    </tr>\n",
       "    <tr>\n",
       "      <th>1239</th>\n",
       "      <td>Egypt</td>\n",
       "      <td>2021</td>\n",
       "      <td>Apr</td>\n",
       "      <td>847.366667</td>\n",
       "      <td>92.416405</td>\n",
       "      <td>30.0</td>\n",
       "      <td>812.857814</td>\n",
       "      <td>881.875520</td>\n",
       "    </tr>\n",
       "    <tr>\n",
       "      <th>1240</th>\n",
       "      <td>Egypt</td>\n",
       "      <td>2021</td>\n",
       "      <td>May</td>\n",
       "      <td>1132.193548</td>\n",
       "      <td>55.087457</td>\n",
       "      <td>31.0</td>\n",
       "      <td>1111.987306</td>\n",
       "      <td>1152.399791</td>\n",
       "    </tr>\n",
       "    <tr>\n",
       "      <th>1241</th>\n",
       "      <td>Egypt</td>\n",
       "      <td>2021</td>\n",
       "      <td>Jun</td>\n",
       "      <td>621.066667</td>\n",
       "      <td>197.770841</td>\n",
       "      <td>30.0</td>\n",
       "      <td>547.217821</td>\n",
       "      <td>694.915513</td>\n",
       "    </tr>\n",
       "    <tr>\n",
       "      <th>1242</th>\n",
       "      <td>Egypt</td>\n",
       "      <td>2021</td>\n",
       "      <td>Jul</td>\n",
       "      <td>96.129032</td>\n",
       "      <td>61.659139</td>\n",
       "      <td>31.0</td>\n",
       "      <td>73.512277</td>\n",
       "      <td>118.745787</td>\n",
       "    </tr>\n",
       "    <tr>\n",
       "      <th>1243</th>\n",
       "      <td>Egypt</td>\n",
       "      <td>2021</td>\n",
       "      <td>Aug</td>\n",
       "      <td>134.806452</td>\n",
       "      <td>73.635326</td>\n",
       "      <td>31.0</td>\n",
       "      <td>107.796796</td>\n",
       "      <td>161.816107</td>\n",
       "    </tr>\n",
       "    <tr>\n",
       "      <th>1244</th>\n",
       "      <td>Egypt</td>\n",
       "      <td>2021</td>\n",
       "      <td>Sep</td>\n",
       "      <td>536.100000</td>\n",
       "      <td>151.276488</td>\n",
       "      <td>30.0</td>\n",
       "      <td>479.612431</td>\n",
       "      <td>592.587569</td>\n",
       "    </tr>\n",
       "    <tr>\n",
       "      <th>1245</th>\n",
       "      <td>Egypt</td>\n",
       "      <td>2021</td>\n",
       "      <td>Oct</td>\n",
       "      <td>854.612903</td>\n",
       "      <td>53.664189</td>\n",
       "      <td>31.0</td>\n",
       "      <td>834.928720</td>\n",
       "      <td>874.297087</td>\n",
       "    </tr>\n",
       "    <tr>\n",
       "      <th>1246</th>\n",
       "      <td>Egypt</td>\n",
       "      <td>2021</td>\n",
       "      <td>Nov</td>\n",
       "      <td>918.700000</td>\n",
       "      <td>248.217528</td>\n",
       "      <td>30.0</td>\n",
       "      <td>826.014052</td>\n",
       "      <td>1011.385948</td>\n",
       "    </tr>\n",
       "    <tr>\n",
       "      <th>1247</th>\n",
       "      <td>Egypt</td>\n",
       "      <td>2021</td>\n",
       "      <td>Dec</td>\n",
       "      <td>870.870968</td>\n",
       "      <td>212.967093</td>\n",
       "      <td>31.0</td>\n",
       "      <td>792.754007</td>\n",
       "      <td>948.987928</td>\n",
       "    </tr>\n",
       "  </tbody>\n",
       "</table>\n",
       "</div>"
      ],
      "text/plain": [
       "     country  year month       dcases                                 \\\n",
       "                                 mean         std  size    get_ci_lb   \n",
       "1236   Egypt  2021   Jan   899.645161  251.335970  31.0   807.454383   \n",
       "1237   Egypt  2021   Feb   588.321429   40.989659  28.0   572.427298   \n",
       "1238   Egypt  2021   Mar   635.709677   36.309038  31.0   622.391415   \n",
       "1239   Egypt  2021   Apr   847.366667   92.416405  30.0   812.857814   \n",
       "1240   Egypt  2021   May  1132.193548   55.087457  31.0  1111.987306   \n",
       "1241   Egypt  2021   Jun   621.066667  197.770841  30.0   547.217821   \n",
       "1242   Egypt  2021   Jul    96.129032   61.659139  31.0    73.512277   \n",
       "1243   Egypt  2021   Aug   134.806452   73.635326  31.0   107.796796   \n",
       "1244   Egypt  2021   Sep   536.100000  151.276488  30.0   479.612431   \n",
       "1245   Egypt  2021   Oct   854.612903   53.664189  31.0   834.928720   \n",
       "1246   Egypt  2021   Nov   918.700000  248.217528  30.0   826.014052   \n",
       "1247   Egypt  2021   Dec   870.870968  212.967093  31.0   792.754007   \n",
       "\n",
       "                   \n",
       "        get_ci_ub  \n",
       "1236   991.835939  \n",
       "1237   604.215559  \n",
       "1238   649.027940  \n",
       "1239   881.875520  \n",
       "1240  1152.399791  \n",
       "1241   694.915513  \n",
       "1242   118.745787  \n",
       "1243   161.816107  \n",
       "1244   592.587569  \n",
       "1245   874.297087  \n",
       "1246  1011.385948  \n",
       "1247   948.987928  "
      ]
     },
     "execution_count": 120,
     "metadata": {},
     "output_type": "execute_result"
    }
   ],
   "source": [
    "statsEgy21=statsdcases[(statsdcases['country']=='Egypt')\n",
    "                       & (statsdcases['year']==2021)]\n",
    "statsEgy21"
   ]
  },
  {
   "cell_type": "code",
   "execution_count": 121,
   "id": "7362da1a",
   "metadata": {},
   "outputs": [
    {
     "data": {
      "text/html": [
       "<div>\n",
       "<style scoped>\n",
       "    .dataframe tbody tr th:only-of-type {\n",
       "        vertical-align: middle;\n",
       "    }\n",
       "\n",
       "    .dataframe tbody tr th {\n",
       "        vertical-align: top;\n",
       "    }\n",
       "\n",
       "    .dataframe thead tr th {\n",
       "        text-align: left;\n",
       "    }\n",
       "</style>\n",
       "<table border=\"1\" class=\"dataframe\">\n",
       "  <thead>\n",
       "    <tr>\n",
       "      <th></th>\n",
       "      <th>country</th>\n",
       "      <th>year</th>\n",
       "      <th>month</th>\n",
       "      <th colspan=\"5\" halign=\"left\">dcases</th>\n",
       "    </tr>\n",
       "    <tr>\n",
       "      <th></th>\n",
       "      <th></th>\n",
       "      <th></th>\n",
       "      <th></th>\n",
       "      <th>mean</th>\n",
       "      <th>std</th>\n",
       "      <th>size</th>\n",
       "      <th>get_ci_lb</th>\n",
       "      <th>get_ci_ub</th>\n",
       "    </tr>\n",
       "  </thead>\n",
       "  <tbody>\n",
       "    <tr>\n",
       "      <th>1224</th>\n",
       "      <td>Egypt</td>\n",
       "      <td>2020</td>\n",
       "      <td>Jan</td>\n",
       "      <td>NaN</td>\n",
       "      <td>NaN</td>\n",
       "      <td>NaN</td>\n",
       "      <td>NaN</td>\n",
       "      <td>NaN</td>\n",
       "    </tr>\n",
       "    <tr>\n",
       "      <th>1225</th>\n",
       "      <td>Egypt</td>\n",
       "      <td>2020</td>\n",
       "      <td>Feb</td>\n",
       "      <td>0.062500</td>\n",
       "      <td>0.250000</td>\n",
       "      <td>16.0</td>\n",
       "      <td>-0.070716</td>\n",
       "      <td>0.195716</td>\n",
       "    </tr>\n",
       "    <tr>\n",
       "      <th>1226</th>\n",
       "      <td>Egypt</td>\n",
       "      <td>2020</td>\n",
       "      <td>Mar</td>\n",
       "      <td>22.870968</td>\n",
       "      <td>20.228267</td>\n",
       "      <td>31.0</td>\n",
       "      <td>15.451179</td>\n",
       "      <td>30.290756</td>\n",
       "    </tr>\n",
       "    <tr>\n",
       "      <th>1227</th>\n",
       "      <td>Egypt</td>\n",
       "      <td>2020</td>\n",
       "      <td>Apr</td>\n",
       "      <td>160.900000</td>\n",
       "      <td>54.996144</td>\n",
       "      <td>30.0</td>\n",
       "      <td>140.364102</td>\n",
       "      <td>181.435898</td>\n",
       "    </tr>\n",
       "    <tr>\n",
       "      <th>1228</th>\n",
       "      <td>Egypt</td>\n",
       "      <td>2020</td>\n",
       "      <td>May</td>\n",
       "      <td>627.354839</td>\n",
       "      <td>330.723908</td>\n",
       "      <td>31.0</td>\n",
       "      <td>506.044330</td>\n",
       "      <td>748.665347</td>\n",
       "    </tr>\n",
       "    <tr>\n",
       "      <th>1229</th>\n",
       "      <td>Egypt</td>\n",
       "      <td>2020</td>\n",
       "      <td>Jun</td>\n",
       "      <td>1444.200000</td>\n",
       "      <td>176.114853</td>\n",
       "      <td>30.0</td>\n",
       "      <td>1378.437633</td>\n",
       "      <td>1509.962367</td>\n",
       "    </tr>\n",
       "    <tr>\n",
       "      <th>1230</th>\n",
       "      <td>Egypt</td>\n",
       "      <td>2020</td>\n",
       "      <td>Jul</td>\n",
       "      <td>831.193548</td>\n",
       "      <td>326.183427</td>\n",
       "      <td>31.0</td>\n",
       "      <td>711.548501</td>\n",
       "      <td>950.838595</td>\n",
       "    </tr>\n",
       "    <tr>\n",
       "      <th>1231</th>\n",
       "      <td>Egypt</td>\n",
       "      <td>2020</td>\n",
       "      <td>Aug</td>\n",
       "      <td>156.806452</td>\n",
       "      <td>42.607839</td>\n",
       "      <td>31.0</td>\n",
       "      <td>141.177770</td>\n",
       "      <td>172.435133</td>\n",
       "    </tr>\n",
       "    <tr>\n",
       "      <th>1232</th>\n",
       "      <td>Egypt</td>\n",
       "      <td>2020</td>\n",
       "      <td>Sep</td>\n",
       "      <td>141.966667</td>\n",
       "      <td>23.389481</td>\n",
       "      <td>30.0</td>\n",
       "      <td>133.232891</td>\n",
       "      <td>150.700442</td>\n",
       "    </tr>\n",
       "    <tr>\n",
       "      <th>1233</th>\n",
       "      <td>Egypt</td>\n",
       "      <td>2020</td>\n",
       "      <td>Oct</td>\n",
       "      <td>140.548387</td>\n",
       "      <td>24.650678</td>\n",
       "      <td>31.0</td>\n",
       "      <td>131.506445</td>\n",
       "      <td>149.590329</td>\n",
       "    </tr>\n",
       "    <tr>\n",
       "      <th>1234</th>\n",
       "      <td>Egypt</td>\n",
       "      <td>2020</td>\n",
       "      <td>Nov</td>\n",
       "      <td>278.533333</td>\n",
       "      <td>71.137426</td>\n",
       "      <td>30.0</td>\n",
       "      <td>251.970182</td>\n",
       "      <td>305.096485</td>\n",
       "    </tr>\n",
       "    <tr>\n",
       "      <th>1235</th>\n",
       "      <td>Egypt</td>\n",
       "      <td>2020</td>\n",
       "      <td>Dec</td>\n",
       "      <td>714.548387</td>\n",
       "      <td>354.179036</td>\n",
       "      <td>31.0</td>\n",
       "      <td>584.634468</td>\n",
       "      <td>844.462306</td>\n",
       "    </tr>\n",
       "  </tbody>\n",
       "</table>\n",
       "</div>"
      ],
      "text/plain": [
       "     country  year month       dcases                                 \\\n",
       "                                 mean         std  size    get_ci_lb   \n",
       "1224   Egypt  2020   Jan          NaN         NaN   NaN          NaN   \n",
       "1225   Egypt  2020   Feb     0.062500    0.250000  16.0    -0.070716   \n",
       "1226   Egypt  2020   Mar    22.870968   20.228267  31.0    15.451179   \n",
       "1227   Egypt  2020   Apr   160.900000   54.996144  30.0   140.364102   \n",
       "1228   Egypt  2020   May   627.354839  330.723908  31.0   506.044330   \n",
       "1229   Egypt  2020   Jun  1444.200000  176.114853  30.0  1378.437633   \n",
       "1230   Egypt  2020   Jul   831.193548  326.183427  31.0   711.548501   \n",
       "1231   Egypt  2020   Aug   156.806452   42.607839  31.0   141.177770   \n",
       "1232   Egypt  2020   Sep   141.966667   23.389481  30.0   133.232891   \n",
       "1233   Egypt  2020   Oct   140.548387   24.650678  31.0   131.506445   \n",
       "1234   Egypt  2020   Nov   278.533333   71.137426  30.0   251.970182   \n",
       "1235   Egypt  2020   Dec   714.548387  354.179036  31.0   584.634468   \n",
       "\n",
       "                   \n",
       "        get_ci_ub  \n",
       "1224          NaN  \n",
       "1225     0.195716  \n",
       "1226    30.290756  \n",
       "1227   181.435898  \n",
       "1228   748.665347  \n",
       "1229  1509.962367  \n",
       "1230   950.838595  \n",
       "1231   172.435133  \n",
       "1232   150.700442  \n",
       "1233   149.590329  \n",
       "1234   305.096485  \n",
       "1235   844.462306  "
      ]
     },
     "execution_count": 121,
     "metadata": {},
     "output_type": "execute_result"
    }
   ],
   "source": [
    "statsEgy20=statsdcases[(statsdcases['country']=='Egypt')\n",
    "                       & (statsdcases['year']==2020)]\n",
    "statsEgy20"
   ]
  },
  {
   "cell_type": "code",
   "execution_count": 122,
   "id": "c0ab0279",
   "metadata": {},
   "outputs": [],
   "source": [
    "statsEgy20.columns=['country','year','month','mean','std','size','lb','ub']"
   ]
  },
  {
   "cell_type": "code",
   "execution_count": 123,
   "id": "dc88ed8c",
   "metadata": {},
   "outputs": [],
   "source": [
    "statsEgy21.columns=['country','year','month','mean','std','size','lb','ub']"
   ]
  },
  {
   "cell_type": "code",
   "execution_count": 124,
   "id": "894b1832",
   "metadata": {},
   "outputs": [
    {
     "data": {
      "text/plain": [
       "1224    Jan\n",
       "1225    Feb\n",
       "1226    Mar\n",
       "1227    Apr\n",
       "1228    May\n",
       "1229    Jun\n",
       "1230    Jul\n",
       "1231    Aug\n",
       "1232    Sep\n",
       "1233    Oct\n",
       "1234    Nov\n",
       "1235    Dec\n",
       "Name: month, dtype: category\n",
       "Categories (12, object): ['Jan' < 'Feb' < 'Mar' < 'Apr' ... 'Sep' < 'Oct' < 'Nov' < 'Dec']"
      ]
     },
     "execution_count": 124,
     "metadata": {},
     "output_type": "execute_result"
    }
   ],
   "source": [
    "x=statsEgy20['month']\n",
    "x"
   ]
  },
  {
   "cell_type": "code",
   "execution_count": 125,
   "id": "c4c19e95",
   "metadata": {},
   "outputs": [
    {
     "data": {
      "text/plain": [
       "1224            NaN\n",
       "1225       0.062500\n",
       "1226      22.870968\n",
       "1227     160.900000\n",
       "1228     627.354839\n",
       "1229    1444.200000\n",
       "1230     831.193548\n",
       "1231     156.806452\n",
       "1232     141.966667\n",
       "1233     140.548387\n",
       "1234     278.533333\n",
       "1235     714.548387\n",
       "Name: mean, dtype: float64"
      ]
     },
     "execution_count": 125,
     "metadata": {},
     "output_type": "execute_result"
    }
   ],
   "source": [
    "y1=statsEgy20['mean']\n",
    "y1"
   ]
  },
  {
   "cell_type": "code",
   "execution_count": 126,
   "id": "850fb834",
   "metadata": {},
   "outputs": [
    {
     "data": {
      "text/plain": [
       "1236     899.645161\n",
       "1237     588.321429\n",
       "1238     635.709677\n",
       "1239     847.366667\n",
       "1240    1132.193548\n",
       "1241     621.066667\n",
       "1242      96.129032\n",
       "1243     134.806452\n",
       "1244     536.100000\n",
       "1245     854.612903\n",
       "1246     918.700000\n",
       "1247     870.870968\n",
       "Name: mean, dtype: float64"
      ]
     },
     "execution_count": 126,
     "metadata": {},
     "output_type": "execute_result"
    }
   ],
   "source": [
    "y2=statsEgy21['mean']\n",
    "y2"
   ]
  },
  {
   "cell_type": "code",
   "execution_count": 127,
   "id": "ba3569ec",
   "metadata": {},
   "outputs": [],
   "source": [
    "ci_lb_ub20=[statsEgy20['lb'],statsEgy20['ub']]\n",
    "err20 = np.abs(ci_lb_ub20 - statsEgy20['mean'].to_numpy())"
   ]
  },
  {
   "cell_type": "code",
   "execution_count": 128,
   "id": "9035885d",
   "metadata": {},
   "outputs": [],
   "source": [
    "ci_lb_ub21=[statsEgy21['lb'],statsEgy21['ub']]\n",
    "err21 = np.abs(ci_lb_ub21 - statsEgy21['mean'].to_numpy())"
   ]
  },
  {
   "cell_type": "code",
   "execution_count": 129,
   "id": "b53d992c",
   "metadata": {},
   "outputs": [],
   "source": [
    "from matplotlib.transforms import Affine2D"
   ]
  },
  {
   "cell_type": "code",
   "execution_count": 130,
   "id": "4b9ff976",
   "metadata": {},
   "outputs": [
    {
     "data": {
      "image/png": "[encoded data removed]",
      "text/plain": [
       "<Figure size 432x288 with 1 Axes>"
      ]
     },
     "metadata": {
      "needs_background": "light"
     },
     "output_type": "display_data"
    }
   ],
   "source": [
    "fig, ax = plt.subplots()\n",
    "\n",
    "trans1 = Affine2D().translate(-0.1, 0.0) + ax.transData\n",
    "trans2 = Affine2D().translate(+0.1, 0.0) + ax.transData\n",
    "plt.errorbar('month', 'mean',  yerr=err20, data=statsEgy20,marker='s', capsize=2,\n",
    "             color='blue', markersize=4, linewidth=1, linestyle='--',transform=trans1)\n",
    "plt.errorbar('month', 'mean',  yerr=err21, data=statsEgy21,marker='s', capsize=2,\n",
    "             color='red', markersize=4, linewidth=1, linestyle='--',transform=trans2)\n",
    "plt.legend(['2020','2021'])\n",
    "plt.xlabel(\"Month\")\n",
    "plt.ylabel(\"Average Daily COVID CASES\")\n",
    "plt.title(\"Egypt\")\n",
    "plt.show()"
   ]
  },
  {
   "cell_type": "code",
   "execution_count": null,
   "id": "a72a49a2",
   "metadata": {},
   "outputs": [],
   "source": []
  }
 ],
 "metadata": {
  "kernelspec": {
   "display_name": "Python 3 (ipykernel)",
   "language": "python",
   "name": "python3"
  },
  "language_info": {
   "codemirror_mode": {
    "name": "ipython",
    "version": 3
   },
   "file_extension": ".py",
   "mimetype": "text/x-python",
   "name": "python",
   "nbconvert_exporter": "python",
   "pygments_lexer": "ipython3",
   "version": "3.9.7"
  },
  "latex_envs": {
   "LaTeX_envs_menu_present": true,
   "autoclose": false,
   "autocomplete": true,
   "bibliofile": "biblio.bib",
   "cite_by": "apalike",
   "current_citInitial": 1,
   "eqLabelWithNumbers": true,
   "eqNumInitial": 1,
   "hotkeys": {
    "equation": "Ctrl-E",
    "itemize": "Ctrl-I"
   },
   "labels_anchors": false,
   "latex_user_defs": false,
   "report_style_numbering": false,
   "user_envs_cfg": false
  },
  "toc": {
   "base_numbering": 1,
   "nav_menu": {},
   "number_sections": false,
   "sideBar": true,
   "skip_h1_title": true,
   "title_cell": "Table of Contents",
   "title_sidebar": "Contents",
   "toc_cell": true,
   "toc_position": {
    "height": "calc(100% - 180px)",
    "left": "10px",
    "top": "150px",
    "width": "227.667px"
   },
   "toc_section_display": true,
   "toc_window_display": true
  }
 },
 "nbformat": 4,
 "nbformat_minor": 5
}
