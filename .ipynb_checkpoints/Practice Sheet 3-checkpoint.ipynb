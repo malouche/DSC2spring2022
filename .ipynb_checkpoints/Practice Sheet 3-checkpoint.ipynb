{
 "cells": [
  {
   "cell_type": "markdown",
   "id": "70508e8d",
   "metadata": {},
   "source": [
    "# Practice Sheet 3 & Assignment 2"
   ]
  },
  {
   "cell_type": "markdown",
   "id": "10b4ef11",
   "metadata": {},
   "source": [
    "## Exercise 1"
   ]
  },
  {
   "cell_type": "markdown",
   "id": "7f12db90",
   "metadata": {},
   "source": [
    "The dataset in `results.csv` includes `43,170` results of international football matches starting from the very first official match in 1872 up to 2019. The matches range from FIFA World Cup to FIFI Wild Cup to regular friendly matches. The matches are strictly men's full internationals and the data does not include Olympic Games or matches where at least one of the teams was the nation's B-team, U-23 or a league select team.\n",
    "\n",
    "`results.csv` includes the following columns:\n",
    "\n",
    "+ `date` - date of the match\n",
    "+ `home_team` - the name of the home team\n",
    "+ `away_team` - the name of the away team\n",
    "+ `home_score` - full-time home team score including extra time, not including penalty-shootouts\n",
    "+ `away_score` - full-time away team score including extra time, not including penalty-shootouts\n",
    "+ `tournament` - the name of the tournament\n",
    "+ `city` - the name of the city/town/administrative unit where the match was played\n",
    "+ `country` - the name of the country where the match was played\n",
    "+ `neutral` - TRUE/FALSE column indicating whether the match was played at a neutral venue"
   ]
  },
  {
   "cell_type": "markdown",
   "id": "8d645e82",
   "metadata": {},
   "source": [
    "1.  Import the dataset into `Python` \n",
    "2. Create a column representing the type of the result of the match: win/lose/draw\n",
    "3. Estimate using the dataset the probability to win/lose/draw a soccer match. Estimate the corresponding 95% Confidence Intervals. \n",
    "4. Provide the same estimation as in 3. by countries (Egypt, for example), by some types of the tournament, by home/away match. Provide each case with a graphical representation in each case. "
   ]
  },
  {
   "cell_type": "markdown",
   "id": "6db3e392",
   "metadata": {},
   "source": [
    "## Assignement 2 (Part I)"
   ]
  },
  {
   "cell_type": "markdown",
   "id": "1a08df22",
   "metadata": {},
   "source": [
    "Analyze the probability of winning/losing of the countries in the different tournaments. Study this probability in terms of several factors (playing at home/away). Compare confidence intervals and draw the corresponding graphs. "
   ]
  },
  {
   "cell_type": "markdown",
   "id": "69628056",
   "metadata": {},
   "source": [
    "## Exercise 2 "
   ]
  },
  {
   "cell_type": "markdown",
   "id": "acb70c80",
   "metadata": {},
   "source": [
    "The dataset in `covid_data.csv` includes the records of  two years 2020 and 2021 in the countries affected by the COVID-19 pandemic. \n",
    "\n",
    "`covid_data.csv` includes the following columns:\n",
    "\n",
    "+ `date` the date\n",
    "+ `iso3c` the country code\n",
    "+ `country` country name\n",
    "+ `income` Income group according WB classification\n",
    "+ `region` Geographical region according WB classification \n",
    "+ `continent` the name of the continent \n",
    "+ `dcases` the reported daily cases \n",
    "+ `ddeaths` the reported daily deaths\n",
    "+ `population` population size of the country in 2019\n",
    "+ `weekdays` weekdays \n",
    "+ `month` months\n",
    "\n",
    "1. Compute the 95% Confidence intervals of the daily average reported cases and deaths by day in Egypt in 2021. Make a plot representing these Confidence intervals.\n",
    "2. Compute the 95% Confidence intervals of the daily average reported cases and deaths by day in Africa in 2021. Make a plot representing these Confidence intervals."
   ]
  },
  {
   "cell_type": "markdown",
   "id": "d3ddd3b4",
   "metadata": {},
   "source": [
    "## Assignement 2 (Part II)"
   ]
  },
  {
   "cell_type": "markdown",
   "id": "a3788490",
   "metadata": {},
   "source": [
    "Analyze the daily reported number of cases and deaths, the case fatality rate (the ratio between deaths and cases) from COVID-19. Compare between 2020 and 2021. Compare between regions, income, and continents. "
   ]
  },
  {
   "cell_type": "markdown",
   "id": "497e2e68",
   "metadata": {},
   "source": [
    "## Exercise 3"
   ]
  },
  {
   "cell_type": "markdown",
   "id": "83a7507a",
   "metadata": {},
   "source": [
    "A psychological study was conducted to compare the reaction of men and women to a stimulus. Independent random samples of 55 men and 65 women were employed in this experiment. The result is shown as follows:\n",
    "\n",
    "+ Men: $\\overline{y} = 4.5$ seconds  and $s^2= .45$ seconds\n",
    "+ Women: $\\overline{y} = 3.1$ seconds  and $s^2= .33$ seconds\n",
    "\n",
    "1. Write a Python code computing the 95% Confidence intervals of the Men and Women averages.\n",
    "2. Make a plot comparing both confidence intervals.\n",
    "3. What's your conclusion?"
   ]
  },
  {
   "cell_type": "markdown",
   "id": "3437f249",
   "metadata": {},
   "source": [
    "## Exercise 4"
   ]
  },
  {
   "cell_type": "markdown",
   "id": "e86bad95",
   "metadata": {},
   "source": [
    "Let's consider the following Python code "
   ]
  },
  {
   "cell_type": "code",
   "execution_count": 5,
   "id": "be93139b",
   "metadata": {},
   "outputs": [],
   "source": [
    "import scipy\n",
    "import numpy as np\n",
    "from scipy.stats import norm,t"
   ]
  },
  {
   "cell_type": "code",
   "execution_count": 9,
   "id": "36c8d6e5",
   "metadata": {},
   "outputs": [
    {
     "data": {
      "text/plain": [
       "2.093024054408263"
      ]
     },
     "execution_count": 9,
     "metadata": {},
     "output_type": "execute_result"
    }
   ],
   "source": [
    "t.ppf(.975,19)"
   ]
  },
  {
   "cell_type": "code",
   "execution_count": 12,
   "id": "c3b0874a",
   "metadata": {},
   "outputs": [
    {
     "data": {
      "text/plain": [
       "2.860934606449914"
      ]
     },
     "execution_count": 12,
     "metadata": {},
     "output_type": "execute_result"
    }
   ],
   "source": [
    "t.ppf(.995,19)"
   ]
  },
  {
   "cell_type": "code",
   "execution_count": 7,
   "id": "27fce040",
   "metadata": {
    "scrolled": true
   },
   "outputs": [
    {
     "data": {
      "text/plain": [
       "1.959963984540054"
      ]
     },
     "execution_count": 7,
     "metadata": {},
     "output_type": "execute_result"
    }
   ],
   "source": [
    "norm.ppf(.975,0,1)"
   ]
  },
  {
   "cell_type": "code",
   "execution_count": 8,
   "id": "25d16a60",
   "metadata": {},
   "outputs": [
    {
     "data": {
      "text/plain": [
       "2.5758293035489004"
      ]
     },
     "execution_count": 8,
     "metadata": {},
     "output_type": "execute_result"
    }
   ],
   "source": [
    "norm.ppf(.995,0,1)"
   ]
  },
  {
   "cell_type": "markdown",
   "id": "7a93fa2b",
   "metadata": {},
   "source": [
    "1. Which of the following 95%  CI of the mean computed from the same random sample with size 20 comes from the t-distribution: \n",
    "\n",
    "`(27.442969558309777, 30.33435989685853)`\n",
    "\n",
    "and \n",
    "\n",
    "`(27.398576408603965, 30.37875304656434)`"
   ]
  },
  {
   "cell_type": "markdown",
   "id": "a611000e",
   "metadata": {},
   "source": [
    "2. Deduce the sample mean of the random sample from the previous 95% Confidence intervals "
   ]
  },
  {
   "cell_type": "markdown",
   "id": "66d607a6",
   "metadata": {},
   "source": [
    "3. Deduce the Margin of error of each  Confidence interval "
   ]
  },
  {
   "cell_type": "markdown",
   "id": "33fef90a",
   "metadata": {},
   "source": [
    "4. Deduce the sample variance of the random sample"
   ]
  },
  {
   "cell_type": "markdown",
   "id": "518eddf6",
   "metadata": {},
   "source": [
    "5. Deduce the population variance of the random sample "
   ]
  },
  {
   "cell_type": "markdown",
   "id": "6475e096",
   "metadata": {},
   "source": [
    "6. Compute now the 99% Confidence intervals of the mean using the methods  normal distribution (known population variance) and  (unknown population variance)  t-distribution "
   ]
  }
 ],
 "metadata": {
  "kernelspec": {
   "display_name": "Python 3 (ipykernel)",
   "language": "python",
   "name": "python3"
  },
  "language_info": {
   "codemirror_mode": {
    "name": "ipython",
    "version": 3
   },
   "file_extension": ".py",
   "mimetype": "text/x-python",
   "name": "python",
   "nbconvert_exporter": "python",
   "pygments_lexer": "ipython3",
   "version": "3.9.7"
  },
  "latex_envs": {
   "LaTeX_envs_menu_present": true,
   "autoclose": false,
   "autocomplete": true,
   "bibliofile": "biblio.bib",
   "cite_by": "apalike",
   "current_citInitial": 1,
   "eqLabelWithNumbers": true,
   "eqNumInitial": 1,
   "hotkeys": {
    "equation": "Ctrl-E",
    "itemize": "Ctrl-I"
   },
   "labels_anchors": false,
   "latex_user_defs": false,
   "report_style_numbering": false,
   "user_envs_cfg": false
  },
  "toc": {
   "base_numbering": 1,
   "nav_menu": {},
   "number_sections": false,
   "sideBar": true,
   "skip_h1_title": true,
   "title_cell": "Table of Contents",
   "title_sidebar": "Contents",
   "toc_cell": false,
   "toc_position": {
    "height": "calc(100% - 180px)",
    "left": "10px",
    "top": "150px",
    "width": "227.667px"
   },
   "toc_section_display": true,
   "toc_window_display": true
  }
 },
 "nbformat": 4,
 "nbformat_minor": 5
}
