{
 "cells": [
  {
   "cell_type": "markdown",
   "id": "db2f3fca",
   "metadata": {},
   "source": [
    "# Estimation  with Python "
   ]
  },
  {
   "cell_type": "markdown",
   "id": "30842d98",
   "metadata": {
    "toc": true
   },
   "source": [
    "<h1>Table of Contents<span class=\"tocSkip\"></span></h1>\n",
    "<div class=\"toc\"><ul class=\"toc-item\"><li><span><a href=\"#The-mean\" data-toc-modified-id=\"The-mean-1\"><span class=\"toc-item-num\">1&nbsp;&nbsp;</span>The mean</a></span><ul class=\"toc-item\"><li><span><a href=\"#The-theory\" data-toc-modified-id=\"The-theory-1.1\"><span class=\"toc-item-num\">1.1&nbsp;&nbsp;</span>The theory</a></span></li><li><span><a href=\"#Practice-with-Python\" data-toc-modified-id=\"Practice-with-Python-1.2\"><span class=\"toc-item-num\">1.2&nbsp;&nbsp;</span>Practice with Python</a></span></li><li><span><a href=\"#Practice-with-data\" data-toc-modified-id=\"Practice-with-data-1.3\"><span class=\"toc-item-num\">1.3&nbsp;&nbsp;</span>Practice with data</a></span></li></ul></li><li><span><a href=\"#The-proportion\" data-toc-modified-id=\"The-proportion-2\"><span class=\"toc-item-num\">2&nbsp;&nbsp;</span>The proportion</a></span></li><li><span><a href=\"#The-difference-of-two-proportions\" data-toc-modified-id=\"The-difference-of-two-proportions-3\"><span class=\"toc-item-num\">3&nbsp;&nbsp;</span>The difference of two proportions</a></span></li></ul></div>"
   ]
  },
  {
   "cell_type": "markdown",
   "id": "66bd2208",
   "metadata": {},
   "source": [
    "This chapter aims to show how to compute point estimates and confidence intervals. We explore the following cases:\n",
    "\n",
    "+ Estimation and confidence interval of the mean,\n",
    "+ Comparing the confidence of the means by group\n",
    "+ Estimation and Confidence interval of the proportion\n",
    "+ Confidence interval of the difference of proportions. "
   ]
  },
  {
   "cell_type": "markdown",
   "id": "988a0840",
   "metadata": {},
   "source": [
    "We start by importing the data in the file `data1.csv`"
   ]
  },
  {
   "cell_type": "code",
   "execution_count": 1,
   "id": "396ab257",
   "metadata": {},
   "outputs": [
    {
     "data": {
      "text/html": [
       "<div>\n",
       "<style scoped>\n",
       "    .dataframe tbody tr th:only-of-type {\n",
       "        vertical-align: middle;\n",
       "    }\n",
       "\n",
       "    .dataframe tbody tr th {\n",
       "        vertical-align: top;\n",
       "    }\n",
       "\n",
       "    .dataframe thead th {\n",
       "        text-align: right;\n",
       "    }\n",
       "</style>\n",
       "<table border=\"1\" class=\"dataframe\">\n",
       "  <thead>\n",
       "    <tr style=\"text-align: right;\">\n",
       "      <th></th>\n",
       "      <th>Age</th>\n",
       "      <th>Attrition</th>\n",
       "      <th>BusinessTravel</th>\n",
       "      <th>DailyRate</th>\n",
       "      <th>Department</th>\n",
       "      <th>DistanceFromHome</th>\n",
       "      <th>Education</th>\n",
       "      <th>EducationField</th>\n",
       "      <th>EmployeeCount</th>\n",
       "      <th>EmployeeNumber</th>\n",
       "      <th>...</th>\n",
       "      <th>RelationshipSatisfaction</th>\n",
       "      <th>StandardHours</th>\n",
       "      <th>StockOptionLevel</th>\n",
       "      <th>TotalWorkingYears</th>\n",
       "      <th>TrainingTimesLastYear</th>\n",
       "      <th>WorkLifeBalance</th>\n",
       "      <th>YearsAtCompany</th>\n",
       "      <th>YearsInCurrentRole</th>\n",
       "      <th>YearsSinceLastPromotion</th>\n",
       "      <th>YearsWithCurrManager</th>\n",
       "    </tr>\n",
       "  </thead>\n",
       "  <tbody>\n",
       "    <tr>\n",
       "      <th>0</th>\n",
       "      <td>41</td>\n",
       "      <td>Yes</td>\n",
       "      <td>Travel_Rarely</td>\n",
       "      <td>1102</td>\n",
       "      <td>Sales</td>\n",
       "      <td>1</td>\n",
       "      <td>2</td>\n",
       "      <td>Life Sciences</td>\n",
       "      <td>1</td>\n",
       "      <td>1</td>\n",
       "      <td>...</td>\n",
       "      <td>1</td>\n",
       "      <td>80</td>\n",
       "      <td>0</td>\n",
       "      <td>8</td>\n",
       "      <td>0</td>\n",
       "      <td>1</td>\n",
       "      <td>6</td>\n",
       "      <td>4</td>\n",
       "      <td>0</td>\n",
       "      <td>5</td>\n",
       "    </tr>\n",
       "    <tr>\n",
       "      <th>1</th>\n",
       "      <td>49</td>\n",
       "      <td>No</td>\n",
       "      <td>Travel_Frequently</td>\n",
       "      <td>279</td>\n",
       "      <td>Research &amp; Development</td>\n",
       "      <td>8</td>\n",
       "      <td>1</td>\n",
       "      <td>Life Sciences</td>\n",
       "      <td>1</td>\n",
       "      <td>2</td>\n",
       "      <td>...</td>\n",
       "      <td>4</td>\n",
       "      <td>80</td>\n",
       "      <td>1</td>\n",
       "      <td>10</td>\n",
       "      <td>3</td>\n",
       "      <td>3</td>\n",
       "      <td>10</td>\n",
       "      <td>7</td>\n",
       "      <td>1</td>\n",
       "      <td>7</td>\n",
       "    </tr>\n",
       "    <tr>\n",
       "      <th>2</th>\n",
       "      <td>37</td>\n",
       "      <td>Yes</td>\n",
       "      <td>Travel_Rarely</td>\n",
       "      <td>1373</td>\n",
       "      <td>Research &amp; Development</td>\n",
       "      <td>2</td>\n",
       "      <td>2</td>\n",
       "      <td>Other</td>\n",
       "      <td>1</td>\n",
       "      <td>4</td>\n",
       "      <td>...</td>\n",
       "      <td>2</td>\n",
       "      <td>80</td>\n",
       "      <td>0</td>\n",
       "      <td>7</td>\n",
       "      <td>3</td>\n",
       "      <td>3</td>\n",
       "      <td>0</td>\n",
       "      <td>0</td>\n",
       "      <td>0</td>\n",
       "      <td>0</td>\n",
       "    </tr>\n",
       "    <tr>\n",
       "      <th>3</th>\n",
       "      <td>33</td>\n",
       "      <td>No</td>\n",
       "      <td>Travel_Frequently</td>\n",
       "      <td>1392</td>\n",
       "      <td>Research &amp; Development</td>\n",
       "      <td>3</td>\n",
       "      <td>4</td>\n",
       "      <td>Life Sciences</td>\n",
       "      <td>1</td>\n",
       "      <td>5</td>\n",
       "      <td>...</td>\n",
       "      <td>3</td>\n",
       "      <td>80</td>\n",
       "      <td>0</td>\n",
       "      <td>8</td>\n",
       "      <td>3</td>\n",
       "      <td>3</td>\n",
       "      <td>8</td>\n",
       "      <td>7</td>\n",
       "      <td>3</td>\n",
       "      <td>0</td>\n",
       "    </tr>\n",
       "    <tr>\n",
       "      <th>4</th>\n",
       "      <td>27</td>\n",
       "      <td>No</td>\n",
       "      <td>Travel_Rarely</td>\n",
       "      <td>591</td>\n",
       "      <td>Research &amp; Development</td>\n",
       "      <td>2</td>\n",
       "      <td>1</td>\n",
       "      <td>Medical</td>\n",
       "      <td>1</td>\n",
       "      <td>7</td>\n",
       "      <td>...</td>\n",
       "      <td>4</td>\n",
       "      <td>80</td>\n",
       "      <td>1</td>\n",
       "      <td>6</td>\n",
       "      <td>3</td>\n",
       "      <td>3</td>\n",
       "      <td>2</td>\n",
       "      <td>2</td>\n",
       "      <td>2</td>\n",
       "      <td>2</td>\n",
       "    </tr>\n",
       "  </tbody>\n",
       "</table>\n",
       "<p>5 rows × 35 columns</p>\n",
       "</div>"
      ],
      "text/plain": [
       "   Age Attrition     BusinessTravel  DailyRate              Department  \\\n",
       "0   41       Yes      Travel_Rarely       1102                   Sales   \n",
       "1   49        No  Travel_Frequently        279  Research & Development   \n",
       "2   37       Yes      Travel_Rarely       1373  Research & Development   \n",
       "3   33        No  Travel_Frequently       1392  Research & Development   \n",
       "4   27        No      Travel_Rarely        591  Research & Development   \n",
       "\n",
       "   DistanceFromHome  Education EducationField  EmployeeCount  EmployeeNumber  \\\n",
       "0                 1          2  Life Sciences              1               1   \n",
       "1                 8          1  Life Sciences              1               2   \n",
       "2                 2          2          Other              1               4   \n",
       "3                 3          4  Life Sciences              1               5   \n",
       "4                 2          1        Medical              1               7   \n",
       "\n",
       "   ...  RelationshipSatisfaction StandardHours  StockOptionLevel  \\\n",
       "0  ...                         1            80                 0   \n",
       "1  ...                         4            80                 1   \n",
       "2  ...                         2            80                 0   \n",
       "3  ...                         3            80                 0   \n",
       "4  ...                         4            80                 1   \n",
       "\n",
       "   TotalWorkingYears  TrainingTimesLastYear WorkLifeBalance  YearsAtCompany  \\\n",
       "0                  8                      0               1               6   \n",
       "1                 10                      3               3              10   \n",
       "2                  7                      3               3               0   \n",
       "3                  8                      3               3               8   \n",
       "4                  6                      3               3               2   \n",
       "\n",
       "  YearsInCurrentRole  YearsSinceLastPromotion  YearsWithCurrManager  \n",
       "0                  4                        0                     5  \n",
       "1                  7                        1                     7  \n",
       "2                  0                        0                     0  \n",
       "3                  7                        3                     0  \n",
       "4                  2                        2                     2  \n",
       "\n",
       "[5 rows x 35 columns]"
      ]
     },
     "execution_count": 1,
     "metadata": {},
     "output_type": "execute_result"
    }
   ],
   "source": [
    "import pandas as pd\n",
    "import numpy as np\n",
    "df = pd.read_csv('data1.csv')\n",
    "df.head(5)"
   ]
  },
  {
   "cell_type": "markdown",
   "id": "686384b5",
   "metadata": {},
   "source": [
    "## The mean "
   ]
  },
  {
   "cell_type": "markdown",
   "id": "60a31e21",
   "metadata": {},
   "source": [
    "### The theory "
   ]
  },
  {
   "cell_type": "markdown",
   "id": "f70be613",
   "metadata": {},
   "source": [
    "Assume that we're interested in the variable `age` from the imported data, and we would like to know the following information:\n",
    "\n",
    "+ the average age of the employees in the survey? \n",
    "+ the probability that one given employee has an age higher than 50?\n",
    "+ the distribution of the employees' age between the different departments?  "
   ]
  },
  {
   "cell_type": "markdown",
   "id": "9924fc7a",
   "metadata": {},
   "source": [
    "We will first assume that sequence of employees's age is a random sample. We will write as a sequence of  random variables $X_1,\\ldots,X_n$.\n",
    "\n",
    "We assume also that $X_1,\\ldots,X_n$ are  generated from a Normal distribution with mean $\\mu$ and with variance $\\sigma^2$. \n",
    "\n",
    "It's known that the $\\overline{X}$ is an estimator of the mean $\\mu$. Since the sample mean is also a random variable with normal distribution with mean $\\mu$ and variance $\\displaystyle\\frac{\\sigma^2}{n}$, we can provide an interval that provides the error on the estimation. It's called the \\textbf{Confidence Interval}.\n",
    "\n",
    "We aim in chapter to show how   to compute the confidence interval of the mean $\\mu$ with level $(1-\\alpha)$, $\\alpha\\in (0,1)$. We denoted by $\\mbox{CI}_{1-\\alpha}(\\mu)$"
   ]
  },
  {
   "cell_type": "markdown",
   "id": "700de551",
   "metadata": {},
   "source": [
    "If $\\sigma^2$ is **known**, $\\mbox{CI}_{1-\\alpha}(\\mu)$ is expressed as follows: \n",
    "$$ \\left(\\overline{X} - z_{1-\\alpha/2} \\displaystyle\\frac{\\sigma}{\\sqrt{n}},\\;\\overline{X} + z_{1-\\alpha/2} \\displaystyle\\frac{\\sigma}{\\sqrt{n}}\\right)$$"
   ]
  },
  {
   "cell_type": "markdown",
   "id": "b36d2f96",
   "metadata": {},
   "source": [
    "where \n",
    "$$\\overline{X}=\\displaystyle\\frac{1}{n}\\displaystyle\\sum_{i=1}^n X_i$$\n",
    "is the sample mean and $z_{1-\\alpha/2}$ is the percentile associated to $(1-\\alpha/2)$ from the standard normal distribution: \n",
    "$$F_Z(z_{1-\\alpha/2})=1-\\alpha/2$$"
   ]
  },
  {
   "cell_type": "markdown",
   "id": "db680da6",
   "metadata": {},
   "source": [
    "where $Z$ is a random variable with standard normal distribution. "
   ]
  },
  {
   "cell_type": "markdown",
   "id": "966d0003",
   "metadata": {},
   "source": [
    "If $\\sigma^2$ is **unknown**, $\\mbox{CI}_{1-\\alpha}(\\mu)$ is expressed as follows: \n",
    "$$ \\left(\\overline{X} - t_{1-\\alpha/2,n-1} \\displaystyle\\frac{S}{\\sqrt{n}},\\;\\overline{X} + t_{1-\\alpha/2,n-1} \\displaystyle\\frac{S}{\\sqrt{n}}\\right)$$"
   ]
  },
  {
   "cell_type": "markdown",
   "id": "816ea200",
   "metadata": {},
   "source": [
    "where $S^2$ is the sample mean: \n",
    "    $$S^2=\\displaystyle\\frac{1}{n-1}\\displaystyle\\sum_{i=1}^n (X_i-\\overline{X})^2$$\n",
    "and $t_{1-\\alpha/2,n-1}$ is the percentile associated to $(1-\\alpha/2)$ from the $t-$distribution with $n-1$ degrees of freedom: \n",
    "$$F_{T_{n-1}}(t_{1-\\alpha/2,n-1})=1-\\alpha/2$$\n",
    "where $T_{n-1}$ is a random variable with $t-$distribution $n-1$ degrees of freedom. "
   ]
  },
  {
   "cell_type": "markdown",
   "id": "a1bd5c60",
   "metadata": {},
   "source": [
    "### Practice with Python "
   ]
  },
  {
   "cell_type": "code",
   "execution_count": 2,
   "id": "b345522a",
   "metadata": {},
   "outputs": [],
   "source": [
    "import numpy as np\n",
    "from scipy.stats import norm,t"
   ]
  },
  {
   "cell_type": "markdown",
   "id": "417c62e3",
   "metadata": {},
   "source": [
    "We will write two functions. A first one returns the $\\mbox{CI}_{1-\\alpha}(\\mu)$  when $\\sigma^2$ is known and the second functions returns $\\mbox{CI}_{1-\\alpha}(\\mu)$  when $\\sigma^2$ is unknown. "
   ]
  },
  {
   "cell_type": "markdown",
   "id": "6cc6e087",
   "metadata": {},
   "source": [
    "**1st function**"
   ]
  },
  {
   "cell_type": "code",
   "execution_count": 3,
   "id": "2fba67d2",
   "metadata": {},
   "outputs": [],
   "source": [
    "def get_ci_known_variance(sigma, sample_mean, sample_size, alpha):\n",
    "    margin_of_error = norm.ppf(1 - alpha/2)*sigma/np.sqrt(sample_size)\n",
    "    return sample_mean - margin_of_error, sample_mean + margin_of_error\n"
   ]
  },
  {
   "cell_type": "markdown",
   "id": "bb60de33",
   "metadata": {},
   "source": [
    "**2nd function**"
   ]
  },
  {
   "cell_type": "code",
   "execution_count": 4,
   "id": "6d3b3070",
   "metadata": {},
   "outputs": [],
   "source": [
    "def get_ci_unknown_variance(sample_s, sample_mean, sample_size, alpha):\n",
    "    margin_of_error = t.ppf(1 - alpha/2,sample_size-1)*sample_s/np.sqrt(sample_size)\n",
    "    return sample_mean - margin_of_error, sample_mean + margin_of_error"
   ]
  },
  {
   "cell_type": "markdown",
   "id": "798b1747",
   "metadata": {},
   "source": [
    "**Practice**"
   ]
  },
  {
   "cell_type": "markdown",
   "id": "789a3057",
   "metadata": {},
   "source": [
    "simulating data "
   ]
  },
  {
   "cell_type": "code",
   "execution_count": 5,
   "id": "0ccde01e",
   "metadata": {},
   "outputs": [],
   "source": [
    "mu, sigma = 40, 2.5\n",
    "random_sample = np.random.normal(mu, sigma, 100)"
   ]
  },
  {
   "cell_type": "code",
   "execution_count": 6,
   "id": "c9ae582f",
   "metadata": {},
   "outputs": [
    {
     "data": {
      "text/plain": [
       "array([38.03299039, 41.66455159, 41.73117252, 37.66321625, 37.82044562])"
      ]
     },
     "execution_count": 6,
     "metadata": {},
     "output_type": "execute_result"
    }
   ],
   "source": [
    "random_sample[0:5]"
   ]
  },
  {
   "cell_type": "markdown",
   "id": "501f68ce",
   "metadata": {},
   "source": [
    "Computing the sample mean"
   ]
  },
  {
   "cell_type": "code",
   "execution_count": 7,
   "id": "dddd52f3",
   "metadata": {},
   "outputs": [],
   "source": [
    "sample_mean=np.average(random_sample)"
   ]
  },
  {
   "cell_type": "code",
   "execution_count": 8,
   "id": "f42ae102",
   "metadata": {},
   "outputs": [
    {
     "data": {
      "text/plain": [
       "40.090871779180944"
      ]
     },
     "execution_count": 8,
     "metadata": {},
     "output_type": "execute_result"
    }
   ],
   "source": [
    "sample_mean"
   ]
  },
  {
   "cell_type": "code",
   "execution_count": 9,
   "id": "ec7f2c72",
   "metadata": {},
   "outputs": [
    {
     "data": {
      "text/plain": [
       "100"
      ]
     },
     "execution_count": 9,
     "metadata": {},
     "output_type": "execute_result"
    }
   ],
   "source": [
    "sample_size=len(random_sample)\n",
    "sample_size"
   ]
  },
  {
   "cell_type": "markdown",
   "id": "a3acbdd8",
   "metadata": {},
   "source": [
    "$\\mbox{CI}_{1-\\alpha}(\\mu)$ with known variance and $\\alpha=0.05$"
   ]
  },
  {
   "cell_type": "code",
   "execution_count": 10,
   "id": "5b2aea1d",
   "metadata": {},
   "outputs": [
    {
     "data": {
      "text/plain": [
       "(39.60088078304593, 40.58086277531596)"
      ]
     },
     "execution_count": 10,
     "metadata": {},
     "output_type": "execute_result"
    }
   ],
   "source": [
    "get_ci_known_variance(sigma,sample_mean,sample_size,.05)"
   ]
  },
  {
   "cell_type": "markdown",
   "id": "9295dc1a",
   "metadata": {},
   "source": [
    "Computing the sample standard deviation "
   ]
  },
  {
   "cell_type": "code",
   "execution_count": 11,
   "id": "584899b1",
   "metadata": {},
   "outputs": [
    {
     "data": {
      "text/plain": [
       "2.7015723352282577"
      ]
     },
     "execution_count": 11,
     "metadata": {},
     "output_type": "execute_result"
    }
   ],
   "source": [
    "sample_s=random_sample.std()\n",
    "sample_s"
   ]
  },
  {
   "cell_type": "markdown",
   "id": "7d4b3ccf",
   "metadata": {},
   "source": [
    "$\\mbox{CI}_{1-\\alpha}(\\mu)$ with unknown variance and $\\alpha=0.05$"
   ]
  },
  {
   "cell_type": "code",
   "execution_count": 12,
   "id": "ce02ee4d",
   "metadata": {},
   "outputs": [
    {
     "data": {
      "text/plain": [
       "(39.55482121685226, 40.626922341509626)"
      ]
     },
     "execution_count": 12,
     "metadata": {},
     "output_type": "execute_result"
    }
   ],
   "source": [
    "get_ci_unknown_variance(sample_s,sample_mean,sample_size,.05)"
   ]
  },
  {
   "cell_type": "markdown",
   "id": "f2c5b53c",
   "metadata": {},
   "source": [
    "We can also use a function already implemented in the library `scipy` to compute $\\mbox{CI}_{1-\\alpha}(\\mu)$ when the variance is unknown. "
   ]
  },
  {
   "cell_type": "code",
   "execution_count": 13,
   "id": "adaa513c",
   "metadata": {},
   "outputs": [],
   "source": [
    "confidence_level = 0.95\n",
    "degrees_freedom = sample_size - 1"
   ]
  },
  {
   "cell_type": "code",
   "execution_count": 14,
   "id": "74484929",
   "metadata": {},
   "outputs": [],
   "source": [
    "import scipy "
   ]
  },
  {
   "cell_type": "code",
   "execution_count": 15,
   "id": "6cae11a6",
   "metadata": {},
   "outputs": [],
   "source": [
    "sample_standard_error = scipy.stats.sem(random_sample)"
   ]
  },
  {
   "cell_type": "code",
   "execution_count": 16,
   "id": "b795658c",
   "metadata": {},
   "outputs": [
    {
     "data": {
      "text/plain": [
       "0.2715182357562536"
      ]
     },
     "execution_count": 16,
     "metadata": {},
     "output_type": "execute_result"
    }
   ],
   "source": [
    "sample_standard_error"
   ]
  },
  {
   "cell_type": "code",
   "execution_count": 17,
   "id": "307e66af",
   "metadata": {},
   "outputs": [
    {
     "data": {
      "text/plain": [
       "0.27151823575625356"
      ]
     },
     "execution_count": 17,
     "metadata": {},
     "output_type": "execute_result"
    }
   ],
   "source": [
    "sample_s/np.sqrt(sample_size-1)"
   ]
  },
  {
   "cell_type": "code",
   "execution_count": 18,
   "id": "f946f8e0",
   "metadata": {},
   "outputs": [
    {
     "data": {
      "text/plain": [
       "(39.552120693149654, 40.629622865212234)"
      ]
     },
     "execution_count": 18,
     "metadata": {},
     "output_type": "execute_result"
    }
   ],
   "source": [
    "scipy.stats.t.interval(confidence_level, degrees_freedom, sample_mean, sample_standard_error)"
   ]
  },
  {
   "cell_type": "markdown",
   "id": "e299de5c",
   "metadata": {},
   "source": [
    "We can also use `scipy.stats.norm.interval` to compute $\\mbox{CI}_{1-\\alpha}(\\mu)$ with known variance"
   ]
  },
  {
   "cell_type": "code",
   "execution_count": 56,
   "id": "ae1710bc",
   "metadata": {},
   "outputs": [
    {
     "data": {
      "text/plain": [
       "(39.60088078304593, 40.58086277531596)"
      ]
     },
     "execution_count": 56,
     "metadata": {},
     "output_type": "execute_result"
    }
   ],
   "source": [
    "scipy.stats.norm.interval(.95,loc=sample_mean, scale=sigma/np.sqrt(sample_size))"
   ]
  },
  {
   "cell_type": "markdown",
   "id": "9ef5a99b",
   "metadata": {},
   "source": [
    "### Practice with data  "
   ]
  },
  {
   "cell_type": "markdown",
   "id": "9ef81219",
   "metadata": {},
   "source": [
    "Application: comparing the average of the Daily rate between Men and Women. "
   ]
  },
  {
   "cell_type": "code",
   "execution_count": 20,
   "id": "098cf5fa",
   "metadata": {},
   "outputs": [
    {
     "data": {
      "text/plain": [
       "Male      882\n",
       "Female    588\n",
       "Name: Gender, dtype: int64"
      ]
     },
     "execution_count": 20,
     "metadata": {},
     "output_type": "execute_result"
    }
   ],
   "source": [
    "df['Gender'].value_counts()"
   ]
  },
  {
   "cell_type": "code",
   "execution_count": 21,
   "id": "1fa62526",
   "metadata": {},
   "outputs": [
    {
     "data": {
      "text/html": [
       "<div>\n",
       "<style scoped>\n",
       "    .dataframe tbody tr th:only-of-type {\n",
       "        vertical-align: middle;\n",
       "    }\n",
       "\n",
       "    .dataframe tbody tr th {\n",
       "        vertical-align: top;\n",
       "    }\n",
       "\n",
       "    .dataframe thead tr th {\n",
       "        text-align: left;\n",
       "    }\n",
       "\n",
       "    .dataframe thead tr:last-of-type th {\n",
       "        text-align: right;\n",
       "    }\n",
       "</style>\n",
       "<table border=\"1\" class=\"dataframe\">\n",
       "  <thead>\n",
       "    <tr>\n",
       "      <th></th>\n",
       "      <th colspan=\"3\" halign=\"left\">DailyRate</th>\n",
       "    </tr>\n",
       "    <tr>\n",
       "      <th></th>\n",
       "      <th>mean</th>\n",
       "      <th>std</th>\n",
       "      <th>size</th>\n",
       "    </tr>\n",
       "    <tr>\n",
       "      <th>Gender</th>\n",
       "      <th></th>\n",
       "      <th></th>\n",
       "      <th></th>\n",
       "    </tr>\n",
       "  </thead>\n",
       "  <tbody>\n",
       "    <tr>\n",
       "      <th>Female</th>\n",
       "      <td>808.273810</td>\n",
       "      <td>408.241680</td>\n",
       "      <td>588</td>\n",
       "    </tr>\n",
       "    <tr>\n",
       "      <th>Male</th>\n",
       "      <td>798.626984</td>\n",
       "      <td>400.509021</td>\n",
       "      <td>882</td>\n",
       "    </tr>\n",
       "  </tbody>\n",
       "</table>\n",
       "</div>"
      ],
      "text/plain": [
       "         DailyRate                 \n",
       "              mean         std size\n",
       "Gender                             \n",
       "Female  808.273810  408.241680  588\n",
       "Male    798.626984  400.509021  882"
      ]
     },
     "execution_count": 21,
     "metadata": {},
     "output_type": "execute_result"
    }
   ],
   "source": [
    "df.groupby(\"Gender\").agg({\"DailyRate\": [np.mean, np.std, np.size]})"
   ]
  },
  {
   "cell_type": "code",
   "execution_count": 22,
   "id": "8da393e2",
   "metadata": {},
   "outputs": [],
   "source": [
    "x=df.groupby(\"Gender\").agg({\"DailyRate\": [np.mean, np.std, np.size]})"
   ]
  },
  {
   "cell_type": "code",
   "execution_count": 23,
   "id": "beb3f2f9",
   "metadata": {},
   "outputs": [],
   "source": [
    "x=np.array(x)"
   ]
  },
  {
   "cell_type": "code",
   "execution_count": 24,
   "id": "c43c5c25",
   "metadata": {},
   "outputs": [
    {
     "data": {
      "text/plain": [
       "array([[808.27380952, 408.24167967, 588.        ],\n",
       "       [798.62698413, 400.50902101, 882.        ]])"
      ]
     },
     "execution_count": 24,
     "metadata": {},
     "output_type": "execute_result"
    }
   ],
   "source": [
    "x"
   ]
  },
  {
   "cell_type": "markdown",
   "id": "e2d45963",
   "metadata": {},
   "source": [
    "The female sample size"
   ]
  },
  {
   "cell_type": "code",
   "execution_count": 25,
   "id": "ddaf31ee",
   "metadata": {},
   "outputs": [
    {
     "data": {
      "text/plain": [
       "588.0"
      ]
     },
     "execution_count": 25,
     "metadata": {},
     "output_type": "execute_result"
    }
   ],
   "source": [
    "x[0,2]"
   ]
  },
  {
   "cell_type": "markdown",
   "id": "15bb0e1e",
   "metadata": {},
   "source": [
    "The female sample mean"
   ]
  },
  {
   "cell_type": "code",
   "execution_count": 26,
   "id": "368d9daf",
   "metadata": {},
   "outputs": [
    {
     "data": {
      "text/plain": [
       "808.2738095238095"
      ]
     },
     "execution_count": 26,
     "metadata": {},
     "output_type": "execute_result"
    }
   ],
   "source": [
    "x[0,0]"
   ]
  },
  {
   "cell_type": "markdown",
   "id": "67c65bf2",
   "metadata": {},
   "source": [
    "The female standard error "
   ]
  },
  {
   "cell_type": "code",
   "execution_count": 27,
   "id": "ad4b0cdc",
   "metadata": {},
   "outputs": [
    {
     "data": {
      "text/plain": [
       "16.84993739332325"
      ]
     },
     "execution_count": 27,
     "metadata": {},
     "output_type": "execute_result"
    }
   ],
   "source": [
    "x[0,1]/np.sqrt(x[0,2]-1)"
   ]
  },
  {
   "cell_type": "markdown",
   "id": "5b669af0",
   "metadata": {},
   "source": [
    "The `DailyRate` Female $\\mbox{CI}(95\\%)$"
   ]
  },
  {
   "cell_type": "code",
   "execution_count": 28,
   "id": "555d92bd",
   "metadata": {},
   "outputs": [],
   "source": [
    "CI_F=scipy.stats.t.interval(.95, x[0,2] -1, x[0,0], x[0,1]/np.sqrt(x[0,2]-1))"
   ]
  },
  {
   "cell_type": "code",
   "execution_count": 29,
   "id": "c21f880c",
   "metadata": {},
   "outputs": [
    {
     "data": {
      "text/plain": [
       "(775.1803043941346, 841.3673146534844)"
      ]
     },
     "execution_count": 29,
     "metadata": {},
     "output_type": "execute_result"
    }
   ],
   "source": [
    "CI_F"
   ]
  },
  {
   "cell_type": "markdown",
   "id": "5884ba50",
   "metadata": {},
   "source": [
    "We compute then the The DailyRate Female  CI(95%)"
   ]
  },
  {
   "cell_type": "markdown",
   "id": "cc1a215b",
   "metadata": {},
   "source": [
    "We select now the `DailyRate`sample for Men and Women separatly "
   ]
  },
  {
   "cell_type": "code",
   "execution_count": 30,
   "id": "b64d1d7b",
   "metadata": {},
   "outputs": [],
   "source": [
    "CI_M=scipy.stats.t.interval(.95, x[1,2] -1, x[1,0], x[1,1]/np.sqrt(x[1,2]-1))"
   ]
  },
  {
   "cell_type": "code",
   "execution_count": 31,
   "id": "c96993d4",
   "metadata": {},
   "outputs": [
    {
     "data": {
      "text/plain": [
       "(772.1438431601089, 825.1101250938593)"
      ]
     },
     "execution_count": 31,
     "metadata": {},
     "output_type": "execute_result"
    }
   ],
   "source": [
    "CI_M"
   ]
  },
  {
   "cell_type": "code",
   "execution_count": 32,
   "id": "264d310f",
   "metadata": {},
   "outputs": [
    {
     "data": {
      "text/plain": [
       "772.1438431601089"
      ]
     },
     "execution_count": 32,
     "metadata": {},
     "output_type": "execute_result"
    }
   ],
   "source": [
    "CI_M[0]"
   ]
  },
  {
   "cell_type": "markdown",
   "id": "bfe0fa45",
   "metadata": {},
   "source": [
    "We can then visualize these Confidence intervals together to see the difference between the `DailyRate` means. "
   ]
  },
  {
   "cell_type": "code",
   "execution_count": 33,
   "id": "fb05af88",
   "metadata": {},
   "outputs": [],
   "source": [
    "ci_dailrate = {}\n",
    "ci_dailrate['Gender'] = ['Male','Female']\n",
    "ci_dailrate['lb'] = [CI_M[0],CI_F[0]]\n",
    "ci_dailrate['ub'] = [CI_M[1],CI_F[1]]\n",
    "df_ci= pd.DataFrame(ci_dailrate)"
   ]
  },
  {
   "cell_type": "code",
   "execution_count": 34,
   "id": "fe482213",
   "metadata": {},
   "outputs": [
    {
     "data": {
      "text/html": [
       "<div>\n",
       "<style scoped>\n",
       "    .dataframe tbody tr th:only-of-type {\n",
       "        vertical-align: middle;\n",
       "    }\n",
       "\n",
       "    .dataframe tbody tr th {\n",
       "        vertical-align: top;\n",
       "    }\n",
       "\n",
       "    .dataframe thead th {\n",
       "        text-align: right;\n",
       "    }\n",
       "</style>\n",
       "<table border=\"1\" class=\"dataframe\">\n",
       "  <thead>\n",
       "    <tr style=\"text-align: right;\">\n",
       "      <th></th>\n",
       "      <th>Gender</th>\n",
       "      <th>lb</th>\n",
       "      <th>ub</th>\n",
       "    </tr>\n",
       "  </thead>\n",
       "  <tbody>\n",
       "    <tr>\n",
       "      <th>0</th>\n",
       "      <td>Male</td>\n",
       "      <td>772.143843</td>\n",
       "      <td>825.110125</td>\n",
       "    </tr>\n",
       "    <tr>\n",
       "      <th>1</th>\n",
       "      <td>Female</td>\n",
       "      <td>775.180304</td>\n",
       "      <td>841.367315</td>\n",
       "    </tr>\n",
       "  </tbody>\n",
       "</table>\n",
       "</div>"
      ],
      "text/plain": [
       "   Gender          lb          ub\n",
       "0    Male  772.143843  825.110125\n",
       "1  Female  775.180304  841.367315"
      ]
     },
     "execution_count": 34,
     "metadata": {},
     "output_type": "execute_result"
    }
   ],
   "source": [
    "df_ci"
   ]
  },
  {
   "cell_type": "code",
   "execution_count": 35,
   "id": "f3086e84",
   "metadata": {},
   "outputs": [],
   "source": [
    "import matplotlib.pyplot as plt"
   ]
  },
  {
   "cell_type": "code",
   "execution_count": 36,
   "id": "1ae1f076",
   "metadata": {},
   "outputs": [
    {
     "data": {
      "text/plain": [
       "([<matplotlib.axis.YTick at 0x1523a227130>,\n",
       "  <matplotlib.axis.YTick at 0x1523a216970>],\n",
       " [Text(0, 0, 'Male'), Text(0, 1, 'Female')])"
      ]
     },
     "execution_count": 36,
     "metadata": {},
     "output_type": "execute_result"
    },
    {
     "data": {
      "image/png": "[encoded data removed]",
      "text/plain": [
       "<Figure size 432x288 with 1 Axes>"
      ]
     },
     "metadata": {
      "needs_background": "light"
     },
     "output_type": "display_data"
    }
   ],
   "source": [
    "for lb,ub,y in zip(df_ci['lb'],df_ci['ub'],range(len(df_ci))):\n",
    "    plt.plot((lb,ub),(y,y),'ro-')\n",
    "plt.yticks(range(len(df_ci)),list(df_ci['Gender']))"
   ]
  },
  {
   "cell_type": "markdown",
   "id": "fd6d7882",
   "metadata": {},
   "source": [
    "We will now write a Python function that can compare the Confidence Intervals of the means for a given continuous variable according to groups defined by a categorical variable."
   ]
  },
  {
   "cell_type": "code",
   "execution_count": 37,
   "id": "b6b6f096",
   "metadata": {},
   "outputs": [],
   "source": [
    "import pandas as pd\n",
    "import numpy as np\n",
    "import scipy.stats as st\n",
    "\n",
    "def plot_diff_in_means(data: pd.DataFrame,alpha, col1: str, col2: str):\n",
    "    \"\"\"\n",
    "    given data, plots difference in means with confidence intervals across groups\n",
    "    col1: categorical data with groups\n",
    "    col2: continuous data for the means\n",
    "    alpha: is the level of significance, it's usualy equal to .95\n",
    "    \"\"\"\n",
    "    n = data.groupby(col1)[col2].count()\n",
    "    # n contains a pd.Series with sample size for each category\n",
    "\n",
    "    cat = list(data.groupby(col1, as_index=False)[col2].count()[col1])\n",
    "    # cat has names of the categories, like 'category 1', 'category 2'\n",
    "\n",
    "    mean = data.groupby(col1)[col2].agg('mean')\n",
    "    # the average value of col2 across the categories\n",
    "\n",
    "    std = data.groupby(col1)[col2].agg(np.std)\n",
    "    se = std / np.sqrt(n)\n",
    "    # standard deviation and standard error\n",
    "\n",
    "    lower = st.t.interval(alpha = alpha, df=n-1, loc = mean, scale = se)[0]\n",
    "    upper = st.t.interval(alpha = alpha, df =n-1, loc = mean, scale = se)[1]\n",
    "    # calculates the upper and lower bounds using scipy\n",
    "\n",
    "    for upper, mean, lower, y in zip(upper, mean, lower, cat):\n",
    "        plt.plot((lower, mean, upper), (y, y, y), 'b.-')\n",
    "        # for 'b.-': 'b' means 'blue', '.' means dot, '-' means solid line\n",
    "    plt.yticks(\n",
    "        range(len(n)), \n",
    "        list(data.groupby(col1, as_index = False)[col2].count()[col1])\n",
    "        )"
   ]
  },
  {
   "cell_type": "code",
   "execution_count": 38,
   "id": "1799f450",
   "metadata": {},
   "outputs": [
    {
     "data": {
      "image/png": "[encoded data removed]",
      "text/plain": [
       "<Figure size 432x288 with 1 Axes>"
      ]
     },
     "metadata": {
      "needs_background": "light"
     },
     "output_type": "display_data"
    }
   ],
   "source": [
    "plot_diff_in_means(data = df,alpha=.95, col1 = 'Gender', col2 = 'DailyRate')"
   ]
  },
  {
   "cell_type": "markdown",
   "id": "49195e90",
   "metadata": {},
   "source": [
    "`DailyRate` and `EducationField`"
   ]
  },
  {
   "cell_type": "code",
   "execution_count": 39,
   "id": "018a8015",
   "metadata": {},
   "outputs": [
    {
     "data": {
      "image/png": "[encoded data removed]",
      "text/plain": [
       "<Figure size 432x288 with 1 Axes>"
      ]
     },
     "metadata": {
      "needs_background": "light"
     },
     "output_type": "display_data"
    }
   ],
   "source": [
    "plot_diff_in_means(data = df,alpha=.95, col1 = 'EducationField', col2 = 'DailyRate')"
   ]
  },
  {
   "cell_type": "markdown",
   "id": "a1d2758a",
   "metadata": {},
   "source": [
    "`DailyRate` and `Department`"
   ]
  },
  {
   "cell_type": "code",
   "execution_count": 40,
   "id": "3fc40819",
   "metadata": {},
   "outputs": [
    {
     "data": {
      "image/png": "[encoded data removed]",
      "text/plain": [
       "<Figure size 432x288 with 1 Axes>"
      ]
     },
     "metadata": {
      "needs_background": "light"
     },
     "output_type": "display_data"
    }
   ],
   "source": [
    "plot_diff_in_means(data = df,alpha=.95, col1 = 'Department', col2 = 'DailyRate')"
   ]
  },
  {
   "cell_type": "markdown",
   "id": "47fc1ca1",
   "metadata": {},
   "source": [
    "## The proportion "
   ]
  },
  {
   "cell_type": "markdown",
   "id": "7da11247",
   "metadata": {},
   "source": [
    "Assume that we would like to estimate the probability $p$ to win an election for candidate A. We randomly select $n$ and consider $X$ the number of people reported that will vote for A. "
   ]
  },
  {
   "cell_type": "markdown",
   "id": "d48d3204",
   "metadata": {},
   "source": [
    "The probability or the proportion $p$ is then estimated by \n",
    "\n",
    "$$\\widehat{p}=\\displaystyle\\frac{X}{n}$$"
   ]
  },
  {
   "cell_type": "markdown",
   "id": "f6eb9c4d",
   "metadata": {},
   "source": [
    "In most of the cases the number $n$, the sample size, is large and the probability distribution of $\\widehat{p}$ is approximated with a Normal distribution with mean $\\mu=p$ and variable $\\sigma^2=\\displaystyle\\frac{p(1-p)}{n}$. We can provide then, for a given $\\alpha\\in(0,1)$, a \\textbf{Confidence interval} with level $1-\\alpha$: \n",
    "\n",
    "$$\\mbox{CI}_{1-\\alpha}(p)=\\left(\\widehat{p}-z_{1-\\alpha/2} \\sqrt{\\displaystyle\\frac{\\widehat{p}(1-\\widehat{p})}{n}},\\; \\widehat{p}+z_{1-\\alpha/2} \\sqrt{\\displaystyle\\frac{\\widehat{p}(1-\\widehat{p})}{n}}\\right)$$"
   ]
  },
  {
   "cell_type": "markdown",
   "id": "d508cc22",
   "metadata": {},
   "source": [
    "where $z_{1-\\alpha/2}$ is the $z-$score associate to $1-\\alpha/2$. It means, if $Z$ is a standard normal distribution, then $$F_Z(z_{1-\\alpha/2})=1-\\alpha/2$$\n",
    "Where $F_Z$ is the CDF of $Z$. "
   ]
  },
  {
   "cell_type": "markdown",
   "id": "ef3067fb",
   "metadata": {},
   "source": [
    "**Example:**  A Survey was conducted to estimate the probability $p$ to vote a candidate $A$. Among the 1200 participated in the Survey, 560 reported that will vote for the candidate A. Find an estimation of $p$ and its 95\\%-Confidence Interval. "
   ]
  },
  {
   "cell_type": "code",
   "execution_count": 41,
   "id": "4ac8351b",
   "metadata": {},
   "outputs": [],
   "source": [
    "import statsmodels.api as sm"
   ]
  },
  {
   "cell_type": "markdown",
   "id": "53225f35",
   "metadata": {},
   "source": [
    "Importing the Function for computing proportion confidence intervals"
   ]
  },
  {
   "cell_type": "code",
   "execution_count": 42,
   "id": "c09a4813",
   "metadata": {},
   "outputs": [],
   "source": [
    "from statsmodels.stats.proportion import proportion_confint"
   ]
  },
  {
   "cell_type": "code",
   "execution_count": 43,
   "id": "1560931a",
   "metadata": {},
   "outputs": [
    {
     "data": {
      "text/plain": [
       "(0.4384399591955059, 0.49489337413782747)"
      ]
     },
     "execution_count": 43,
     "metadata": {},
     "output_type": "execute_result"
    }
   ],
   "source": [
    "proportion_confint(count=560,    # Number of \"successes\"\n",
    "                   nobs=1200,    # Number of trials\n",
    "                   alpha=(1 - 0.95),\n",
    "                   method='normal')  # when we use asymptotic normal approximation\n",
    "# Alpha, which is 1 minus the confidence level"
   ]
  },
  {
   "cell_type": "markdown",
   "id": "6981a17b",
   "metadata": {},
   "source": [
    "There's also four oothers methods to compute the proportion confidence interval:\n",
    "\n",
    "+ agresti_coull : [Agresti-Coull interval](https://en.wikipedia.org/wiki/Binomial_proportion_confidence_interval#Agresti%E2%80%93Coull_interval)\n",
    "+ beta : [Clopper-Pearson interval based on Beta distribution](https://en.wikipedia.org/wiki/Binomial_proportion_confidence_interval#Clopper%E2%80%93Pearson_interval)\n",
    "+ wilson : [Wilson Score interval](https://en.wikipedia.org/wiki/Binomial_proportion_confidence_interval#Wilson_score_interval)\n",
    "+ jeffreys : [Jeffreys Bayesian Interval](https://en.wikipedia.org/wiki/Binomial_proportion_confidence_interval#Jeffreys_interval)\n",
    "+ binom_test : experimental, inversion of binom_test"
   ]
  },
  {
   "cell_type": "markdown",
   "id": "7fd05722",
   "metadata": {},
   "source": [
    "**Example:** We would like to compare the proportion of frequently traveling between the three departments. We start by computing first the contingency table between the variables `BusinessTravel` and `Departments.` "
   ]
  },
  {
   "cell_type": "code",
   "execution_count": 44,
   "id": "47737be1",
   "metadata": {},
   "outputs": [],
   "source": [
    "import pandas as pd"
   ]
  },
  {
   "cell_type": "code",
   "execution_count": 45,
   "id": "3b44b9d4",
   "metadata": {},
   "outputs": [
    {
     "data": {
      "text/html": [
       "<div>\n",
       "<style scoped>\n",
       "    .dataframe tbody tr th:only-of-type {\n",
       "        vertical-align: middle;\n",
       "    }\n",
       "\n",
       "    .dataframe tbody tr th {\n",
       "        vertical-align: top;\n",
       "    }\n",
       "\n",
       "    .dataframe thead th {\n",
       "        text-align: right;\n",
       "    }\n",
       "</style>\n",
       "<table border=\"1\" class=\"dataframe\">\n",
       "  <thead>\n",
       "    <tr style=\"text-align: right;\">\n",
       "      <th>Department</th>\n",
       "      <th>Human Resources</th>\n",
       "      <th>Research &amp; Development</th>\n",
       "      <th>Sales</th>\n",
       "      <th>All</th>\n",
       "    </tr>\n",
       "    <tr>\n",
       "      <th>BusinessTravel</th>\n",
       "      <th></th>\n",
       "      <th></th>\n",
       "      <th></th>\n",
       "      <th></th>\n",
       "    </tr>\n",
       "  </thead>\n",
       "  <tbody>\n",
       "    <tr>\n",
       "      <th>Non-Travel</th>\n",
       "      <td>6</td>\n",
       "      <td>97</td>\n",
       "      <td>47</td>\n",
       "      <td>150</td>\n",
       "    </tr>\n",
       "    <tr>\n",
       "      <th>Travel_Frequently</th>\n",
       "      <td>11</td>\n",
       "      <td>182</td>\n",
       "      <td>84</td>\n",
       "      <td>277</td>\n",
       "    </tr>\n",
       "    <tr>\n",
       "      <th>Travel_Rarely</th>\n",
       "      <td>46</td>\n",
       "      <td>682</td>\n",
       "      <td>315</td>\n",
       "      <td>1043</td>\n",
       "    </tr>\n",
       "    <tr>\n",
       "      <th>All</th>\n",
       "      <td>63</td>\n",
       "      <td>961</td>\n",
       "      <td>446</td>\n",
       "      <td>1470</td>\n",
       "    </tr>\n",
       "  </tbody>\n",
       "</table>\n",
       "</div>"
      ],
      "text/plain": [
       "Department         Human Resources  Research & Development  Sales   All\n",
       "BusinessTravel                                                         \n",
       "Non-Travel                       6                      97     47   150\n",
       "Travel_Frequently               11                     182     84   277\n",
       "Travel_Rarely                   46                     682    315  1043\n",
       "All                             63                     961    446  1470"
      ]
     },
     "execution_count": 45,
     "metadata": {},
     "output_type": "execute_result"
    }
   ],
   "source": [
    "tab = pd.crosstab(df['BusinessTravel'], df['Department'],margins=True)\n",
    "tab"
   ]
  },
  {
   "cell_type": "code",
   "execution_count": 46,
   "id": "d9922841",
   "metadata": {},
   "outputs": [
    {
     "data": {
      "text/plain": [
       "array([[   6.,   97.,   47.,  150.],\n",
       "       [  11.,  182.,   84.,  277.],\n",
       "       [  46.,  682.,  315., 1043.],\n",
       "       [  63.,  961.,  446., 1470.]])"
      ]
     },
     "execution_count": 46,
     "metadata": {},
     "output_type": "execute_result"
    }
   ],
   "source": [
    "table = sm.stats.Table(tab)\n",
    "table.table"
   ]
  },
  {
   "cell_type": "code",
   "execution_count": 47,
   "id": "8736d57e",
   "metadata": {},
   "outputs": [
    {
     "data": {
      "text/plain": [
       "(0.08086094446182195, 0.2683454047445272)"
      ]
     },
     "execution_count": 47,
     "metadata": {},
     "output_type": "execute_result"
    }
   ],
   "source": [
    "CI_HR=proportion_confint(count=table.table[1,0],nobs=table.table[3,0],alpha=(1-.95))\n",
    "CI_HR"
   ]
  },
  {
   "cell_type": "code",
   "execution_count": 48,
   "id": "278f2fd0",
   "metadata": {},
   "outputs": [
    {
     "data": {
      "text/plain": [
       "(0.16461369335918247, 0.214158419023752)"
      ]
     },
     "execution_count": 48,
     "metadata": {},
     "output_type": "execute_result"
    }
   ],
   "source": [
    "CI_RD=proportion_confint(count=table.table[1,1],nobs=table.table[3,1],alpha=(1-.95))\n",
    "CI_RD"
   ]
  },
  {
   "cell_type": "code",
   "execution_count": 49,
   "id": "eac9c850",
   "metadata": {},
   "outputs": [
    {
     "data": {
      "text/plain": [
       "(0.1520547541182747, 0.22462686023150105)"
      ]
     },
     "execution_count": 49,
     "metadata": {},
     "output_type": "execute_result"
    }
   ],
   "source": [
    "CI_SL=proportion_confint(count=table.table[1,2],nobs=table.table[3,2],alpha=(1-.95))\n",
    "CI_SL"
   ]
  },
  {
   "cell_type": "code",
   "execution_count": 50,
   "id": "b53e51a6",
   "metadata": {},
   "outputs": [
    {
     "data": {
      "text/html": [
       "<div>\n",
       "<style scoped>\n",
       "    .dataframe tbody tr th:only-of-type {\n",
       "        vertical-align: middle;\n",
       "    }\n",
       "\n",
       "    .dataframe tbody tr th {\n",
       "        vertical-align: top;\n",
       "    }\n",
       "\n",
       "    .dataframe thead th {\n",
       "        text-align: right;\n",
       "    }\n",
       "</style>\n",
       "<table border=\"1\" class=\"dataframe\">\n",
       "  <thead>\n",
       "    <tr style=\"text-align: right;\">\n",
       "      <th></th>\n",
       "      <th>Department</th>\n",
       "      <th>lb</th>\n",
       "      <th>ub</th>\n",
       "    </tr>\n",
       "  </thead>\n",
       "  <tbody>\n",
       "    <tr>\n",
       "      <th>0</th>\n",
       "      <td>HR</td>\n",
       "      <td>0.080861</td>\n",
       "      <td>0.268345</td>\n",
       "    </tr>\n",
       "    <tr>\n",
       "      <th>1</th>\n",
       "      <td>RD</td>\n",
       "      <td>0.164614</td>\n",
       "      <td>0.214158</td>\n",
       "    </tr>\n",
       "    <tr>\n",
       "      <th>2</th>\n",
       "      <td>Sales</td>\n",
       "      <td>0.152055</td>\n",
       "      <td>0.224627</td>\n",
       "    </tr>\n",
       "  </tbody>\n",
       "</table>\n",
       "</div>"
      ],
      "text/plain": [
       "  Department        lb        ub\n",
       "0         HR  0.080861  0.268345\n",
       "1         RD  0.164614  0.214158\n",
       "2      Sales  0.152055  0.224627"
      ]
     },
     "execution_count": 50,
     "metadata": {},
     "output_type": "execute_result"
    }
   ],
   "source": [
    "ci_travel = {}\n",
    "ci_travel['Department'] = ['HR','RD','Sales']\n",
    "ci_travel['lb'] = [CI_HR[0],CI_RD[0],CI_SL[0]]\n",
    "ci_travel['ub'] = [CI_HR[1],CI_RD[1],CI_SL[1]]\n",
    "df_ci= pd.DataFrame(ci_travel)\n",
    "df_ci"
   ]
  },
  {
   "cell_type": "code",
   "execution_count": 51,
   "id": "07788be6",
   "metadata": {},
   "outputs": [],
   "source": [
    "import matplotlib.pyplot as plt"
   ]
  },
  {
   "cell_type": "code",
   "execution_count": 52,
   "id": "f869ab97",
   "metadata": {},
   "outputs": [
    {
     "data": {
      "text/plain": [
       "([<matplotlib.axis.YTick at 0x1523b764e80>,\n",
       "  <matplotlib.axis.YTick at 0x1523b764820>,\n",
       "  <matplotlib.axis.YTick at 0x1523b75f670>],\n",
       " [Text(0, 0, 'HR'), Text(0, 1, 'RD'), Text(0, 2, 'Sales')])"
      ]
     },
     "execution_count": 52,
     "metadata": {},
     "output_type": "execute_result"
    },
    {
     "data": {
      "image/png": "[encoded data removed]",
      "text/plain": [
       "<Figure size 432x288 with 1 Axes>"
      ]
     },
     "metadata": {
      "needs_background": "light"
     },
     "output_type": "display_data"
    }
   ],
   "source": [
    "for lb,ub,y in zip(df_ci['lb'],df_ci['ub'],range(len(df_ci))):\n",
    "    plt.plot((lb,ub),(y,y),'ro-')\n",
    "plt.yticks(range(len(df_ci)),list(df_ci['Department']))"
   ]
  },
  {
   "cell_type": "markdown",
   "id": "5025a00f",
   "metadata": {},
   "source": [
    "## The difference of two proportions "
   ]
  },
  {
   "cell_type": "markdown",
   "id": "6448a003",
   "metadata": {},
   "source": [
    "We observe now two independents samples with different sizes $n_1$ and $n_2$. We estimate from each sample a proportion. We aim to provide a **confidence interval** of the difference between these proportions. It can be expressed as follows: "
   ]
  },
  {
   "cell_type": "markdown",
   "id": "80215878",
   "metadata": {},
   "source": [
    "\n",
    "$$\\mbox{CI}_{1-\\alpha}(p_1-p_2)=\\left(\\widehat{p}_1-\\widehat{p}_2-z_{1-\\alpha/2} \\sqrt{\\displaystyle\\frac{\\widehat{p}_1(1-\\widehat{p}_1)}{n_1}+\\displaystyle\\frac{\\widehat{p}_2(1-\\widehat{p}_2)}{n_2}},\\; \\widehat{p}_1-\\widehat{p}_2+z_{1-\\alpha/2} \\sqrt{\\displaystyle\\frac{\\widehat{p}_1(1-\\widehat{p}_1)}{n_1}+\\displaystyle\\frac{\\widehat{p}_2(1-\\widehat{p}_2)}{n_2}}\\right)$$"
   ]
  },
  {
   "cell_type": "markdown",
   "id": "93a9e8e3",
   "metadata": {},
   "source": [
    "We will write the following Python function "
   ]
  },
  {
   "cell_type": "code",
   "execution_count": 53,
   "id": "ceb6b7f3",
   "metadata": {},
   "outputs": [],
   "source": [
    "import pandas as pd\n",
    "import numpy as np\n",
    "import scipy.stats as stats\n",
    "\n",
    "def two_proprotions_confint(success_a, size_a, success_b, size_b, significance = 0.05):\n",
    "    \"\"\"\n",
    "    A/B test for two proportions;\n",
    "    given a success a trial size of group A and B compute\n",
    "    its confidence interval;\n",
    "    resulting confidence interval matches R's prop.test function\n",
    "\n",
    "    Parameters\n",
    "    ----------\n",
    "    success_a, success_b : int\n",
    "        Number of successes in each group\n",
    "\n",
    "    size_a, size_b : int\n",
    "        Size, or number of observations in each group\n",
    "\n",
    "    significance : float, default 0.05\n",
    "        Often denoted as alpha. Governs the chance of a false positive.\n",
    "        A significance level of 0.05 means that there is a 5% chance of\n",
    "        a false positive. In other words, our confidence level is\n",
    "        1 - 0.05 = 0.95\n",
    "\n",
    "    Returns\n",
    "    -------\n",
    "    prop_diff : float\n",
    "        Difference between the two proportion\n",
    "\n",
    "    confint : 1d ndarray\n",
    "        Confidence interval of the two proportion test\n",
    "    \"\"\"\n",
    "    prop_a = success_a / size_a\n",
    "    prop_b = success_b / size_b\n",
    "    var = prop_a * (1 - prop_a) / size_a + prop_b * (1 - prop_b) / size_b\n",
    "    se = np.sqrt(var)\n",
    "\n",
    "    # z critical value\n",
    "    confidence = 1 - significance\n",
    "    z = stats.norm(loc = 0, scale = 1).ppf(confidence + significance / 2)\n",
    "\n",
    "    # standard formula for the confidence interval\n",
    "    # point-estimtate +- z * standard-error\n",
    "    prop_diff = prop_b - prop_a\n",
    "    confint = prop_diff + np.array([-1, 1]) * z * se\n",
    "    return prop_diff, confint"
   ]
  },
  {
   "cell_type": "markdown",
   "id": "b81c0c78",
   "metadata": {},
   "source": [
    "The Confidence interval of the difference between the  proportions of frequently traveling between R&D and HR departments"
   ]
  },
  {
   "cell_type": "code",
   "execution_count": 54,
   "id": "2770fa0d",
   "metadata": {},
   "outputs": [
    {
     "data": {
      "text/plain": [
       "(0.014782881588292635, array([-0.08217729,  0.11174306]))"
      ]
     },
     "execution_count": 54,
     "metadata": {},
     "output_type": "execute_result"
    }
   ],
   "source": [
    "two_proprotions_confint(success_a=table.table[1,0],size_a=table.table[3,0],success_b=table.table[1,1],size_b=table.table[3,1])"
   ]
  },
  {
   "cell_type": "markdown",
   "id": "63ade923",
   "metadata": {},
   "source": [
    "The Confidence interval of the difference between the  proportions of frequently traveling between R&D and Sales departments"
   ]
  },
  {
   "cell_type": "code",
   "execution_count": 55,
   "id": "31e908a6",
   "metadata": {},
   "outputs": [
    {
     "data": {
      "text/plain": [
       "(0.001045249016579347, array([-0.04289047,  0.04498097]))"
      ]
     },
     "execution_count": 55,
     "metadata": {},
     "output_type": "execute_result"
    }
   ],
   "source": [
    "two_proprotions_confint(success_a=table.table[1,2],size_a=table.table[3,2],success_b=table.table[1,1],size_b=table.table[3,1])"
   ]
  }
 ],
 "metadata": {
  "kernelspec": {
   "display_name": "Python 3 (ipykernel)",
   "language": "python",
   "name": "python3"
  },
  "language_info": {
   "codemirror_mode": {
    "name": "ipython",
    "version": 3
   },
   "file_extension": ".py",
   "mimetype": "text/x-python",
   "name": "python",
   "nbconvert_exporter": "python",
   "pygments_lexer": "ipython3",
   "version": "3.9.7"
  },
  "latex_envs": {
   "LaTeX_envs_menu_present": true,
   "autoclose": false,
   "autocomplete": true,
   "bibliofile": "biblio.bib",
   "cite_by": "apalike",
   "current_citInitial": 1,
   "eqLabelWithNumbers": true,
   "eqNumInitial": 1,
   "hotkeys": {
    "equation": "Ctrl-E",
    "itemize": "Ctrl-I"
   },
   "labels_anchors": false,
   "latex_user_defs": false,
   "report_style_numbering": false,
   "user_envs_cfg": false
  },
  "toc": {
   "base_numbering": 1,
   "nav_menu": {},
   "number_sections": true,
   "sideBar": true,
   "skip_h1_title": true,
   "title_cell": "Table of Contents",
   "title_sidebar": "Contents",
   "toc_cell": true,
   "toc_position": {
    "height": "calc(100% - 180px)",
    "left": "10px",
    "top": "150px",
    "width": "165px"
   },
   "toc_section_display": true,
   "toc_window_display": true
  }
 },
 "nbformat": 4,
 "nbformat_minor": 5
}
