{
 "cells": [
  {
   "cell_type": "markdown",
   "id": "f62aafce",
   "metadata": {},
   "source": [
    "# Assignment 2: Data analysis - results and covid_data "
   ]
  },
  {
   "cell_type": "markdown",
   "id": "9fefce4c",
   "metadata": {},
   "source": [
    "Ali Baligh-900211718 "
   ]
  },
  {
   "cell_type": "markdown",
   "id": "aa4398d3",
   "metadata": {},
   "source": [
    "# Content"
   ]
  },
  {
   "cell_type": "markdown",
   "id": "b91151c2",
   "metadata": {},
   "source": [
    "# 1. Results data description"
   ]
  },
  {
   "cell_type": "markdown",
   "id": "6835a41a",
   "metadata": {},
   "source": [
    "# 2.Variables Description "
   ]
  },
  {
   "cell_type": "markdown",
   "id": "c8caf7b9",
   "metadata": {},
   "source": [
    "# 3.Covid_data data description"
   ]
  },
  {
   "cell_type": "markdown",
   "id": "168b3417",
   "metadata": {},
   "source": [
    "# 4. Variables Description"
   ]
  },
  {
   "cell_type": "markdown",
   "id": "f10a2d56",
   "metadata": {},
   "source": [
    "# 5. Part 1a : probability of winning or losing "
   ]
  },
  {
   "cell_type": "markdown",
   "id": "48e1def7",
   "metadata": {},
   "source": [
    "# 6. Part 1b: Comparing confidence intervals."
   ]
  },
  {
   "cell_type": "markdown",
   "id": "256a4e67",
   "metadata": {},
   "source": [
    "# 7. Part 1c: Graphs"
   ]
  },
  {
   "cell_type": "markdown",
   "id": "644b5dc9",
   "metadata": {},
   "source": [
    "# 8. Part 1d: Description of the results."
   ]
  },
  {
   "cell_type": "markdown",
   "id": "4f8c172e",
   "metadata": {},
   "source": [
    "# 9. Part 2a:  reported number of confirmed cases and deaths."
   ]
  },
  {
   "cell_type": "markdown",
   "id": "630a7d46",
   "metadata": {},
   "source": [
    "# 10. Part 2b: ratio between the confirmed cases and deaths."
   ]
  },
  {
   "cell_type": "markdown",
   "id": "1d3926d6",
   "metadata": {},
   "source": [
    "# 11. Part 2c: 2020 vs 2021"
   ]
  },
  {
   "cell_type": "markdown",
   "id": "c4df3ad6",
   "metadata": {},
   "source": [
    "# 12. Part 2d: Description of the results. "
   ]
  },
  {
   "cell_type": "markdown",
   "id": "7ac205fd",
   "metadata": {},
   "source": [
    "# Results data description"
   ]
  },
  {
   "cell_type": "markdown",
   "id": "f6419f34",
   "metadata": {},
   "source": [
    "In this python notebook, I will analyze the probability of winning/losing of the countries in the different tournaments  in the dataset results.csv by using statistics, visuals, and graphs. I will study the probabilities in terms of several factors (playing at home/away). I would also compare confidence intervals and draw the corresponding graphs. This data is includes 43,170 results of international football matches starting from the very first official match in 1872 up to 2019. The matches range from FIFA World Cup to FIFI Wild Cup to regular friendly matches. The matches are strictly men’s full internationals and the data does not include Olympic Games or matches where at least one of the teams was the nation’s\n",
    "B-team, U-23 or a league select team. "
   ]
  },
  {
   "cell_type": "markdown",
   "id": "0cd92195",
   "metadata": {},
   "source": [
    "# Variables Description"
   ]
  },
  {
   "cell_type": "markdown",
   "id": "fa523790",
   "metadata": {},
   "source": [
    "date - date of the match\n",
    "\n",
    "• home_team - the name of the home team\n",
    "\n",
    "• away_team - the name of the away team\n",
    "\n",
    "• home_score - full-time home team score including extra time, not including penaltyshootouts\n",
    "\n",
    "• away_score - full-time away team score including extra time, not including penaltyshootouts\n",
    "\n",
    "• tournament - the name of the tournament\n",
    "\n",
    "• city - the name of the city/town/administrative unit where the match was played\n",
    "\n",
    "• country - the name of the country where the match was played\n",
    "\n",
    "• neutral - TRUE/FALSE column indicating whether the match was played at a neutral venue\n",
    "\n"
   ]
  },
  {
   "cell_type": "markdown",
   "id": "efa88831",
   "metadata": {},
   "source": [
    "# Covid_data data description"
   ]
  },
  {
   "cell_type": "markdown",
   "id": "ae675bc3",
   "metadata": {},
   "source": [
    "In this python notebook, I will analyze the daily reported number of cases and deaths, the case fatality rate (the ratio between deaths and cases) from COVID-19 by using statistics, visuals, and graphs. I will Compare between 2020 and 2021 and compare between regions, income, and continents). The dataset in covid_data.csv includes the records of two years 2020 and 2021 in the countries affected by the COVID-19 pandemic."
   ]
  },
  {
   "cell_type": "markdown",
   "id": "3332fd5a",
   "metadata": {},
   "source": [
    "# Variables Description"
   ]
  },
  {
   "cell_type": "markdown",
   "id": "22789a0c",
   "metadata": {},
   "source": [
    "• date- the date\n",
    "\n",
    "• iso3c- the country code\n",
    "\n",
    "• country- country name\n",
    "\n",
    "• income- Income group according WB classification\n",
    "\n",
    "• region- Geographical region according WB classification\n",
    "\n",
    "• continent- the name of the continent\n",
    "\n",
    "• dcases- the reported daily cases\n",
    "\n",
    "• ddeaths- the reported daily deaths\n",
    "\n",
    "• population- population size of the country in 2019\n",
    "\n",
    "• weekdays- weekdays\n",
    "\n",
    "• month- months\n"
   ]
  },
  {
   "cell_type": "code",
   "execution_count": 3,
   "id": "54eb6e34",
   "metadata": {},
   "outputs": [],
   "source": [
    "import numpy as np"
   ]
  },
  {
   "cell_type": "code",
   "execution_count": 3,
   "id": "ce3a5222",
   "metadata": {},
   "outputs": [],
   "source": [
    "import pandas as pd"
   ]
  },
  {
   "cell_type": "code",
   "execution_count": 6,
   "id": "e9eb4597",
   "metadata": {},
   "outputs": [],
   "source": [
    "df=pd.read_csv('covid_data.csv',encoding='latin-1')"
   ]
  },
  {
   "cell_type": "code",
   "execution_count": 7,
   "id": "ccc4260c",
   "metadata": {},
   "outputs": [
    {
     "data": {
      "text/html": [
       "<div>\n",
       "<style scoped>\n",
       "    .dataframe tbody tr th:only-of-type {\n",
       "        vertical-align: middle;\n",
       "    }\n",
       "\n",
       "    .dataframe tbody tr th {\n",
       "        vertical-align: top;\n",
       "    }\n",
       "\n",
       "    .dataframe thead th {\n",
       "        text-align: right;\n",
       "    }\n",
       "</style>\n",
       "<table border=\"1\" class=\"dataframe\">\n",
       "  <thead>\n",
       "    <tr style=\"text-align: right;\">\n",
       "      <th></th>\n",
       "      <th>date</th>\n",
       "      <th>iso3c</th>\n",
       "      <th>country</th>\n",
       "      <th>income</th>\n",
       "      <th>region</th>\n",
       "      <th>continent</th>\n",
       "      <th>dcases</th>\n",
       "      <th>ddeaths</th>\n",
       "      <th>population</th>\n",
       "      <th>weekdays</th>\n",
       "      <th>month</th>\n",
       "    </tr>\n",
       "  </thead>\n",
       "  <tbody>\n",
       "    <tr>\n",
       "      <th>0</th>\n",
       "      <td>2020-02-24</td>\n",
       "      <td>AFG</td>\n",
       "      <td>Afghanistan</td>\n",
       "      <td>Low income</td>\n",
       "      <td>South Asia</td>\n",
       "      <td>Asia</td>\n",
       "      <td>5</td>\n",
       "      <td>0</td>\n",
       "      <td>38041754</td>\n",
       "      <td>Mon</td>\n",
       "      <td>Feb</td>\n",
       "    </tr>\n",
       "    <tr>\n",
       "      <th>1</th>\n",
       "      <td>2020-02-25</td>\n",
       "      <td>AFG</td>\n",
       "      <td>Afghanistan</td>\n",
       "      <td>Low income</td>\n",
       "      <td>South Asia</td>\n",
       "      <td>Asia</td>\n",
       "      <td>0</td>\n",
       "      <td>0</td>\n",
       "      <td>38041754</td>\n",
       "      <td>Tue</td>\n",
       "      <td>Feb</td>\n",
       "    </tr>\n",
       "    <tr>\n",
       "      <th>2</th>\n",
       "      <td>2020-02-26</td>\n",
       "      <td>AFG</td>\n",
       "      <td>Afghanistan</td>\n",
       "      <td>Low income</td>\n",
       "      <td>South Asia</td>\n",
       "      <td>Asia</td>\n",
       "      <td>0</td>\n",
       "      <td>0</td>\n",
       "      <td>38041754</td>\n",
       "      <td>Wed</td>\n",
       "      <td>Feb</td>\n",
       "    </tr>\n",
       "    <tr>\n",
       "      <th>3</th>\n",
       "      <td>2020-02-27</td>\n",
       "      <td>AFG</td>\n",
       "      <td>Afghanistan</td>\n",
       "      <td>Low income</td>\n",
       "      <td>South Asia</td>\n",
       "      <td>Asia</td>\n",
       "      <td>0</td>\n",
       "      <td>0</td>\n",
       "      <td>38041754</td>\n",
       "      <td>Thu</td>\n",
       "      <td>Feb</td>\n",
       "    </tr>\n",
       "    <tr>\n",
       "      <th>4</th>\n",
       "      <td>2020-02-28</td>\n",
       "      <td>AFG</td>\n",
       "      <td>Afghanistan</td>\n",
       "      <td>Low income</td>\n",
       "      <td>South Asia</td>\n",
       "      <td>Asia</td>\n",
       "      <td>0</td>\n",
       "      <td>0</td>\n",
       "      <td>38041754</td>\n",
       "      <td>Fri</td>\n",
       "      <td>Feb</td>\n",
       "    </tr>\n",
       "    <tr>\n",
       "      <th>...</th>\n",
       "      <td>...</td>\n",
       "      <td>...</td>\n",
       "      <td>...</td>\n",
       "      <td>...</td>\n",
       "      <td>...</td>\n",
       "      <td>...</td>\n",
       "      <td>...</td>\n",
       "      <td>...</td>\n",
       "      <td>...</td>\n",
       "      <td>...</td>\n",
       "      <td>...</td>\n",
       "    </tr>\n",
       "    <tr>\n",
       "      <th>122838</th>\n",
       "      <td>2021-12-27</td>\n",
       "      <td>ZWE</td>\n",
       "      <td>Zimbabwe</td>\n",
       "      <td>Lower middle income</td>\n",
       "      <td>Sub-Saharan Africa</td>\n",
       "      <td>Africa</td>\n",
       "      <td>1098</td>\n",
       "      <td>17</td>\n",
       "      <td>14645468</td>\n",
       "      <td>Mon</td>\n",
       "      <td>Dec</td>\n",
       "    </tr>\n",
       "    <tr>\n",
       "      <th>122839</th>\n",
       "      <td>2021-12-28</td>\n",
       "      <td>ZWE</td>\n",
       "      <td>Zimbabwe</td>\n",
       "      <td>Lower middle income</td>\n",
       "      <td>Sub-Saharan Africa</td>\n",
       "      <td>Africa</td>\n",
       "      <td>2099</td>\n",
       "      <td>32</td>\n",
       "      <td>14645468</td>\n",
       "      <td>Tue</td>\n",
       "      <td>Dec</td>\n",
       "    </tr>\n",
       "    <tr>\n",
       "      <th>122840</th>\n",
       "      <td>2021-12-29</td>\n",
       "      <td>ZWE</td>\n",
       "      <td>Zimbabwe</td>\n",
       "      <td>Lower middle income</td>\n",
       "      <td>Sub-Saharan Africa</td>\n",
       "      <td>Africa</td>\n",
       "      <td>0</td>\n",
       "      <td>0</td>\n",
       "      <td>14645468</td>\n",
       "      <td>Wed</td>\n",
       "      <td>Dec</td>\n",
       "    </tr>\n",
       "    <tr>\n",
       "      <th>122841</th>\n",
       "      <td>2021-12-30</td>\n",
       "      <td>ZWE</td>\n",
       "      <td>Zimbabwe</td>\n",
       "      <td>Lower middle income</td>\n",
       "      <td>Sub-Saharan Africa</td>\n",
       "      <td>Africa</td>\n",
       "      <td>4180</td>\n",
       "      <td>57</td>\n",
       "      <td>14645468</td>\n",
       "      <td>Thu</td>\n",
       "      <td>Dec</td>\n",
       "    </tr>\n",
       "    <tr>\n",
       "      <th>122842</th>\n",
       "      <td>2021-12-31</td>\n",
       "      <td>ZWE</td>\n",
       "      <td>Zimbabwe</td>\n",
       "      <td>Lower middle income</td>\n",
       "      <td>Sub-Saharan Africa</td>\n",
       "      <td>Africa</td>\n",
       "      <td>1530</td>\n",
       "      <td>7</td>\n",
       "      <td>14645468</td>\n",
       "      <td>Fri</td>\n",
       "      <td>Dec</td>\n",
       "    </tr>\n",
       "  </tbody>\n",
       "</table>\n",
       "<p>122843 rows × 11 columns</p>\n",
       "</div>"
      ],
      "text/plain": [
       "              date iso3c      country               income  \\\n",
       "0       2020-02-24   AFG  Afghanistan           Low income   \n",
       "1       2020-02-25   AFG  Afghanistan           Low income   \n",
       "2       2020-02-26   AFG  Afghanistan           Low income   \n",
       "3       2020-02-27   AFG  Afghanistan           Low income   \n",
       "4       2020-02-28   AFG  Afghanistan           Low income   \n",
       "...            ...   ...          ...                  ...   \n",
       "122838  2021-12-27   ZWE     Zimbabwe  Lower middle income   \n",
       "122839  2021-12-28   ZWE     Zimbabwe  Lower middle income   \n",
       "122840  2021-12-29   ZWE     Zimbabwe  Lower middle income   \n",
       "122841  2021-12-30   ZWE     Zimbabwe  Lower middle income   \n",
       "122842  2021-12-31   ZWE     Zimbabwe  Lower middle income   \n",
       "\n",
       "                    region continent  dcases  ddeaths  population weekdays  \\\n",
       "0               South Asia      Asia       5        0    38041754      Mon   \n",
       "1               South Asia      Asia       0        0    38041754      Tue   \n",
       "2               South Asia      Asia       0        0    38041754      Wed   \n",
       "3               South Asia      Asia       0        0    38041754      Thu   \n",
       "4               South Asia      Asia       0        0    38041754      Fri   \n",
       "...                    ...       ...     ...      ...         ...      ...   \n",
       "122838  Sub-Saharan Africa    Africa    1098       17    14645468      Mon   \n",
       "122839  Sub-Saharan Africa    Africa    2099       32    14645468      Tue   \n",
       "122840  Sub-Saharan Africa    Africa       0        0    14645468      Wed   \n",
       "122841  Sub-Saharan Africa    Africa    4180       57    14645468      Thu   \n",
       "122842  Sub-Saharan Africa    Africa    1530        7    14645468      Fri   \n",
       "\n",
       "       month  \n",
       "0        Feb  \n",
       "1        Feb  \n",
       "2        Feb  \n",
       "3        Feb  \n",
       "4        Feb  \n",
       "...      ...  \n",
       "122838   Dec  \n",
       "122839   Dec  \n",
       "122840   Dec  \n",
       "122841   Dec  \n",
       "122842   Dec  \n",
       "\n",
       "[122843 rows x 11 columns]"
      ]
     },
     "execution_count": 7,
     "metadata": {},
     "output_type": "execute_result"
    }
   ],
   "source": [
    "df"
   ]
  },
  {
   "cell_type": "code",
   "execution_count": null,
   "id": "23929393",
   "metadata": {},
   "outputs": [],
   "source": []
  }
 ],
 "metadata": {
  "kernelspec": {
   "display_name": "Python 3 (ipykernel)",
   "language": "python",
   "name": "python3"
  },
  "language_info": {
   "codemirror_mode": {
    "name": "ipython",
    "version": 3
   },
   "file_extension": ".py",
   "mimetype": "text/x-python",
   "name": "python",
   "nbconvert_exporter": "python",
   "pygments_lexer": "ipython3",
   "version": "3.9.7"
  }
 },
 "nbformat": 4,
 "nbformat_minor": 5
}
