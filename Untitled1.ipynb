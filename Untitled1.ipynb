{
 "cells": [
  {
   "cell_type": "markdown",
   "id": "937988f5",
   "metadata": {
    "toc": true
   },
   "source": [
    "<h1>Table of Contents<span class=\"tocSkip\"></span></h1>\n",
    "<div class=\"toc\"><ul class=\"toc-item\"></ul></div>"
   ]
  },
  {
   "cell_type": "code",
   "execution_count": 2,
   "id": "59570719",
   "metadata": {},
   "outputs": [],
   "source": [
    "import numpy as np\n",
    "from scipy.stats import norm,t"
   ]
  },
  {
   "cell_type": "code",
   "execution_count": 18,
   "id": "0b38679d",
   "metadata": {},
   "outputs": [],
   "source": [
    "mu1=30.4\n",
    "sig1=3.4"
   ]
  },
  {
   "cell_type": "code",
   "execution_count": 35,
   "id": "eae79725",
   "metadata": {},
   "outputs": [],
   "source": [
    "x1 = np.random.normal(mu1,sig1, 20)"
   ]
  },
  {
   "cell_type": "code",
   "execution_count": 36,
   "id": "66eba78e",
   "metadata": {},
   "outputs": [],
   "source": [
    "m1=np.average(x1)"
   ]
  },
  {
   "cell_type": "code",
   "execution_count": 37,
   "id": "c21eb50b",
   "metadata": {},
   "outputs": [],
   "source": [
    "s1=np.std(x1)"
   ]
  },
  {
   "cell_type": "code",
   "execution_count": 38,
   "id": "a1cde5fd",
   "metadata": {},
   "outputs": [],
   "source": [
    "import scipy "
   ]
  },
  {
   "cell_type": "code",
   "execution_count": 39,
   "id": "45737de9",
   "metadata": {},
   "outputs": [
    {
     "data": {
      "text/plain": [
       "(27.442969558309777, 30.33435989685853)"
      ]
     },
     "execution_count": 39,
     "metadata": {},
     "output_type": "execute_result"
    }
   ],
   "source": [
    "scipy.stats.t.interval(.95, len(x1), m1, s1/np.sqrt(len(x1)))"
   ]
  },
  {
   "cell_type": "code",
   "execution_count": 40,
   "id": "a5b3e8ac",
   "metadata": {},
   "outputs": [
    {
     "data": {
      "text/plain": [
       "(27.398576408603965, 30.37875304656434)"
      ]
     },
     "execution_count": 40,
     "metadata": {},
     "output_type": "execute_result"
    }
   ],
   "source": [
    "scipy.stats.norm.interval(.95,loc=m1, scale=sig1/np.sqrt(len(x1)))"
   ]
  },
  {
   "cell_type": "code",
   "execution_count": 44,
   "id": "d2326ea3",
   "metadata": {},
   "outputs": [
    {
     "data": {
      "text/plain": [
       "2.093024054408263"
      ]
     },
     "execution_count": 44,
     "metadata": {},
     "output_type": "execute_result"
    }
   ],
   "source": [
    "t.ppf(.975,19)"
   ]
  },
  {
   "cell_type": "code",
   "execution_count": 45,
   "id": "1ad0b770",
   "metadata": {},
   "outputs": [
    {
     "data": {
      "text/plain": [
       "1.959963984540054"
      ]
     },
     "execution_count": 45,
     "metadata": {},
     "output_type": "execute_result"
    }
   ],
   "source": [
    "norm.ppf(.975,0,1)"
   ]
  },
  {
   "cell_type": "code",
   "execution_count": null,
   "id": "84bd2174",
   "metadata": {},
   "outputs": [],
   "source": []
  }
 ],
 "metadata": {
  "kernelspec": {
   "display_name": "Python 3 (ipykernel)",
   "language": "python",
   "name": "python3"
  },
  "language_info": {
   "codemirror_mode": {
    "name": "ipython",
    "version": 3
   },
   "file_extension": ".py",
   "mimetype": "text/x-python",
   "name": "python",
   "nbconvert_exporter": "python",
   "pygments_lexer": "ipython3",
   "version": "3.9.7"
  },
  "latex_envs": {
   "LaTeX_envs_menu_present": true,
   "autoclose": false,
   "autocomplete": true,
   "bibliofile": "biblio.bib",
   "cite_by": "apalike",
   "current_citInitial": 1,
   "eqLabelWithNumbers": true,
   "eqNumInitial": 1,
   "hotkeys": {
    "equation": "Ctrl-E",
    "itemize": "Ctrl-I"
   },
   "labels_anchors": false,
   "latex_user_defs": false,
   "report_style_numbering": false,
   "user_envs_cfg": false
  },
  "toc": {
   "base_numbering": 1,
   "nav_menu": {},
   "number_sections": true,
   "sideBar": true,
   "skip_h1_title": true,
   "title_cell": "Table of Contents",
   "title_sidebar": "Contents",
   "toc_cell": true,
   "toc_position": {},
   "toc_section_display": true,
   "toc_window_display": true
  }
 },
 "nbformat": 4,
 "nbformat_minor": 5
}
