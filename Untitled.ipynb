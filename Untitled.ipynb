{
 "cells": [
  {
   "cell_type": "markdown",
   "id": "94518b30",
   "metadata": {
    "toc": true
   },
   "source": [
    "<h1>Table of Contents<span class=\"tocSkip\"></span></h1>\n",
    "<div class=\"toc\"><ul class=\"toc-item\"></ul></div>"
   ]
  },
  {
   "cell_type": "code",
   "execution_count": 1,
   "id": "f5298294",
   "metadata": {},
   "outputs": [],
   "source": [
    "import numpy as np\n",
    "import pandas as pd\n",
    "import matplotlib.pyplot as plt\n",
    "\n",
    "df = pd.DataFrame({'Time': ['D=0', 'D=2', 'D=5', 'D=X'],\n",
    "                   'Latency': [74.92, 75.32, 79.64, 100],\n",
    "                   'Delay': [18.2, 80, 82, 84]})\n",
    "latency_min_max = np.array([(73.3, 76), (73.3, 80), (75, 83.3), (100, 100)]).T\n",
    "latency_err = np.abs(latency_min_max - df['Latency'].to_numpy())\n",
    "delay_min_max = np.array([(0, 50), (50, 100), (68, 90), (75, 90)]).T\n",
    "delay_err = np.abs(delay_min_max - df['Delay'].to_numpy())\n",
    "\n"
   ]
  },
  {
   "cell_type": "code",
   "execution_count": 2,
   "id": "ceca25c6",
   "metadata": {},
   "outputs": [
    {
     "data": {
      "text/plain": [
       "array([[18.2, 30. , 14. ,  9. ],\n",
       "       [31.8, 20. ,  8. ,  6. ]])"
      ]
     },
     "execution_count": 2,
     "metadata": {},
     "output_type": "execute_result"
    }
   ],
   "source": [
    "delay_err"
   ]
  },
  {
   "cell_type": "code",
   "execution_count": 3,
   "id": "b20c916d",
   "metadata": {},
   "outputs": [
    {
     "data": {
      "text/plain": [
       "array([[1.62, 2.02, 4.64, 0.  ],\n",
       "       [1.08, 4.68, 3.66, 0.  ]])"
      ]
     },
     "execution_count": 3,
     "metadata": {},
     "output_type": "execute_result"
    }
   ],
   "source": [
    "latency_err"
   ]
  },
  {
   "cell_type": "code",
   "execution_count": 4,
   "id": "2bb5ca35",
   "metadata": {},
   "outputs": [
    {
     "data": {
      "text/plain": [
       "array([[ 73.3,  73.3,  75. , 100. ],\n",
       "       [ 76. ,  80. ,  83.3, 100. ]])"
      ]
     },
     "execution_count": 4,
     "metadata": {},
     "output_type": "execute_result"
    }
   ],
   "source": [
    "latency_min_max"
   ]
  },
  {
   "cell_type": "code",
   "execution_count": null,
   "id": "275c9d68",
   "metadata": {},
   "outputs": [],
   "source": []
  }
 ],
 "metadata": {
  "kernelspec": {
   "display_name": "Python 3 (ipykernel)",
   "language": "python",
   "name": "python3"
  },
  "language_info": {
   "codemirror_mode": {
    "name": "ipython",
    "version": 3
   },
   "file_extension": ".py",
   "mimetype": "text/x-python",
   "name": "python",
   "nbconvert_exporter": "python",
   "pygments_lexer": "ipython3",
   "version": "3.9.7"
  },
  "latex_envs": {
   "LaTeX_envs_menu_present": true,
   "autoclose": false,
   "autocomplete": true,
   "bibliofile": "biblio.bib",
   "cite_by": "apalike",
   "current_citInitial": 1,
   "eqLabelWithNumbers": true,
   "eqNumInitial": 1,
   "hotkeys": {
    "equation": "Ctrl-E",
    "itemize": "Ctrl-I"
   },
   "labels_anchors": false,
   "latex_user_defs": false,
   "report_style_numbering": false,
   "user_envs_cfg": false
  },
  "toc": {
   "base_numbering": 1,
   "nav_menu": {},
   "number_sections": true,
   "sideBar": true,
   "skip_h1_title": true,
   "title_cell": "Table of Contents",
   "title_sidebar": "Contents",
   "toc_cell": true,
   "toc_position": {},
   "toc_section_display": true,
   "toc_window_display": true
  }
 },
 "nbformat": 4,
 "nbformat_minor": 5
}
