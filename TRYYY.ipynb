{
 "cells": [
  {
   "cell_type": "code",
   "execution_count": 3,
   "id": "d4d01be2",
   "metadata": {},
   "outputs": [
    {
     "name": "stdout",
     "output_type": "stream",
     "text": [
      "[0.76096007 0.32142577 0.29557867 0.81101132 0.89018771 0.30075541\n",
      " 0.44420675 0.21728582]\n"
     ]
    }
   ],
   "source": [
    "import numpy as np\n",
    "x=np.random.random(100)\n",
    "print(x[:8])"
   ]
  },
  {
   "cell_type": "code",
   "execution_count": null,
   "id": "8bad5313",
   "metadata": {},
   "outputs": [],
   "source": []
  }
 ],
 "metadata": {
  "kernelspec": {
   "display_name": "Python 3 (ipykernel)",
   "language": "python",
   "name": "python3"
  },
  "language_info": {
   "codemirror_mode": {
    "name": "ipython",
    "version": 3
   },
   "file_extension": ".py",
   "mimetype": "text/x-python",
   "name": "python",
   "nbconvert_exporter": "python",
   "pygments_lexer": "ipython3",
   "version": "3.9.7"
  }
 },
 "nbformat": 4,
 "nbformat_minor": 5
}
