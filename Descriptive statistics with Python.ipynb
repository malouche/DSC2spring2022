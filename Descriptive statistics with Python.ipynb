{
 "cells": [
  {
   "cell_type": "markdown",
   "id": "aba16f84",
   "metadata": {},
   "source": [
    "# Descriptive Statistics with Python by Dhafer Malouche "
   ]
  },
  {
   "cell_type": "markdown",
   "id": "6b26a70a",
   "metadata": {},
   "source": [
    "This chapter aims to learn how to perform your first data analysis using Python. We will first talk about the types of variables found in any collected dataset. We then show the kind of statistics that should be calculated: mean, median, mode, to provide a good description of the data. We finish the chapter by showing how to study the pairwise relationships between variables. We will then show how to compute correlation coefficients and draw the correlation's heat map. We will also present the $\\chi^2-$test to determine the nature of the relationship between two categorical variables.\n",
    "\n",
    "This is a new version of my notebook"
   ]
  },
  {
   "cell_type": "markdown",
   "id": "8c8bcbd3",
   "metadata": {},
   "source": [
    "Learning outcomes:\n",
    "\n",
    "+ Types of variables\n",
    "+ Discrete variables, frequency, proportions, percentages\n",
    "+ Measuring central tendency for continuous variables: Mean, Median, Quantiles\n",
    "+ Measuring dispersion for continuous variables: Range, IQR, Variance, STD\n",
    "+ Relationship between two continuous variables: Correlation coefficient and matrix, heat map. \n",
    "+ Relationship between two discrete variables: Independence models, $\\chi^2-$test, mosaic plot."
   ]
  },
  {
   "cell_type": "markdown",
   "id": "7f90cf2a",
   "metadata": {
    "toc": true
   },
   "source": [
    "<h1>Table of Contents<span class=\"tocSkip\"></span></h1>\n",
    "<div class=\"toc\"><ul class=\"toc-item\"><li><span><a href=\"#Type-of--variables\" data-toc-modified-id=\"Type-of--variables-1\"><span class=\"toc-item-num\">1&nbsp;&nbsp;</span>Type of  variables</a></span><ul class=\"toc-item\"><li><span><a href=\"#Discrete-Variable\" data-toc-modified-id=\"Discrete-Variable-1.1\"><span class=\"toc-item-num\">1.1&nbsp;&nbsp;</span>Discrete Variable</a></span></li><li><span><a href=\"#Continuous-Variable\" data-toc-modified-id=\"Continuous-Variable-1.2\"><span class=\"toc-item-num\">1.2&nbsp;&nbsp;</span>Continuous Variable</a></span><ul class=\"toc-item\"><li><span><a href=\"#Measuring-central-tendancy\" data-toc-modified-id=\"Measuring-central-tendancy-1.2.1\"><span class=\"toc-item-num\">1.2.1&nbsp;&nbsp;</span>Measuring central tendancy</a></span></li><li><span><a href=\"#Measuring-dispersion\" data-toc-modified-id=\"Measuring-dispersion-1.2.2\"><span class=\"toc-item-num\">1.2.2&nbsp;&nbsp;</span>Measuring dispersion</a></span></li></ul></li></ul></li><li><span><a href=\"#Measure-relationship-between-two-variables\" data-toc-modified-id=\"Measure-relationship-between-two-variables-2\"><span class=\"toc-item-num\">2&nbsp;&nbsp;</span>Measure relationship between two variables</a></span><ul class=\"toc-item\"><li><span><a href=\"#Between-two-continuous--variables\" data-toc-modified-id=\"Between-two-continuous--variables-2.1\"><span class=\"toc-item-num\">2.1&nbsp;&nbsp;</span>Between two continuous  variables</a></span></li><li><span><a href=\"#Between-two-disrete-variables\" data-toc-modified-id=\"Between-two-disrete-variables-2.2\"><span class=\"toc-item-num\">2.2&nbsp;&nbsp;</span>Between two disrete variables</a></span></li></ul></li></ul></div>"
   ]
  },
  {
   "cell_type": "markdown",
   "id": "b5f0f938",
   "metadata": {},
   "source": [
    "## Type of  variables"
   ]
  },
  {
   "cell_type": "markdown",
   "id": "f8ecc2d6",
   "metadata": {},
   "source": [
    "### Discrete Variable "
   ]
  },
  {
   "cell_type": "code",
   "execution_count": 1,
   "id": "7edce273",
   "metadata": {},
   "outputs": [],
   "source": [
    "import pandas as pd"
   ]
  },
  {
   "cell_type": "code",
   "execution_count": 2,
   "id": "59c70a31",
   "metadata": {},
   "outputs": [],
   "source": [
    "df=pd.read_csv(\"data1.csv\",index_col='EmployeeNumber')"
   ]
  },
  {
   "cell_type": "code",
   "execution_count": 3,
   "id": "38cd203f",
   "metadata": {},
   "outputs": [
    {
     "data": {
      "text/html": [
       "<div>\n",
       "<style scoped>\n",
       "    .dataframe tbody tr th:only-of-type {\n",
       "        vertical-align: middle;\n",
       "    }\n",
       "\n",
       "    .dataframe tbody tr th {\n",
       "        vertical-align: top;\n",
       "    }\n",
       "\n",
       "    .dataframe thead th {\n",
       "        text-align: right;\n",
       "    }\n",
       "</style>\n",
       "<table border=\"1\" class=\"dataframe\">\n",
       "  <thead>\n",
       "    <tr style=\"text-align: right;\">\n",
       "      <th></th>\n",
       "      <th>Age</th>\n",
       "      <th>Attrition</th>\n",
       "      <th>BusinessTravel</th>\n",
       "      <th>DailyRate</th>\n",
       "      <th>Department</th>\n",
       "      <th>DistanceFromHome</th>\n",
       "      <th>Education</th>\n",
       "      <th>EducationField</th>\n",
       "      <th>EmployeeCount</th>\n",
       "      <th>EnvironmentSatisfaction</th>\n",
       "      <th>...</th>\n",
       "      <th>RelationshipSatisfaction</th>\n",
       "      <th>StandardHours</th>\n",
       "      <th>StockOptionLevel</th>\n",
       "      <th>TotalWorkingYears</th>\n",
       "      <th>TrainingTimesLastYear</th>\n",
       "      <th>WorkLifeBalance</th>\n",
       "      <th>YearsAtCompany</th>\n",
       "      <th>YearsInCurrentRole</th>\n",
       "      <th>YearsSinceLastPromotion</th>\n",
       "      <th>YearsWithCurrManager</th>\n",
       "    </tr>\n",
       "    <tr>\n",
       "      <th>EmployeeNumber</th>\n",
       "      <th></th>\n",
       "      <th></th>\n",
       "      <th></th>\n",
       "      <th></th>\n",
       "      <th></th>\n",
       "      <th></th>\n",
       "      <th></th>\n",
       "      <th></th>\n",
       "      <th></th>\n",
       "      <th></th>\n",
       "      <th></th>\n",
       "      <th></th>\n",
       "      <th></th>\n",
       "      <th></th>\n",
       "      <th></th>\n",
       "      <th></th>\n",
       "      <th></th>\n",
       "      <th></th>\n",
       "      <th></th>\n",
       "      <th></th>\n",
       "      <th></th>\n",
       "    </tr>\n",
       "  </thead>\n",
       "  <tbody>\n",
       "    <tr>\n",
       "      <th>1</th>\n",
       "      <td>41</td>\n",
       "      <td>Yes</td>\n",
       "      <td>Travel_Rarely</td>\n",
       "      <td>1102</td>\n",
       "      <td>Sales</td>\n",
       "      <td>1</td>\n",
       "      <td>2</td>\n",
       "      <td>Life Sciences</td>\n",
       "      <td>1</td>\n",
       "      <td>2</td>\n",
       "      <td>...</td>\n",
       "      <td>1</td>\n",
       "      <td>80</td>\n",
       "      <td>0</td>\n",
       "      <td>8</td>\n",
       "      <td>0</td>\n",
       "      <td>1</td>\n",
       "      <td>6</td>\n",
       "      <td>4</td>\n",
       "      <td>0</td>\n",
       "      <td>5</td>\n",
       "    </tr>\n",
       "    <tr>\n",
       "      <th>2</th>\n",
       "      <td>49</td>\n",
       "      <td>No</td>\n",
       "      <td>Travel_Frequently</td>\n",
       "      <td>279</td>\n",
       "      <td>Research &amp; Development</td>\n",
       "      <td>8</td>\n",
       "      <td>1</td>\n",
       "      <td>Life Sciences</td>\n",
       "      <td>1</td>\n",
       "      <td>3</td>\n",
       "      <td>...</td>\n",
       "      <td>4</td>\n",
       "      <td>80</td>\n",
       "      <td>1</td>\n",
       "      <td>10</td>\n",
       "      <td>3</td>\n",
       "      <td>3</td>\n",
       "      <td>10</td>\n",
       "      <td>7</td>\n",
       "      <td>1</td>\n",
       "      <td>7</td>\n",
       "    </tr>\n",
       "    <tr>\n",
       "      <th>4</th>\n",
       "      <td>37</td>\n",
       "      <td>Yes</td>\n",
       "      <td>Travel_Rarely</td>\n",
       "      <td>1373</td>\n",
       "      <td>Research &amp; Development</td>\n",
       "      <td>2</td>\n",
       "      <td>2</td>\n",
       "      <td>Other</td>\n",
       "      <td>1</td>\n",
       "      <td>4</td>\n",
       "      <td>...</td>\n",
       "      <td>2</td>\n",
       "      <td>80</td>\n",
       "      <td>0</td>\n",
       "      <td>7</td>\n",
       "      <td>3</td>\n",
       "      <td>3</td>\n",
       "      <td>0</td>\n",
       "      <td>0</td>\n",
       "      <td>0</td>\n",
       "      <td>0</td>\n",
       "    </tr>\n",
       "    <tr>\n",
       "      <th>5</th>\n",
       "      <td>33</td>\n",
       "      <td>No</td>\n",
       "      <td>Travel_Frequently</td>\n",
       "      <td>1392</td>\n",
       "      <td>Research &amp; Development</td>\n",
       "      <td>3</td>\n",
       "      <td>4</td>\n",
       "      <td>Life Sciences</td>\n",
       "      <td>1</td>\n",
       "      <td>4</td>\n",
       "      <td>...</td>\n",
       "      <td>3</td>\n",
       "      <td>80</td>\n",
       "      <td>0</td>\n",
       "      <td>8</td>\n",
       "      <td>3</td>\n",
       "      <td>3</td>\n",
       "      <td>8</td>\n",
       "      <td>7</td>\n",
       "      <td>3</td>\n",
       "      <td>0</td>\n",
       "    </tr>\n",
       "    <tr>\n",
       "      <th>7</th>\n",
       "      <td>27</td>\n",
       "      <td>No</td>\n",
       "      <td>Travel_Rarely</td>\n",
       "      <td>591</td>\n",
       "      <td>Research &amp; Development</td>\n",
       "      <td>2</td>\n",
       "      <td>1</td>\n",
       "      <td>Medical</td>\n",
       "      <td>1</td>\n",
       "      <td>1</td>\n",
       "      <td>...</td>\n",
       "      <td>4</td>\n",
       "      <td>80</td>\n",
       "      <td>1</td>\n",
       "      <td>6</td>\n",
       "      <td>3</td>\n",
       "      <td>3</td>\n",
       "      <td>2</td>\n",
       "      <td>2</td>\n",
       "      <td>2</td>\n",
       "      <td>2</td>\n",
       "    </tr>\n",
       "    <tr>\n",
       "      <th>...</th>\n",
       "      <td>...</td>\n",
       "      <td>...</td>\n",
       "      <td>...</td>\n",
       "      <td>...</td>\n",
       "      <td>...</td>\n",
       "      <td>...</td>\n",
       "      <td>...</td>\n",
       "      <td>...</td>\n",
       "      <td>...</td>\n",
       "      <td>...</td>\n",
       "      <td>...</td>\n",
       "      <td>...</td>\n",
       "      <td>...</td>\n",
       "      <td>...</td>\n",
       "      <td>...</td>\n",
       "      <td>...</td>\n",
       "      <td>...</td>\n",
       "      <td>...</td>\n",
       "      <td>...</td>\n",
       "      <td>...</td>\n",
       "      <td>...</td>\n",
       "    </tr>\n",
       "    <tr>\n",
       "      <th>2061</th>\n",
       "      <td>36</td>\n",
       "      <td>No</td>\n",
       "      <td>Travel_Frequently</td>\n",
       "      <td>884</td>\n",
       "      <td>Research &amp; Development</td>\n",
       "      <td>23</td>\n",
       "      <td>2</td>\n",
       "      <td>Medical</td>\n",
       "      <td>1</td>\n",
       "      <td>3</td>\n",
       "      <td>...</td>\n",
       "      <td>3</td>\n",
       "      <td>80</td>\n",
       "      <td>1</td>\n",
       "      <td>17</td>\n",
       "      <td>3</td>\n",
       "      <td>3</td>\n",
       "      <td>5</td>\n",
       "      <td>2</td>\n",
       "      <td>0</td>\n",
       "      <td>3</td>\n",
       "    </tr>\n",
       "    <tr>\n",
       "      <th>2062</th>\n",
       "      <td>39</td>\n",
       "      <td>No</td>\n",
       "      <td>Travel_Rarely</td>\n",
       "      <td>613</td>\n",
       "      <td>Research &amp; Development</td>\n",
       "      <td>6</td>\n",
       "      <td>1</td>\n",
       "      <td>Medical</td>\n",
       "      <td>1</td>\n",
       "      <td>4</td>\n",
       "      <td>...</td>\n",
       "      <td>1</td>\n",
       "      <td>80</td>\n",
       "      <td>1</td>\n",
       "      <td>9</td>\n",
       "      <td>5</td>\n",
       "      <td>3</td>\n",
       "      <td>7</td>\n",
       "      <td>7</td>\n",
       "      <td>1</td>\n",
       "      <td>7</td>\n",
       "    </tr>\n",
       "    <tr>\n",
       "      <th>2064</th>\n",
       "      <td>27</td>\n",
       "      <td>No</td>\n",
       "      <td>Travel_Rarely</td>\n",
       "      <td>155</td>\n",
       "      <td>Research &amp; Development</td>\n",
       "      <td>4</td>\n",
       "      <td>3</td>\n",
       "      <td>Life Sciences</td>\n",
       "      <td>1</td>\n",
       "      <td>2</td>\n",
       "      <td>...</td>\n",
       "      <td>2</td>\n",
       "      <td>80</td>\n",
       "      <td>1</td>\n",
       "      <td>6</td>\n",
       "      <td>0</td>\n",
       "      <td>3</td>\n",
       "      <td>6</td>\n",
       "      <td>2</td>\n",
       "      <td>0</td>\n",
       "      <td>3</td>\n",
       "    </tr>\n",
       "    <tr>\n",
       "      <th>2065</th>\n",
       "      <td>49</td>\n",
       "      <td>No</td>\n",
       "      <td>Travel_Frequently</td>\n",
       "      <td>1023</td>\n",
       "      <td>Sales</td>\n",
       "      <td>2</td>\n",
       "      <td>3</td>\n",
       "      <td>Medical</td>\n",
       "      <td>1</td>\n",
       "      <td>4</td>\n",
       "      <td>...</td>\n",
       "      <td>4</td>\n",
       "      <td>80</td>\n",
       "      <td>0</td>\n",
       "      <td>17</td>\n",
       "      <td>3</td>\n",
       "      <td>2</td>\n",
       "      <td>9</td>\n",
       "      <td>6</td>\n",
       "      <td>0</td>\n",
       "      <td>8</td>\n",
       "    </tr>\n",
       "    <tr>\n",
       "      <th>2068</th>\n",
       "      <td>34</td>\n",
       "      <td>No</td>\n",
       "      <td>Travel_Rarely</td>\n",
       "      <td>628</td>\n",
       "      <td>Research &amp; Development</td>\n",
       "      <td>8</td>\n",
       "      <td>3</td>\n",
       "      <td>Medical</td>\n",
       "      <td>1</td>\n",
       "      <td>2</td>\n",
       "      <td>...</td>\n",
       "      <td>1</td>\n",
       "      <td>80</td>\n",
       "      <td>0</td>\n",
       "      <td>6</td>\n",
       "      <td>3</td>\n",
       "      <td>4</td>\n",
       "      <td>4</td>\n",
       "      <td>3</td>\n",
       "      <td>1</td>\n",
       "      <td>2</td>\n",
       "    </tr>\n",
       "  </tbody>\n",
       "</table>\n",
       "<p>1470 rows × 34 columns</p>\n",
       "</div>"
      ],
      "text/plain": [
       "                Age Attrition     BusinessTravel  DailyRate  \\\n",
       "EmployeeNumber                                                \n",
       "1                41       Yes      Travel_Rarely       1102   \n",
       "2                49        No  Travel_Frequently        279   \n",
       "4                37       Yes      Travel_Rarely       1373   \n",
       "5                33        No  Travel_Frequently       1392   \n",
       "7                27        No      Travel_Rarely        591   \n",
       "...             ...       ...                ...        ...   \n",
       "2061             36        No  Travel_Frequently        884   \n",
       "2062             39        No      Travel_Rarely        613   \n",
       "2064             27        No      Travel_Rarely        155   \n",
       "2065             49        No  Travel_Frequently       1023   \n",
       "2068             34        No      Travel_Rarely        628   \n",
       "\n",
       "                            Department  DistanceFromHome  Education  \\\n",
       "EmployeeNumber                                                        \n",
       "1                                Sales                 1          2   \n",
       "2               Research & Development                 8          1   \n",
       "4               Research & Development                 2          2   \n",
       "5               Research & Development                 3          4   \n",
       "7               Research & Development                 2          1   \n",
       "...                                ...               ...        ...   \n",
       "2061            Research & Development                23          2   \n",
       "2062            Research & Development                 6          1   \n",
       "2064            Research & Development                 4          3   \n",
       "2065                             Sales                 2          3   \n",
       "2068            Research & Development                 8          3   \n",
       "\n",
       "               EducationField  EmployeeCount  EnvironmentSatisfaction  ...  \\\n",
       "EmployeeNumber                                                         ...   \n",
       "1               Life Sciences              1                        2  ...   \n",
       "2               Life Sciences              1                        3  ...   \n",
       "4                       Other              1                        4  ...   \n",
       "5               Life Sciences              1                        4  ...   \n",
       "7                     Medical              1                        1  ...   \n",
       "...                       ...            ...                      ...  ...   \n",
       "2061                  Medical              1                        3  ...   \n",
       "2062                  Medical              1                        4  ...   \n",
       "2064            Life Sciences              1                        2  ...   \n",
       "2065                  Medical              1                        4  ...   \n",
       "2068                  Medical              1                        2  ...   \n",
       "\n",
       "               RelationshipSatisfaction  StandardHours  StockOptionLevel  \\\n",
       "EmployeeNumber                                                             \n",
       "1                                     1             80                 0   \n",
       "2                                     4             80                 1   \n",
       "4                                     2             80                 0   \n",
       "5                                     3             80                 0   \n",
       "7                                     4             80                 1   \n",
       "...                                 ...            ...               ...   \n",
       "2061                                  3             80                 1   \n",
       "2062                                  1             80                 1   \n",
       "2064                                  2             80                 1   \n",
       "2065                                  4             80                 0   \n",
       "2068                                  1             80                 0   \n",
       "\n",
       "                TotalWorkingYears TrainingTimesLastYear  WorkLifeBalance  \\\n",
       "EmployeeNumber                                                             \n",
       "1                               8                     0                1   \n",
       "2                              10                     3                3   \n",
       "4                               7                     3                3   \n",
       "5                               8                     3                3   \n",
       "7                               6                     3                3   \n",
       "...                           ...                   ...              ...   \n",
       "2061                           17                     3                3   \n",
       "2062                            9                     5                3   \n",
       "2064                            6                     0                3   \n",
       "2065                           17                     3                2   \n",
       "2068                            6                     3                4   \n",
       "\n",
       "               YearsAtCompany  YearsInCurrentRole  YearsSinceLastPromotion  \\\n",
       "EmployeeNumber                                                               \n",
       "1                           6                   4                        0   \n",
       "2                          10                   7                        1   \n",
       "4                           0                   0                        0   \n",
       "5                           8                   7                        3   \n",
       "7                           2                   2                        2   \n",
       "...                       ...                 ...                      ...   \n",
       "2061                        5                   2                        0   \n",
       "2062                        7                   7                        1   \n",
       "2064                        6                   2                        0   \n",
       "2065                        9                   6                        0   \n",
       "2068                        4                   3                        1   \n",
       "\n",
       "                YearsWithCurrManager  \n",
       "EmployeeNumber                        \n",
       "1                                  5  \n",
       "2                                  7  \n",
       "4                                  0  \n",
       "5                                  0  \n",
       "7                                  2  \n",
       "...                              ...  \n",
       "2061                               3  \n",
       "2062                               7  \n",
       "2064                               3  \n",
       "2065                               8  \n",
       "2068                               2  \n",
       "\n",
       "[1470 rows x 34 columns]"
      ]
     },
     "execution_count": 3,
     "metadata": {},
     "output_type": "execute_result"
    }
   ],
   "source": [
    "df"
   ]
  },
  {
   "cell_type": "code",
   "execution_count": 4,
   "id": "39136a4b",
   "metadata": {},
   "outputs": [
    {
     "data": {
      "text/plain": [
       "Index(['Age', 'Attrition', 'BusinessTravel', 'DailyRate', 'Department',\n",
       "       'DistanceFromHome', 'Education', 'EducationField', 'EmployeeCount',\n",
       "       'EnvironmentSatisfaction', 'Gender', 'HourlyRate', 'JobInvolvement',\n",
       "       'JobLevel', 'JobRole', 'JobSatisfaction', 'MaritalStatus',\n",
       "       'MonthlyIncome', 'MonthlyRate', 'NumCompaniesWorked', 'Over18',\n",
       "       'OverTime', 'PercentSalaryHike', 'PerformanceRating',\n",
       "       'RelationshipSatisfaction', 'StandardHours', 'StockOptionLevel',\n",
       "       'TotalWorkingYears', 'TrainingTimesLastYear', 'WorkLifeBalance',\n",
       "       'YearsAtCompany', 'YearsInCurrentRole', 'YearsSinceLastPromotion',\n",
       "       'YearsWithCurrManager'],\n",
       "      dtype='object')"
      ]
     },
     "execution_count": 4,
     "metadata": {},
     "output_type": "execute_result"
    }
   ],
   "source": [
    "df.columns"
   ]
  },
  {
   "cell_type": "code",
   "execution_count": 5,
   "id": "32b1b72e",
   "metadata": {},
   "outputs": [
    {
     "data": {
      "text/plain": [
       "EmployeeNumber\n",
       "1       4\n",
       "2       2\n",
       "4       3\n",
       "5       3\n",
       "7       2\n",
       "       ..\n",
       "2061    4\n",
       "2062    1\n",
       "2064    2\n",
       "2065    2\n",
       "2068    3\n",
       "Name: JobSatisfaction, Length: 1470, dtype: int64"
      ]
     },
     "execution_count": 5,
     "metadata": {},
     "output_type": "execute_result"
    }
   ],
   "source": [
    "df['JobSatisfaction']"
   ]
  },
  {
   "cell_type": "code",
   "execution_count": 6,
   "id": "4e56f6ea",
   "metadata": {
    "scrolled": true
   },
   "outputs": [
    {
     "data": {
      "text/plain": [
       "No     1233\n",
       "Yes     237\n",
       "Name: Attrition, dtype: int64"
      ]
     },
     "execution_count": 6,
     "metadata": {},
     "output_type": "execute_result"
    }
   ],
   "source": [
    "df['Attrition'].value_counts()"
   ]
  },
  {
   "cell_type": "code",
   "execution_count": 7,
   "id": "3c229436",
   "metadata": {},
   "outputs": [
    {
     "data": {
      "text/plain": [
       "Male      882\n",
       "Female    588\n",
       "Name: Gender, dtype: int64"
      ]
     },
     "execution_count": 7,
     "metadata": {},
     "output_type": "execute_result"
    }
   ],
   "source": [
    "df['Gender'].value_counts()"
   ]
  },
  {
   "cell_type": "code",
   "execution_count": 8,
   "id": "c022e8c2",
   "metadata": {},
   "outputs": [
    {
     "data": {
      "text/plain": [
       "4    459\n",
       "3    442\n",
       "1    289\n",
       "2    280\n",
       "Name: JobSatisfaction, dtype: int64"
      ]
     },
     "execution_count": 8,
     "metadata": {},
     "output_type": "execute_result"
    }
   ],
   "source": [
    "df['JobSatisfaction'].value_counts()"
   ]
  },
  {
   "cell_type": "code",
   "execution_count": 9,
   "id": "f1e6e56a",
   "metadata": {
    "scrolled": true
   },
   "outputs": [
    {
     "data": {
      "text/plain": [
       "35    78\n",
       "34    77\n",
       "36    69\n",
       "31    69\n",
       "29    68\n",
       "32    61\n",
       "30    60\n",
       "33    58\n",
       "38    58\n",
       "40    57\n",
       "37    50\n",
       "27    48\n",
       "28    48\n",
       "42    46\n",
       "39    42\n",
       "45    41\n",
       "41    40\n",
       "26    39\n",
       "44    33\n",
       "46    33\n",
       "43    32\n",
       "50    30\n",
       "25    26\n",
       "24    26\n",
       "49    24\n",
       "47    24\n",
       "55    22\n",
       "51    19\n",
       "53    19\n",
       "48    19\n",
       "54    18\n",
       "52    18\n",
       "22    16\n",
       "56    14\n",
       "23    14\n",
       "58    14\n",
       "21    13\n",
       "20    11\n",
       "59    10\n",
       "19     9\n",
       "18     8\n",
       "60     5\n",
       "57     4\n",
       "Name: Age, dtype: int64"
      ]
     },
     "execution_count": 9,
     "metadata": {},
     "output_type": "execute_result"
    }
   ],
   "source": [
    "df['Age'].value_counts()"
   ]
  },
  {
   "cell_type": "code",
   "execution_count": 10,
   "id": "69808fae",
   "metadata": {},
   "outputs": [
    {
     "data": {
      "text/plain": [
       "No     1233\n",
       "Yes     237\n",
       "Name: Attrition, dtype: int64"
      ]
     },
     "execution_count": 10,
     "metadata": {},
     "output_type": "execute_result"
    }
   ],
   "source": [
    "df['Attrition'].value_counts()"
   ]
  },
  {
   "cell_type": "code",
   "execution_count": 11,
   "id": "736513c0",
   "metadata": {},
   "outputs": [
    {
     "data": {
      "text/plain": [
       "No     0.838776\n",
       "Yes    0.161224\n",
       "Name: Attrition, dtype: float64"
      ]
     },
     "execution_count": 11,
     "metadata": {},
     "output_type": "execute_result"
    }
   ],
   "source": [
    "df['Attrition'].value_counts(normalize=True)"
   ]
  },
  {
   "cell_type": "markdown",
   "id": "62a97b60",
   "metadata": {},
   "source": [
    "### Continuous Variable"
   ]
  },
  {
   "cell_type": "markdown",
   "id": "f4a5743c",
   "metadata": {},
   "source": [
    "#### Measuring central tendancy"
   ]
  },
  {
   "cell_type": "markdown",
   "id": "1c2a9758",
   "metadata": {},
   "source": [
    "**Mean**: $\\overline{x}=\\displaystyle\\frac{1}{n}\\displaystyle\\sum_{i=1}^n x_i$"
   ]
  },
  {
   "cell_type": "code",
   "execution_count": 12,
   "id": "d4103a16",
   "metadata": {},
   "outputs": [
    {
     "data": {
      "text/plain": [
       "36.923809523809524"
      ]
     },
     "execution_count": 12,
     "metadata": {},
     "output_type": "execute_result"
    }
   ],
   "source": [
    "df['Age'].mean()"
   ]
  },
  {
   "cell_type": "code",
   "execution_count": 13,
   "id": "45984207",
   "metadata": {},
   "outputs": [
    {
     "data": {
      "text/plain": [
       "3    572\n",
       "4    398\n",
       "2    282\n",
       "1    170\n",
       "5     48\n",
       "Name: Education, dtype: int64"
      ]
     },
     "execution_count": 13,
     "metadata": {},
     "output_type": "execute_result"
    }
   ],
   "source": [
    "df['Education'].value_counts()"
   ]
  },
  {
   "cell_type": "code",
   "execution_count": null,
   "id": "49b7a37c",
   "metadata": {},
   "outputs": [],
   "source": []
  },
  {
   "cell_type": "code",
   "execution_count": 14,
   "id": "383ef064",
   "metadata": {},
   "outputs": [
    {
     "data": {
      "text/plain": [
       "2.912925170068027"
      ]
     },
     "execution_count": 14,
     "metadata": {},
     "output_type": "execute_result"
    }
   ],
   "source": [
    "df['Education'].mean()"
   ]
  },
  {
   "cell_type": "markdown",
   "id": "3f9c9519",
   "metadata": {},
   "source": [
    "The **mode** is the highest-occuring item in a group of observations"
   ]
  },
  {
   "cell_type": "code",
   "execution_count": 15,
   "id": "059c3275",
   "metadata": {},
   "outputs": [
    {
     "data": {
      "text/plain": [
       "0    35\n",
       "dtype: int64"
      ]
     },
     "execution_count": 15,
     "metadata": {},
     "output_type": "execute_result"
    }
   ],
   "source": [
    "df['Age'].mode()"
   ]
  },
  {
   "cell_type": "code",
   "execution_count": 16,
   "id": "a61f08b6",
   "metadata": {},
   "outputs": [
    {
     "data": {
      "text/plain": [
       "EmployeeNumber\n",
       "1     41\n",
       "2     49\n",
       "4     37\n",
       "5     33\n",
       "7     27\n",
       "8     32\n",
       "10    59\n",
       "11    30\n",
       "12    38\n",
       "13    36\n",
       "Name: Age, dtype: int64"
      ]
     },
     "execution_count": 16,
     "metadata": {},
     "output_type": "execute_result"
    }
   ],
   "source": [
    "df['Age'][0:10]"
   ]
  },
  {
   "cell_type": "code",
   "execution_count": 17,
   "id": "2021278d",
   "metadata": {},
   "outputs": [
    {
     "data": {
      "text/plain": [
       "0    27\n",
       "1    30\n",
       "2    32\n",
       "3    33\n",
       "4    36\n",
       "5    37\n",
       "6    38\n",
       "7    41\n",
       "8    49\n",
       "9    59\n",
       "dtype: int64"
      ]
     },
     "execution_count": 17,
     "metadata": {},
     "output_type": "execute_result"
    }
   ],
   "source": [
    "df['Age'][0:10].mode()"
   ]
  },
  {
   "cell_type": "markdown",
   "id": "9336d08c",
   "metadata": {},
   "source": [
    "The **median** is the midpoint or middle value in a group of observations. It is also called the 50th percentile.\n",
    "\n"
   ]
  },
  {
   "cell_type": "code",
   "execution_count": 18,
   "id": "f9a5ff2d",
   "metadata": {},
   "outputs": [
    {
     "data": {
      "text/plain": [
       "36.0"
      ]
     },
     "execution_count": 18,
     "metadata": {},
     "output_type": "execute_result"
    }
   ],
   "source": [
    "df['Age'].median()"
   ]
  },
  {
   "cell_type": "markdown",
   "id": "c02c875e",
   "metadata": {},
   "source": [
    "The **median** is also called the **50% quantile** or the **2nd quantile**"
   ]
  },
  {
   "cell_type": "code",
   "execution_count": 19,
   "id": "a5bb584d",
   "metadata": {},
   "outputs": [
    {
     "data": {
      "text/plain": [
       "36.0"
      ]
     },
     "execution_count": 19,
     "metadata": {},
     "output_type": "execute_result"
    }
   ],
   "source": [
    "df['Age'].quantile(.5)"
   ]
  },
  {
   "cell_type": "markdown",
   "id": "ed13a92d",
   "metadata": {},
   "source": [
    "we can compute the **1st quantile** or the **25% quantile** "
   ]
  },
  {
   "cell_type": "code",
   "execution_count": 20,
   "id": "ab32cb32",
   "metadata": {},
   "outputs": [
    {
     "data": {
      "text/plain": [
       "30.0"
      ]
     },
     "execution_count": 20,
     "metadata": {},
     "output_type": "execute_result"
    }
   ],
   "source": [
    "df['Age'].quantile(.25)"
   ]
  },
  {
   "cell_type": "markdown",
   "id": "3d2aaf3b",
   "metadata": {},
   "source": [
    "and the the **3rd quantile** or the **75% quantile**"
   ]
  },
  {
   "cell_type": "code",
   "execution_count": 21,
   "id": "c4138bfc",
   "metadata": {},
   "outputs": [
    {
     "data": {
      "text/plain": [
       "43.0"
      ]
     },
     "execution_count": 21,
     "metadata": {},
     "output_type": "execute_result"
    }
   ],
   "source": [
    "df['Age'].quantile(.75)"
   ]
  },
  {
   "cell_type": "code",
   "execution_count": 22,
   "id": "109f9f92",
   "metadata": {},
   "outputs": [
    {
     "data": {
      "text/plain": [
       "26.0"
      ]
     },
     "execution_count": 22,
     "metadata": {},
     "output_type": "execute_result"
    }
   ],
   "source": [
    "df['Age'].quantile(.1)"
   ]
  },
  {
   "cell_type": "code",
   "execution_count": 23,
   "id": "2670c8ea",
   "metadata": {},
   "outputs": [
    {
     "data": {
      "text/plain": [
       "29.0"
      ]
     },
     "execution_count": 23,
     "metadata": {},
     "output_type": "execute_result"
    }
   ],
   "source": [
    "df['Age'].quantile(.2)"
   ]
  },
  {
   "cell_type": "markdown",
   "id": "d41b6ec8",
   "metadata": {},
   "source": [
    "And we can compute **the five numbers summary**. It's composed of the `min`, `1st quantile`, `median`, `3rd quantile`, and `max`"
   ]
  },
  {
   "cell_type": "code",
   "execution_count": 24,
   "id": "18cc1ff0",
   "metadata": {},
   "outputs": [
    {
     "data": {
      "text/plain": [
       "0.00    18.0\n",
       "0.25    30.0\n",
       "0.50    36.0\n",
       "0.75    43.0\n",
       "1.00    60.0\n",
       "Name: Age, dtype: float64"
      ]
     },
     "execution_count": 24,
     "metadata": {},
     "output_type": "execute_result"
    }
   ],
   "source": [
    "df['Age'].quantile([0,.25,.5,.75,1])"
   ]
  },
  {
   "cell_type": "markdown",
   "id": "7f6ed15d",
   "metadata": {},
   "source": [
    "#### Measuring dispersion"
   ]
  },
  {
   "cell_type": "markdown",
   "id": "1b4113b5",
   "metadata": {},
   "source": [
    "**Range** is the difference between the maximum and the minimum "
   ]
  },
  {
   "cell_type": "code",
   "execution_count": 25,
   "id": "049242a1",
   "metadata": {},
   "outputs": [
    {
     "data": {
      "text/plain": [
       "60"
      ]
     },
     "execution_count": 25,
     "metadata": {},
     "output_type": "execute_result"
    }
   ],
   "source": [
    "df['Age'].max()   "
   ]
  },
  {
   "cell_type": "code",
   "execution_count": 26,
   "id": "2ac2235d",
   "metadata": {},
   "outputs": [
    {
     "data": {
      "text/plain": [
       "18"
      ]
     },
     "execution_count": 26,
     "metadata": {},
     "output_type": "execute_result"
    }
   ],
   "source": [
    "df['Age'].min()"
   ]
  },
  {
   "cell_type": "code",
   "execution_count": 27,
   "id": "fd1d03b7",
   "metadata": {},
   "outputs": [
    {
     "data": {
      "text/plain": [
       "42"
      ]
     },
     "execution_count": 27,
     "metadata": {},
     "output_type": "execute_result"
    }
   ],
   "source": [
    "df['Age'].max()-df['Age'].min()"
   ]
  },
  {
   "cell_type": "markdown",
   "id": "3181a4be",
   "metadata": {},
   "source": [
    "The **Inter-quantile range**:"
   ]
  },
  {
   "cell_type": "code",
   "execution_count": 28,
   "id": "df602901",
   "metadata": {},
   "outputs": [
    {
     "data": {
      "text/plain": [
       "13.0"
      ]
     },
     "execution_count": 28,
     "metadata": {},
     "output_type": "execute_result"
    }
   ],
   "source": [
    "df['Age'].quantile(.75)-df['Age'].quantile(.25)"
   ]
  },
  {
   "cell_type": "markdown",
   "id": "f6f373cd",
   "metadata": {},
   "source": [
    "The **Variance** measures the deviation from the mean $$\\sigma^2=\\displaystyle\\frac{1}{n-1}\\sum_{i=1}^n (x_i-\\overline{x})^2$$"
   ]
  },
  {
   "cell_type": "code",
   "execution_count": 29,
   "id": "24dc8945",
   "metadata": {},
   "outputs": [
    {
     "data": {
      "text/plain": [
       "83.45504878602227"
      ]
     },
     "execution_count": 29,
     "metadata": {},
     "output_type": "execute_result"
    }
   ],
   "source": [
    "df['Age'].var()"
   ]
  },
  {
   "cell_type": "code",
   "execution_count": 30,
   "id": "c312cf5c",
   "metadata": {},
   "outputs": [],
   "source": [
    "xbar=df['Age'].mean()"
   ]
  },
  {
   "cell_type": "code",
   "execution_count": 31,
   "id": "049e453c",
   "metadata": {},
   "outputs": [],
   "source": [
    "y=(df['Age']-xbar)**2"
   ]
  },
  {
   "cell_type": "code",
   "execution_count": 32,
   "id": "13074e2a",
   "metadata": {},
   "outputs": [
    {
     "data": {
      "text/plain": [
       "16"
      ]
     },
     "execution_count": 32,
     "metadata": {},
     "output_type": "execute_result"
    }
   ],
   "source": [
    "4**2"
   ]
  },
  {
   "cell_type": "code",
   "execution_count": 33,
   "id": "67a55a68",
   "metadata": {},
   "outputs": [
    {
     "data": {
      "text/plain": [
       "EmployeeNumber\n",
       "1     16.615329\n",
       "2    145.834376\n",
       "4      0.005805\n",
       "5     15.396281\n",
       "Name: Age, dtype: float64"
      ]
     },
     "execution_count": 33,
     "metadata": {},
     "output_type": "execute_result"
    }
   ],
   "source": [
    "y[0:4]"
   ]
  },
  {
   "cell_type": "code",
   "execution_count": 34,
   "id": "8516b44b",
   "metadata": {},
   "outputs": [],
   "source": [
    "n=len(df['Age'])"
   ]
  },
  {
   "cell_type": "code",
   "execution_count": 35,
   "id": "0a8ac709",
   "metadata": {},
   "outputs": [
    {
     "data": {
      "text/plain": [
       "1470"
      ]
     },
     "execution_count": 35,
     "metadata": {},
     "output_type": "execute_result"
    }
   ],
   "source": [
    "n"
   ]
  },
  {
   "cell_type": "code",
   "execution_count": 36,
   "id": "13b28c8d",
   "metadata": {},
   "outputs": [
    {
     "data": {
      "text/plain": [
       "122595.46666666672"
      ]
     },
     "execution_count": 36,
     "metadata": {},
     "output_type": "execute_result"
    }
   ],
   "source": [
    "sum(y)"
   ]
  },
  {
   "cell_type": "code",
   "execution_count": 37,
   "id": "474351a9",
   "metadata": {},
   "outputs": [
    {
     "data": {
      "text/plain": [
       "83.39827664399097"
      ]
     },
     "execution_count": 37,
     "metadata": {},
     "output_type": "execute_result"
    }
   ],
   "source": [
    "sum(y)/n"
   ]
  },
  {
   "cell_type": "code",
   "execution_count": 38,
   "id": "3a9a6d80",
   "metadata": {},
   "outputs": [
    {
     "data": {
      "text/plain": [
       "83.45504878602227"
      ]
     },
     "execution_count": 38,
     "metadata": {},
     "output_type": "execute_result"
    }
   ],
   "source": [
    "sum(y)/(n-1)"
   ]
  },
  {
   "cell_type": "markdown",
   "id": "e6018b0e",
   "metadata": {},
   "source": [
    "The **standard deviation** is the square root of the variance"
   ]
  },
  {
   "cell_type": "code",
   "execution_count": 35,
   "id": "8a4839ed",
   "metadata": {},
   "outputs": [
    {
     "data": {
      "text/plain": [
       "9.135373489136734"
      ]
     },
     "execution_count": 35,
     "metadata": {},
     "output_type": "execute_result"
    }
   ],
   "source": [
    "df['Age'].std()"
   ]
  },
  {
   "cell_type": "code",
   "execution_count": 34,
   "id": "06f24fd0",
   "metadata": {},
   "outputs": [
    {
     "data": {
      "text/plain": [
       "9.135373489136734"
      ]
     },
     "execution_count": 34,
     "metadata": {},
     "output_type": "execute_result"
    }
   ],
   "source": [
    "df['Age'].var()**(.5)"
   ]
  },
  {
   "cell_type": "markdown",
   "id": "7f67f367",
   "metadata": {},
   "source": [
    "We can also compute all these measures using one `Python` function"
   ]
  },
  {
   "cell_type": "code",
   "execution_count": 36,
   "id": "41541d6a",
   "metadata": {},
   "outputs": [
    {
     "data": {
      "text/plain": [
       "count    1470.000000\n",
       "mean       36.923810\n",
       "std         9.135373\n",
       "min        18.000000\n",
       "25%        30.000000\n",
       "50%        36.000000\n",
       "75%        43.000000\n",
       "max        60.000000\n",
       "Name: Age, dtype: float64"
      ]
     },
     "execution_count": 36,
     "metadata": {},
     "output_type": "execute_result"
    }
   ],
   "source": [
    "df['Age'].describe()"
   ]
  },
  {
   "cell_type": "markdown",
   "id": "2dfd24b7",
   "metadata": {},
   "source": [
    "`describe` can be used  on the whole dataset. "
   ]
  },
  {
   "cell_type": "code",
   "execution_count": 37,
   "id": "885b8540",
   "metadata": {},
   "outputs": [
    {
     "data": {
      "text/html": [
       "<div>\n",
       "<style scoped>\n",
       "    .dataframe tbody tr th:only-of-type {\n",
       "        vertical-align: middle;\n",
       "    }\n",
       "\n",
       "    .dataframe tbody tr th {\n",
       "        vertical-align: top;\n",
       "    }\n",
       "\n",
       "    .dataframe thead th {\n",
       "        text-align: right;\n",
       "    }\n",
       "</style>\n",
       "<table border=\"1\" class=\"dataframe\">\n",
       "  <thead>\n",
       "    <tr style=\"text-align: right;\">\n",
       "      <th></th>\n",
       "      <th>Age</th>\n",
       "      <th>DailyRate</th>\n",
       "      <th>DistanceFromHome</th>\n",
       "      <th>Education</th>\n",
       "      <th>EmployeeCount</th>\n",
       "      <th>EnvironmentSatisfaction</th>\n",
       "      <th>HourlyRate</th>\n",
       "      <th>JobInvolvement</th>\n",
       "      <th>JobLevel</th>\n",
       "      <th>JobSatisfaction</th>\n",
       "      <th>...</th>\n",
       "      <th>RelationshipSatisfaction</th>\n",
       "      <th>StandardHours</th>\n",
       "      <th>StockOptionLevel</th>\n",
       "      <th>TotalWorkingYears</th>\n",
       "      <th>TrainingTimesLastYear</th>\n",
       "      <th>WorkLifeBalance</th>\n",
       "      <th>YearsAtCompany</th>\n",
       "      <th>YearsInCurrentRole</th>\n",
       "      <th>YearsSinceLastPromotion</th>\n",
       "      <th>YearsWithCurrManager</th>\n",
       "    </tr>\n",
       "  </thead>\n",
       "  <tbody>\n",
       "    <tr>\n",
       "      <th>count</th>\n",
       "      <td>1470.000000</td>\n",
       "      <td>1470.000000</td>\n",
       "      <td>1470.000000</td>\n",
       "      <td>1470.000000</td>\n",
       "      <td>1470.0</td>\n",
       "      <td>1470.000000</td>\n",
       "      <td>1470.000000</td>\n",
       "      <td>1470.000000</td>\n",
       "      <td>1470.000000</td>\n",
       "      <td>1470.000000</td>\n",
       "      <td>...</td>\n",
       "      <td>1470.000000</td>\n",
       "      <td>1470.0</td>\n",
       "      <td>1470.000000</td>\n",
       "      <td>1470.000000</td>\n",
       "      <td>1470.000000</td>\n",
       "      <td>1470.000000</td>\n",
       "      <td>1470.000000</td>\n",
       "      <td>1470.000000</td>\n",
       "      <td>1470.000000</td>\n",
       "      <td>1470.000000</td>\n",
       "    </tr>\n",
       "    <tr>\n",
       "      <th>mean</th>\n",
       "      <td>36.923810</td>\n",
       "      <td>802.485714</td>\n",
       "      <td>9.192517</td>\n",
       "      <td>2.912925</td>\n",
       "      <td>1.0</td>\n",
       "      <td>2.721769</td>\n",
       "      <td>65.891156</td>\n",
       "      <td>2.729932</td>\n",
       "      <td>2.063946</td>\n",
       "      <td>2.728571</td>\n",
       "      <td>...</td>\n",
       "      <td>2.712245</td>\n",
       "      <td>80.0</td>\n",
       "      <td>0.793878</td>\n",
       "      <td>11.279592</td>\n",
       "      <td>2.799320</td>\n",
       "      <td>2.761224</td>\n",
       "      <td>7.008163</td>\n",
       "      <td>4.229252</td>\n",
       "      <td>2.187755</td>\n",
       "      <td>4.123129</td>\n",
       "    </tr>\n",
       "    <tr>\n",
       "      <th>std</th>\n",
       "      <td>9.135373</td>\n",
       "      <td>403.509100</td>\n",
       "      <td>8.106864</td>\n",
       "      <td>1.024165</td>\n",
       "      <td>0.0</td>\n",
       "      <td>1.093082</td>\n",
       "      <td>20.329428</td>\n",
       "      <td>0.711561</td>\n",
       "      <td>1.106940</td>\n",
       "      <td>1.102846</td>\n",
       "      <td>...</td>\n",
       "      <td>1.081209</td>\n",
       "      <td>0.0</td>\n",
       "      <td>0.852077</td>\n",
       "      <td>7.780782</td>\n",
       "      <td>1.289271</td>\n",
       "      <td>0.706476</td>\n",
       "      <td>6.126525</td>\n",
       "      <td>3.623137</td>\n",
       "      <td>3.222430</td>\n",
       "      <td>3.568136</td>\n",
       "    </tr>\n",
       "    <tr>\n",
       "      <th>min</th>\n",
       "      <td>18.000000</td>\n",
       "      <td>102.000000</td>\n",
       "      <td>1.000000</td>\n",
       "      <td>1.000000</td>\n",
       "      <td>1.0</td>\n",
       "      <td>1.000000</td>\n",
       "      <td>30.000000</td>\n",
       "      <td>1.000000</td>\n",
       "      <td>1.000000</td>\n",
       "      <td>1.000000</td>\n",
       "      <td>...</td>\n",
       "      <td>1.000000</td>\n",
       "      <td>80.0</td>\n",
       "      <td>0.000000</td>\n",
       "      <td>0.000000</td>\n",
       "      <td>0.000000</td>\n",
       "      <td>1.000000</td>\n",
       "      <td>0.000000</td>\n",
       "      <td>0.000000</td>\n",
       "      <td>0.000000</td>\n",
       "      <td>0.000000</td>\n",
       "    </tr>\n",
       "    <tr>\n",
       "      <th>25%</th>\n",
       "      <td>30.000000</td>\n",
       "      <td>465.000000</td>\n",
       "      <td>2.000000</td>\n",
       "      <td>2.000000</td>\n",
       "      <td>1.0</td>\n",
       "      <td>2.000000</td>\n",
       "      <td>48.000000</td>\n",
       "      <td>2.000000</td>\n",
       "      <td>1.000000</td>\n",
       "      <td>2.000000</td>\n",
       "      <td>...</td>\n",
       "      <td>2.000000</td>\n",
       "      <td>80.0</td>\n",
       "      <td>0.000000</td>\n",
       "      <td>6.000000</td>\n",
       "      <td>2.000000</td>\n",
       "      <td>2.000000</td>\n",
       "      <td>3.000000</td>\n",
       "      <td>2.000000</td>\n",
       "      <td>0.000000</td>\n",
       "      <td>2.000000</td>\n",
       "    </tr>\n",
       "    <tr>\n",
       "      <th>50%</th>\n",
       "      <td>36.000000</td>\n",
       "      <td>802.000000</td>\n",
       "      <td>7.000000</td>\n",
       "      <td>3.000000</td>\n",
       "      <td>1.0</td>\n",
       "      <td>3.000000</td>\n",
       "      <td>66.000000</td>\n",
       "      <td>3.000000</td>\n",
       "      <td>2.000000</td>\n",
       "      <td>3.000000</td>\n",
       "      <td>...</td>\n",
       "      <td>3.000000</td>\n",
       "      <td>80.0</td>\n",
       "      <td>1.000000</td>\n",
       "      <td>10.000000</td>\n",
       "      <td>3.000000</td>\n",
       "      <td>3.000000</td>\n",
       "      <td>5.000000</td>\n",
       "      <td>3.000000</td>\n",
       "      <td>1.000000</td>\n",
       "      <td>3.000000</td>\n",
       "    </tr>\n",
       "    <tr>\n",
       "      <th>75%</th>\n",
       "      <td>43.000000</td>\n",
       "      <td>1157.000000</td>\n",
       "      <td>14.000000</td>\n",
       "      <td>4.000000</td>\n",
       "      <td>1.0</td>\n",
       "      <td>4.000000</td>\n",
       "      <td>83.750000</td>\n",
       "      <td>3.000000</td>\n",
       "      <td>3.000000</td>\n",
       "      <td>4.000000</td>\n",
       "      <td>...</td>\n",
       "      <td>4.000000</td>\n",
       "      <td>80.0</td>\n",
       "      <td>1.000000</td>\n",
       "      <td>15.000000</td>\n",
       "      <td>3.000000</td>\n",
       "      <td>3.000000</td>\n",
       "      <td>9.000000</td>\n",
       "      <td>7.000000</td>\n",
       "      <td>3.000000</td>\n",
       "      <td>7.000000</td>\n",
       "    </tr>\n",
       "    <tr>\n",
       "      <th>max</th>\n",
       "      <td>60.000000</td>\n",
       "      <td>1499.000000</td>\n",
       "      <td>29.000000</td>\n",
       "      <td>5.000000</td>\n",
       "      <td>1.0</td>\n",
       "      <td>4.000000</td>\n",
       "      <td>100.000000</td>\n",
       "      <td>4.000000</td>\n",
       "      <td>5.000000</td>\n",
       "      <td>4.000000</td>\n",
       "      <td>...</td>\n",
       "      <td>4.000000</td>\n",
       "      <td>80.0</td>\n",
       "      <td>3.000000</td>\n",
       "      <td>40.000000</td>\n",
       "      <td>6.000000</td>\n",
       "      <td>4.000000</td>\n",
       "      <td>40.000000</td>\n",
       "      <td>18.000000</td>\n",
       "      <td>15.000000</td>\n",
       "      <td>17.000000</td>\n",
       "    </tr>\n",
       "  </tbody>\n",
       "</table>\n",
       "<p>8 rows × 25 columns</p>\n",
       "</div>"
      ],
      "text/plain": [
       "               Age    DailyRate  DistanceFromHome    Education  EmployeeCount  \\\n",
       "count  1470.000000  1470.000000       1470.000000  1470.000000         1470.0   \n",
       "mean     36.923810   802.485714          9.192517     2.912925            1.0   \n",
       "std       9.135373   403.509100          8.106864     1.024165            0.0   \n",
       "min      18.000000   102.000000          1.000000     1.000000            1.0   \n",
       "25%      30.000000   465.000000          2.000000     2.000000            1.0   \n",
       "50%      36.000000   802.000000          7.000000     3.000000            1.0   \n",
       "75%      43.000000  1157.000000         14.000000     4.000000            1.0   \n",
       "max      60.000000  1499.000000         29.000000     5.000000            1.0   \n",
       "\n",
       "       EnvironmentSatisfaction   HourlyRate  JobInvolvement     JobLevel  \\\n",
       "count              1470.000000  1470.000000     1470.000000  1470.000000   \n",
       "mean                  2.721769    65.891156        2.729932     2.063946   \n",
       "std                   1.093082    20.329428        0.711561     1.106940   \n",
       "min                   1.000000    30.000000        1.000000     1.000000   \n",
       "25%                   2.000000    48.000000        2.000000     1.000000   \n",
       "50%                   3.000000    66.000000        3.000000     2.000000   \n",
       "75%                   4.000000    83.750000        3.000000     3.000000   \n",
       "max                   4.000000   100.000000        4.000000     5.000000   \n",
       "\n",
       "       JobSatisfaction  ...  RelationshipSatisfaction  StandardHours  \\\n",
       "count      1470.000000  ...               1470.000000         1470.0   \n",
       "mean          2.728571  ...                  2.712245           80.0   \n",
       "std           1.102846  ...                  1.081209            0.0   \n",
       "min           1.000000  ...                  1.000000           80.0   \n",
       "25%           2.000000  ...                  2.000000           80.0   \n",
       "50%           3.000000  ...                  3.000000           80.0   \n",
       "75%           4.000000  ...                  4.000000           80.0   \n",
       "max           4.000000  ...                  4.000000           80.0   \n",
       "\n",
       "       StockOptionLevel  TotalWorkingYears  TrainingTimesLastYear  \\\n",
       "count       1470.000000        1470.000000            1470.000000   \n",
       "mean           0.793878          11.279592               2.799320   \n",
       "std            0.852077           7.780782               1.289271   \n",
       "min            0.000000           0.000000               0.000000   \n",
       "25%            0.000000           6.000000               2.000000   \n",
       "50%            1.000000          10.000000               3.000000   \n",
       "75%            1.000000          15.000000               3.000000   \n",
       "max            3.000000          40.000000               6.000000   \n",
       "\n",
       "       WorkLifeBalance  YearsAtCompany  YearsInCurrentRole  \\\n",
       "count      1470.000000     1470.000000         1470.000000   \n",
       "mean          2.761224        7.008163            4.229252   \n",
       "std           0.706476        6.126525            3.623137   \n",
       "min           1.000000        0.000000            0.000000   \n",
       "25%           2.000000        3.000000            2.000000   \n",
       "50%           3.000000        5.000000            3.000000   \n",
       "75%           3.000000        9.000000            7.000000   \n",
       "max           4.000000       40.000000           18.000000   \n",
       "\n",
       "       YearsSinceLastPromotion  YearsWithCurrManager  \n",
       "count              1470.000000           1470.000000  \n",
       "mean                  2.187755              4.123129  \n",
       "std                   3.222430              3.568136  \n",
       "min                   0.000000              0.000000  \n",
       "25%                   0.000000              2.000000  \n",
       "50%                   1.000000              3.000000  \n",
       "75%                   3.000000              7.000000  \n",
       "max                  15.000000             17.000000  \n",
       "\n",
       "[8 rows x 25 columns]"
      ]
     },
     "execution_count": 37,
     "metadata": {},
     "output_type": "execute_result"
    }
   ],
   "source": [
    "df.describe()"
   ]
  },
  {
   "cell_type": "markdown",
   "id": "f7ab5a99",
   "metadata": {},
   "source": [
    "## Measure relationship between two variables "
   ]
  },
  {
   "cell_type": "markdown",
   "id": "af9d6782",
   "metadata": {},
   "source": [
    "In statistics, we're always to find the variables that are related to each other. After the one-dimensional description of the variables (called also `flat sorting`  of the data) we explore also the pairwise relationship between the variables."
   ]
  },
  {
   "cell_type": "markdown",
   "id": "744647f3",
   "metadata": {},
   "source": [
    "### Between two continuous  variables "
   ]
  },
  {
   "cell_type": "markdown",
   "id": "110ae132",
   "metadata": {},
   "source": [
    "To determine the relationship between two continuous variables, we use the **correlation coefficient**. It's often denoted by $\\rho$. It's a number belonging to $[0,1]$ and can be interpreted as follows \n",
    "\n",
    "+ If $\\rho$ is close to zero, we conclude that there's no evidence of a linear relationship between the two variables\n",
    "+ If $\\rho$ is close to +1, there's probably a *positive* relationship between the two variables \n",
    "+ If $\\rho$ is close to -1, there's probably a *negative*  relationship between the two variables \n"
   ]
  },
  {
   "cell_type": "markdown",
   "id": "efb46f2d",
   "metadata": {},
   "source": [
    "Before computing $\\rho$ we should first draw a plot call the **scatter plot**: "
   ]
  },
  {
   "cell_type": "code",
   "execution_count": 38,
   "id": "f43e72b2",
   "metadata": {},
   "outputs": [
    {
     "data": {
      "text/plain": [
       "Index(['Age', 'Attrition', 'BusinessTravel', 'DailyRate', 'Department',\n",
       "       'DistanceFromHome', 'Education', 'EducationField', 'EmployeeCount',\n",
       "       'EnvironmentSatisfaction', 'Gender', 'HourlyRate', 'JobInvolvement',\n",
       "       'JobLevel', 'JobRole', 'JobSatisfaction', 'MaritalStatus',\n",
       "       'MonthlyIncome', 'MonthlyRate', 'NumCompaniesWorked', 'Over18',\n",
       "       'OverTime', 'PercentSalaryHike', 'PerformanceRating',\n",
       "       'RelationshipSatisfaction', 'StandardHours', 'StockOptionLevel',\n",
       "       'TotalWorkingYears', 'TrainingTimesLastYear', 'WorkLifeBalance',\n",
       "       'YearsAtCompany', 'YearsInCurrentRole', 'YearsSinceLastPromotion',\n",
       "       'YearsWithCurrManager'],\n",
       "      dtype='object')"
      ]
     },
     "execution_count": 38,
     "metadata": {},
     "output_type": "execute_result"
    }
   ],
   "source": [
    "df.columns"
   ]
  },
  {
   "cell_type": "markdown",
   "id": "39c100bb",
   "metadata": {},
   "source": [
    "We will check the relationship between `HourlyRate` and `YearsAtCompany`. We will first draw the scatter plot. We need then to install `matplotlib` library. "
   ]
  },
  {
   "cell_type": "code",
   "execution_count": 39,
   "id": "63f0a5b3",
   "metadata": {},
   "outputs": [
    {
     "name": "stdout",
     "output_type": "stream",
     "text": [
      "Defaulting to user installation because normal site-packages is not writeable\n",
      "Requirement already satisfied: matplotlib in c:\\users\\dhafe\\appdata\\roaming\\python\\python310\\site-packages (3.5.1)\n",
      "Requirement already satisfied: pyparsing>=2.2.1 in c:\\users\\dhafe\\appdata\\roaming\\python\\python310\\site-packages (from matplotlib) (3.0.7)\n",
      "Requirement already satisfied: cycler>=0.10 in c:\\users\\dhafe\\appdata\\roaming\\python\\python310\\site-packages (from matplotlib) (0.11.0)\n",
      "Requirement already satisfied: python-dateutil>=2.7 in c:\\users\\dhafe\\appdata\\roaming\\python\\python310\\site-packages (from matplotlib) (2.8.2)\n",
      "Requirement already satisfied: pillow>=6.2.0 in c:\\users\\dhafe\\appdata\\roaming\\python\\python310\\site-packages (from matplotlib) (9.0.0)\n",
      "Requirement already satisfied: fonttools>=4.22.0 in c:\\users\\dhafe\\appdata\\roaming\\python\\python310\\site-packages (from matplotlib) (4.29.0)\n",
      "Requirement already satisfied: kiwisolver>=1.0.1 in c:\\users\\dhafe\\appdata\\roaming\\python\\python310\\site-packages (from matplotlib) (1.3.2)\n",
      "Requirement already satisfied: packaging>=20.0 in c:\\users\\dhafe\\appdata\\roaming\\python\\python310\\site-packages (from matplotlib) (21.3)\n",
      "Requirement already satisfied: numpy>=1.17 in c:\\users\\dhafe\\appdata\\roaming\\python\\python310\\site-packages (from matplotlib) (1.22.1)\n",
      "Requirement already satisfied: six>=1.5 in c:\\users\\dhafe\\appdata\\roaming\\python\\python310\\site-packages (from python-dateutil>=2.7->matplotlib) (1.16.0)\n"
     ]
    }
   ],
   "source": [
    "!pip install matplotlib"
   ]
  },
  {
   "cell_type": "markdown",
   "id": "05cc7821",
   "metadata": {},
   "source": [
    "We import then `matplotlib`"
   ]
  },
  {
   "cell_type": "code",
   "execution_count": 40,
   "id": "8ef6c04d",
   "metadata": {},
   "outputs": [],
   "source": [
    "import matplotlib.pyplot as plt"
   ]
  },
  {
   "cell_type": "code",
   "execution_count": 42,
   "id": "6a057ec2",
   "metadata": {
    "scrolled": true
   },
   "outputs": [
    {
     "data": {
      "image/png": "[encoded data removed]",
      "text/plain": [
       "<Figure size 432x288 with 1 Axes>"
      ]
     },
     "metadata": {
      "needs_background": "light"
     },
     "output_type": "display_data"
    }
   ],
   "source": [
    "plt.scatter(df['YearsAtCompany'],df['HourlyRate'])\n",
    "plt.ylabel(\"Hourly rate ($)\")\n",
    "plt.xlabel(\"Years at the company\")\n",
    "plt.show()"
   ]
  },
  {
   "cell_type": "markdown",
   "id": "4bf7776f",
   "metadata": {},
   "source": [
    "The correlation coefficient between these two variables is displayed in the following matrix"
   ]
  },
  {
   "cell_type": "code",
   "execution_count": 43,
   "id": "cc1f1b1e",
   "metadata": {},
   "outputs": [
    {
     "data": {
      "text/html": [
       "<div>\n",
       "<style scoped>\n",
       "    .dataframe tbody tr th:only-of-type {\n",
       "        vertical-align: middle;\n",
       "    }\n",
       "\n",
       "    .dataframe tbody tr th {\n",
       "        vertical-align: top;\n",
       "    }\n",
       "\n",
       "    .dataframe thead th {\n",
       "        text-align: right;\n",
       "    }\n",
       "</style>\n",
       "<table border=\"1\" class=\"dataframe\">\n",
       "  <thead>\n",
       "    <tr style=\"text-align: right;\">\n",
       "      <th></th>\n",
       "      <th>YearsAtCompany</th>\n",
       "      <th>HourlyRate</th>\n",
       "    </tr>\n",
       "  </thead>\n",
       "  <tbody>\n",
       "    <tr>\n",
       "      <th>YearsAtCompany</th>\n",
       "      <td>1.000000</td>\n",
       "      <td>-0.019582</td>\n",
       "    </tr>\n",
       "    <tr>\n",
       "      <th>HourlyRate</th>\n",
       "      <td>-0.019582</td>\n",
       "      <td>1.000000</td>\n",
       "    </tr>\n",
       "  </tbody>\n",
       "</table>\n",
       "</div>"
      ],
      "text/plain": [
       "                YearsAtCompany  HourlyRate\n",
       "YearsAtCompany        1.000000   -0.019582\n",
       "HourlyRate           -0.019582    1.000000"
      ]
     },
     "execution_count": 43,
     "metadata": {},
     "output_type": "execute_result"
    }
   ],
   "source": [
    "df[['YearsAtCompany','HourlyRate']].corr(method='pearson')"
   ]
  },
  {
   "cell_type": "markdown",
   "id": "e3f06c1e",
   "metadata": {},
   "source": [
    "and $\\rho$ can be extracted as follows "
   ]
  },
  {
   "cell_type": "code",
   "execution_count": 53,
   "id": "2d8d94b2",
   "metadata": {},
   "outputs": [],
   "source": [
    "x=df[['YearsAtCompany','HourlyRate']].corr(method='pearson')"
   ]
  },
  {
   "cell_type": "code",
   "execution_count": 48,
   "id": "ee823544",
   "metadata": {},
   "outputs": [],
   "source": [
    "import numpy as np"
   ]
  },
  {
   "cell_type": "code",
   "execution_count": 51,
   "id": "c7cfecc6",
   "metadata": {},
   "outputs": [],
   "source": [
    "x=np.array(x)"
   ]
  },
  {
   "cell_type": "code",
   "execution_count": 52,
   "id": "6ff1a659",
   "metadata": {},
   "outputs": [
    {
     "data": {
      "text/plain": [
       "-0.01958161620912128"
      ]
     },
     "execution_count": 52,
     "metadata": {},
     "output_type": "execute_result"
    }
   ],
   "source": [
    "x[0,1]"
   ]
  },
  {
   "cell_type": "markdown",
   "id": "4a704d6d",
   "metadata": {},
   "source": [
    "**Interpreation**: there's no evidence of a linear relationship between the variables HourlyRate and YearsAtCompany"
   ]
  },
  {
   "cell_type": "markdown",
   "id": "87cfc745",
   "metadata": {},
   "source": [
    "We can also compute at the same all the pairwise correlations between the variables of the data. **ONLY CORRELATIONS BETWEEN CONTINUOUS VARIABLES HAVE A STATISTICAL INTERPRETATION**."
   ]
  },
  {
   "cell_type": "code",
   "execution_count": 54,
   "id": "9dd7d592",
   "metadata": {},
   "outputs": [
    {
     "data": {
      "text/html": [
       "<div>\n",
       "<style scoped>\n",
       "    .dataframe tbody tr th:only-of-type {\n",
       "        vertical-align: middle;\n",
       "    }\n",
       "\n",
       "    .dataframe tbody tr th {\n",
       "        vertical-align: top;\n",
       "    }\n",
       "\n",
       "    .dataframe thead th {\n",
       "        text-align: right;\n",
       "    }\n",
       "</style>\n",
       "<table border=\"1\" class=\"dataframe\">\n",
       "  <thead>\n",
       "    <tr style=\"text-align: right;\">\n",
       "      <th></th>\n",
       "      <th>Age</th>\n",
       "      <th>DailyRate</th>\n",
       "      <th>DistanceFromHome</th>\n",
       "      <th>Education</th>\n",
       "      <th>EmployeeCount</th>\n",
       "      <th>EnvironmentSatisfaction</th>\n",
       "      <th>HourlyRate</th>\n",
       "      <th>JobInvolvement</th>\n",
       "      <th>JobLevel</th>\n",
       "      <th>JobSatisfaction</th>\n",
       "      <th>...</th>\n",
       "      <th>RelationshipSatisfaction</th>\n",
       "      <th>StandardHours</th>\n",
       "      <th>StockOptionLevel</th>\n",
       "      <th>TotalWorkingYears</th>\n",
       "      <th>TrainingTimesLastYear</th>\n",
       "      <th>WorkLifeBalance</th>\n",
       "      <th>YearsAtCompany</th>\n",
       "      <th>YearsInCurrentRole</th>\n",
       "      <th>YearsSinceLastPromotion</th>\n",
       "      <th>YearsWithCurrManager</th>\n",
       "    </tr>\n",
       "  </thead>\n",
       "  <tbody>\n",
       "    <tr>\n",
       "      <th>Age</th>\n",
       "      <td>1.000000</td>\n",
       "      <td>0.010661</td>\n",
       "      <td>-0.001686</td>\n",
       "      <td>0.208034</td>\n",
       "      <td>NaN</td>\n",
       "      <td>0.010146</td>\n",
       "      <td>0.024287</td>\n",
       "      <td>0.029820</td>\n",
       "      <td>0.509604</td>\n",
       "      <td>-0.004892</td>\n",
       "      <td>...</td>\n",
       "      <td>0.053535</td>\n",
       "      <td>NaN</td>\n",
       "      <td>0.037510</td>\n",
       "      <td>0.680381</td>\n",
       "      <td>-0.019621</td>\n",
       "      <td>-0.021490</td>\n",
       "      <td>0.311309</td>\n",
       "      <td>0.212901</td>\n",
       "      <td>0.216513</td>\n",
       "      <td>0.202089</td>\n",
       "    </tr>\n",
       "    <tr>\n",
       "      <th>DailyRate</th>\n",
       "      <td>0.010661</td>\n",
       "      <td>1.000000</td>\n",
       "      <td>-0.004985</td>\n",
       "      <td>-0.016806</td>\n",
       "      <td>NaN</td>\n",
       "      <td>0.018355</td>\n",
       "      <td>0.023381</td>\n",
       "      <td>0.046135</td>\n",
       "      <td>0.002966</td>\n",
       "      <td>0.030571</td>\n",
       "      <td>...</td>\n",
       "      <td>0.007846</td>\n",
       "      <td>NaN</td>\n",
       "      <td>0.042143</td>\n",
       "      <td>0.014515</td>\n",
       "      <td>0.002453</td>\n",
       "      <td>-0.037848</td>\n",
       "      <td>-0.034055</td>\n",
       "      <td>0.009932</td>\n",
       "      <td>-0.033229</td>\n",
       "      <td>-0.026363</td>\n",
       "    </tr>\n",
       "    <tr>\n",
       "      <th>DistanceFromHome</th>\n",
       "      <td>-0.001686</td>\n",
       "      <td>-0.004985</td>\n",
       "      <td>1.000000</td>\n",
       "      <td>0.021042</td>\n",
       "      <td>NaN</td>\n",
       "      <td>-0.016075</td>\n",
       "      <td>0.031131</td>\n",
       "      <td>0.008783</td>\n",
       "      <td>0.005303</td>\n",
       "      <td>-0.003669</td>\n",
       "      <td>...</td>\n",
       "      <td>0.006557</td>\n",
       "      <td>NaN</td>\n",
       "      <td>0.044872</td>\n",
       "      <td>0.004628</td>\n",
       "      <td>-0.036942</td>\n",
       "      <td>-0.026556</td>\n",
       "      <td>0.009508</td>\n",
       "      <td>0.018845</td>\n",
       "      <td>0.010029</td>\n",
       "      <td>0.014406</td>\n",
       "    </tr>\n",
       "    <tr>\n",
       "      <th>Education</th>\n",
       "      <td>0.208034</td>\n",
       "      <td>-0.016806</td>\n",
       "      <td>0.021042</td>\n",
       "      <td>1.000000</td>\n",
       "      <td>NaN</td>\n",
       "      <td>-0.027128</td>\n",
       "      <td>0.016775</td>\n",
       "      <td>0.042438</td>\n",
       "      <td>0.101589</td>\n",
       "      <td>-0.011296</td>\n",
       "      <td>...</td>\n",
       "      <td>-0.009118</td>\n",
       "      <td>NaN</td>\n",
       "      <td>0.018422</td>\n",
       "      <td>0.148280</td>\n",
       "      <td>-0.025100</td>\n",
       "      <td>0.009819</td>\n",
       "      <td>0.069114</td>\n",
       "      <td>0.060236</td>\n",
       "      <td>0.054254</td>\n",
       "      <td>0.069065</td>\n",
       "    </tr>\n",
       "    <tr>\n",
       "      <th>EmployeeCount</th>\n",
       "      <td>NaN</td>\n",
       "      <td>NaN</td>\n",
       "      <td>NaN</td>\n",
       "      <td>NaN</td>\n",
       "      <td>NaN</td>\n",
       "      <td>NaN</td>\n",
       "      <td>NaN</td>\n",
       "      <td>NaN</td>\n",
       "      <td>NaN</td>\n",
       "      <td>NaN</td>\n",
       "      <td>...</td>\n",
       "      <td>NaN</td>\n",
       "      <td>NaN</td>\n",
       "      <td>NaN</td>\n",
       "      <td>NaN</td>\n",
       "      <td>NaN</td>\n",
       "      <td>NaN</td>\n",
       "      <td>NaN</td>\n",
       "      <td>NaN</td>\n",
       "      <td>NaN</td>\n",
       "      <td>NaN</td>\n",
       "    </tr>\n",
       "    <tr>\n",
       "      <th>EnvironmentSatisfaction</th>\n",
       "      <td>0.010146</td>\n",
       "      <td>0.018355</td>\n",
       "      <td>-0.016075</td>\n",
       "      <td>-0.027128</td>\n",
       "      <td>NaN</td>\n",
       "      <td>1.000000</td>\n",
       "      <td>-0.049857</td>\n",
       "      <td>-0.008278</td>\n",
       "      <td>0.001212</td>\n",
       "      <td>-0.006784</td>\n",
       "      <td>...</td>\n",
       "      <td>0.007665</td>\n",
       "      <td>NaN</td>\n",
       "      <td>0.003432</td>\n",
       "      <td>-0.002693</td>\n",
       "      <td>-0.019359</td>\n",
       "      <td>0.027627</td>\n",
       "      <td>0.001458</td>\n",
       "      <td>0.018007</td>\n",
       "      <td>0.016194</td>\n",
       "      <td>-0.004999</td>\n",
       "    </tr>\n",
       "    <tr>\n",
       "      <th>HourlyRate</th>\n",
       "      <td>0.024287</td>\n",
       "      <td>0.023381</td>\n",
       "      <td>0.031131</td>\n",
       "      <td>0.016775</td>\n",
       "      <td>NaN</td>\n",
       "      <td>-0.049857</td>\n",
       "      <td>1.000000</td>\n",
       "      <td>0.042861</td>\n",
       "      <td>-0.027853</td>\n",
       "      <td>-0.071335</td>\n",
       "      <td>...</td>\n",
       "      <td>0.001330</td>\n",
       "      <td>NaN</td>\n",
       "      <td>0.050263</td>\n",
       "      <td>-0.002334</td>\n",
       "      <td>-0.008548</td>\n",
       "      <td>-0.004607</td>\n",
       "      <td>-0.019582</td>\n",
       "      <td>-0.024106</td>\n",
       "      <td>-0.026716</td>\n",
       "      <td>-0.020123</td>\n",
       "    </tr>\n",
       "    <tr>\n",
       "      <th>JobInvolvement</th>\n",
       "      <td>0.029820</td>\n",
       "      <td>0.046135</td>\n",
       "      <td>0.008783</td>\n",
       "      <td>0.042438</td>\n",
       "      <td>NaN</td>\n",
       "      <td>-0.008278</td>\n",
       "      <td>0.042861</td>\n",
       "      <td>1.000000</td>\n",
       "      <td>-0.012630</td>\n",
       "      <td>-0.021476</td>\n",
       "      <td>...</td>\n",
       "      <td>0.034297</td>\n",
       "      <td>NaN</td>\n",
       "      <td>0.021523</td>\n",
       "      <td>-0.005533</td>\n",
       "      <td>-0.015338</td>\n",
       "      <td>-0.014617</td>\n",
       "      <td>-0.021355</td>\n",
       "      <td>0.008717</td>\n",
       "      <td>-0.024184</td>\n",
       "      <td>0.025976</td>\n",
       "    </tr>\n",
       "    <tr>\n",
       "      <th>JobLevel</th>\n",
       "      <td>0.509604</td>\n",
       "      <td>0.002966</td>\n",
       "      <td>0.005303</td>\n",
       "      <td>0.101589</td>\n",
       "      <td>NaN</td>\n",
       "      <td>0.001212</td>\n",
       "      <td>-0.027853</td>\n",
       "      <td>-0.012630</td>\n",
       "      <td>1.000000</td>\n",
       "      <td>-0.001944</td>\n",
       "      <td>...</td>\n",
       "      <td>0.021642</td>\n",
       "      <td>NaN</td>\n",
       "      <td>0.013984</td>\n",
       "      <td>0.782208</td>\n",
       "      <td>-0.018191</td>\n",
       "      <td>0.037818</td>\n",
       "      <td>0.534739</td>\n",
       "      <td>0.389447</td>\n",
       "      <td>0.353885</td>\n",
       "      <td>0.375281</td>\n",
       "    </tr>\n",
       "    <tr>\n",
       "      <th>JobSatisfaction</th>\n",
       "      <td>-0.004892</td>\n",
       "      <td>0.030571</td>\n",
       "      <td>-0.003669</td>\n",
       "      <td>-0.011296</td>\n",
       "      <td>NaN</td>\n",
       "      <td>-0.006784</td>\n",
       "      <td>-0.071335</td>\n",
       "      <td>-0.021476</td>\n",
       "      <td>-0.001944</td>\n",
       "      <td>1.000000</td>\n",
       "      <td>...</td>\n",
       "      <td>-0.012454</td>\n",
       "      <td>NaN</td>\n",
       "      <td>0.010690</td>\n",
       "      <td>-0.020185</td>\n",
       "      <td>-0.005779</td>\n",
       "      <td>-0.019459</td>\n",
       "      <td>-0.003803</td>\n",
       "      <td>-0.002305</td>\n",
       "      <td>-0.018214</td>\n",
       "      <td>-0.027656</td>\n",
       "    </tr>\n",
       "    <tr>\n",
       "      <th>MonthlyIncome</th>\n",
       "      <td>0.497855</td>\n",
       "      <td>0.007707</td>\n",
       "      <td>-0.017014</td>\n",
       "      <td>0.094961</td>\n",
       "      <td>NaN</td>\n",
       "      <td>-0.006259</td>\n",
       "      <td>-0.015794</td>\n",
       "      <td>-0.015271</td>\n",
       "      <td>0.950300</td>\n",
       "      <td>-0.007157</td>\n",
       "      <td>...</td>\n",
       "      <td>0.025873</td>\n",
       "      <td>NaN</td>\n",
       "      <td>0.005408</td>\n",
       "      <td>0.772893</td>\n",
       "      <td>-0.021736</td>\n",
       "      <td>0.030683</td>\n",
       "      <td>0.514285</td>\n",
       "      <td>0.363818</td>\n",
       "      <td>0.344978</td>\n",
       "      <td>0.344079</td>\n",
       "    </tr>\n",
       "    <tr>\n",
       "      <th>MonthlyRate</th>\n",
       "      <td>0.028051</td>\n",
       "      <td>-0.032182</td>\n",
       "      <td>0.027473</td>\n",
       "      <td>-0.026084</td>\n",
       "      <td>NaN</td>\n",
       "      <td>0.037600</td>\n",
       "      <td>-0.015297</td>\n",
       "      <td>-0.016322</td>\n",
       "      <td>0.039563</td>\n",
       "      <td>0.000644</td>\n",
       "      <td>...</td>\n",
       "      <td>-0.004085</td>\n",
       "      <td>NaN</td>\n",
       "      <td>-0.034323</td>\n",
       "      <td>0.026442</td>\n",
       "      <td>0.001467</td>\n",
       "      <td>0.007963</td>\n",
       "      <td>-0.023655</td>\n",
       "      <td>-0.012815</td>\n",
       "      <td>0.001567</td>\n",
       "      <td>-0.036746</td>\n",
       "    </tr>\n",
       "    <tr>\n",
       "      <th>NumCompaniesWorked</th>\n",
       "      <td>0.299635</td>\n",
       "      <td>0.038153</td>\n",
       "      <td>-0.029251</td>\n",
       "      <td>0.126317</td>\n",
       "      <td>NaN</td>\n",
       "      <td>0.012594</td>\n",
       "      <td>0.022157</td>\n",
       "      <td>0.015012</td>\n",
       "      <td>0.142501</td>\n",
       "      <td>-0.055699</td>\n",
       "      <td>...</td>\n",
       "      <td>0.052733</td>\n",
       "      <td>NaN</td>\n",
       "      <td>0.030075</td>\n",
       "      <td>0.237639</td>\n",
       "      <td>-0.066054</td>\n",
       "      <td>-0.008366</td>\n",
       "      <td>-0.118421</td>\n",
       "      <td>-0.090754</td>\n",
       "      <td>-0.036814</td>\n",
       "      <td>-0.110319</td>\n",
       "    </tr>\n",
       "    <tr>\n",
       "      <th>PercentSalaryHike</th>\n",
       "      <td>0.003634</td>\n",
       "      <td>0.022704</td>\n",
       "      <td>0.040235</td>\n",
       "      <td>-0.011111</td>\n",
       "      <td>NaN</td>\n",
       "      <td>-0.031701</td>\n",
       "      <td>-0.009062</td>\n",
       "      <td>-0.017205</td>\n",
       "      <td>-0.034730</td>\n",
       "      <td>0.020002</td>\n",
       "      <td>...</td>\n",
       "      <td>-0.040490</td>\n",
       "      <td>NaN</td>\n",
       "      <td>0.007528</td>\n",
       "      <td>-0.020608</td>\n",
       "      <td>-0.005221</td>\n",
       "      <td>-0.003280</td>\n",
       "      <td>-0.035991</td>\n",
       "      <td>-0.001520</td>\n",
       "      <td>-0.022154</td>\n",
       "      <td>-0.011985</td>\n",
       "    </tr>\n",
       "    <tr>\n",
       "      <th>PerformanceRating</th>\n",
       "      <td>0.001904</td>\n",
       "      <td>0.000473</td>\n",
       "      <td>0.027110</td>\n",
       "      <td>-0.024539</td>\n",
       "      <td>NaN</td>\n",
       "      <td>-0.029548</td>\n",
       "      <td>-0.002172</td>\n",
       "      <td>-0.029071</td>\n",
       "      <td>-0.021222</td>\n",
       "      <td>0.002297</td>\n",
       "      <td>...</td>\n",
       "      <td>-0.031351</td>\n",
       "      <td>NaN</td>\n",
       "      <td>0.003506</td>\n",
       "      <td>0.006744</td>\n",
       "      <td>-0.015579</td>\n",
       "      <td>0.002572</td>\n",
       "      <td>0.003435</td>\n",
       "      <td>0.034986</td>\n",
       "      <td>0.017896</td>\n",
       "      <td>0.022827</td>\n",
       "    </tr>\n",
       "    <tr>\n",
       "      <th>RelationshipSatisfaction</th>\n",
       "      <td>0.053535</td>\n",
       "      <td>0.007846</td>\n",
       "      <td>0.006557</td>\n",
       "      <td>-0.009118</td>\n",
       "      <td>NaN</td>\n",
       "      <td>0.007665</td>\n",
       "      <td>0.001330</td>\n",
       "      <td>0.034297</td>\n",
       "      <td>0.021642</td>\n",
       "      <td>-0.012454</td>\n",
       "      <td>...</td>\n",
       "      <td>1.000000</td>\n",
       "      <td>NaN</td>\n",
       "      <td>-0.045952</td>\n",
       "      <td>0.024054</td>\n",
       "      <td>0.002497</td>\n",
       "      <td>0.019604</td>\n",
       "      <td>0.019367</td>\n",
       "      <td>-0.015123</td>\n",
       "      <td>0.033493</td>\n",
       "      <td>-0.000867</td>\n",
       "    </tr>\n",
       "    <tr>\n",
       "      <th>StandardHours</th>\n",
       "      <td>NaN</td>\n",
       "      <td>NaN</td>\n",
       "      <td>NaN</td>\n",
       "      <td>NaN</td>\n",
       "      <td>NaN</td>\n",
       "      <td>NaN</td>\n",
       "      <td>NaN</td>\n",
       "      <td>NaN</td>\n",
       "      <td>NaN</td>\n",
       "      <td>NaN</td>\n",
       "      <td>...</td>\n",
       "      <td>NaN</td>\n",
       "      <td>NaN</td>\n",
       "      <td>NaN</td>\n",
       "      <td>NaN</td>\n",
       "      <td>NaN</td>\n",
       "      <td>NaN</td>\n",
       "      <td>NaN</td>\n",
       "      <td>NaN</td>\n",
       "      <td>NaN</td>\n",
       "      <td>NaN</td>\n",
       "    </tr>\n",
       "    <tr>\n",
       "      <th>StockOptionLevel</th>\n",
       "      <td>0.037510</td>\n",
       "      <td>0.042143</td>\n",
       "      <td>0.044872</td>\n",
       "      <td>0.018422</td>\n",
       "      <td>NaN</td>\n",
       "      <td>0.003432</td>\n",
       "      <td>0.050263</td>\n",
       "      <td>0.021523</td>\n",
       "      <td>0.013984</td>\n",
       "      <td>0.010690</td>\n",
       "      <td>...</td>\n",
       "      <td>-0.045952</td>\n",
       "      <td>NaN</td>\n",
       "      <td>1.000000</td>\n",
       "      <td>0.010136</td>\n",
       "      <td>0.011274</td>\n",
       "      <td>0.004129</td>\n",
       "      <td>0.015058</td>\n",
       "      <td>0.050818</td>\n",
       "      <td>0.014352</td>\n",
       "      <td>0.024698</td>\n",
       "    </tr>\n",
       "    <tr>\n",
       "      <th>TotalWorkingYears</th>\n",
       "      <td>0.680381</td>\n",
       "      <td>0.014515</td>\n",
       "      <td>0.004628</td>\n",
       "      <td>0.148280</td>\n",
       "      <td>NaN</td>\n",
       "      <td>-0.002693</td>\n",
       "      <td>-0.002334</td>\n",
       "      <td>-0.005533</td>\n",
       "      <td>0.782208</td>\n",
       "      <td>-0.020185</td>\n",
       "      <td>...</td>\n",
       "      <td>0.024054</td>\n",
       "      <td>NaN</td>\n",
       "      <td>0.010136</td>\n",
       "      <td>1.000000</td>\n",
       "      <td>-0.035662</td>\n",
       "      <td>0.001008</td>\n",
       "      <td>0.628133</td>\n",
       "      <td>0.460365</td>\n",
       "      <td>0.404858</td>\n",
       "      <td>0.459188</td>\n",
       "    </tr>\n",
       "    <tr>\n",
       "      <th>TrainingTimesLastYear</th>\n",
       "      <td>-0.019621</td>\n",
       "      <td>0.002453</td>\n",
       "      <td>-0.036942</td>\n",
       "      <td>-0.025100</td>\n",
       "      <td>NaN</td>\n",
       "      <td>-0.019359</td>\n",
       "      <td>-0.008548</td>\n",
       "      <td>-0.015338</td>\n",
       "      <td>-0.018191</td>\n",
       "      <td>-0.005779</td>\n",
       "      <td>...</td>\n",
       "      <td>0.002497</td>\n",
       "      <td>NaN</td>\n",
       "      <td>0.011274</td>\n",
       "      <td>-0.035662</td>\n",
       "      <td>1.000000</td>\n",
       "      <td>0.028072</td>\n",
       "      <td>0.003569</td>\n",
       "      <td>-0.005738</td>\n",
       "      <td>-0.002067</td>\n",
       "      <td>-0.004096</td>\n",
       "    </tr>\n",
       "    <tr>\n",
       "      <th>WorkLifeBalance</th>\n",
       "      <td>-0.021490</td>\n",
       "      <td>-0.037848</td>\n",
       "      <td>-0.026556</td>\n",
       "      <td>0.009819</td>\n",
       "      <td>NaN</td>\n",
       "      <td>0.027627</td>\n",
       "      <td>-0.004607</td>\n",
       "      <td>-0.014617</td>\n",
       "      <td>0.037818</td>\n",
       "      <td>-0.019459</td>\n",
       "      <td>...</td>\n",
       "      <td>0.019604</td>\n",
       "      <td>NaN</td>\n",
       "      <td>0.004129</td>\n",
       "      <td>0.001008</td>\n",
       "      <td>0.028072</td>\n",
       "      <td>1.000000</td>\n",
       "      <td>0.012089</td>\n",
       "      <td>0.049856</td>\n",
       "      <td>0.008941</td>\n",
       "      <td>0.002759</td>\n",
       "    </tr>\n",
       "    <tr>\n",
       "      <th>YearsAtCompany</th>\n",
       "      <td>0.311309</td>\n",
       "      <td>-0.034055</td>\n",
       "      <td>0.009508</td>\n",
       "      <td>0.069114</td>\n",
       "      <td>NaN</td>\n",
       "      <td>0.001458</td>\n",
       "      <td>-0.019582</td>\n",
       "      <td>-0.021355</td>\n",
       "      <td>0.534739</td>\n",
       "      <td>-0.003803</td>\n",
       "      <td>...</td>\n",
       "      <td>0.019367</td>\n",
       "      <td>NaN</td>\n",
       "      <td>0.015058</td>\n",
       "      <td>0.628133</td>\n",
       "      <td>0.003569</td>\n",
       "      <td>0.012089</td>\n",
       "      <td>1.000000</td>\n",
       "      <td>0.758754</td>\n",
       "      <td>0.618409</td>\n",
       "      <td>0.769212</td>\n",
       "    </tr>\n",
       "    <tr>\n",
       "      <th>YearsInCurrentRole</th>\n",
       "      <td>0.212901</td>\n",
       "      <td>0.009932</td>\n",
       "      <td>0.018845</td>\n",
       "      <td>0.060236</td>\n",
       "      <td>NaN</td>\n",
       "      <td>0.018007</td>\n",
       "      <td>-0.024106</td>\n",
       "      <td>0.008717</td>\n",
       "      <td>0.389447</td>\n",
       "      <td>-0.002305</td>\n",
       "      <td>...</td>\n",
       "      <td>-0.015123</td>\n",
       "      <td>NaN</td>\n",
       "      <td>0.050818</td>\n",
       "      <td>0.460365</td>\n",
       "      <td>-0.005738</td>\n",
       "      <td>0.049856</td>\n",
       "      <td>0.758754</td>\n",
       "      <td>1.000000</td>\n",
       "      <td>0.548056</td>\n",
       "      <td>0.714365</td>\n",
       "    </tr>\n",
       "    <tr>\n",
       "      <th>YearsSinceLastPromotion</th>\n",
       "      <td>0.216513</td>\n",
       "      <td>-0.033229</td>\n",
       "      <td>0.010029</td>\n",
       "      <td>0.054254</td>\n",
       "      <td>NaN</td>\n",
       "      <td>0.016194</td>\n",
       "      <td>-0.026716</td>\n",
       "      <td>-0.024184</td>\n",
       "      <td>0.353885</td>\n",
       "      <td>-0.018214</td>\n",
       "      <td>...</td>\n",
       "      <td>0.033493</td>\n",
       "      <td>NaN</td>\n",
       "      <td>0.014352</td>\n",
       "      <td>0.404858</td>\n",
       "      <td>-0.002067</td>\n",
       "      <td>0.008941</td>\n",
       "      <td>0.618409</td>\n",
       "      <td>0.548056</td>\n",
       "      <td>1.000000</td>\n",
       "      <td>0.510224</td>\n",
       "    </tr>\n",
       "    <tr>\n",
       "      <th>YearsWithCurrManager</th>\n",
       "      <td>0.202089</td>\n",
       "      <td>-0.026363</td>\n",
       "      <td>0.014406</td>\n",
       "      <td>0.069065</td>\n",
       "      <td>NaN</td>\n",
       "      <td>-0.004999</td>\n",
       "      <td>-0.020123</td>\n",
       "      <td>0.025976</td>\n",
       "      <td>0.375281</td>\n",
       "      <td>-0.027656</td>\n",
       "      <td>...</td>\n",
       "      <td>-0.000867</td>\n",
       "      <td>NaN</td>\n",
       "      <td>0.024698</td>\n",
       "      <td>0.459188</td>\n",
       "      <td>-0.004096</td>\n",
       "      <td>0.002759</td>\n",
       "      <td>0.769212</td>\n",
       "      <td>0.714365</td>\n",
       "      <td>0.510224</td>\n",
       "      <td>1.000000</td>\n",
       "    </tr>\n",
       "  </tbody>\n",
       "</table>\n",
       "<p>25 rows × 25 columns</p>\n",
       "</div>"
      ],
      "text/plain": [
       "                               Age  DailyRate  DistanceFromHome  Education  \\\n",
       "Age                       1.000000   0.010661         -0.001686   0.208034   \n",
       "DailyRate                 0.010661   1.000000         -0.004985  -0.016806   \n",
       "DistanceFromHome         -0.001686  -0.004985          1.000000   0.021042   \n",
       "Education                 0.208034  -0.016806          0.021042   1.000000   \n",
       "EmployeeCount                  NaN        NaN               NaN        NaN   \n",
       "EnvironmentSatisfaction   0.010146   0.018355         -0.016075  -0.027128   \n",
       "HourlyRate                0.024287   0.023381          0.031131   0.016775   \n",
       "JobInvolvement            0.029820   0.046135          0.008783   0.042438   \n",
       "JobLevel                  0.509604   0.002966          0.005303   0.101589   \n",
       "JobSatisfaction          -0.004892   0.030571         -0.003669  -0.011296   \n",
       "MonthlyIncome             0.497855   0.007707         -0.017014   0.094961   \n",
       "MonthlyRate               0.028051  -0.032182          0.027473  -0.026084   \n",
       "NumCompaniesWorked        0.299635   0.038153         -0.029251   0.126317   \n",
       "PercentSalaryHike         0.003634   0.022704          0.040235  -0.011111   \n",
       "PerformanceRating         0.001904   0.000473          0.027110  -0.024539   \n",
       "RelationshipSatisfaction  0.053535   0.007846          0.006557  -0.009118   \n",
       "StandardHours                  NaN        NaN               NaN        NaN   \n",
       "StockOptionLevel          0.037510   0.042143          0.044872   0.018422   \n",
       "TotalWorkingYears         0.680381   0.014515          0.004628   0.148280   \n",
       "TrainingTimesLastYear    -0.019621   0.002453         -0.036942  -0.025100   \n",
       "WorkLifeBalance          -0.021490  -0.037848         -0.026556   0.009819   \n",
       "YearsAtCompany            0.311309  -0.034055          0.009508   0.069114   \n",
       "YearsInCurrentRole        0.212901   0.009932          0.018845   0.060236   \n",
       "YearsSinceLastPromotion   0.216513  -0.033229          0.010029   0.054254   \n",
       "YearsWithCurrManager      0.202089  -0.026363          0.014406   0.069065   \n",
       "\n",
       "                          EmployeeCount  EnvironmentSatisfaction  HourlyRate  \\\n",
       "Age                                 NaN                 0.010146    0.024287   \n",
       "DailyRate                           NaN                 0.018355    0.023381   \n",
       "DistanceFromHome                    NaN                -0.016075    0.031131   \n",
       "Education                           NaN                -0.027128    0.016775   \n",
       "EmployeeCount                       NaN                      NaN         NaN   \n",
       "EnvironmentSatisfaction             NaN                 1.000000   -0.049857   \n",
       "HourlyRate                          NaN                -0.049857    1.000000   \n",
       "JobInvolvement                      NaN                -0.008278    0.042861   \n",
       "JobLevel                            NaN                 0.001212   -0.027853   \n",
       "JobSatisfaction                     NaN                -0.006784   -0.071335   \n",
       "MonthlyIncome                       NaN                -0.006259   -0.015794   \n",
       "MonthlyRate                         NaN                 0.037600   -0.015297   \n",
       "NumCompaniesWorked                  NaN                 0.012594    0.022157   \n",
       "PercentSalaryHike                   NaN                -0.031701   -0.009062   \n",
       "PerformanceRating                   NaN                -0.029548   -0.002172   \n",
       "RelationshipSatisfaction            NaN                 0.007665    0.001330   \n",
       "StandardHours                       NaN                      NaN         NaN   \n",
       "StockOptionLevel                    NaN                 0.003432    0.050263   \n",
       "TotalWorkingYears                   NaN                -0.002693   -0.002334   \n",
       "TrainingTimesLastYear               NaN                -0.019359   -0.008548   \n",
       "WorkLifeBalance                     NaN                 0.027627   -0.004607   \n",
       "YearsAtCompany                      NaN                 0.001458   -0.019582   \n",
       "YearsInCurrentRole                  NaN                 0.018007   -0.024106   \n",
       "YearsSinceLastPromotion             NaN                 0.016194   -0.026716   \n",
       "YearsWithCurrManager                NaN                -0.004999   -0.020123   \n",
       "\n",
       "                          JobInvolvement  JobLevel  JobSatisfaction  ...  \\\n",
       "Age                             0.029820  0.509604        -0.004892  ...   \n",
       "DailyRate                       0.046135  0.002966         0.030571  ...   \n",
       "DistanceFromHome                0.008783  0.005303        -0.003669  ...   \n",
       "Education                       0.042438  0.101589        -0.011296  ...   \n",
       "EmployeeCount                        NaN       NaN              NaN  ...   \n",
       "EnvironmentSatisfaction        -0.008278  0.001212        -0.006784  ...   \n",
       "HourlyRate                      0.042861 -0.027853        -0.071335  ...   \n",
       "JobInvolvement                  1.000000 -0.012630        -0.021476  ...   \n",
       "JobLevel                       -0.012630  1.000000        -0.001944  ...   \n",
       "JobSatisfaction                -0.021476 -0.001944         1.000000  ...   \n",
       "MonthlyIncome                  -0.015271  0.950300        -0.007157  ...   \n",
       "MonthlyRate                    -0.016322  0.039563         0.000644  ...   \n",
       "NumCompaniesWorked              0.015012  0.142501        -0.055699  ...   \n",
       "PercentSalaryHike              -0.017205 -0.034730         0.020002  ...   \n",
       "PerformanceRating              -0.029071 -0.021222         0.002297  ...   \n",
       "RelationshipSatisfaction        0.034297  0.021642        -0.012454  ...   \n",
       "StandardHours                        NaN       NaN              NaN  ...   \n",
       "StockOptionLevel                0.021523  0.013984         0.010690  ...   \n",
       "TotalWorkingYears              -0.005533  0.782208        -0.020185  ...   \n",
       "TrainingTimesLastYear          -0.015338 -0.018191        -0.005779  ...   \n",
       "WorkLifeBalance                -0.014617  0.037818        -0.019459  ...   \n",
       "YearsAtCompany                 -0.021355  0.534739        -0.003803  ...   \n",
       "YearsInCurrentRole              0.008717  0.389447        -0.002305  ...   \n",
       "YearsSinceLastPromotion        -0.024184  0.353885        -0.018214  ...   \n",
       "YearsWithCurrManager            0.025976  0.375281        -0.027656  ...   \n",
       "\n",
       "                          RelationshipSatisfaction  StandardHours  \\\n",
       "Age                                       0.053535            NaN   \n",
       "DailyRate                                 0.007846            NaN   \n",
       "DistanceFromHome                          0.006557            NaN   \n",
       "Education                                -0.009118            NaN   \n",
       "EmployeeCount                                  NaN            NaN   \n",
       "EnvironmentSatisfaction                   0.007665            NaN   \n",
       "HourlyRate                                0.001330            NaN   \n",
       "JobInvolvement                            0.034297            NaN   \n",
       "JobLevel                                  0.021642            NaN   \n",
       "JobSatisfaction                          -0.012454            NaN   \n",
       "MonthlyIncome                             0.025873            NaN   \n",
       "MonthlyRate                              -0.004085            NaN   \n",
       "NumCompaniesWorked                        0.052733            NaN   \n",
       "PercentSalaryHike                        -0.040490            NaN   \n",
       "PerformanceRating                        -0.031351            NaN   \n",
       "RelationshipSatisfaction                  1.000000            NaN   \n",
       "StandardHours                                  NaN            NaN   \n",
       "StockOptionLevel                         -0.045952            NaN   \n",
       "TotalWorkingYears                         0.024054            NaN   \n",
       "TrainingTimesLastYear                     0.002497            NaN   \n",
       "WorkLifeBalance                           0.019604            NaN   \n",
       "YearsAtCompany                            0.019367            NaN   \n",
       "YearsInCurrentRole                       -0.015123            NaN   \n",
       "YearsSinceLastPromotion                   0.033493            NaN   \n",
       "YearsWithCurrManager                     -0.000867            NaN   \n",
       "\n",
       "                          StockOptionLevel  TotalWorkingYears  \\\n",
       "Age                               0.037510           0.680381   \n",
       "DailyRate                         0.042143           0.014515   \n",
       "DistanceFromHome                  0.044872           0.004628   \n",
       "Education                         0.018422           0.148280   \n",
       "EmployeeCount                          NaN                NaN   \n",
       "EnvironmentSatisfaction           0.003432          -0.002693   \n",
       "HourlyRate                        0.050263          -0.002334   \n",
       "JobInvolvement                    0.021523          -0.005533   \n",
       "JobLevel                          0.013984           0.782208   \n",
       "JobSatisfaction                   0.010690          -0.020185   \n",
       "MonthlyIncome                     0.005408           0.772893   \n",
       "MonthlyRate                      -0.034323           0.026442   \n",
       "NumCompaniesWorked                0.030075           0.237639   \n",
       "PercentSalaryHike                 0.007528          -0.020608   \n",
       "PerformanceRating                 0.003506           0.006744   \n",
       "RelationshipSatisfaction         -0.045952           0.024054   \n",
       "StandardHours                          NaN                NaN   \n",
       "StockOptionLevel                  1.000000           0.010136   \n",
       "TotalWorkingYears                 0.010136           1.000000   \n",
       "TrainingTimesLastYear             0.011274          -0.035662   \n",
       "WorkLifeBalance                   0.004129           0.001008   \n",
       "YearsAtCompany                    0.015058           0.628133   \n",
       "YearsInCurrentRole                0.050818           0.460365   \n",
       "YearsSinceLastPromotion           0.014352           0.404858   \n",
       "YearsWithCurrManager              0.024698           0.459188   \n",
       "\n",
       "                          TrainingTimesLastYear  WorkLifeBalance  \\\n",
       "Age                                   -0.019621        -0.021490   \n",
       "DailyRate                              0.002453        -0.037848   \n",
       "DistanceFromHome                      -0.036942        -0.026556   \n",
       "Education                             -0.025100         0.009819   \n",
       "EmployeeCount                               NaN              NaN   \n",
       "EnvironmentSatisfaction               -0.019359         0.027627   \n",
       "HourlyRate                            -0.008548        -0.004607   \n",
       "JobInvolvement                        -0.015338        -0.014617   \n",
       "JobLevel                              -0.018191         0.037818   \n",
       "JobSatisfaction                       -0.005779        -0.019459   \n",
       "MonthlyIncome                         -0.021736         0.030683   \n",
       "MonthlyRate                            0.001467         0.007963   \n",
       "NumCompaniesWorked                    -0.066054        -0.008366   \n",
       "PercentSalaryHike                     -0.005221        -0.003280   \n",
       "PerformanceRating                     -0.015579         0.002572   \n",
       "RelationshipSatisfaction               0.002497         0.019604   \n",
       "StandardHours                               NaN              NaN   \n",
       "StockOptionLevel                       0.011274         0.004129   \n",
       "TotalWorkingYears                     -0.035662         0.001008   \n",
       "TrainingTimesLastYear                  1.000000         0.028072   \n",
       "WorkLifeBalance                        0.028072         1.000000   \n",
       "YearsAtCompany                         0.003569         0.012089   \n",
       "YearsInCurrentRole                    -0.005738         0.049856   \n",
       "YearsSinceLastPromotion               -0.002067         0.008941   \n",
       "YearsWithCurrManager                  -0.004096         0.002759   \n",
       "\n",
       "                          YearsAtCompany  YearsInCurrentRole  \\\n",
       "Age                             0.311309            0.212901   \n",
       "DailyRate                      -0.034055            0.009932   \n",
       "DistanceFromHome                0.009508            0.018845   \n",
       "Education                       0.069114            0.060236   \n",
       "EmployeeCount                        NaN                 NaN   \n",
       "EnvironmentSatisfaction         0.001458            0.018007   \n",
       "HourlyRate                     -0.019582           -0.024106   \n",
       "JobInvolvement                 -0.021355            0.008717   \n",
       "JobLevel                        0.534739            0.389447   \n",
       "JobSatisfaction                -0.003803           -0.002305   \n",
       "MonthlyIncome                   0.514285            0.363818   \n",
       "MonthlyRate                    -0.023655           -0.012815   \n",
       "NumCompaniesWorked             -0.118421           -0.090754   \n",
       "PercentSalaryHike              -0.035991           -0.001520   \n",
       "PerformanceRating               0.003435            0.034986   \n",
       "RelationshipSatisfaction        0.019367           -0.015123   \n",
       "StandardHours                        NaN                 NaN   \n",
       "StockOptionLevel                0.015058            0.050818   \n",
       "TotalWorkingYears               0.628133            0.460365   \n",
       "TrainingTimesLastYear           0.003569           -0.005738   \n",
       "WorkLifeBalance                 0.012089            0.049856   \n",
       "YearsAtCompany                  1.000000            0.758754   \n",
       "YearsInCurrentRole              0.758754            1.000000   \n",
       "YearsSinceLastPromotion         0.618409            0.548056   \n",
       "YearsWithCurrManager            0.769212            0.714365   \n",
       "\n",
       "                          YearsSinceLastPromotion  YearsWithCurrManager  \n",
       "Age                                      0.216513              0.202089  \n",
       "DailyRate                               -0.033229             -0.026363  \n",
       "DistanceFromHome                         0.010029              0.014406  \n",
       "Education                                0.054254              0.069065  \n",
       "EmployeeCount                                 NaN                   NaN  \n",
       "EnvironmentSatisfaction                  0.016194             -0.004999  \n",
       "HourlyRate                              -0.026716             -0.020123  \n",
       "JobInvolvement                          -0.024184              0.025976  \n",
       "JobLevel                                 0.353885              0.375281  \n",
       "JobSatisfaction                         -0.018214             -0.027656  \n",
       "MonthlyIncome                            0.344978              0.344079  \n",
       "MonthlyRate                              0.001567             -0.036746  \n",
       "NumCompaniesWorked                      -0.036814             -0.110319  \n",
       "PercentSalaryHike                       -0.022154             -0.011985  \n",
       "PerformanceRating                        0.017896              0.022827  \n",
       "RelationshipSatisfaction                 0.033493             -0.000867  \n",
       "StandardHours                                 NaN                   NaN  \n",
       "StockOptionLevel                         0.014352              0.024698  \n",
       "TotalWorkingYears                        0.404858              0.459188  \n",
       "TrainingTimesLastYear                   -0.002067             -0.004096  \n",
       "WorkLifeBalance                          0.008941              0.002759  \n",
       "YearsAtCompany                           0.618409              0.769212  \n",
       "YearsInCurrentRole                       0.548056              0.714365  \n",
       "YearsSinceLastPromotion                  1.000000              0.510224  \n",
       "YearsWithCurrManager                     0.510224              1.000000  \n",
       "\n",
       "[25 rows x 25 columns]"
      ]
     },
     "execution_count": 54,
     "metadata": {},
     "output_type": "execute_result"
    }
   ],
   "source": [
    "df.corr()"
   ]
  },
  {
   "cell_type": "markdown",
   "id": "d25c992c",
   "metadata": {},
   "source": [
    "**Problem**: Check the relationship between professional experience variables. We will be only interested in the following variables: `YearsAtCompany`, `YearsInCurrentRole`, `YearsSinceLastPromotion`, and `YearsWithCurrManager` "
   ]
  },
  {
   "cell_type": "markdown",
   "id": "b7b21cf3",
   "metadata": {},
   "source": [
    "**Solution**: We will first compute the correlation matrix rounded with 2 digits "
   ]
  },
  {
   "cell_type": "code",
   "execution_count": 60,
   "id": "06bbc112",
   "metadata": {},
   "outputs": [
    {
     "data": {
      "text/html": [
       "<div>\n",
       "<style scoped>\n",
       "    .dataframe tbody tr th:only-of-type {\n",
       "        vertical-align: middle;\n",
       "    }\n",
       "\n",
       "    .dataframe tbody tr th {\n",
       "        vertical-align: top;\n",
       "    }\n",
       "\n",
       "    .dataframe thead th {\n",
       "        text-align: right;\n",
       "    }\n",
       "</style>\n",
       "<table border=\"1\" class=\"dataframe\">\n",
       "  <thead>\n",
       "    <tr style=\"text-align: right;\">\n",
       "      <th></th>\n",
       "      <th>YearsAtCompany</th>\n",
       "      <th>YearsInCurrentRole</th>\n",
       "      <th>YearsSinceLastPromotion</th>\n",
       "      <th>YearsWithCurrManager</th>\n",
       "    </tr>\n",
       "  </thead>\n",
       "  <tbody>\n",
       "    <tr>\n",
       "      <th>YearsAtCompany</th>\n",
       "      <td>1.00</td>\n",
       "      <td>0.76</td>\n",
       "      <td>0.62</td>\n",
       "      <td>0.77</td>\n",
       "    </tr>\n",
       "    <tr>\n",
       "      <th>YearsInCurrentRole</th>\n",
       "      <td>0.76</td>\n",
       "      <td>1.00</td>\n",
       "      <td>0.55</td>\n",
       "      <td>0.71</td>\n",
       "    </tr>\n",
       "    <tr>\n",
       "      <th>YearsSinceLastPromotion</th>\n",
       "      <td>0.62</td>\n",
       "      <td>0.55</td>\n",
       "      <td>1.00</td>\n",
       "      <td>0.51</td>\n",
       "    </tr>\n",
       "    <tr>\n",
       "      <th>YearsWithCurrManager</th>\n",
       "      <td>0.77</td>\n",
       "      <td>0.71</td>\n",
       "      <td>0.51</td>\n",
       "      <td>1.00</td>\n",
       "    </tr>\n",
       "  </tbody>\n",
       "</table>\n",
       "</div>"
      ],
      "text/plain": [
       "                         YearsAtCompany  YearsInCurrentRole  \\\n",
       "YearsAtCompany                     1.00                0.76   \n",
       "YearsInCurrentRole                 0.76                1.00   \n",
       "YearsSinceLastPromotion            0.62                0.55   \n",
       "YearsWithCurrManager               0.77                0.71   \n",
       "\n",
       "                         YearsSinceLastPromotion  YearsWithCurrManager  \n",
       "YearsAtCompany                              0.62                  0.77  \n",
       "YearsInCurrentRole                          0.55                  0.71  \n",
       "YearsSinceLastPromotion                     1.00                  0.51  \n",
       "YearsWithCurrManager                        0.51                  1.00  "
      ]
     },
     "execution_count": 60,
     "metadata": {},
     "output_type": "execute_result"
    }
   ],
   "source": [
    "cormat=df[['YearsAtCompany','YearsInCurrentRole','YearsSinceLastPromotion','YearsWithCurrManager']].corr().round(2)\n",
    "cormat"
   ]
  },
  {
   "cell_type": "markdown",
   "id": "918e7ea1",
   "metadata": {},
   "source": [
    "It's very common to represent the correlation matrix with a agraph called a **heat map**. To make this visualization we will need to install first `seaborn`"
   ]
  },
  {
   "cell_type": "code",
   "execution_count": 61,
   "id": "bcf7ace0",
   "metadata": {},
   "outputs": [
    {
     "name": "stdout",
     "output_type": "stream",
     "text": [
      "Defaulting to user installation because normal site-packages is not writeable\n",
      "Requirement already satisfied: seaborn in c:\\users\\dhafe\\appdata\\roaming\\python\\python310\\site-packages (0.11.2)\n",
      "Requirement already satisfied: pandas>=0.23 in c:\\users\\dhafe\\appdata\\roaming\\python\\python310\\site-packages (from seaborn) (1.4.0)\n",
      "Requirement already satisfied: numpy>=1.15 in c:\\users\\dhafe\\appdata\\roaming\\python\\python310\\site-packages (from seaborn) (1.22.1)\n",
      "Requirement already satisfied: matplotlib>=2.2 in c:\\users\\dhafe\\appdata\\roaming\\python\\python310\\site-packages (from seaborn) (3.5.1)\n",
      "Requirement already satisfied: scipy>=1.0 in c:\\users\\dhafe\\appdata\\roaming\\python\\python310\\site-packages (from seaborn) (1.7.3)\n",
      "Requirement already satisfied: packaging>=20.0 in c:\\users\\dhafe\\appdata\\roaming\\python\\python310\\site-packages (from matplotlib>=2.2->seaborn) (21.3)\n",
      "Requirement already satisfied: python-dateutil>=2.7 in c:\\users\\dhafe\\appdata\\roaming\\python\\python310\\site-packages (from matplotlib>=2.2->seaborn) (2.8.2)\n",
      "Requirement already satisfied: kiwisolver>=1.0.1 in c:\\users\\dhafe\\appdata\\roaming\\python\\python310\\site-packages (from matplotlib>=2.2->seaborn) (1.3.2)\n",
      "Requirement already satisfied: fonttools>=4.22.0 in c:\\users\\dhafe\\appdata\\roaming\\python\\python310\\site-packages (from matplotlib>=2.2->seaborn) (4.29.0)\n",
      "Requirement already satisfied: pillow>=6.2.0 in c:\\users\\dhafe\\appdata\\roaming\\python\\python310\\site-packages (from matplotlib>=2.2->seaborn) (9.0.0)\n",
      "Requirement already satisfied: cycler>=0.10 in c:\\users\\dhafe\\appdata\\roaming\\python\\python310\\site-packages (from matplotlib>=2.2->seaborn) (0.11.0)\n",
      "Requirement already satisfied: pyparsing>=2.2.1 in c:\\users\\dhafe\\appdata\\roaming\\python\\python310\\site-packages (from matplotlib>=2.2->seaborn) (3.0.7)\n",
      "Requirement already satisfied: pytz>=2020.1 in c:\\users\\dhafe\\appdata\\roaming\\python\\python310\\site-packages (from pandas>=0.23->seaborn) (2021.3)\n",
      "Requirement already satisfied: six>=1.5 in c:\\users\\dhafe\\appdata\\roaming\\python\\python310\\site-packages (from python-dateutil>=2.7->matplotlib>=2.2->seaborn) (1.16.0)\n"
     ]
    }
   ],
   "source": [
    "!pip install seaborn"
   ]
  },
  {
   "cell_type": "markdown",
   "id": "a05dbd08",
   "metadata": {},
   "source": [
    "We import then `seaborn` library with the `matplotlib` library"
   ]
  },
  {
   "cell_type": "code",
   "execution_count": 63,
   "id": "a01a0b22",
   "metadata": {},
   "outputs": [],
   "source": [
    "import seaborn as sns\n",
    "import matplotlib.pyplot as plt\n"
   ]
  },
  {
   "cell_type": "markdown",
   "id": "f4ec0d3a",
   "metadata": {},
   "source": [
    "We draw then the correlation matrix `cormat` created above as a heat map"
   ]
  },
  {
   "cell_type": "code",
   "execution_count": 64,
   "id": "066f64df",
   "metadata": {
    "scrolled": true
   },
   "outputs": [
    {
     "data": {
      "text/plain": [
       "<AxesSubplot:>"
      ]
     },
     "execution_count": 64,
     "metadata": {},
     "output_type": "execute_result"
    },
    {
     "data": {
      "image/png": "[encoded data removed]",
      "text/plain": [
       "<Figure size 432x288 with 2 Axes>"
      ]
     },
     "metadata": {
      "needs_background": "light"
     },
     "output_type": "display_data"
    }
   ],
   "source": [
    "sns.heatmap(cormat, annot=True)"
   ]
  },
  {
   "cell_type": "markdown",
   "id": "a29b202f",
   "metadata": {},
   "source": [
    "### Between two disrete variables "
   ]
  },
  {
   "cell_type": "markdown",
   "id": "4d9400e7",
   "metadata": {},
   "source": [
    "The relationship between two discrete variables is measured using **contingency tables**.    "
   ]
  },
  {
   "cell_type": "code",
   "execution_count": 4,
   "id": "2b4fa6f3",
   "metadata": {},
   "outputs": [
    {
     "data": {
      "text/plain": [
       "Index(['Age', 'Attrition', 'BusinessTravel', 'DailyRate', 'Department',\n",
       "       'DistanceFromHome', 'Education', 'EducationField', 'EmployeeCount',\n",
       "       'EnvironmentSatisfaction', 'Gender', 'HourlyRate', 'JobInvolvement',\n",
       "       'JobLevel', 'JobRole', 'JobSatisfaction', 'MaritalStatus',\n",
       "       'MonthlyIncome', 'MonthlyRate', 'NumCompaniesWorked', 'Over18',\n",
       "       'OverTime', 'PercentSalaryHike', 'PerformanceRating',\n",
       "       'RelationshipSatisfaction', 'StandardHours', 'StockOptionLevel',\n",
       "       'TotalWorkingYears', 'TrainingTimesLastYear', 'WorkLifeBalance',\n",
       "       'YearsAtCompany', 'YearsInCurrentRole', 'YearsSinceLastPromotion',\n",
       "       'YearsWithCurrManager'],\n",
       "      dtype='object')"
      ]
     },
     "execution_count": 4,
     "metadata": {},
     "output_type": "execute_result"
    }
   ],
   "source": [
    "df.columns"
   ]
  },
  {
   "cell_type": "code",
   "execution_count": 5,
   "id": "c15b6b23",
   "metadata": {},
   "outputs": [
    {
     "data": {
      "text/plain": [
       "No     1233\n",
       "Yes     237\n",
       "Name: Attrition, dtype: int64"
      ]
     },
     "execution_count": 5,
     "metadata": {},
     "output_type": "execute_result"
    }
   ],
   "source": [
    "df['Attrition'].value_counts()"
   ]
  },
  {
   "cell_type": "code",
   "execution_count": 6,
   "id": "2dc4e268",
   "metadata": {},
   "outputs": [
    {
     "data": {
      "text/plain": [
       "Male      882\n",
       "Female    588\n",
       "Name: Gender, dtype: int64"
      ]
     },
     "execution_count": 6,
     "metadata": {},
     "output_type": "execute_result"
    }
   ],
   "source": [
    "df['Gender'].value_counts()"
   ]
  },
  {
   "cell_type": "markdown",
   "id": "065bb362",
   "metadata": {},
   "source": [
    "A **contingency table** is a multi-way table that describes a data set in which each observation belongs to one category for each of several variables. For example, if there are two variables, one with $r$ levels and one with $k$ levels, then we have a contingency table. The table can be described in terms of the number of observations that fall into a given cell of the table, e.g. $T_{ij}$ is the number of observations that have level $i$ for the first variable and level $j$ for the second variable. "
   ]
  },
  {
   "cell_type": "markdown",
   "id": "970bb21a",
   "metadata": {},
   "source": [
    "The contingency  table of the variables `Attrition` and `Gender` can be computed using `crosstab` function from `Pandas` library"
   ]
  },
  {
   "cell_type": "code",
   "execution_count": 7,
   "id": "a41eb85e",
   "metadata": {
    "scrolled": true
   },
   "outputs": [
    {
     "data": {
      "text/html": [
       "<div>\n",
       "<style scoped>\n",
       "    .dataframe tbody tr th:only-of-type {\n",
       "        vertical-align: middle;\n",
       "    }\n",
       "\n",
       "    .dataframe tbody tr th {\n",
       "        vertical-align: top;\n",
       "    }\n",
       "\n",
       "    .dataframe thead th {\n",
       "        text-align: right;\n",
       "    }\n",
       "</style>\n",
       "<table border=\"1\" class=\"dataframe\">\n",
       "  <thead>\n",
       "    <tr style=\"text-align: right;\">\n",
       "      <th>Gender</th>\n",
       "      <th>Female</th>\n",
       "      <th>Male</th>\n",
       "    </tr>\n",
       "    <tr>\n",
       "      <th>Attrition</th>\n",
       "      <th></th>\n",
       "      <th></th>\n",
       "    </tr>\n",
       "  </thead>\n",
       "  <tbody>\n",
       "    <tr>\n",
       "      <th>No</th>\n",
       "      <td>501</td>\n",
       "      <td>732</td>\n",
       "    </tr>\n",
       "    <tr>\n",
       "      <th>Yes</th>\n",
       "      <td>87</td>\n",
       "      <td>150</td>\n",
       "    </tr>\n",
       "  </tbody>\n",
       "</table>\n",
       "</div>"
      ],
      "text/plain": [
       "Gender     Female  Male\n",
       "Attrition              \n",
       "No            501   732\n",
       "Yes            87   150"
      ]
     },
     "execution_count": 7,
     "metadata": {},
     "output_type": "execute_result"
    }
   ],
   "source": [
    "pd.crosstab(df['Attrition'], df['Gender'])"
   ]
  },
  {
   "cell_type": "markdown",
   "id": "310d1b28",
   "metadata": {},
   "source": [
    "We can add margins to the contingency table"
   ]
  },
  {
   "cell_type": "code",
   "execution_count": 78,
   "id": "f81ce9bd",
   "metadata": {
    "scrolled": true
   },
   "outputs": [
    {
     "data": {
      "text/html": [
       "<div>\n",
       "<style scoped>\n",
       "    .dataframe tbody tr th:only-of-type {\n",
       "        vertical-align: middle;\n",
       "    }\n",
       "\n",
       "    .dataframe tbody tr th {\n",
       "        vertical-align: top;\n",
       "    }\n",
       "\n",
       "    .dataframe thead th {\n",
       "        text-align: right;\n",
       "    }\n",
       "</style>\n",
       "<table border=\"1\" class=\"dataframe\">\n",
       "  <thead>\n",
       "    <tr style=\"text-align: right;\">\n",
       "      <th>Gender</th>\n",
       "      <th>Female</th>\n",
       "      <th>Male</th>\n",
       "      <th>All</th>\n",
       "    </tr>\n",
       "    <tr>\n",
       "      <th>Attrition</th>\n",
       "      <th></th>\n",
       "      <th></th>\n",
       "      <th></th>\n",
       "    </tr>\n",
       "  </thead>\n",
       "  <tbody>\n",
       "    <tr>\n",
       "      <th>No</th>\n",
       "      <td>501</td>\n",
       "      <td>732</td>\n",
       "      <td>1233</td>\n",
       "    </tr>\n",
       "    <tr>\n",
       "      <th>Yes</th>\n",
       "      <td>87</td>\n",
       "      <td>150</td>\n",
       "      <td>237</td>\n",
       "    </tr>\n",
       "    <tr>\n",
       "      <th>All</th>\n",
       "      <td>588</td>\n",
       "      <td>882</td>\n",
       "      <td>1470</td>\n",
       "    </tr>\n",
       "  </tbody>\n",
       "</table>\n",
       "</div>"
      ],
      "text/plain": [
       "Gender     Female  Male   All\n",
       "Attrition                    \n",
       "No            501   732  1233\n",
       "Yes            87   150   237\n",
       "All           588   882  1470"
      ]
     },
     "execution_count": 78,
     "metadata": {},
     "output_type": "execute_result"
    }
   ],
   "source": [
    "pd.crosstab(df['Attrition'], df['Gender'],margins=True)"
   ]
  },
  {
   "cell_type": "markdown",
   "id": "3552eea6",
   "metadata": {},
   "source": [
    "We will now explore the library `statsmodels` that supports a variety of approaches for analyzing contingency tables, including methods for assessing independence"
   ]
  },
  {
   "cell_type": "markdown",
   "id": "d1e6667d",
   "metadata": {},
   "source": [
    "In a probabilistic way, the lack of relationship between two discrete variables can be expressed using two independent variables:\n"
   ]
  },
  {
   "cell_type": "markdown",
   "id": "5090e165",
   "metadata": {},
   "source": [
    "Two random discrete random variables $A$ and $B$ are independent if for all $i$, $j$ \n",
    "$$\\underbrace{\\mathbb{P}(A=i,B=j)}_{P_{ij}}=\\underbrace{\\mathbb{P}(A=i)}_{P_{i+}}\\times \\underbrace{\\mathbb{P}(B=j)}_{P_{+j}}$$"
   ]
  },
  {
   "cell_type": "code",
   "execution_count": 10,
   "id": "953c83ee",
   "metadata": {},
   "outputs": [
    {
     "name": "stdout",
     "output_type": "stream",
     "text": [
      "Defaulting to user installation because normal site-packages is not writeable\n",
      "Collecting statsmodels\n",
      "  Downloading statsmodels-0.13.2-cp310-cp310-win_amd64.whl (9.1 MB)\n",
      "     ---------------------------------------- 9.1/9.1 MB 30.7 MB/s eta 0:00:00\n",
      "Requirement already satisfied: scipy>=1.3 in c:\\users\\dhafe\\appdata\\roaming\\python\\python310\\site-packages (from statsmodels) (1.7.3)\n",
      "Collecting patsy>=0.5.2\n",
      "  Downloading patsy-0.5.2-py2.py3-none-any.whl (233 kB)\n",
      "     ------------------------------------- 233.7/233.7 KB 14.9 MB/s eta 0:00:00\n",
      "Requirement already satisfied: pandas>=0.25 in c:\\users\\dhafe\\appdata\\roaming\\python\\python310\\site-packages (from statsmodels) (1.4.0)\n",
      "Requirement already satisfied: packaging>=21.3 in c:\\users\\dhafe\\appdata\\roaming\\python\\python310\\site-packages (from statsmodels) (21.3)\n",
      "Requirement already satisfied: numpy>=1.17 in c:\\users\\dhafe\\appdata\\roaming\\python\\python310\\site-packages (from statsmodels) (1.22.1)\n",
      "Requirement already satisfied: pyparsing!=3.0.5,>=2.0.2 in c:\\users\\dhafe\\appdata\\roaming\\python\\python310\\site-packages (from packaging>=21.3->statsmodels) (3.0.7)\n",
      "Requirement already satisfied: pytz>=2020.1 in c:\\users\\dhafe\\appdata\\roaming\\python\\python310\\site-packages (from pandas>=0.25->statsmodels) (2021.3)\n",
      "Requirement already satisfied: python-dateutil>=2.8.1 in c:\\users\\dhafe\\appdata\\roaming\\python\\python310\\site-packages (from pandas>=0.25->statsmodels) (2.8.2)\n",
      "Requirement already satisfied: six in c:\\users\\dhafe\\appdata\\roaming\\python\\python310\\site-packages (from patsy>=0.5.2->statsmodels) (1.16.0)\n",
      "Installing collected packages: patsy, statsmodels\n",
      "Successfully installed patsy-0.5.2 statsmodels-0.13.2\n"
     ]
    }
   ],
   "source": [
    "!pip install statsmodels"
   ]
  },
  {
   "cell_type": "markdown",
   "id": "cfe694a9",
   "metadata": {},
   "source": [
    "We import then the necessary libraries "
   ]
  },
  {
   "cell_type": "code",
   "execution_count": 11,
   "id": "2b050657",
   "metadata": {},
   "outputs": [],
   "source": [
    " import numpy as np"
   ]
  },
  {
   "cell_type": "code",
   "execution_count": 12,
   "id": "f8f12786",
   "metadata": {},
   "outputs": [],
   "source": [
    "import pandas as pd"
   ]
  },
  {
   "cell_type": "code",
   "execution_count": 13,
   "id": "16621033",
   "metadata": {},
   "outputs": [],
   "source": [
    "import statsmodels.api as sm"
   ]
  },
  {
   "cell_type": "code",
   "execution_count": 14,
   "id": "e3011a5e",
   "metadata": {},
   "outputs": [],
   "source": [
    "tab = pd.crosstab(df['Attrition'], df['Gender'])"
   ]
  },
  {
   "cell_type": "code",
   "execution_count": 15,
   "id": "7c4892f8",
   "metadata": {},
   "outputs": [
    {
     "data": {
      "text/html": [
       "<div>\n",
       "<style scoped>\n",
       "    .dataframe tbody tr th:only-of-type {\n",
       "        vertical-align: middle;\n",
       "    }\n",
       "\n",
       "    .dataframe tbody tr th {\n",
       "        vertical-align: top;\n",
       "    }\n",
       "\n",
       "    .dataframe thead th {\n",
       "        text-align: right;\n",
       "    }\n",
       "</style>\n",
       "<table border=\"1\" class=\"dataframe\">\n",
       "  <thead>\n",
       "    <tr style=\"text-align: right;\">\n",
       "      <th>Gender</th>\n",
       "      <th>Female</th>\n",
       "      <th>Male</th>\n",
       "    </tr>\n",
       "    <tr>\n",
       "      <th>Attrition</th>\n",
       "      <th></th>\n",
       "      <th></th>\n",
       "    </tr>\n",
       "  </thead>\n",
       "  <tbody>\n",
       "    <tr>\n",
       "      <th>No</th>\n",
       "      <td>501</td>\n",
       "      <td>732</td>\n",
       "    </tr>\n",
       "    <tr>\n",
       "      <th>Yes</th>\n",
       "      <td>87</td>\n",
       "      <td>150</td>\n",
       "    </tr>\n",
       "  </tbody>\n",
       "</table>\n",
       "</div>"
      ],
      "text/plain": [
       "Gender     Female  Male\n",
       "Attrition              \n",
       "No            501   732\n",
       "Yes            87   150"
      ]
     },
     "execution_count": 15,
     "metadata": {},
     "output_type": "execute_result"
    }
   ],
   "source": [
    "tab"
   ]
  },
  {
   "cell_type": "code",
   "execution_count": 21,
   "id": "8edfbb63",
   "metadata": {},
   "outputs": [
    {
     "data": {
      "text/html": [
       "<div>\n",
       "<style scoped>\n",
       "    .dataframe tbody tr th:only-of-type {\n",
       "        vertical-align: middle;\n",
       "    }\n",
       "\n",
       "    .dataframe tbody tr th {\n",
       "        vertical-align: top;\n",
       "    }\n",
       "\n",
       "    .dataframe thead th {\n",
       "        text-align: right;\n",
       "    }\n",
       "</style>\n",
       "<table border=\"1\" class=\"dataframe\">\n",
       "  <thead>\n",
       "    <tr style=\"text-align: right;\">\n",
       "      <th>Gender</th>\n",
       "      <th>Female</th>\n",
       "    </tr>\n",
       "    <tr>\n",
       "      <th>Attrition</th>\n",
       "      <th></th>\n",
       "    </tr>\n",
       "  </thead>\n",
       "  <tbody>\n",
       "    <tr>\n",
       "      <th>No</th>\n",
       "      <td>501</td>\n",
       "    </tr>\n",
       "    <tr>\n",
       "      <th>Yes</th>\n",
       "      <td>87</td>\n",
       "    </tr>\n",
       "  </tbody>\n",
       "</table>\n",
       "</div>"
      ],
      "text/plain": [
       "Gender     Female\n",
       "Attrition        \n",
       "No            501\n",
       "Yes            87"
      ]
     },
     "execution_count": 21,
     "metadata": {},
     "output_type": "execute_result"
    }
   ],
   "source": [
    " tab.loc[:, ['Female'] ]"
   ]
  },
  {
   "cell_type": "code",
   "execution_count": 25,
   "id": "eb926409",
   "metadata": {},
   "outputs": [],
   "source": [
    "table = sm.stats.Table(tab)"
   ]
  },
  {
   "cell_type": "code",
   "execution_count": 27,
   "id": "72bfde73",
   "metadata": {},
   "outputs": [
    {
     "name": "stdout",
     "output_type": "stream",
     "text": [
      "A 2x2 contingency table with counts:\n",
      "[[501. 732.]\n",
      " [ 87. 150.]]\n"
     ]
    }
   ],
   "source": [
    "print(table)"
   ]
  },
  {
   "cell_type": "code",
   "execution_count": 28,
   "id": "12d4d6cb",
   "metadata": {},
   "outputs": [
    {
     "data": {
      "text/plain": [
       "array([[501., 732.],\n",
       "       [ 87., 150.]])"
      ]
     },
     "execution_count": 28,
     "metadata": {},
     "output_type": "execute_result"
    }
   ],
   "source": [
    "table.table"
   ]
  },
  {
   "cell_type": "code",
   "execution_count": 29,
   "id": "791b9424",
   "metadata": {},
   "outputs": [
    {
     "data": {
      "text/html": [
       "<div>\n",
       "<style scoped>\n",
       "    .dataframe tbody tr th:only-of-type {\n",
       "        vertical-align: middle;\n",
       "    }\n",
       "\n",
       "    .dataframe tbody tr th {\n",
       "        vertical-align: top;\n",
       "    }\n",
       "\n",
       "    .dataframe thead th {\n",
       "        text-align: right;\n",
       "    }\n",
       "</style>\n",
       "<table border=\"1\" class=\"dataframe\">\n",
       "  <thead>\n",
       "    <tr style=\"text-align: right;\">\n",
       "      <th>Gender</th>\n",
       "      <th>Female</th>\n",
       "      <th>Male</th>\n",
       "    </tr>\n",
       "    <tr>\n",
       "      <th>Attrition</th>\n",
       "      <th></th>\n",
       "      <th></th>\n",
       "    </tr>\n",
       "  </thead>\n",
       "  <tbody>\n",
       "    <tr>\n",
       "      <th>No</th>\n",
       "      <td>493.2</td>\n",
       "      <td>739.8</td>\n",
       "    </tr>\n",
       "    <tr>\n",
       "      <th>Yes</th>\n",
       "      <td>94.8</td>\n",
       "      <td>142.2</td>\n",
       "    </tr>\n",
       "  </tbody>\n",
       "</table>\n",
       "</div>"
      ],
      "text/plain": [
       "Gender     Female   Male\n",
       "Attrition               \n",
       "No          493.2  739.8\n",
       "Yes          94.8  142.2"
      ]
     },
     "execution_count": 29,
     "metadata": {},
     "output_type": "execute_result"
    }
   ],
   "source": [
    "table.fittedvalues"
   ]
  },
  {
   "cell_type": "code",
   "execution_count": 39,
   "id": "f2fbeecf",
   "metadata": {},
   "outputs": [
    {
     "data": {
      "text/html": [
       "<div>\n",
       "<style scoped>\n",
       "    .dataframe tbody tr th:only-of-type {\n",
       "        vertical-align: middle;\n",
       "    }\n",
       "\n",
       "    .dataframe tbody tr th {\n",
       "        vertical-align: top;\n",
       "    }\n",
       "\n",
       "    .dataframe thead th {\n",
       "        text-align: right;\n",
       "    }\n",
       "</style>\n",
       "<table border=\"1\" class=\"dataframe\">\n",
       "  <thead>\n",
       "    <tr style=\"text-align: right;\">\n",
       "      <th>Gender</th>\n",
       "      <th>Female</th>\n",
       "    </tr>\n",
       "    <tr>\n",
       "      <th>Attrition</th>\n",
       "      <th></th>\n",
       "    </tr>\n",
       "  </thead>\n",
       "  <tbody>\n",
       "    <tr>\n",
       "      <th>No</th>\n",
       "      <td>501</td>\n",
       "    </tr>\n",
       "  </tbody>\n",
       "</table>\n",
       "</div>"
      ],
      "text/plain": [
       "Gender     Female\n",
       "Attrition        \n",
       "No            501"
      ]
     },
     "execution_count": 39,
     "metadata": {},
     "output_type": "execute_result"
    }
   ],
   "source": [
    "tab.loc[['No'],['Female']]"
   ]
  },
  {
   "cell_type": "markdown",
   "id": "21b2a0a7",
   "metadata": {},
   "source": [
    "Estimating marginal probabilities of the variable gender"
   ]
  },
  {
   "cell_type": "code",
   "execution_count": 40,
   "id": "082c65d9",
   "metadata": {},
   "outputs": [],
   "source": [
    "pG=df['Gender'].value_counts(normalize=True)"
   ]
  },
  {
   "cell_type": "code",
   "execution_count": 41,
   "id": "39923c6a",
   "metadata": {},
   "outputs": [
    {
     "data": {
      "text/plain": [
       "Male      0.6\n",
       "Female    0.4\n",
       "Name: Gender, dtype: float64"
      ]
     },
     "execution_count": 41,
     "metadata": {},
     "output_type": "execute_result"
    }
   ],
   "source": [
    "pG"
   ]
  },
  {
   "cell_type": "code",
   "execution_count": 42,
   "id": "d49cbcdf",
   "metadata": {},
   "outputs": [
    {
     "data": {
      "text/plain": [
       "0.6"
      ]
     },
     "execution_count": 42,
     "metadata": {},
     "output_type": "execute_result"
    }
   ],
   "source": [
    "pG[0]"
   ]
  },
  {
   "cell_type": "code",
   "execution_count": 43,
   "id": "6cd365c7",
   "metadata": {},
   "outputs": [
    {
     "data": {
      "text/plain": [
       "0.4"
      ]
     },
     "execution_count": 43,
     "metadata": {},
     "output_type": "execute_result"
    }
   ],
   "source": [
    "pG[1]"
   ]
  },
  {
   "cell_type": "code",
   "execution_count": 44,
   "id": "07894255",
   "metadata": {},
   "outputs": [],
   "source": [
    "pA=df['Attrition'].value_counts(normalize=True)"
   ]
  },
  {
   "cell_type": "code",
   "execution_count": 45,
   "id": "e288dee4",
   "metadata": {},
   "outputs": [
    {
     "data": {
      "text/plain": [
       "No     0.838776\n",
       "Yes    0.161224\n",
       "Name: Attrition, dtype: float64"
      ]
     },
     "execution_count": 45,
     "metadata": {},
     "output_type": "execute_result"
    }
   ],
   "source": [
    "pA"
   ]
  },
  {
   "cell_type": "code",
   "execution_count": 48,
   "id": "7602c7d4",
   "metadata": {},
   "outputs": [],
   "source": [
    "n=df.shape[0]"
   ]
  },
  {
   "cell_type": "code",
   "execution_count": 49,
   "id": "e69ae299",
   "metadata": {},
   "outputs": [
    {
     "data": {
      "text/plain": [
       "1470"
      ]
     },
     "execution_count": 49,
     "metadata": {},
     "output_type": "execute_result"
    }
   ],
   "source": [
    "n"
   ]
  },
  {
   "cell_type": "markdown",
   "id": "9ef4fbca",
   "metadata": {},
   "source": [
    "Computing the  fitting contingency table "
   ]
  },
  {
   "cell_type": "code",
   "execution_count": 50,
   "id": "9858301a",
   "metadata": {},
   "outputs": [],
   "source": [
    "tabhat=n*np.array([[pA[0]*pG[0],pA[0]*pG[1]],\n",
    "              [pA[1]*pG[0],pA[1]*pG[1]]])"
   ]
  },
  {
   "cell_type": "code",
   "execution_count": 51,
   "id": "c8dfdaed",
   "metadata": {},
   "outputs": [
    {
     "name": "stdout",
     "output_type": "stream",
     "text": [
      "[[739.8 493.2]\n",
      " [142.2  94.8]]\n"
     ]
    }
   ],
   "source": [
    "print(tabhat)"
   ]
  },
  {
   "cell_type": "code",
   "execution_count": 53,
   "id": "bc8c17db",
   "metadata": {},
   "outputs": [
    {
     "data": {
      "text/plain": [
       "array([[739.8, 142.2],\n",
       "       [493.2,  94.8]])"
      ]
     },
     "execution_count": 53,
     "metadata": {},
     "output_type": "execute_result"
    }
   ],
   "source": [
    "tabhat.transpose()"
   ]
  },
  {
   "cell_type": "code",
   "execution_count": 54,
   "id": "bfb2d209",
   "metadata": {},
   "outputs": [
    {
     "data": {
      "text/html": [
       "<div>\n",
       "<style scoped>\n",
       "    .dataframe tbody tr th:only-of-type {\n",
       "        vertical-align: middle;\n",
       "    }\n",
       "\n",
       "    .dataframe tbody tr th {\n",
       "        vertical-align: top;\n",
       "    }\n",
       "\n",
       "    .dataframe thead th {\n",
       "        text-align: right;\n",
       "    }\n",
       "</style>\n",
       "<table border=\"1\" class=\"dataframe\">\n",
       "  <thead>\n",
       "    <tr style=\"text-align: right;\">\n",
       "      <th>Gender</th>\n",
       "      <th>Female</th>\n",
       "      <th>Male</th>\n",
       "    </tr>\n",
       "    <tr>\n",
       "      <th>Attrition</th>\n",
       "      <th></th>\n",
       "      <th></th>\n",
       "    </tr>\n",
       "  </thead>\n",
       "  <tbody>\n",
       "    <tr>\n",
       "      <th>No</th>\n",
       "      <td>493.2</td>\n",
       "      <td>739.8</td>\n",
       "    </tr>\n",
       "    <tr>\n",
       "      <th>Yes</th>\n",
       "      <td>94.8</td>\n",
       "      <td>142.2</td>\n",
       "    </tr>\n",
       "  </tbody>\n",
       "</table>\n",
       "</div>"
      ],
      "text/plain": [
       "Gender     Female   Male\n",
       "Attrition               \n",
       "No          493.2  739.8\n",
       "Yes          94.8  142.2"
      ]
     },
     "execution_count": 54,
     "metadata": {},
     "output_type": "execute_result"
    }
   ],
   "source": [
    "table.fittedvalues"
   ]
  },
  {
   "cell_type": "markdown",
   "id": "6ec3e2e3",
   "metadata": {},
   "source": [
    "The coefficients in the previous table are called the **expected value**: $E_{ij}$ is the expected value  for the cell in the $i^\\mbox{th}$ column and $j^\\mbox{th}$ row. $E_{ij}$ can be computed as follows:\n",
    "$$E_{ij}=\\displaystyle\\frac{T_{i+}\\times T_{+j}}{N}$$\n",
    "where $T_{i+}=\\sum_j T_{ij}$, $T_{+j}=\\sum_i T_{ij}$, and $N$ is the sample size.\n"
   ]
  },
  {
   "cell_type": "markdown",
   "id": "af9ce6c5",
   "metadata": {},
   "source": [
    "We compute then the **Pearson residuals**:\n",
    "$$r_{ij}=\\displaystyle\\frac{T_{ij}-E_{ij}}{\\sqrt{E_{ij}}}$$"
   ]
  },
  {
   "cell_type": "markdown",
   "id": "b5940619",
   "metadata": {},
   "source": [
    "When the variables are independents, the pearson residuals  are expected to be close to zero and with a modulus non higher than 2."
   ]
  },
  {
   "cell_type": "code",
   "execution_count": 55,
   "id": "0b963ea8",
   "metadata": {},
   "outputs": [
    {
     "data": {
      "text/html": [
       "<div>\n",
       "<style scoped>\n",
       "    .dataframe tbody tr th:only-of-type {\n",
       "        vertical-align: middle;\n",
       "    }\n",
       "\n",
       "    .dataframe tbody tr th {\n",
       "        vertical-align: top;\n",
       "    }\n",
       "\n",
       "    .dataframe thead th {\n",
       "        text-align: right;\n",
       "    }\n",
       "</style>\n",
       "<table border=\"1\" class=\"dataframe\">\n",
       "  <thead>\n",
       "    <tr style=\"text-align: right;\">\n",
       "      <th>Gender</th>\n",
       "      <th>Female</th>\n",
       "      <th>Male</th>\n",
       "    </tr>\n",
       "    <tr>\n",
       "      <th>Attrition</th>\n",
       "      <th></th>\n",
       "      <th></th>\n",
       "    </tr>\n",
       "  </thead>\n",
       "  <tbody>\n",
       "    <tr>\n",
       "      <th>No</th>\n",
       "      <td>0.351223</td>\n",
       "      <td>-0.286772</td>\n",
       "    </tr>\n",
       "    <tr>\n",
       "      <th>Yes</th>\n",
       "      <td>-0.801107</td>\n",
       "      <td>0.654101</td>\n",
       "    </tr>\n",
       "  </tbody>\n",
       "</table>\n",
       "</div>"
      ],
      "text/plain": [
       "Gender       Female      Male\n",
       "Attrition                    \n",
       "No         0.351223 -0.286772\n",
       "Yes       -0.801107  0.654101"
      ]
     },
     "execution_count": 55,
     "metadata": {},
     "output_type": "execute_result"
    }
   ],
   "source": [
    "table.resid_pearson"
   ]
  },
  {
   "cell_type": "markdown",
   "id": "c8cabfde",
   "metadata": {},
   "source": [
    "To decide about the relationship of the variables (independence or no), we compute the $\\chi^2$ statistics and the corresponding *p-value*."
   ]
  },
  {
   "cell_type": "markdown",
   "id": "cf5fba79",
   "metadata": {},
   "source": [
    "The variables `Attrition` and `Gender` are both nominal variables, we consider the test measuring the association between *nominal* variables "
   ]
  },
  {
   "cell_type": "code",
   "execution_count": 61,
   "id": "d4b3cadc",
   "metadata": {},
   "outputs": [],
   "source": [
    "rslt = table.test_nominal_association()"
   ]
  },
  {
   "cell_type": "markdown",
   "id": "a5e742c2",
   "metadata": {},
   "source": [
    "The $\\chi^2-$statistics of the test"
   ]
  },
  {
   "cell_type": "code",
   "execution_count": 62,
   "id": "90aac031",
   "metadata": {},
   "outputs": [
    {
     "name": "stdout",
     "output_type": "stream",
     "text": [
      "1.2752163602205142\n"
     ]
    }
   ],
   "source": [
    "print(rslt.statistic)"
   ]
  },
  {
   "cell_type": "markdown",
   "id": "d0d76c14",
   "metadata": {},
   "source": [
    "It's given by $\\sum_{ij}r_{ij}^2$"
   ]
  },
  {
   "cell_type": "code",
   "execution_count": 64,
   "id": "1842567b",
   "metadata": {},
   "outputs": [
    {
     "data": {
      "text/plain": [
       "1.2752142120340002"
      ]
     },
     "execution_count": 64,
     "metadata": {},
     "output_type": "execute_result"
    }
   ],
   "source": [
    "0.35122**2+(-0.286772)**2+(-0.801107)**2+0.654101**2"
   ]
  },
  {
   "cell_type": "markdown",
   "id": "3a818b32",
   "metadata": {},
   "source": [
    "The corresponding degree of freedoms: It's equal ($(T_{i+}-1)\\times(T_{+j}-1)$)"
   ]
  },
  {
   "cell_type": "code",
   "execution_count": 65,
   "id": "81b8410d",
   "metadata": {},
   "outputs": [
    {
     "name": "stdout",
     "output_type": "stream",
     "text": [
      "1\n"
     ]
    }
   ],
   "source": [
    "print(rslt.df)"
   ]
  },
  {
   "cell_type": "markdown",
   "id": "03cc6ea7",
   "metadata": {},
   "source": [
    "We consider the *p-value*"
   ]
  },
  {
   "cell_type": "code",
   "execution_count": 59,
   "id": "7e5cc508",
   "metadata": {},
   "outputs": [
    {
     "data": {
      "text/plain": [
       "0.3355102040816326"
      ]
     },
     "execution_count": 59,
     "metadata": {},
     "output_type": "execute_result"
    }
   ],
   "source": [
    "print(rslt.pvalue)"
   ]
  },
  {
   "cell_type": "markdown",
   "id": "c871debc",
   "metadata": {},
   "source": [
    "Compared to 0.05, the *p-value* is higher than 0.05, we can decide that there's no relationship between the variables `Attrition` and `Gender`. "
   ]
  },
  {
   "cell_type": "markdown",
   "id": "54995e32",
   "metadata": {},
   "source": [
    "To finish this analysis we show draw the `mosaic` plot implemented in `statsmodels` library"
   ]
  },
  {
   "cell_type": "code",
   "execution_count": 69,
   "id": "a3ff0359",
   "metadata": {},
   "outputs": [],
   "source": [
    "import matplotlib.pyplot as plt\n",
    "from statsmodels.graphics.mosaicplot import mosaic"
   ]
  },
  {
   "cell_type": "code",
   "execution_count": 74,
   "id": "fb00b75b",
   "metadata": {},
   "outputs": [
    {
     "data": {
      "image/png": "[encoded data removed]",
      "text/plain": [
       "<Figure size 432x288 with 3 Axes>"
      ]
     },
     "metadata": {
      "needs_background": "light"
     },
     "output_type": "display_data"
    }
   ],
   "source": [
    "mosaic(df, ['Attrition', 'Gender'], title=' Gender x Attrition ')\n",
    "plt.show()"
   ]
  },
  {
   "cell_type": "code",
   "execution_count": null,
   "id": "ddc3f949",
   "metadata": {},
   "outputs": [],
   "source": []
  }
 ],
 "metadata": {
  "kernelspec": {
   "display_name": "Python 3 (ipykernel)",
   "language": "python",
   "name": "python3"
  },
  "language_info": {
   "codemirror_mode": {
    "name": "ipython",
    "version": 3
   },
   "file_extension": ".py",
   "mimetype": "text/x-python",
   "name": "python",
   "nbconvert_exporter": "python",
   "pygments_lexer": "ipython3",
   "version": "3.9.7"
  },
  "latex_envs": {
   "LaTeX_envs_menu_present": true,
   "autoclose": false,
   "autocomplete": true,
   "bibliofile": "biblio.bib",
   "cite_by": "apalike",
   "current_citInitial": 1,
   "eqLabelWithNumbers": true,
   "eqNumInitial": 1,
   "hotkeys": {
    "equation": "Ctrl-E",
    "itemize": "Ctrl-I"
   },
   "labels_anchors": false,
   "latex_user_defs": false,
   "report_style_numbering": false,
   "user_envs_cfg": false
  },
  "toc": {
   "base_numbering": 1,
   "nav_menu": {},
   "number_sections": true,
   "sideBar": true,
   "skip_h1_title": true,
   "title_cell": "Table of Contents",
   "title_sidebar": "Contents",
   "toc_cell": true,
   "toc_position": {
    "height": "calc(100% - 180px)",
    "left": "10px",
    "top": "150px",
    "width": "255.8px"
   },
   "toc_section_display": false,
   "toc_window_display": false
  }
 },
 "nbformat": 4,
 "nbformat_minor": 5
}
